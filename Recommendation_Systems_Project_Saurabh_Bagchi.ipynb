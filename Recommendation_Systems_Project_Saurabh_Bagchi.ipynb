{
  "nbformat": 4,
  "nbformat_minor": 0,
  "metadata": {
    "colab": {
      "name": "Recommendation Systems Project - Saurabh Bagchi.ipynb",
      "provenance": [],
      "collapsed_sections": [],
      "mount_file_id": "1mzRoC6Pjj4eG0eB_sOencTvYBbuBHdfj",
      "authorship_tag": "ABX9TyMHlBaq7nURSW3qTTvGGGKB",
      "include_colab_link": true
    },
    "kernelspec": {
      "display_name": "Python 3",
      "name": "python3"
    }
  },
  "cells": [
    {
      "cell_type": "markdown",
      "metadata": {
        "id": "view-in-github",
        "colab_type": "text"
      },
      "source": [
        "<a href=\"https://colab.research.google.com/github/Saurabh-Bagchi/datasharing/blob/master/Recommendation_Systems_Project_Saurabh_Bagchi.ipynb\" target=\"_parent\"><img src=\"https://colab.research.google.com/assets/colab-badge.svg\" alt=\"Open In Colab\"/></a>"
      ]
    },
    {
      "cell_type": "markdown",
      "metadata": {
        "id": "3bNr876pk2nJ"
      },
      "source": [
        "##Recommendation Systems Project  \n",
        "###Data Description:  \n",
        "Amazon Reviews data (data source) The repository has several datasets. For this case study, we are using the Electronics dataset. \n",
        "####Domain: \n",
        "E-commerce \n",
        "####Context: \n",
        "Online E-commerce websites like Amazon, Flipkart uses different recommendation models to provide different suggestions to different users. Amazon currently uses item-to-item collaborative filtering, which scales to massive data sets and produces high-quality recommendations in real-time. \n",
        "####Attribute Information: \n",
        "#####● userId  : Every user identified with a unique id \n",
        "#####● productId : Every product identified with a unique id \\n \n",
        "#####● Rating  : Rating of the corresponding product by the corresponding user  \n",
        "#####● timestamp : Time of the rating ( ignore this column for this exercise) \n",
        "\n",
        "####Learning Outcomes:  \n",
        "● Exploratory Data Analysis \n",
        "● Creating a Recommendation system using real data \n",
        "● Collaborative filtering  \n",
        "\n",
        "####Objective:  \n",
        "Build a recommendation system to recommend products to customers based on the their  previous ratings for other products. \n",
        "\n",
        "####Steps and tasks: \n",
        "1. Read and explore the given dataset.  (Rename column/add headers, plot histograms, find data characteristics) - (3 Marks) \n",
        "2. Take a subset of the dataset to make it less sparse/ denser. ( For example, keep the users only who has given 50 or more number of ratings ) - (3 Marks) \n",
        "3. Split the data randomly into train and test dataset. ( For example, split it in 70/30 ratio) - (3 Marks) \n",
        "4. Build Popularity Recommender model. - (20 Marks) \n",
        "5. Build Collaborative Filtering model. - (20 Marks) \n",
        "6. Evaluate both the models. ( Once the model is trained on the training data, it can be used to compute the error (RMSE) on predictions made on the test data.) - (7 Marks) \n",
        "7. Get top - K ( K = 5) recommendations. Since our goal is to recommend new products for each user based on his/her habits, we will recommend 5 new products. - (7 Marks) \n",
        "8. Summarise your insights. - (7 Marks) \n",
        "\n",
        "####References: \n",
        "#####● Recommeneder systems and its applications \n",
        "#####● Use cases of Recommendation systems \n",
        "● "
      ]
    },
    {
      "cell_type": "code",
      "metadata": {
        "id": "WJdAbf-CSJji",
        "outputId": "39aba9a9-1468-46e7-ea59-4120af60aa37",
        "colab": {
          "base_uri": "https://localhost:8080/",
          "height": 34
        }
      },
      "source": [
        "#Import the necessary libraries and mount to Google drive\n",
        "import numpy as np\n",
        "import pandas as pd\n",
        "import seaborn as sns\n",
        "import math\n",
        "import matplotlib.pyplot as plt\n",
        "from sklearn.model_selection import train_test_split\n",
        "from sklearn.metrics import mean_squared_error\n",
        "from google.colab import drive\n",
        "import os\n",
        "drive.mount('/content/drive',force_remount=True)"
      ],
      "execution_count": 2,
      "outputs": [
        {
          "output_type": "stream",
          "text": [
            "Mounted at /content/drive\n"
          ],
          "name": "stdout"
        }
      ]
    },
    {
      "cell_type": "code",
      "metadata": {
        "id": "Lkmjj7iMUHLg"
      },
      "source": [
        "#Change to the drive location having the data file\n",
        "os.chdir('/content/drive/My Drive')"
      ],
      "execution_count": 3,
      "outputs": []
    },
    {
      "cell_type": "code",
      "metadata": {
        "id": "g_UdI7VSUUou"
      },
      "source": [
        "#Read the csv file and assign column names as per problem statement description\n",
        "ratings = pd.read_csv(\"ratings_Electronics.csv\",names=['userId', 'productId','Rating','timestamp'])"
      ],
      "execution_count": 4,
      "outputs": []
    },
    {
      "cell_type": "code",
      "metadata": {
        "id": "hQDxedypUq4b",
        "outputId": "94ebeac5-12de-484f-ad52-21f2019e90fb",
        "colab": {
          "base_uri": "https://localhost:8080/",
          "height": 204
        }
      },
      "source": [
        "#Check data snapshot to see if everything looks fine, timestamp column needs to be dropped later on\n",
        "ratings.head()"
      ],
      "execution_count": 5,
      "outputs": [
        {
          "output_type": "execute_result",
          "data": {
            "text/html": [
              "<div>\n",
              "<style scoped>\n",
              "    .dataframe tbody tr th:only-of-type {\n",
              "        vertical-align: middle;\n",
              "    }\n",
              "\n",
              "    .dataframe tbody tr th {\n",
              "        vertical-align: top;\n",
              "    }\n",
              "\n",
              "    .dataframe thead th {\n",
              "        text-align: right;\n",
              "    }\n",
              "</style>\n",
              "<table border=\"1\" class=\"dataframe\">\n",
              "  <thead>\n",
              "    <tr style=\"text-align: right;\">\n",
              "      <th></th>\n",
              "      <th>userId</th>\n",
              "      <th>productId</th>\n",
              "      <th>Rating</th>\n",
              "      <th>timestamp</th>\n",
              "    </tr>\n",
              "  </thead>\n",
              "  <tbody>\n",
              "    <tr>\n",
              "      <th>0</th>\n",
              "      <td>AKM1MP6P0OYPR</td>\n",
              "      <td>0132793040</td>\n",
              "      <td>5.0</td>\n",
              "      <td>1365811200</td>\n",
              "    </tr>\n",
              "    <tr>\n",
              "      <th>1</th>\n",
              "      <td>A2CX7LUOHB2NDG</td>\n",
              "      <td>0321732944</td>\n",
              "      <td>5.0</td>\n",
              "      <td>1341100800</td>\n",
              "    </tr>\n",
              "    <tr>\n",
              "      <th>2</th>\n",
              "      <td>A2NWSAGRHCP8N5</td>\n",
              "      <td>0439886341</td>\n",
              "      <td>1.0</td>\n",
              "      <td>1367193600</td>\n",
              "    </tr>\n",
              "    <tr>\n",
              "      <th>3</th>\n",
              "      <td>A2WNBOD3WNDNKT</td>\n",
              "      <td>0439886341</td>\n",
              "      <td>3.0</td>\n",
              "      <td>1374451200</td>\n",
              "    </tr>\n",
              "    <tr>\n",
              "      <th>4</th>\n",
              "      <td>A1GI0U4ZRJA8WN</td>\n",
              "      <td>0439886341</td>\n",
              "      <td>1.0</td>\n",
              "      <td>1334707200</td>\n",
              "    </tr>\n",
              "  </tbody>\n",
              "</table>\n",
              "</div>"
            ],
            "text/plain": [
              "           userId   productId  Rating   timestamp\n",
              "0   AKM1MP6P0OYPR  0132793040     5.0  1365811200\n",
              "1  A2CX7LUOHB2NDG  0321732944     5.0  1341100800\n",
              "2  A2NWSAGRHCP8N5  0439886341     1.0  1367193600\n",
              "3  A2WNBOD3WNDNKT  0439886341     3.0  1374451200\n",
              "4  A1GI0U4ZRJA8WN  0439886341     1.0  1334707200"
            ]
          },
          "metadata": {
            "tags": []
          },
          "execution_count": 5
        }
      ]
    },
    {
      "cell_type": "code",
      "metadata": {
        "id": "1urlfdsjXVsm",
        "outputId": "8f8c0ece-2cad-49fe-b6be-182e0f2b157c",
        "colab": {
          "base_uri": "https://localhost:8080/",
          "height": 34
        }
      },
      "source": [
        "#Number of rows is 7.82MM and number of columns is 4\n",
        "ratings.shape"
      ],
      "execution_count": 6,
      "outputs": [
        {
          "output_type": "execute_result",
          "data": {
            "text/plain": [
              "(7824482, 4)"
            ]
          },
          "metadata": {
            "tags": []
          },
          "execution_count": 6
        }
      ]
    },
    {
      "cell_type": "code",
      "metadata": {
        "id": "EzM-s9WgYd6e",
        "outputId": "429a3e17-0185-4477-c7c3-b4513eeb3d4c",
        "colab": {
          "base_uri": "https://localhost:8080/",
          "height": 102
        }
      },
      "source": [
        "#Check the datatypes\n",
        "#userID, productID are object while Rating is float, timestamp is integer\n",
        "ratings.dtypes"
      ],
      "execution_count": 7,
      "outputs": [
        {
          "output_type": "execute_result",
          "data": {
            "text/plain": [
              "userId        object\n",
              "productId     object\n",
              "Rating       float64\n",
              "timestamp      int64\n",
              "dtype: object"
            ]
          },
          "metadata": {
            "tags": []
          },
          "execution_count": 7
        }
      ]
    },
    {
      "cell_type": "code",
      "metadata": {
        "id": "tGLiSxwQY5kl",
        "outputId": "d53999e1-38c4-4a00-f77c-5c58500d3aa4",
        "colab": {
          "base_uri": "https://localhost:8080/",
          "height": 204
        }
      },
      "source": [
        "#The dataset is utilizing almost 240MB of disk space due to 7.82MM rows and 4 columns\n",
        "#There will be memory issues unless we make the dataset more dense\n",
        "ratings.info()"
      ],
      "execution_count": 8,
      "outputs": [
        {
          "output_type": "stream",
          "text": [
            "<class 'pandas.core.frame.DataFrame'>\n",
            "RangeIndex: 7824482 entries, 0 to 7824481\n",
            "Data columns (total 4 columns):\n",
            " #   Column     Dtype  \n",
            "---  ------     -----  \n",
            " 0   userId     object \n",
            " 1   productId  object \n",
            " 2   Rating     float64\n",
            " 3   timestamp  int64  \n",
            "dtypes: float64(1), int64(1), object(2)\n",
            "memory usage: 238.8+ MB\n"
          ],
          "name": "stdout"
        }
      ]
    },
    {
      "cell_type": "code",
      "metadata": {
        "id": "EB_HPO20ZJUZ",
        "outputId": "7dcbedad-bd38-4001-f22c-22c8cfb09b52",
        "colab": {
          "base_uri": "https://localhost:8080/",
          "height": 290
        }
      },
      "source": [
        "#Countplot of the ratings, maximum user-products have got rating as 5 \n",
        "sns.countplot(data=ratings, x='Rating');\n",
        "#ratings[\"Rating\"].value_counts().sort_values(ascending=False).plot(kind=\"bar\")"
      ],
      "execution_count": 9,
      "outputs": [
        {
          "output_type": "display_data",
          "data": {
            "image/png": "[encoded data removed]",
            "text/plain": [
              "<Figure size 432x288 with 1 Axes>"
            ]
          },
          "metadata": {
            "tags": [],
            "needs_background": "light"
          }
        }
      ]
    },
    {
      "cell_type": "code",
      "metadata": {
        "id": "JeloU-fBa6YR",
        "outputId": "ebeb1b14-5d29-4e17-9ef6-4fa39f85c4cd",
        "colab": {
          "base_uri": "https://localhost:8080/",
          "height": 51
        }
      },
      "source": [
        "#Find the minimum and maximum ratings - It is between 1 and 5\n",
        "print('Minimum rating is: %d' %(ratings.Rating.min()))\n",
        "print('Maximum rating is: %d' %(ratings.Rating.max()))"
      ],
      "execution_count": 10,
      "outputs": [
        {
          "output_type": "stream",
          "text": [
            "Minimum rating is: 1\n",
            "Maximum rating is: 5\n"
          ],
          "name": "stdout"
        }
      ]
    },
    {
      "cell_type": "code",
      "metadata": {
        "id": "QKZ4HEVAbSQR",
        "outputId": "60a620ce-03a2-4a77-dd6d-a168d3326a03",
        "colab": {
          "base_uri": "https://localhost:8080/",
          "height": 119
        }
      },
      "source": [
        "#Check for missing values - There are no missing values, so no imputation required\n",
        "print('Number of missing values across columns: \\n',ratings.isna().sum())"
      ],
      "execution_count": 11,
      "outputs": [
        {
          "output_type": "stream",
          "text": [
            "Number of missing values across columns: \n",
            " userId       0\n",
            "productId    0\n",
            "Rating       0\n",
            "timestamp    0\n",
            "dtype: int64\n"
          ],
          "name": "stdout"
        }
      ]
    },
    {
      "cell_type": "code",
      "metadata": {
        "id": "o9qYzijQbjUp",
        "outputId": "aa6dda69-750e-47d6-fdeb-9bf1f61a5daf",
        "colab": {
          "base_uri": "https://localhost:8080/",
          "height": 170
        }
      },
      "source": [
        "#Number of products (~476K) is less than number of users(~4.2MM), so item-item colaborative filtering would make sense\n",
        "#instead of user-user colaborative filtering\n",
        "print(\"Electronic Data Summary\")\n",
        "print(\"=\"*100)\n",
        "print(\"\\nTotal # of Ratings :\",ratings.shape[0])\n",
        "print(\"Total # of Users   :\", len(np.unique(ratings.userId)))\n",
        "print(\"Total # of Products  :\", len(np.unique(ratings.productId)))\n",
        "print(\"\\n\")\n",
        "print(\"=\"*100)"
      ],
      "execution_count": 12,
      "outputs": [
        {
          "output_type": "stream",
          "text": [
            "Electronic Data Summary\n",
            "====================================================================================================\n",
            "\n",
            "Total # of Ratings : 7824482\n",
            "Total # of Users   : 4201696\n",
            "Total # of Products  : 476002\n",
            "\n",
            "\n",
            "====================================================================================================\n"
          ],
          "name": "stdout"
        }
      ]
    },
    {
      "cell_type": "code",
      "metadata": {
        "id": "LkrSAL_Iknm3"
      },
      "source": [
        "#Dropping the Timestamp column\n",
        "ratings.drop(['timestamp'], axis=1,inplace=True)"
      ],
      "execution_count": 13,
      "outputs": []
    },
    {
      "cell_type": "code",
      "metadata": {
        "id": "IUwRZebBLhz3"
      },
      "source": [
        "#Check and find the max ratings given by user for a particular item\n",
        "max_ratings = ratings.groupby(['userId','productId'])['Rating'].max().sort_values(ascending=False)"
      ],
      "execution_count": 14,
      "outputs": []
    },
    {
      "cell_type": "code",
      "metadata": {
        "id": "93naNariMSX2",
        "outputId": "1ac4d135-58cf-45e1-e890-6236edc6585f",
        "colab": {
          "base_uri": "https://localhost:8080/",
          "height": 136
        }
      },
      "source": [
        "max_ratings.head()"
      ],
      "execution_count": 15,
      "outputs": [
        {
          "output_type": "execute_result",
          "data": {
            "text/plain": [
              "userId          productId \n",
              "A2W3PG4DZ3K3SW  B001T4K2FY    5.0\n",
              "A2MB0EBSLPVFSR  B008S08ADI    5.0\n",
              "                B000IEN8QQ    5.0\n",
              "                B002G0CWSU    5.0\n",
              "                B003SGCO3E    5.0\n",
              "Name: Rating, dtype: float64"
            ]
          },
          "metadata": {
            "tags": []
          },
          "execution_count": 15
        }
      ]
    },
    {
      "cell_type": "code",
      "metadata": {
        "id": "ev0YNOijMiG5"
      },
      "source": [
        "#Check and find the min ratings given by user for a particular item\n",
        "min_ratings = ratings.groupby(['userId','productId'])['Rating'].min().sort_values(ascending=False)"
      ],
      "execution_count": 16,
      "outputs": []
    },
    {
      "cell_type": "code",
      "metadata": {
        "id": "IIAB2VlCMpRU",
        "outputId": "e0c39af5-7c03-46ff-8caf-0701305b40d2",
        "colab": {
          "base_uri": "https://localhost:8080/",
          "height": 136
        }
      },
      "source": [
        "min_ratings.head()"
      ],
      "execution_count": 17,
      "outputs": [
        {
          "output_type": "execute_result",
          "data": {
            "text/plain": [
              "userId          productId \n",
              "A2W3PG4DZ3K3SW  B001T4K2FY    5.0\n",
              "A2MB0EBSLPVFSR  B008S08ADI    5.0\n",
              "                B000IEN8QQ    5.0\n",
              "                B002G0CWSU    5.0\n",
              "                B003SGCO3E    5.0\n",
              "Name: Rating, dtype: float64"
            ]
          },
          "metadata": {
            "tags": []
          },
          "execution_count": 17
        }
      ]
    },
    {
      "cell_type": "code",
      "metadata": {
        "id": "Rhb8UGGbENHy"
      },
      "source": [
        "#From above min and max calculation, we see that the ratings are identical for the sample\n",
        "#However for consistency let us remove duplicates if any just to be sure\n",
        "ratings.drop_duplicates(inplace=True)"
      ],
      "execution_count": 18,
      "outputs": []
    },
    {
      "cell_type": "code",
      "metadata": {
        "id": "sx6pFyE5k-hd",
        "outputId": "56b348bf-f861-476f-e4b6-a31ca3469c95",
        "colab": {
          "base_uri": "https://localhost:8080/",
          "height": 136
        }
      },
      "source": [
        "#Analysis of how many product rating given by a particular user \n",
        "no_of_rated_products_per_user = ratings.groupby(by='userId')['Rating'].count().sort_values(ascending=False)\n",
        "no_of_rated_products_per_user.head()"
      ],
      "execution_count": 19,
      "outputs": [
        {
          "output_type": "execute_result",
          "data": {
            "text/plain": [
              "userId\n",
              "A5JLAU2ARJ0BO     520\n",
              "ADLVFFE4VBT8      501\n",
              "A3OXHLG6DIBRW8    498\n",
              "A6FIAB28IS79      431\n",
              "A680RUE1FDO8B     406\n",
              "Name: Rating, dtype: int64"
            ]
          },
          "metadata": {
            "tags": []
          },
          "execution_count": 19
        }
      ]
    },
    {
      "cell_type": "code",
      "metadata": {
        "id": "52keSq-6losQ",
        "outputId": "f7c6e1e1-b26c-4dd2-8260-943ef01b6d64",
        "colab": {
          "base_uri": "https://localhost:8080/",
          "height": 170
        }
      },
      "source": [
        "#We have certain users who have rated only 1 product and few users have rated upto 520 products\n",
        "#However the number of rated products per user is fairly skewed\n",
        "no_of_rated_products_per_user.describe().astype(int).T"
      ],
      "execution_count": 20,
      "outputs": [
        {
          "output_type": "execute_result",
          "data": {
            "text/plain": [
              "count    4201696\n",
              "mean           1\n",
              "std            2\n",
              "min            1\n",
              "25%            1\n",
              "50%            1\n",
              "75%            2\n",
              "max          520\n",
              "Name: Rating, dtype: int64"
            ]
          },
          "metadata": {
            "tags": []
          },
          "execution_count": 20
        }
      ]
    },
    {
      "cell_type": "code",
      "metadata": {
        "id": "0ZyVhtFxOmRY",
        "outputId": "3a1a562a-9568-4acc-e3da-faa27e6cd1d9",
        "colab": {
          "base_uri": "https://localhost:8080/",
          "height": 265
        }
      },
      "source": [
        "#Boxplot shows that we have few users who rate many items (appearing in outliers) but majority rate very few items\n",
        "sns.boxplot(data=no_of_rated_products_per_user);"
      ],
      "execution_count": 21,
      "outputs": [
        {
          "output_type": "display_data",
          "data": {
            "image/png": "[encoded data removed]",
            "text/plain": [
              "<Figure size 432x288 with 1 Axes>"
            ]
          },
          "metadata": {
            "tags": [],
            "needs_background": "light"
          }
        }
      ]
    },
    {
      "cell_type": "code",
      "metadata": {
        "id": "savAgbiwlsYe"
      },
      "source": [
        "#Let us look at the quantile view to understand where the ratings are concentrated\n",
        "quantiles = no_of_rated_products_per_user.quantile(np.arange(0,1.01,0.01), interpolation='higher')"
      ],
      "execution_count": 22,
      "outputs": []
    },
    {
      "cell_type": "code",
      "metadata": {
        "id": "Ar2M-CGfl7nc",
        "outputId": "bb370502-0593-4f7a-fba5-2e74e989e0f3",
        "colab": {
          "base_uri": "https://localhost:8080/",
          "height": 621
        }
      },
      "source": [
        "#We can see that all the ratings are clustered at the top end of the quantile\n",
        "plt.figure(figsize=(10,10))\n",
        "plt.title(\"Quantiles and their Values\")\n",
        "quantiles.plot()\n",
        "# quantiles with 0.05 difference\n",
        "plt.scatter(x=quantiles.index[::5], y=quantiles.values[::5], c='red', label=\"quantiles with 0.05 intervals\")\n",
        "# quantiles with 0.25 difference\n",
        "plt.scatter(x=quantiles.index[::25], y=quantiles.values[::25], c='green', label = \"quantiles with 0.25 intervals\")\n",
        "plt.ylabel('# ratings by user')\n",
        "plt.xlabel('Value at the quantile')\n",
        "plt.legend(loc='best')\n",
        "plt.show()"
      ],
      "execution_count": 23,
      "outputs": [
        {
          "output_type": "display_data",
          "data": {
            "image/png": "[encoded data removed]",
            "text/plain": [
              "<Figure size 720x720 with 1 Axes>"
            ]
          },
          "metadata": {
            "tags": [],
            "needs_background": "light"
          }
        }
      ]
    },
    {
      "cell_type": "code",
      "metadata": {
        "id": "Zga1vvK1pqci",
        "outputId": "671a8450-d1bc-4550-fed2-339e75a104e5",
        "colab": {
          "base_uri": "https://localhost:8080/",
          "height": 68
        }
      },
      "source": [
        "#We have 1,540 users who have rated more than or equal to 50 products\n",
        "print('\\n # of rated product more than 50 per user : {}\\n'.format(sum(no_of_rated_products_per_user >= 50)) )"
      ],
      "execution_count": 24,
      "outputs": [
        {
          "output_type": "stream",
          "text": [
            "\n",
            " # of rated product more than 50 per user : 1540\n",
            "\n"
          ],
          "name": "stdout"
        }
      ]
    },
    {
      "cell_type": "code",
      "metadata": {
        "id": "Fsa7GB-1qCKC"
      },
      "source": [
        "#Getting the new dataframe which contains users who has given 50 or more ratings\n",
        "new_df=ratings.groupby(\"productId\").filter(lambda x:x['Rating'].count() >=50)"
      ],
      "execution_count": 25,
      "outputs": []
    },
    {
      "cell_type": "code",
      "metadata": {
        "id": "f21EaX-mqlAk",
        "outputId": "9b8f0b76-dc38-487a-ef7f-d5c7a98613f8",
        "colab": {
          "base_uri": "https://localhost:8080/",
          "height": 302
        }
      },
      "source": [
        "#Products also have skewed ratings with majority of the products having very few ratings\n",
        "no_of_ratings_per_product = new_df.groupby(by='productId')['Rating'].count().sort_values(ascending=False)\n",
        "\n",
        "fig = plt.figure(figsize=plt.figaspect(.5))\n",
        "ax = plt.gca()\n",
        "plt.plot(no_of_ratings_per_product.values)\n",
        "plt.title('# RATINGS per Product')\n",
        "plt.xlabel('Product')\n",
        "plt.ylabel('# ratings per product')\n",
        "ax.set_xticklabels([])\n",
        "\n",
        "plt.show"
      ],
      "execution_count": 26,
      "outputs": [
        {
          "output_type": "execute_result",
          "data": {
            "text/plain": [
              "<function matplotlib.pyplot.show>"
            ]
          },
          "metadata": {
            "tags": []
          },
          "execution_count": 26
        },
        {
          "output_type": "display_data",
          "data": {
            "image/png": "[encoded data removed]",
            "text/plain": [
              "<Figure size 576x288 with 1 Axes>"
            ]
          },
          "metadata": {
            "tags": [],
            "needs_background": "light"
          }
        }
      ]
    },
    {
      "cell_type": "code",
      "metadata": {
        "id": "wTV9Hs5dUNwI",
        "outputId": "084f1bc7-3081-429e-cee5-2ae873b7285f",
        "colab": {
          "base_uri": "https://localhost:8080/",
          "height": 265
        }
      },
      "source": [
        "#Boxplot shows that we have few products with large number of ratings, but majority have very low ratings\n",
        "sns.boxplot(data=no_of_ratings_per_product);"
      ],
      "execution_count": 27,
      "outputs": [
        {
          "output_type": "display_data",
          "data": {
            "image/png": "[encoded data removed]",
            "text/plain": [
              "<Figure size 432x288 with 1 Axes>"
            ]
          },
          "metadata": {
            "tags": [],
            "needs_background": "light"
          }
        }
      ]
    },
    {
      "cell_type": "code",
      "metadata": {
        "id": "b-UOGL25WIZC"
      },
      "source": [
        "#Let us look at the quantile view to understand where the ratings are concentrated\n",
        "quantiles = no_of_ratings_per_product.quantile(np.arange(0,1.01,0.01), interpolation='higher')"
      ],
      "execution_count": 28,
      "outputs": []
    },
    {
      "cell_type": "code",
      "metadata": {
        "id": "ec53lOi5WdVR",
        "outputId": "d9748270-1738-43cc-d8e8-ae8be32a0311",
        "colab": {
          "base_uri": "https://localhost:8080/",
          "height": 621
        }
      },
      "source": [
        "#We can see that all the ratings are clustered at the top end of the quantile\n",
        "plt.figure(figsize=(10,10))\n",
        "plt.title(\"Quantiles and their Values\")\n",
        "quantiles.plot()\n",
        "# quantiles with 0.05 difference\n",
        "plt.scatter(x=quantiles.index[::5], y=quantiles.values[::5], c='red', label=\"quantiles with 0.05 intervals\")\n",
        "# quantiles with 0.25 difference\n",
        "plt.scatter(x=quantiles.index[::25], y=quantiles.values[::25], c='green', label = \"quantiles with 0.25 intervals\")\n",
        "plt.ylabel('# ratings by user')\n",
        "plt.xlabel('Value at the quantile')\n",
        "plt.legend(loc='best')\n",
        "plt.show()"
      ],
      "execution_count": 29,
      "outputs": [
        {
          "output_type": "display_data",
          "data": {
            "image/png": "[encoded data removed]",
            "text/plain": [
              "<Figure size 720x720 with 1 Axes>"
            ]
          },
          "metadata": {
            "tags": [],
            "needs_background": "light"
          }
        }
      ]
    },
    {
      "cell_type": "code",
      "metadata": {
        "id": "k_-h3SxtsIUQ",
        "outputId": "7e95b4e6-3b17-4f8e-ba60-7539c03cebac",
        "colab": {
          "base_uri": "https://localhost:8080/",
          "height": 119
        }
      },
      "source": [
        "#Split the data into 70% train and 30% test\n",
        "train_data, test_data = train_test_split(new_df, test_size = 0.30, random_state=0)\n",
        "print(train_data.head(5))"
      ],
      "execution_count": 30,
      "outputs": [
        {
          "output_type": "stream",
          "text": [
            "                 userId   productId  Rating\n",
            "154602   A15BHBF0L0HV1F  B000067RVL     5.0\n",
            "3405827  A3VVJIZXLL1QFP  B003KPBRRW     5.0\n",
            "1168365   AFHY3XJJ6NCAI  B000MM3EKY     5.0\n",
            "2673404  A2WPY1SNQPCC00  B002L0VNXK     5.0\n",
            "2175241   AJMJREC90WJVP  B001NJTZUS     4.0\n"
          ],
          "name": "stdout"
        }
      ]
    },
    {
      "cell_type": "code",
      "metadata": {
        "id": "UIgJeXJot0sN",
        "outputId": "c82df62e-bcf8-49f5-f527-164efec3cb9b",
        "colab": {
          "base_uri": "https://localhost:8080/",
          "height": 204
        }
      },
      "source": [
        "#Count of user_id for each unique product as recommendation score \n",
        "train_data_grouped = train_data.groupby('productId').agg({'userId': 'count'}).reset_index()\n",
        "train_data_grouped.rename(columns = {'userId': 'score'},inplace=True)\n",
        "train_data_grouped.head()"
      ],
      "execution_count": 31,
      "outputs": [
        {
          "output_type": "execute_result",
          "data": {
            "text/html": [
              "<div>\n",
              "<style scoped>\n",
              "    .dataframe tbody tr th:only-of-type {\n",
              "        vertical-align: middle;\n",
              "    }\n",
              "\n",
              "    .dataframe tbody tr th {\n",
              "        vertical-align: top;\n",
              "    }\n",
              "\n",
              "    .dataframe thead th {\n",
              "        text-align: right;\n",
              "    }\n",
              "</style>\n",
              "<table border=\"1\" class=\"dataframe\">\n",
              "  <thead>\n",
              "    <tr style=\"text-align: right;\">\n",
              "      <th></th>\n",
              "      <th>productId</th>\n",
              "      <th>score</th>\n",
              "    </tr>\n",
              "  </thead>\n",
              "  <tbody>\n",
              "    <tr>\n",
              "      <th>0</th>\n",
              "      <td>0972683275</td>\n",
              "      <td>737</td>\n",
              "    </tr>\n",
              "    <tr>\n",
              "      <th>1</th>\n",
              "      <td>1400501466</td>\n",
              "      <td>178</td>\n",
              "    </tr>\n",
              "    <tr>\n",
              "      <th>2</th>\n",
              "      <td>1400501520</td>\n",
              "      <td>54</td>\n",
              "    </tr>\n",
              "    <tr>\n",
              "      <th>3</th>\n",
              "      <td>1400501776</td>\n",
              "      <td>93</td>\n",
              "    </tr>\n",
              "    <tr>\n",
              "      <th>4</th>\n",
              "      <td>1400532620</td>\n",
              "      <td>117</td>\n",
              "    </tr>\n",
              "  </tbody>\n",
              "</table>\n",
              "</div>"
            ],
            "text/plain": [
              "    productId  score\n",
              "0  0972683275    737\n",
              "1  1400501466    178\n",
              "2  1400501520     54\n",
              "3  1400501776     93\n",
              "4  1400532620    117"
            ]
          },
          "metadata": {
            "tags": []
          },
          "execution_count": 31
        }
      ]
    },
    {
      "cell_type": "code",
      "metadata": {
        "id": "CuO8e4c4u2Y0",
        "outputId": "b28e1c98-108b-481c-8378-d7bd18c4d0d5",
        "colab": {
          "base_uri": "https://localhost:8080/",
          "height": 204
        }
      },
      "source": [
        "#Sort the products on recommendation score \n",
        "train_data_sort = train_data_grouped.sort_values(['score', 'productId'], ascending = [0,1])     \n",
        "#Generate a recommendation rank based upon score \n",
        "train_data_sort['Rank'] = train_data_sort['score'].rank(ascending=0, method='first') \n",
        "#Get the top 5 recommendations \n",
        "popularity_recommendations = train_data_sort.head(5) \n",
        "popularity_recommendations "
      ],
      "execution_count": 32,
      "outputs": [
        {
          "output_type": "execute_result",
          "data": {
            "text/html": [
              "<div>\n",
              "<style scoped>\n",
              "    .dataframe tbody tr th:only-of-type {\n",
              "        vertical-align: middle;\n",
              "    }\n",
              "\n",
              "    .dataframe tbody tr th {\n",
              "        vertical-align: top;\n",
              "    }\n",
              "\n",
              "    .dataframe thead th {\n",
              "        text-align: right;\n",
              "    }\n",
              "</style>\n",
              "<table border=\"1\" class=\"dataframe\">\n",
              "  <thead>\n",
              "    <tr style=\"text-align: right;\">\n",
              "      <th></th>\n",
              "      <th>productId</th>\n",
              "      <th>score</th>\n",
              "      <th>Rank</th>\n",
              "    </tr>\n",
              "  </thead>\n",
              "  <tbody>\n",
              "    <tr>\n",
              "      <th>19245</th>\n",
              "      <td>B0074BW614</td>\n",
              "      <td>12760</td>\n",
              "      <td>1.0</td>\n",
              "    </tr>\n",
              "    <tr>\n",
              "      <th>25032</th>\n",
              "      <td>B00DR0PDNE</td>\n",
              "      <td>11573</td>\n",
              "      <td>2.0</td>\n",
              "    </tr>\n",
              "    <tr>\n",
              "      <th>20325</th>\n",
              "      <td>B007WTAJTO</td>\n",
              "      <td>9956</td>\n",
              "      <td>3.0</td>\n",
              "    </tr>\n",
              "    <tr>\n",
              "      <th>18581</th>\n",
              "      <td>B006GWO5WK</td>\n",
              "      <td>8541</td>\n",
              "      <td>4.0</td>\n",
              "    </tr>\n",
              "    <tr>\n",
              "      <th>6593</th>\n",
              "      <td>B0019EHU8G</td>\n",
              "      <td>8451</td>\n",
              "      <td>5.0</td>\n",
              "    </tr>\n",
              "  </tbody>\n",
              "</table>\n",
              "</div>"
            ],
            "text/plain": [
              "        productId  score  Rank\n",
              "19245  B0074BW614  12760   1.0\n",
              "25032  B00DR0PDNE  11573   2.0\n",
              "20325  B007WTAJTO   9956   3.0\n",
              "18581  B006GWO5WK   8541   4.0\n",
              "6593   B0019EHU8G   8451   5.0"
            ]
          },
          "metadata": {
            "tags": []
          },
          "execution_count": 32
        }
      ]
    },
    {
      "cell_type": "code",
      "metadata": {
        "id": "EAFK4m9rvJ6p"
      },
      "source": [
        "# Use popularity based recommender model to make predictions\n",
        "def recommend(user_id):     \n",
        "    user_recommendations = popularity_recommendations \n",
        "          \n",
        "    #Add user_id column for which the recommendations are being generated \n",
        "    user_recommendations['userId'] = user_id \n",
        "      \n",
        "    #Bring user_id column to the front \n",
        "    cols = user_recommendations.columns.tolist() \n",
        "    cols = cols[-1:] + cols[:-1] \n",
        "    user_recommendations = user_recommendations[cols] \n",
        "          \n",
        "    return user_recommendations "
      ],
      "execution_count": 33,
      "outputs": []
    },
    {
      "cell_type": "code",
      "metadata": {
        "id": "9WQPX7UDvQRM",
        "outputId": "795bc133-0b11-4033-9ee6-9be623a6e938",
        "colab": {
          "base_uri": "https://localhost:8080/",
          "height": 1000
        }
      },
      "source": [
        "# This list is user choice, since this is popularity based recommendation method irrespective of user same products will be suggested\n",
        "find_recom = ['A15BHBF0L0HV1F','A3VVJIZXLL1QFP','AFHY3XJJ6NCAI','A2WPY1SNQPCC00','AJMJREC90WJVP']   \n",
        "for i in find_recom:\n",
        "    print(\"Here is the recommendation for the userId: %s\\n\" %(i))\n",
        "    print(recommend(i))    \n",
        "    print(\"\\n\") "
      ],
      "execution_count": 34,
      "outputs": [
        {
          "output_type": "stream",
          "text": [
            "Here is the recommendation for the userId: A15BHBF0L0HV1F\n",
            "\n",
            "               userId   productId  score  Rank\n",
            "19245  A15BHBF0L0HV1F  B0074BW614  12760   1.0\n",
            "25032  A15BHBF0L0HV1F  B00DR0PDNE  11573   2.0\n",
            "20325  A15BHBF0L0HV1F  B007WTAJTO   9956   3.0\n",
            "18581  A15BHBF0L0HV1F  B006GWO5WK   8541   4.0\n",
            "6593   A15BHBF0L0HV1F  B0019EHU8G   8451   5.0\n",
            "\n",
            "\n",
            "Here is the recommendation for the userId: A3VVJIZXLL1QFP\n",
            "\n",
            "               userId   productId  score  Rank\n",
            "19245  A3VVJIZXLL1QFP  B0074BW614  12760   1.0\n",
            "25032  A3VVJIZXLL1QFP  B00DR0PDNE  11573   2.0\n",
            "20325  A3VVJIZXLL1QFP  B007WTAJTO   9956   3.0\n",
            "18581  A3VVJIZXLL1QFP  B006GWO5WK   8541   4.0\n",
            "6593   A3VVJIZXLL1QFP  B0019EHU8G   8451   5.0\n",
            "\n",
            "\n",
            "Here is the recommendation for the userId: AFHY3XJJ6NCAI\n",
            "\n",
            "              userId   productId  score  Rank\n",
            "19245  AFHY3XJJ6NCAI  B0074BW614  12760   1.0\n",
            "25032  AFHY3XJJ6NCAI  B00DR0PDNE  11573   2.0\n",
            "20325  AFHY3XJJ6NCAI  B007WTAJTO   9956   3.0\n",
            "18581  AFHY3XJJ6NCAI  B006GWO5WK   8541   4.0\n",
            "6593   AFHY3XJJ6NCAI  B0019EHU8G   8451   5.0\n",
            "\n",
            "\n",
            "Here is the recommendation for the userId: A2WPY1SNQPCC00\n",
            "\n",
            "               userId   productId  score  Rank\n",
            "19245  A2WPY1SNQPCC00  B0074BW614  12760   1.0\n",
            "25032  A2WPY1SNQPCC00  B00DR0PDNE  11573   2.0\n",
            "20325  A2WPY1SNQPCC00  B007WTAJTO   9956   3.0\n",
            "18581  A2WPY1SNQPCC00  B006GWO5WK   8541   4.0\n",
            "6593   A2WPY1SNQPCC00  B0019EHU8G   8451   5.0\n",
            "\n",
            "\n",
            "Here is the recommendation for the userId: AJMJREC90WJVP\n",
            "\n",
            "              userId   productId  score  Rank\n",
            "19245  AJMJREC90WJVP  B0074BW614  12760   1.0\n",
            "25032  AJMJREC90WJVP  B00DR0PDNE  11573   2.0\n",
            "20325  AJMJREC90WJVP  B007WTAJTO   9956   3.0\n",
            "18581  AJMJREC90WJVP  B006GWO5WK   8541   4.0\n",
            "6593   AJMJREC90WJVP  B0019EHU8G   8451   5.0\n",
            "\n",
            "\n"
          ],
          "name": "stdout"
        },
        {
          "output_type": "stream",
          "text": [
            "/usr/local/lib/python3.6/dist-packages/ipykernel_launcher.py:6: SettingWithCopyWarning: \n",
            "A value is trying to be set on a copy of a slice from a DataFrame.\n",
            "Try using .loc[row_indexer,col_indexer] = value instead\n",
            "\n",
            "See the caveats in the documentation: https://pandas.pydata.org/pandas-docs/stable/user_guide/indexing.html#returning-a-view-versus-a-copy\n",
            "  \n",
            "/usr/local/lib/python3.6/dist-packages/ipykernel_launcher.py:6: SettingWithCopyWarning: \n",
            "A value is trying to be set on a copy of a slice from a DataFrame.\n",
            "Try using .loc[row_indexer,col_indexer] = value instead\n",
            "\n",
            "See the caveats in the documentation: https://pandas.pydata.org/pandas-docs/stable/user_guide/indexing.html#returning-a-view-versus-a-copy\n",
            "  \n",
            "/usr/local/lib/python3.6/dist-packages/ipykernel_launcher.py:6: SettingWithCopyWarning: \n",
            "A value is trying to be set on a copy of a slice from a DataFrame.\n",
            "Try using .loc[row_indexer,col_indexer] = value instead\n",
            "\n",
            "See the caveats in the documentation: https://pandas.pydata.org/pandas-docs/stable/user_guide/indexing.html#returning-a-view-versus-a-copy\n",
            "  \n",
            "/usr/local/lib/python3.6/dist-packages/ipykernel_launcher.py:6: SettingWithCopyWarning: \n",
            "A value is trying to be set on a copy of a slice from a DataFrame.\n",
            "Try using .loc[row_indexer,col_indexer] = value instead\n",
            "\n",
            "See the caveats in the documentation: https://pandas.pydata.org/pandas-docs/stable/user_guide/indexing.html#returning-a-view-versus-a-copy\n",
            "  \n",
            "/usr/local/lib/python3.6/dist-packages/ipykernel_launcher.py:6: SettingWithCopyWarning: \n",
            "A value is trying to be set on a copy of a slice from a DataFrame.\n",
            "Try using .loc[row_indexer,col_indexer] = value instead\n",
            "\n",
            "See the caveats in the documentation: https://pandas.pydata.org/pandas-docs/stable/user_guide/indexing.html#returning-a-view-versus-a-copy\n",
            "  \n"
          ],
          "name": "stderr"
        }
      ]
    },
    {
      "cell_type": "code",
      "metadata": {
        "id": "KteLaUIn7_IP",
        "outputId": "32efdd82-7bec-4e9a-fac5-3ad38366a2ae",
        "colab": {
          "base_uri": "https://localhost:8080/",
          "height": 204
        }
      },
      "source": [
        "train_data_sort.head()\n",
        "#print(pred)"
      ],
      "execution_count": 35,
      "outputs": [
        {
          "output_type": "execute_result",
          "data": {
            "text/html": [
              "<div>\n",
              "<style scoped>\n",
              "    .dataframe tbody tr th:only-of-type {\n",
              "        vertical-align: middle;\n",
              "    }\n",
              "\n",
              "    .dataframe tbody tr th {\n",
              "        vertical-align: top;\n",
              "    }\n",
              "\n",
              "    .dataframe thead th {\n",
              "        text-align: right;\n",
              "    }\n",
              "</style>\n",
              "<table border=\"1\" class=\"dataframe\">\n",
              "  <thead>\n",
              "    <tr style=\"text-align: right;\">\n",
              "      <th></th>\n",
              "      <th>productId</th>\n",
              "      <th>score</th>\n",
              "      <th>Rank</th>\n",
              "    </tr>\n",
              "  </thead>\n",
              "  <tbody>\n",
              "    <tr>\n",
              "      <th>19245</th>\n",
              "      <td>B0074BW614</td>\n",
              "      <td>12760</td>\n",
              "      <td>1.0</td>\n",
              "    </tr>\n",
              "    <tr>\n",
              "      <th>25032</th>\n",
              "      <td>B00DR0PDNE</td>\n",
              "      <td>11573</td>\n",
              "      <td>2.0</td>\n",
              "    </tr>\n",
              "    <tr>\n",
              "      <th>20325</th>\n",
              "      <td>B007WTAJTO</td>\n",
              "      <td>9956</td>\n",
              "      <td>3.0</td>\n",
              "    </tr>\n",
              "    <tr>\n",
              "      <th>18581</th>\n",
              "      <td>B006GWO5WK</td>\n",
              "      <td>8541</td>\n",
              "      <td>4.0</td>\n",
              "    </tr>\n",
              "    <tr>\n",
              "      <th>6593</th>\n",
              "      <td>B0019EHU8G</td>\n",
              "      <td>8451</td>\n",
              "      <td>5.0</td>\n",
              "    </tr>\n",
              "  </tbody>\n",
              "</table>\n",
              "</div>"
            ],
            "text/plain": [
              "        productId  score  Rank\n",
              "19245  B0074BW614  12760   1.0\n",
              "25032  B00DR0PDNE  11573   2.0\n",
              "20325  B007WTAJTO   9956   3.0\n",
              "18581  B006GWO5WK   8541   4.0\n",
              "6593   B0019EHU8G   8451   5.0"
            ]
          },
          "metadata": {
            "tags": []
          },
          "execution_count": 35
        }
      ]
    },
    {
      "cell_type": "code",
      "metadata": {
        "id": "vQ6UewN4MhD1",
        "outputId": "ee7e30ac-f825-4f0c-b146-1f766ad6fa0a",
        "colab": {
          "base_uri": "https://localhost:8080/",
          "height": 204
        }
      },
      "source": [
        "test_data.head()"
      ],
      "execution_count": 36,
      "outputs": [
        {
          "output_type": "execute_result",
          "data": {
            "text/html": [
              "<div>\n",
              "<style scoped>\n",
              "    .dataframe tbody tr th:only-of-type {\n",
              "        vertical-align: middle;\n",
              "    }\n",
              "\n",
              "    .dataframe tbody tr th {\n",
              "        vertical-align: top;\n",
              "    }\n",
              "\n",
              "    .dataframe thead th {\n",
              "        text-align: right;\n",
              "    }\n",
              "</style>\n",
              "<table border=\"1\" class=\"dataframe\">\n",
              "  <thead>\n",
              "    <tr style=\"text-align: right;\">\n",
              "      <th></th>\n",
              "      <th>userId</th>\n",
              "      <th>productId</th>\n",
              "      <th>Rating</th>\n",
              "    </tr>\n",
              "  </thead>\n",
              "  <tbody>\n",
              "    <tr>\n",
              "      <th>5118933</th>\n",
              "      <td>AF4U3M94WEYPF</td>\n",
              "      <td>B005OLOIUI</td>\n",
              "      <td>5.0</td>\n",
              "    </tr>\n",
              "    <tr>\n",
              "      <th>5344739</th>\n",
              "      <td>A1IYQ5ZN1E5G1A</td>\n",
              "      <td>B0069SGO48</td>\n",
              "      <td>5.0</td>\n",
              "    </tr>\n",
              "    <tr>\n",
              "      <th>169991</th>\n",
              "      <td>A2KFD2ACBFPIL0</td>\n",
              "      <td>B00006B7DA</td>\n",
              "      <td>5.0</td>\n",
              "    </tr>\n",
              "    <tr>\n",
              "      <th>3789046</th>\n",
              "      <td>AQTKPXO5EPDED</td>\n",
              "      <td>B0041Q38NU</td>\n",
              "      <td>5.0</td>\n",
              "    </tr>\n",
              "    <tr>\n",
              "      <th>120206</th>\n",
              "      <td>A1YX4C6BH4RT12</td>\n",
              "      <td>B00005T3G0</td>\n",
              "      <td>5.0</td>\n",
              "    </tr>\n",
              "  </tbody>\n",
              "</table>\n",
              "</div>"
            ],
            "text/plain": [
              "                 userId   productId  Rating\n",
              "5118933   AF4U3M94WEYPF  B005OLOIUI     5.0\n",
              "5344739  A1IYQ5ZN1E5G1A  B0069SGO48     5.0\n",
              "169991   A2KFD2ACBFPIL0  B00006B7DA     5.0\n",
              "3789046   AQTKPXO5EPDED  B0041Q38NU     5.0\n",
              "120206   A1YX4C6BH4RT12  B00005T3G0     5.0"
            ]
          },
          "metadata": {
            "tags": []
          },
          "execution_count": 36
        }
      ]
    },
    {
      "cell_type": "code",
      "metadata": {
        "id": "OUXRTGYVMpIH"
      },
      "source": [
        "#Calculating the RMSE of the popularity based recommendation system\n",
        "#Rating present in the test data is the actual rating (Act_rating)\n",
        "test_data2 = test_data.copy()\n",
        "#ratings.drop(['timestamp'], axis=1,inplace=True)\n",
        "test_data2.drop(['userId'],axis=1,inplace=True)\n",
        "test_data2.rename(columns = {'Rating':'Act_rating'}, inplace = True)"
      ],
      "execution_count": 37,
      "outputs": []
    },
    {
      "cell_type": "code",
      "metadata": {
        "id": "bLnjwPeRQAfY",
        "outputId": "2c5162dd-a3da-400b-e973-876b1344cf0c",
        "colab": {
          "base_uri": "https://localhost:8080/",
          "height": 204
        }
      },
      "source": [
        "test_data2.head()"
      ],
      "execution_count": 38,
      "outputs": [
        {
          "output_type": "execute_result",
          "data": {
            "text/html": [
              "<div>\n",
              "<style scoped>\n",
              "    .dataframe tbody tr th:only-of-type {\n",
              "        vertical-align: middle;\n",
              "    }\n",
              "\n",
              "    .dataframe tbody tr th {\n",
              "        vertical-align: top;\n",
              "    }\n",
              "\n",
              "    .dataframe thead th {\n",
              "        text-align: right;\n",
              "    }\n",
              "</style>\n",
              "<table border=\"1\" class=\"dataframe\">\n",
              "  <thead>\n",
              "    <tr style=\"text-align: right;\">\n",
              "      <th></th>\n",
              "      <th>productId</th>\n",
              "      <th>Act_rating</th>\n",
              "    </tr>\n",
              "  </thead>\n",
              "  <tbody>\n",
              "    <tr>\n",
              "      <th>5118933</th>\n",
              "      <td>B005OLOIUI</td>\n",
              "      <td>5.0</td>\n",
              "    </tr>\n",
              "    <tr>\n",
              "      <th>5344739</th>\n",
              "      <td>B0069SGO48</td>\n",
              "      <td>5.0</td>\n",
              "    </tr>\n",
              "    <tr>\n",
              "      <th>169991</th>\n",
              "      <td>B00006B7DA</td>\n",
              "      <td>5.0</td>\n",
              "    </tr>\n",
              "    <tr>\n",
              "      <th>3789046</th>\n",
              "      <td>B0041Q38NU</td>\n",
              "      <td>5.0</td>\n",
              "    </tr>\n",
              "    <tr>\n",
              "      <th>120206</th>\n",
              "      <td>B00005T3G0</td>\n",
              "      <td>5.0</td>\n",
              "    </tr>\n",
              "  </tbody>\n",
              "</table>\n",
              "</div>"
            ],
            "text/plain": [
              "          productId  Act_rating\n",
              "5118933  B005OLOIUI         5.0\n",
              "5344739  B0069SGO48         5.0\n",
              "169991   B00006B7DA         5.0\n",
              "3789046  B0041Q38NU         5.0\n",
              "120206   B00005T3G0         5.0"
            ]
          },
          "metadata": {
            "tags": []
          },
          "execution_count": 38
        }
      ]
    },
    {
      "cell_type": "code",
      "metadata": {
        "id": "iYB-ecU9RJyC",
        "outputId": "ed04b509-5185-427b-891c-e5061b0c0a01",
        "colab": {
          "base_uri": "https://localhost:8080/",
          "height": 204
        }
      },
      "source": [
        "#Count of user_id for each unique product as recommendation score \n",
        "train_data_grouped2 = train_data.groupby('productId').agg({'Rating': 'sum'}).reset_index()\n",
        "train_data_grouped2.rename(columns = {'Rating': 'Sum_rating'},inplace=True)\n",
        "train_data_grouped2.head()"
      ],
      "execution_count": 39,
      "outputs": [
        {
          "output_type": "execute_result",
          "data": {
            "text/html": [
              "<div>\n",
              "<style scoped>\n",
              "    .dataframe tbody tr th:only-of-type {\n",
              "        vertical-align: middle;\n",
              "    }\n",
              "\n",
              "    .dataframe tbody tr th {\n",
              "        vertical-align: top;\n",
              "    }\n",
              "\n",
              "    .dataframe thead th {\n",
              "        text-align: right;\n",
              "    }\n",
              "</style>\n",
              "<table border=\"1\" class=\"dataframe\">\n",
              "  <thead>\n",
              "    <tr style=\"text-align: right;\">\n",
              "      <th></th>\n",
              "      <th>productId</th>\n",
              "      <th>Sum_rating</th>\n",
              "    </tr>\n",
              "  </thead>\n",
              "  <tbody>\n",
              "    <tr>\n",
              "      <th>0</th>\n",
              "      <td>0972683275</td>\n",
              "      <td>3297.0</td>\n",
              "    </tr>\n",
              "    <tr>\n",
              "      <th>1</th>\n",
              "      <td>1400501466</td>\n",
              "      <td>642.0</td>\n",
              "    </tr>\n",
              "    <tr>\n",
              "      <th>2</th>\n",
              "      <td>1400501520</td>\n",
              "      <td>232.0</td>\n",
              "    </tr>\n",
              "    <tr>\n",
              "      <th>3</th>\n",
              "      <td>1400501776</td>\n",
              "      <td>352.0</td>\n",
              "    </tr>\n",
              "    <tr>\n",
              "      <th>4</th>\n",
              "      <td>1400532620</td>\n",
              "      <td>429.0</td>\n",
              "    </tr>\n",
              "  </tbody>\n",
              "</table>\n",
              "</div>"
            ],
            "text/plain": [
              "    productId  Sum_rating\n",
              "0  0972683275      3297.0\n",
              "1  1400501466       642.0\n",
              "2  1400501520       232.0\n",
              "3  1400501776       352.0\n",
              "4  1400532620       429.0"
            ]
          },
          "metadata": {
            "tags": []
          },
          "execution_count": 39
        }
      ]
    },
    {
      "cell_type": "code",
      "metadata": {
        "id": "Y6gQaSpNNXqV"
      },
      "source": [
        "train_data_inner = pd.merge(train_data_grouped2, train_data_sort)"
      ],
      "execution_count": 40,
      "outputs": []
    },
    {
      "cell_type": "code",
      "metadata": {
        "id": "Hp13b_Q3O5IS",
        "outputId": "5d6e78ce-3f71-4fe7-d0cd-7576fa242645",
        "colab": {
          "base_uri": "https://localhost:8080/",
          "height": 204
        }
      },
      "source": [
        "train_data_inner.head()"
      ],
      "execution_count": 41,
      "outputs": [
        {
          "output_type": "execute_result",
          "data": {
            "text/html": [
              "<div>\n",
              "<style scoped>\n",
              "    .dataframe tbody tr th:only-of-type {\n",
              "        vertical-align: middle;\n",
              "    }\n",
              "\n",
              "    .dataframe tbody tr th {\n",
              "        vertical-align: top;\n",
              "    }\n",
              "\n",
              "    .dataframe thead th {\n",
              "        text-align: right;\n",
              "    }\n",
              "</style>\n",
              "<table border=\"1\" class=\"dataframe\">\n",
              "  <thead>\n",
              "    <tr style=\"text-align: right;\">\n",
              "      <th></th>\n",
              "      <th>productId</th>\n",
              "      <th>Sum_rating</th>\n",
              "      <th>score</th>\n",
              "      <th>Rank</th>\n",
              "    </tr>\n",
              "  </thead>\n",
              "  <tbody>\n",
              "    <tr>\n",
              "      <th>0</th>\n",
              "      <td>0972683275</td>\n",
              "      <td>3297.0</td>\n",
              "      <td>737</td>\n",
              "      <td>618.0</td>\n",
              "    </tr>\n",
              "    <tr>\n",
              "      <th>1</th>\n",
              "      <td>1400501466</td>\n",
              "      <td>642.0</td>\n",
              "      <td>178</td>\n",
              "      <td>4557.0</td>\n",
              "    </tr>\n",
              "    <tr>\n",
              "      <th>2</th>\n",
              "      <td>1400501520</td>\n",
              "      <td>232.0</td>\n",
              "      <td>54</td>\n",
              "      <td>16998.0</td>\n",
              "    </tr>\n",
              "    <tr>\n",
              "      <th>3</th>\n",
              "      <td>1400501776</td>\n",
              "      <td>352.0</td>\n",
              "      <td>93</td>\n",
              "      <td>9628.0</td>\n",
              "    </tr>\n",
              "    <tr>\n",
              "      <th>4</th>\n",
              "      <td>1400532620</td>\n",
              "      <td>429.0</td>\n",
              "      <td>117</td>\n",
              "      <td>7496.0</td>\n",
              "    </tr>\n",
              "  </tbody>\n",
              "</table>\n",
              "</div>"
            ],
            "text/plain": [
              "    productId  Sum_rating  score     Rank\n",
              "0  0972683275      3297.0    737    618.0\n",
              "1  1400501466       642.0    178   4557.0\n",
              "2  1400501520       232.0     54  16998.0\n",
              "3  1400501776       352.0     93   9628.0\n",
              "4  1400532620       429.0    117   7496.0"
            ]
          },
          "metadata": {
            "tags": []
          },
          "execution_count": 41
        }
      ]
    },
    {
      "cell_type": "code",
      "metadata": {
        "id": "M15tXYFYSM-y"
      },
      "source": [
        "#Obtain the average rating of the product across users\n",
        "train_data_inner[\"Avg_Rating\"] = train_data_inner[\"Sum_rating\"]/train_data_inner[\"score\"]"
      ],
      "execution_count": 42,
      "outputs": []
    },
    {
      "cell_type": "code",
      "metadata": {
        "id": "d1Th-gKzSf-g",
        "outputId": "2f009bb2-15c0-472a-eb28-7f745d9629ef",
        "colab": {
          "base_uri": "https://localhost:8080/",
          "height": 204
        }
      },
      "source": [
        "train_data_inner.head()"
      ],
      "execution_count": 43,
      "outputs": [
        {
          "output_type": "execute_result",
          "data": {
            "text/html": [
              "<div>\n",
              "<style scoped>\n",
              "    .dataframe tbody tr th:only-of-type {\n",
              "        vertical-align: middle;\n",
              "    }\n",
              "\n",
              "    .dataframe tbody tr th {\n",
              "        vertical-align: top;\n",
              "    }\n",
              "\n",
              "    .dataframe thead th {\n",
              "        text-align: right;\n",
              "    }\n",
              "</style>\n",
              "<table border=\"1\" class=\"dataframe\">\n",
              "  <thead>\n",
              "    <tr style=\"text-align: right;\">\n",
              "      <th></th>\n",
              "      <th>productId</th>\n",
              "      <th>Sum_rating</th>\n",
              "      <th>score</th>\n",
              "      <th>Rank</th>\n",
              "      <th>Avg_Rating</th>\n",
              "    </tr>\n",
              "  </thead>\n",
              "  <tbody>\n",
              "    <tr>\n",
              "      <th>0</th>\n",
              "      <td>0972683275</td>\n",
              "      <td>3297.0</td>\n",
              "      <td>737</td>\n",
              "      <td>618.0</td>\n",
              "      <td>4.473541</td>\n",
              "    </tr>\n",
              "    <tr>\n",
              "      <th>1</th>\n",
              "      <td>1400501466</td>\n",
              "      <td>642.0</td>\n",
              "      <td>178</td>\n",
              "      <td>4557.0</td>\n",
              "      <td>3.606742</td>\n",
              "    </tr>\n",
              "    <tr>\n",
              "      <th>2</th>\n",
              "      <td>1400501520</td>\n",
              "      <td>232.0</td>\n",
              "      <td>54</td>\n",
              "      <td>16998.0</td>\n",
              "      <td>4.296296</td>\n",
              "    </tr>\n",
              "    <tr>\n",
              "      <th>3</th>\n",
              "      <td>1400501776</td>\n",
              "      <td>352.0</td>\n",
              "      <td>93</td>\n",
              "      <td>9628.0</td>\n",
              "      <td>3.784946</td>\n",
              "    </tr>\n",
              "    <tr>\n",
              "      <th>4</th>\n",
              "      <td>1400532620</td>\n",
              "      <td>429.0</td>\n",
              "      <td>117</td>\n",
              "      <td>7496.0</td>\n",
              "      <td>3.666667</td>\n",
              "    </tr>\n",
              "  </tbody>\n",
              "</table>\n",
              "</div>"
            ],
            "text/plain": [
              "    productId  Sum_rating  score     Rank  Avg_Rating\n",
              "0  0972683275      3297.0    737    618.0    4.473541\n",
              "1  1400501466       642.0    178   4557.0    3.606742\n",
              "2  1400501520       232.0     54  16998.0    4.296296\n",
              "3  1400501776       352.0     93   9628.0    3.784946\n",
              "4  1400532620       429.0    117   7496.0    3.666667"
            ]
          },
          "metadata": {
            "tags": []
          },
          "execution_count": 43
        }
      ]
    },
    {
      "cell_type": "code",
      "metadata": {
        "id": "eERpIC4wSqSL"
      },
      "source": [
        "#Merge the train data having avergae rating with the test data having actual rating at product level\n",
        "test_data_inner = pd.merge(train_data_inner, test_data2)"
      ],
      "execution_count": 44,
      "outputs": []
    },
    {
      "cell_type": "code",
      "metadata": {
        "id": "FDOOCVPjSzcw",
        "outputId": "b0a7ca51-28e1-4ad2-a565-861acb687df8",
        "colab": {
          "base_uri": "https://localhost:8080/",
          "height": 204
        }
      },
      "source": [
        "test_data_inner.head()"
      ],
      "execution_count": 45,
      "outputs": [
        {
          "output_type": "execute_result",
          "data": {
            "text/html": [
              "<div>\n",
              "<style scoped>\n",
              "    .dataframe tbody tr th:only-of-type {\n",
              "        vertical-align: middle;\n",
              "    }\n",
              "\n",
              "    .dataframe tbody tr th {\n",
              "        vertical-align: top;\n",
              "    }\n",
              "\n",
              "    .dataframe thead th {\n",
              "        text-align: right;\n",
              "    }\n",
              "</style>\n",
              "<table border=\"1\" class=\"dataframe\">\n",
              "  <thead>\n",
              "    <tr style=\"text-align: right;\">\n",
              "      <th></th>\n",
              "      <th>productId</th>\n",
              "      <th>Sum_rating</th>\n",
              "      <th>score</th>\n",
              "      <th>Rank</th>\n",
              "      <th>Avg_Rating</th>\n",
              "      <th>Act_rating</th>\n",
              "    </tr>\n",
              "  </thead>\n",
              "  <tbody>\n",
              "    <tr>\n",
              "      <th>0</th>\n",
              "      <td>0972683275</td>\n",
              "      <td>3297.0</td>\n",
              "      <td>737</td>\n",
              "      <td>618.0</td>\n",
              "      <td>4.473541</td>\n",
              "      <td>5.0</td>\n",
              "    </tr>\n",
              "    <tr>\n",
              "      <th>1</th>\n",
              "      <td>0972683275</td>\n",
              "      <td>3297.0</td>\n",
              "      <td>737</td>\n",
              "      <td>618.0</td>\n",
              "      <td>4.473541</td>\n",
              "      <td>4.0</td>\n",
              "    </tr>\n",
              "    <tr>\n",
              "      <th>2</th>\n",
              "      <td>0972683275</td>\n",
              "      <td>3297.0</td>\n",
              "      <td>737</td>\n",
              "      <td>618.0</td>\n",
              "      <td>4.473541</td>\n",
              "      <td>5.0</td>\n",
              "    </tr>\n",
              "    <tr>\n",
              "      <th>3</th>\n",
              "      <td>0972683275</td>\n",
              "      <td>3297.0</td>\n",
              "      <td>737</td>\n",
              "      <td>618.0</td>\n",
              "      <td>4.473541</td>\n",
              "      <td>5.0</td>\n",
              "    </tr>\n",
              "    <tr>\n",
              "      <th>4</th>\n",
              "      <td>0972683275</td>\n",
              "      <td>3297.0</td>\n",
              "      <td>737</td>\n",
              "      <td>618.0</td>\n",
              "      <td>4.473541</td>\n",
              "      <td>5.0</td>\n",
              "    </tr>\n",
              "  </tbody>\n",
              "</table>\n",
              "</div>"
            ],
            "text/plain": [
              "    productId  Sum_rating  score   Rank  Avg_Rating  Act_rating\n",
              "0  0972683275      3297.0    737  618.0    4.473541         5.0\n",
              "1  0972683275      3297.0    737  618.0    4.473541         4.0\n",
              "2  0972683275      3297.0    737  618.0    4.473541         5.0\n",
              "3  0972683275      3297.0    737  618.0    4.473541         5.0\n",
              "4  0972683275      3297.0    737  618.0    4.473541         5.0"
            ]
          },
          "metadata": {
            "tags": []
          },
          "execution_count": 45
        }
      ]
    },
    {
      "cell_type": "code",
      "metadata": {
        "id": "-D8G3hAeFu9e"
      },
      "source": [
        "#test_data_inner.reset_index()"
      ],
      "execution_count": 46,
      "outputs": []
    },
    {
      "cell_type": "code",
      "metadata": {
        "id": "5hflVN6yGMU3"
      },
      "source": [
        "#test_data_inner.drop(['index'],inplace=True,axis=1)"
      ],
      "execution_count": 47,
      "outputs": []
    },
    {
      "cell_type": "code",
      "metadata": {
        "id": "YOnW_KWDF49E",
        "outputId": "5615000a-940e-4234-a632-3d9ff5e840f8",
        "colab": {
          "base_uri": "https://localhost:8080/",
          "height": 204
        }
      },
      "source": [
        "#Now the merged data has both actual rating (Act_rating) and predicted rating (Avg_rating)\n",
        "#Now RMSE can be calculated\n",
        "test_data_inner.head()"
      ],
      "execution_count": 48,
      "outputs": [
        {
          "output_type": "execute_result",
          "data": {
            "text/html": [
              "<div>\n",
              "<style scoped>\n",
              "    .dataframe tbody tr th:only-of-type {\n",
              "        vertical-align: middle;\n",
              "    }\n",
              "\n",
              "    .dataframe tbody tr th {\n",
              "        vertical-align: top;\n",
              "    }\n",
              "\n",
              "    .dataframe thead th {\n",
              "        text-align: right;\n",
              "    }\n",
              "</style>\n",
              "<table border=\"1\" class=\"dataframe\">\n",
              "  <thead>\n",
              "    <tr style=\"text-align: right;\">\n",
              "      <th></th>\n",
              "      <th>productId</th>\n",
              "      <th>Sum_rating</th>\n",
              "      <th>score</th>\n",
              "      <th>Rank</th>\n",
              "      <th>Avg_Rating</th>\n",
              "      <th>Act_rating</th>\n",
              "    </tr>\n",
              "  </thead>\n",
              "  <tbody>\n",
              "    <tr>\n",
              "      <th>0</th>\n",
              "      <td>0972683275</td>\n",
              "      <td>3297.0</td>\n",
              "      <td>737</td>\n",
              "      <td>618.0</td>\n",
              "      <td>4.473541</td>\n",
              "      <td>5.0</td>\n",
              "    </tr>\n",
              "    <tr>\n",
              "      <th>1</th>\n",
              "      <td>0972683275</td>\n",
              "      <td>3297.0</td>\n",
              "      <td>737</td>\n",
              "      <td>618.0</td>\n",
              "      <td>4.473541</td>\n",
              "      <td>4.0</td>\n",
              "    </tr>\n",
              "    <tr>\n",
              "      <th>2</th>\n",
              "      <td>0972683275</td>\n",
              "      <td>3297.0</td>\n",
              "      <td>737</td>\n",
              "      <td>618.0</td>\n",
              "      <td>4.473541</td>\n",
              "      <td>5.0</td>\n",
              "    </tr>\n",
              "    <tr>\n",
              "      <th>3</th>\n",
              "      <td>0972683275</td>\n",
              "      <td>3297.0</td>\n",
              "      <td>737</td>\n",
              "      <td>618.0</td>\n",
              "      <td>4.473541</td>\n",
              "      <td>5.0</td>\n",
              "    </tr>\n",
              "    <tr>\n",
              "      <th>4</th>\n",
              "      <td>0972683275</td>\n",
              "      <td>3297.0</td>\n",
              "      <td>737</td>\n",
              "      <td>618.0</td>\n",
              "      <td>4.473541</td>\n",
              "      <td>5.0</td>\n",
              "    </tr>\n",
              "  </tbody>\n",
              "</table>\n",
              "</div>"
            ],
            "text/plain": [
              "    productId  Sum_rating  score   Rank  Avg_Rating  Act_rating\n",
              "0  0972683275      3297.0    737  618.0    4.473541         5.0\n",
              "1  0972683275      3297.0    737  618.0    4.473541         4.0\n",
              "2  0972683275      3297.0    737  618.0    4.473541         5.0\n",
              "3  0972683275      3297.0    737  618.0    4.473541         5.0\n",
              "4  0972683275      3297.0    737  618.0    4.473541         5.0"
            ]
          },
          "metadata": {
            "tags": []
          },
          "execution_count": 48
        }
      ]
    },
    {
      "cell_type": "code",
      "metadata": {
        "id": "0P9_e1iO45ep",
        "outputId": "7095bb93-62d0-48d8-abea-50bd837bb857",
        "colab": {
          "base_uri": "https://localhost:8080/",
          "height": 34
        }
      },
      "source": [
        "#RMSE for popularity based recommender system is 1.27\n",
        "mse = mean_squared_error(test_data_inner[\"Act_rating\"], test_data_inner[\"Avg_Rating\"])\n",
        "rmse = math.sqrt(mse)\n",
        "print(\"RMSE for popularity based recommendation system:\", rmse)"
      ],
      "execution_count": 49,
      "outputs": [
        {
          "output_type": "stream",
          "text": [
            "RMSE for popularity based recommendation system: 1.2709033917453134\n"
          ],
          "name": "stdout"
        }
      ]
    },
    {
      "cell_type": "code",
      "metadata": {
        "id": "D3xqNPRk9OUU"
      },
      "source": [
        ""
      ],
      "execution_count": 49,
      "outputs": []
    },
    {
      "cell_type": "code",
      "metadata": {
        "id": "fqUQ_Uklq00D",
        "outputId": "2103c1a9-82c3-4cf0-e2a7-93116f44f78f",
        "colab": {
          "base_uri": "https://localhost:8080/",
          "height": 136
        }
      },
      "source": [
        "#Average rating of the product across users\n",
        "new_df.groupby('productId')['Rating'].mean().head()"
      ],
      "execution_count": 50,
      "outputs": [
        {
          "output_type": "execute_result",
          "data": {
            "text/plain": [
              "productId\n",
              "0972683275    4.470980\n",
              "1400501466    3.560000\n",
              "1400501520    4.243902\n",
              "1400501776    3.884892\n",
              "1400532620    3.684211\n",
              "Name: Rating, dtype: float64"
            ]
          },
          "metadata": {
            "tags": []
          },
          "execution_count": 50
        }
      ]
    },
    {
      "cell_type": "code",
      "metadata": {
        "id": "S11TypiKEHJA",
        "outputId": "11c064d8-3fe5-404a-f68f-a02331081304",
        "colab": {
          "base_uri": "https://localhost:8080/",
          "height": 136
        }
      },
      "source": [
        "new_df.groupby('productId')['Rating'].mean().sort_values(ascending=False).head()"
      ],
      "execution_count": 51,
      "outputs": [
        {
          "output_type": "execute_result",
          "data": {
            "text/plain": [
              "productId\n",
              "B002E6R7NG    4.980392\n",
              "B004I763AW    4.966667\n",
              "B003J9QQWU    4.964286\n",
              "B0043ZLFXE    4.955556\n",
              "B000TMFYBO    4.953125\n",
              "Name: Rating, dtype: float64"
            ]
          },
          "metadata": {
            "tags": []
          },
          "execution_count": 51
        }
      ]
    },
    {
      "cell_type": "code",
      "metadata": {
        "id": "cYPC97v6EQxZ",
        "outputId": "37fa9bf6-ba45-402e-a12d-ed023bc41289",
        "colab": {
          "base_uri": "https://localhost:8080/",
          "height": 136
        }
      },
      "source": [
        "#Total no of rating for product\n",
        "new_df.groupby('productId')['Rating'].count().sort_values(ascending=False).head()"
      ],
      "execution_count": 52,
      "outputs": [
        {
          "output_type": "execute_result",
          "data": {
            "text/plain": [
              "productId\n",
              "B0074BW614    18244\n",
              "B00DR0PDNE    16454\n",
              "B007WTAJTO    14172\n",
              "B0019EHU8G    12285\n",
              "B006GWO5WK    12226\n",
              "Name: Rating, dtype: int64"
            ]
          },
          "metadata": {
            "tags": []
          },
          "execution_count": 52
        }
      ]
    },
    {
      "cell_type": "code",
      "metadata": {
        "id": "9vW72p81IZ83"
      },
      "source": [
        "ratings_mean_count = pd.DataFrame(new_df.groupby('productId')['Rating'].mean())"
      ],
      "execution_count": 53,
      "outputs": []
    },
    {
      "cell_type": "code",
      "metadata": {
        "id": "dg_3uT76Ilex"
      },
      "source": [
        "ratings_mean_count['rating_counts'] = pd.DataFrame(new_df.groupby('productId')['Rating'].count())"
      ],
      "execution_count": 54,
      "outputs": []
    },
    {
      "cell_type": "code",
      "metadata": {
        "id": "mQeUMraPIulN",
        "outputId": "b0f57204-a5ed-4a42-f5dc-c1eab8f0c6c6",
        "colab": {
          "base_uri": "https://localhost:8080/",
          "height": 235
        }
      },
      "source": [
        "ratings_mean_count.head()"
      ],
      "execution_count": 55,
      "outputs": [
        {
          "output_type": "execute_result",
          "data": {
            "text/html": [
              "<div>\n",
              "<style scoped>\n",
              "    .dataframe tbody tr th:only-of-type {\n",
              "        vertical-align: middle;\n",
              "    }\n",
              "\n",
              "    .dataframe tbody tr th {\n",
              "        vertical-align: top;\n",
              "    }\n",
              "\n",
              "    .dataframe thead th {\n",
              "        text-align: right;\n",
              "    }\n",
              "</style>\n",
              "<table border=\"1\" class=\"dataframe\">\n",
              "  <thead>\n",
              "    <tr style=\"text-align: right;\">\n",
              "      <th></th>\n",
              "      <th>Rating</th>\n",
              "      <th>rating_counts</th>\n",
              "    </tr>\n",
              "    <tr>\n",
              "      <th>productId</th>\n",
              "      <th></th>\n",
              "      <th></th>\n",
              "    </tr>\n",
              "  </thead>\n",
              "  <tbody>\n",
              "    <tr>\n",
              "      <th>0972683275</th>\n",
              "      <td>4.470980</td>\n",
              "      <td>1051</td>\n",
              "    </tr>\n",
              "    <tr>\n",
              "      <th>1400501466</th>\n",
              "      <td>3.560000</td>\n",
              "      <td>250</td>\n",
              "    </tr>\n",
              "    <tr>\n",
              "      <th>1400501520</th>\n",
              "      <td>4.243902</td>\n",
              "      <td>82</td>\n",
              "    </tr>\n",
              "    <tr>\n",
              "      <th>1400501776</th>\n",
              "      <td>3.884892</td>\n",
              "      <td>139</td>\n",
              "    </tr>\n",
              "    <tr>\n",
              "      <th>1400532620</th>\n",
              "      <td>3.684211</td>\n",
              "      <td>171</td>\n",
              "    </tr>\n",
              "  </tbody>\n",
              "</table>\n",
              "</div>"
            ],
            "text/plain": [
              "              Rating  rating_counts\n",
              "productId                          \n",
              "0972683275  4.470980           1051\n",
              "1400501466  3.560000            250\n",
              "1400501520  4.243902             82\n",
              "1400501776  3.884892            139\n",
              "1400532620  3.684211            171"
            ]
          },
          "metadata": {
            "tags": []
          },
          "execution_count": 55
        }
      ]
    },
    {
      "cell_type": "code",
      "metadata": {
        "id": "apuxPn4TI9Nu",
        "outputId": "431ab541-585c-4253-f516-8cbf9d86cc7a",
        "colab": {
          "base_uri": "https://localhost:8080/",
          "height": 34
        }
      },
      "source": [
        "ratings_mean_count['rating_counts'].max()"
      ],
      "execution_count": 56,
      "outputs": [
        {
          "output_type": "execute_result",
          "data": {
            "text/plain": [
              "18244"
            ]
          },
          "metadata": {
            "tags": []
          },
          "execution_count": 56
        }
      ]
    },
    {
      "cell_type": "code",
      "metadata": {
        "id": "xB5sHr9YJ1X5",
        "outputId": "8d6f52e1-b66f-430f-893a-0eb2b94c016e",
        "colab": {
          "base_uri": "https://localhost:8080/",
          "height": 391
        }
      },
      "source": [
        "plt.figure(figsize=(8,6))\n",
        "#plt.rcParams['patch.force_edgecolor'] = True\n",
        "ratings_mean_count['rating_counts'].hist(bins=100)"
      ],
      "execution_count": 57,
      "outputs": [
        {
          "output_type": "execute_result",
          "data": {
            "text/plain": [
              "<matplotlib.axes._subplots.AxesSubplot at 0x7ff51d68a780>"
            ]
          },
          "metadata": {
            "tags": []
          },
          "execution_count": 57
        },
        {
          "output_type": "display_data",
          "data": {
            "image/png": "[encoded data removed]",
            "text/plain": [
              "<Figure size 576x432 with 1 Axes>"
            ]
          },
          "metadata": {
            "tags": [],
            "needs_background": "light"
          }
        }
      ]
    },
    {
      "cell_type": "code",
      "metadata": {
        "id": "yWVVqrFeK-3Z",
        "outputId": "44ba8a04-5d91-4030-9e6b-fe83d3a60a58",
        "colab": {
          "base_uri": "https://localhost:8080/",
          "height": 391
        }
      },
      "source": [
        "#We see a left skewed distribution for the ratings\n",
        "plt.figure(figsize=(8,6))\n",
        "plt.rcParams['patch.force_edgecolor'] = True\n",
        "ratings_mean_count['Rating'].hist(bins=100)"
      ],
      "execution_count": 58,
      "outputs": [
        {
          "output_type": "execute_result",
          "data": {
            "text/plain": [
              "<matplotlib.axes._subplots.AxesSubplot at 0x7ff51bcdd198>"
            ]
          },
          "metadata": {
            "tags": []
          },
          "execution_count": 58
        },
        {
          "output_type": "display_data",
          "data": {
            "image/png": "[encoded data removed]",
            "text/plain": [
              "<Figure size 576x432 with 1 Axes>"
            ]
          },
          "metadata": {
            "tags": [],
            "needs_background": "light"
          }
        }
      ]
    },
    {
      "cell_type": "code",
      "metadata": {
        "id": "JE8i8qcAM2GJ",
        "outputId": "ce002427-6673-4cdf-e723-a2c842dfdd9f",
        "colab": {
          "base_uri": "https://localhost:8080/",
          "height": 475
        }
      },
      "source": [
        "#From the joint plot below it seems that popular products (higher ratings) tend to be rated more frequently\n",
        "#To make people more engaged (bottom of the chart) we can start by recommending them based on popularity based system and then\n",
        "#slowly graduate them to collaborative system once we have sufficient number of data points to giver personlized recommendation\n",
        "plt.figure(figsize=(8,6))\n",
        "plt.rcParams['patch.force_edgecolor'] = True\n",
        "sns.jointplot(x='Rating', y='rating_counts', data=ratings_mean_count, alpha=0.4)"
      ],
      "execution_count": 59,
      "outputs": [
        {
          "output_type": "execute_result",
          "data": {
            "text/plain": [
              "<seaborn.axisgrid.JointGrid at 0x7ff51bcddac8>"
            ]
          },
          "metadata": {
            "tags": []
          },
          "execution_count": 59
        },
        {
          "output_type": "display_data",
          "data": {
            "text/plain": [
              "<Figure size 576x432 with 0 Axes>"
            ]
          },
          "metadata": {
            "tags": []
          }
        },
        {
          "output_type": "display_data",
          "data": {
            "image/png": "[encoded data removed]",
            "text/plain": [
              "<Figure size 432x432 with 3 Axes>"
            ]
          },
          "metadata": {
            "tags": [],
            "needs_background": "light"
          }
        }
      ]
    },
    {
      "cell_type": "code",
      "metadata": {
        "id": "mg3MaIxTNwhL",
        "outputId": "f3c65f7e-736f-48b2-f632-db7e76bdeabe",
        "colab": {
          "base_uri": "https://localhost:8080/",
          "height": 360
        }
      },
      "source": [
        "#Below is the bar graph showing product list of top 30 most popular products\n",
        "popular_products = pd.DataFrame(new_df.groupby('productId')['Rating'].count())\n",
        "most_popular = popular_products.sort_values('Rating', ascending=False)\n",
        "most_popular.head(30).plot(kind = \"bar\")"
      ],
      "execution_count": 60,
      "outputs": [
        {
          "output_type": "execute_result",
          "data": {
            "text/plain": [
              "<matplotlib.axes._subplots.AxesSubplot at 0x7ff519b42f28>"
            ]
          },
          "metadata": {
            "tags": []
          },
          "execution_count": 60
        },
        {
          "output_type": "display_data",
          "data": {
            "image/png": "[encoded data removed]",
            "text/plain": [
              "<Figure size 432x288 with 1 Axes>"
            ]
          },
          "metadata": {
            "tags": [],
            "needs_background": "light"
          }
        }
      ]
    },
    {
      "cell_type": "code",
      "metadata": {
        "id": "ix05fktgO23M",
        "outputId": "03830a4c-e483-43e1-8f36-256fac24ffeb",
        "colab": {
          "base_uri": "https://localhost:8080/",
          "height": 119
        }
      },
      "source": [
        "#Install surprise package for collaborative filtering\n",
        "!pip install surprise"
      ],
      "execution_count": 61,
      "outputs": [
        {
          "output_type": "stream",
          "text": [
            "Requirement already satisfied: surprise in /usr/local/lib/python3.6/dist-packages (0.1)\n",
            "Requirement already satisfied: scikit-surprise in /usr/local/lib/python3.6/dist-packages (from surprise) (1.1.1)\n",
            "Requirement already satisfied: scipy>=1.0.0 in /usr/local/lib/python3.6/dist-packages (from scikit-surprise->surprise) (1.4.1)\n",
            "Requirement already satisfied: numpy>=1.11.2 in /usr/local/lib/python3.6/dist-packages (from scikit-surprise->surprise) (1.18.5)\n",
            "Requirement already satisfied: six>=1.10.0 in /usr/local/lib/python3.6/dist-packages (from scikit-surprise->surprise) (1.15.0)\n",
            "Requirement already satisfied: joblib>=0.11 in /usr/local/lib/python3.6/dist-packages (from scikit-surprise->surprise) (0.16.0)\n"
          ],
          "name": "stdout"
        }
      ]
    },
    {
      "cell_type": "code",
      "metadata": {
        "id": "Kf_ds49cOjx6"
      },
      "source": [
        "#Import all the relevant libraries from surprise package\n",
        "from surprise import KNNWithMeans\n",
        "from surprise import Dataset\n",
        "from surprise import accuracy\n",
        "from surprise import Reader\n",
        "import os\n",
        "from surprise.model_selection import train_test_split as tts"
      ],
      "execution_count": 62,
      "outputs": []
    },
    {
      "cell_type": "code",
      "metadata": {
        "id": "DfwURwIuHVi-",
        "outputId": "2883c3f1-1c3d-4bc9-daac-a76e32ead0bd",
        "colab": {
          "base_uri": "https://localhost:8080/",
          "height": 34
        }
      },
      "source": [
        "ratings.shape"
      ],
      "execution_count": 63,
      "outputs": [
        {
          "output_type": "execute_result",
          "data": {
            "text/plain": [
              "(7824482, 3)"
            ]
          },
          "metadata": {
            "tags": []
          },
          "execution_count": 63
        }
      ]
    },
    {
      "cell_type": "code",
      "metadata": {
        "id": "lGi3kydUkM2m"
      },
      "source": [
        "#Getting the new dataframe which contains products which has 50 or more ratings\n",
        "new_df2=ratings.groupby(\"userId\").filter(lambda x:x['Rating'].count() > 50)"
      ],
      "execution_count": 64,
      "outputs": []
    },
    {
      "cell_type": "code",
      "metadata": {
        "id": "8nMJ4LfVlU9g",
        "outputId": "c9383231-4dcc-4959-ab71-3d039e9c1570",
        "colab": {
          "base_uri": "https://localhost:8080/",
          "height": 34
        }
      },
      "source": [
        "#We have 122K products which have more than 50 ratings\n",
        "new_df2.shape"
      ],
      "execution_count": 65,
      "outputs": [
        {
          "output_type": "execute_result",
          "data": {
            "text/plain": [
              "(122171, 3)"
            ]
          },
          "metadata": {
            "tags": []
          },
          "execution_count": 65
        }
      ]
    },
    {
      "cell_type": "code",
      "metadata": {
        "id": "LDDGNdoOmdVv",
        "outputId": "40238b21-6f75-4c4b-9e38-1d3f6f2ccb40",
        "colab": {
          "base_uri": "https://localhost:8080/",
          "height": 204
        }
      },
      "source": [
        "new_df2.head()"
      ],
      "execution_count": 66,
      "outputs": [
        {
          "output_type": "execute_result",
          "data": {
            "text/html": [
              "<div>\n",
              "<style scoped>\n",
              "    .dataframe tbody tr th:only-of-type {\n",
              "        vertical-align: middle;\n",
              "    }\n",
              "\n",
              "    .dataframe tbody tr th {\n",
              "        vertical-align: top;\n",
              "    }\n",
              "\n",
              "    .dataframe thead th {\n",
              "        text-align: right;\n",
              "    }\n",
              "</style>\n",
              "<table border=\"1\" class=\"dataframe\">\n",
              "  <thead>\n",
              "    <tr style=\"text-align: right;\">\n",
              "      <th></th>\n",
              "      <th>userId</th>\n",
              "      <th>productId</th>\n",
              "      <th>Rating</th>\n",
              "    </tr>\n",
              "  </thead>\n",
              "  <tbody>\n",
              "    <tr>\n",
              "      <th>118</th>\n",
              "      <td>AT09WGFUM934H</td>\n",
              "      <td>0594481813</td>\n",
              "      <td>3.0</td>\n",
              "    </tr>\n",
              "    <tr>\n",
              "      <th>177</th>\n",
              "      <td>A32HSNCNPRUMTR</td>\n",
              "      <td>0970407998</td>\n",
              "      <td>1.0</td>\n",
              "    </tr>\n",
              "    <tr>\n",
              "      <th>178</th>\n",
              "      <td>A17HMM1M7T9PJ1</td>\n",
              "      <td>0970407998</td>\n",
              "      <td>4.0</td>\n",
              "    </tr>\n",
              "    <tr>\n",
              "      <th>492</th>\n",
              "      <td>A3CLWR1UUZT6TG</td>\n",
              "      <td>0972683275</td>\n",
              "      <td>5.0</td>\n",
              "    </tr>\n",
              "    <tr>\n",
              "      <th>631</th>\n",
              "      <td>A3TAS1AG6FMBQW</td>\n",
              "      <td>0972683275</td>\n",
              "      <td>5.0</td>\n",
              "    </tr>\n",
              "  </tbody>\n",
              "</table>\n",
              "</div>"
            ],
            "text/plain": [
              "             userId   productId  Rating\n",
              "118   AT09WGFUM934H  0594481813     3.0\n",
              "177  A32HSNCNPRUMTR  0970407998     1.0\n",
              "178  A17HMM1M7T9PJ1  0970407998     4.0\n",
              "492  A3CLWR1UUZT6TG  0972683275     5.0\n",
              "631  A3TAS1AG6FMBQW  0972683275     5.0"
            ]
          },
          "metadata": {
            "tags": []
          },
          "execution_count": 66
        }
      ]
    },
    {
      "cell_type": "code",
      "metadata": {
        "id": "eldpVIb5L8Ft"
      },
      "source": [
        "#Getting the new dataframe which contains users who have given 50 or more ratings\n",
        "new_df3=ratings.groupby(\"productId\").filter(lambda x:x['Rating'].count() > 50)"
      ],
      "execution_count": 67,
      "outputs": []
    },
    {
      "cell_type": "code",
      "metadata": {
        "id": "yuAFmfKTMSsc",
        "outputId": "ba6d224d-214c-424b-c15b-f5c052f5f682",
        "colab": {
          "base_uri": "https://localhost:8080/",
          "height": 204
        }
      },
      "source": [
        "new_df3.head()"
      ],
      "execution_count": 68,
      "outputs": [
        {
          "output_type": "execute_result",
          "data": {
            "text/html": [
              "<div>\n",
              "<style scoped>\n",
              "    .dataframe tbody tr th:only-of-type {\n",
              "        vertical-align: middle;\n",
              "    }\n",
              "\n",
              "    .dataframe tbody tr th {\n",
              "        vertical-align: top;\n",
              "    }\n",
              "\n",
              "    .dataframe thead th {\n",
              "        text-align: right;\n",
              "    }\n",
              "</style>\n",
              "<table border=\"1\" class=\"dataframe\">\n",
              "  <thead>\n",
              "    <tr style=\"text-align: right;\">\n",
              "      <th></th>\n",
              "      <th>userId</th>\n",
              "      <th>productId</th>\n",
              "      <th>Rating</th>\n",
              "    </tr>\n",
              "  </thead>\n",
              "  <tbody>\n",
              "    <tr>\n",
              "      <th>183</th>\n",
              "      <td>A1BKC6B7YHYTVV</td>\n",
              "      <td>0972683275</td>\n",
              "      <td>4.0</td>\n",
              "    </tr>\n",
              "    <tr>\n",
              "      <th>184</th>\n",
              "      <td>AWVFSIB42LHKJ</td>\n",
              "      <td>0972683275</td>\n",
              "      <td>4.0</td>\n",
              "    </tr>\n",
              "    <tr>\n",
              "      <th>185</th>\n",
              "      <td>A36MQBNADRH8YY</td>\n",
              "      <td>0972683275</td>\n",
              "      <td>5.0</td>\n",
              "    </tr>\n",
              "    <tr>\n",
              "      <th>186</th>\n",
              "      <td>A3SRXMPLAEZ6DP</td>\n",
              "      <td>0972683275</td>\n",
              "      <td>4.0</td>\n",
              "    </tr>\n",
              "    <tr>\n",
              "      <th>187</th>\n",
              "      <td>A20XXTXWF2TCPY</td>\n",
              "      <td>0972683275</td>\n",
              "      <td>5.0</td>\n",
              "    </tr>\n",
              "  </tbody>\n",
              "</table>\n",
              "</div>"
            ],
            "text/plain": [
              "             userId   productId  Rating\n",
              "183  A1BKC6B7YHYTVV  0972683275     4.0\n",
              "184   AWVFSIB42LHKJ  0972683275     4.0\n",
              "185  A36MQBNADRH8YY  0972683275     5.0\n",
              "186  A3SRXMPLAEZ6DP  0972683275     4.0\n",
              "187  A20XXTXWF2TCPY  0972683275     5.0"
            ]
          },
          "metadata": {
            "tags": []
          },
          "execution_count": 68
        }
      ]
    },
    {
      "cell_type": "code",
      "metadata": {
        "id": "Zpgu1E9TMov4",
        "outputId": "f97495de-bd0b-4fce-dc29-681027938f3b",
        "colab": {
          "base_uri": "https://localhost:8080/",
          "height": 34
        }
      },
      "source": [
        "#We have about 5.35MM users who have rated at least 50 or more products\n",
        "new_df3.shape"
      ],
      "execution_count": 69,
      "outputs": [
        {
          "output_type": "execute_result",
          "data": {
            "text/plain": [
              "(5350913, 3)"
            ]
          },
          "metadata": {
            "tags": []
          },
          "execution_count": 69
        }
      ]
    },
    {
      "cell_type": "code",
      "metadata": {
        "id": "6b5l_BwpMtF3"
      },
      "source": [
        "#Drop ratng before final merge\n",
        "new_df3.drop(['Rating'],inplace=True,axis=1)"
      ],
      "execution_count": 70,
      "outputs": []
    },
    {
      "cell_type": "code",
      "metadata": {
        "id": "BMedcyuTM98X"
      },
      "source": [
        "#Final dataset which has users who have rated at least 50 products and products that have been rated by atleast 50 users\n",
        "new_df4 = pd.merge(new_df2,new_df3)"
      ],
      "execution_count": 71,
      "outputs": []
    },
    {
      "cell_type": "code",
      "metadata": {
        "id": "czNxB3z1NJpZ",
        "outputId": "b10d1412-ade2-43cf-ef8c-7c7d09109aea",
        "colab": {
          "base_uri": "https://localhost:8080/",
          "height": 204
        }
      },
      "source": [
        "new_df4.head()"
      ],
      "execution_count": 72,
      "outputs": [
        {
          "output_type": "execute_result",
          "data": {
            "text/html": [
              "<div>\n",
              "<style scoped>\n",
              "    .dataframe tbody tr th:only-of-type {\n",
              "        vertical-align: middle;\n",
              "    }\n",
              "\n",
              "    .dataframe tbody tr th {\n",
              "        vertical-align: top;\n",
              "    }\n",
              "\n",
              "    .dataframe thead th {\n",
              "        text-align: right;\n",
              "    }\n",
              "</style>\n",
              "<table border=\"1\" class=\"dataframe\">\n",
              "  <thead>\n",
              "    <tr style=\"text-align: right;\">\n",
              "      <th></th>\n",
              "      <th>userId</th>\n",
              "      <th>productId</th>\n",
              "      <th>Rating</th>\n",
              "    </tr>\n",
              "  </thead>\n",
              "  <tbody>\n",
              "    <tr>\n",
              "      <th>0</th>\n",
              "      <td>A3CLWR1UUZT6TG</td>\n",
              "      <td>0972683275</td>\n",
              "      <td>5.0</td>\n",
              "    </tr>\n",
              "    <tr>\n",
              "      <th>1</th>\n",
              "      <td>A3TAS1AG6FMBQW</td>\n",
              "      <td>0972683275</td>\n",
              "      <td>5.0</td>\n",
              "    </tr>\n",
              "    <tr>\n",
              "      <th>2</th>\n",
              "      <td>A25RTRAPQAJBDJ</td>\n",
              "      <td>0972683275</td>\n",
              "      <td>5.0</td>\n",
              "    </tr>\n",
              "    <tr>\n",
              "      <th>3</th>\n",
              "      <td>A3LDPF5FMB782Z</td>\n",
              "      <td>1400501466</td>\n",
              "      <td>5.0</td>\n",
              "    </tr>\n",
              "    <tr>\n",
              "      <th>4</th>\n",
              "      <td>A1A5KUIIIHFF4U</td>\n",
              "      <td>1400501466</td>\n",
              "      <td>1.0</td>\n",
              "    </tr>\n",
              "  </tbody>\n",
              "</table>\n",
              "</div>"
            ],
            "text/plain": [
              "           userId   productId  Rating\n",
              "0  A3CLWR1UUZT6TG  0972683275     5.0\n",
              "1  A3TAS1AG6FMBQW  0972683275     5.0\n",
              "2  A25RTRAPQAJBDJ  0972683275     5.0\n",
              "3  A3LDPF5FMB782Z  1400501466     5.0\n",
              "4  A1A5KUIIIHFF4U  1400501466     1.0"
            ]
          },
          "metadata": {
            "tags": []
          },
          "execution_count": 72
        }
      ]
    },
    {
      "cell_type": "code",
      "metadata": {
        "id": "5BAPl9IFNQou",
        "outputId": "868f3749-e6a7-4fa7-bc63-da6018cd64ec",
        "colab": {
          "base_uri": "https://localhost:8080/",
          "height": 34
        }
      },
      "source": [
        "#The new dataset has about 76K rows and 3 columns\n",
        "#It is much easier to run KNN algorithm on this reduced dataset\n",
        "new_df4.shape"
      ],
      "execution_count": 73,
      "outputs": [
        {
          "output_type": "execute_result",
          "data": {
            "text/plain": [
              "(76359, 3)"
            ]
          },
          "metadata": {
            "tags": []
          },
          "execution_count": 73
        }
      ]
    },
    {
      "cell_type": "code",
      "metadata": {
        "id": "owTrP_4-rPez"
      },
      "source": [
        "#new_df4.rename(columns = {'raw_ratings':'Rating'}, inplace = True) "
      ],
      "execution_count": 74,
      "outputs": []
    },
    {
      "cell_type": "code",
      "metadata": {
        "id": "wFu_FoQ5sLaO",
        "outputId": "791b86be-4ea8-49b7-fa2b-1c6e6a3c275c",
        "colab": {
          "base_uri": "https://localhost:8080/",
          "height": 204
        }
      },
      "source": [
        "new_df4.head()"
      ],
      "execution_count": 75,
      "outputs": [
        {
          "output_type": "execute_result",
          "data": {
            "text/html": [
              "<div>\n",
              "<style scoped>\n",
              "    .dataframe tbody tr th:only-of-type {\n",
              "        vertical-align: middle;\n",
              "    }\n",
              "\n",
              "    .dataframe tbody tr th {\n",
              "        vertical-align: top;\n",
              "    }\n",
              "\n",
              "    .dataframe thead th {\n",
              "        text-align: right;\n",
              "    }\n",
              "</style>\n",
              "<table border=\"1\" class=\"dataframe\">\n",
              "  <thead>\n",
              "    <tr style=\"text-align: right;\">\n",
              "      <th></th>\n",
              "      <th>userId</th>\n",
              "      <th>productId</th>\n",
              "      <th>Rating</th>\n",
              "    </tr>\n",
              "  </thead>\n",
              "  <tbody>\n",
              "    <tr>\n",
              "      <th>0</th>\n",
              "      <td>A3CLWR1UUZT6TG</td>\n",
              "      <td>0972683275</td>\n",
              "      <td>5.0</td>\n",
              "    </tr>\n",
              "    <tr>\n",
              "      <th>1</th>\n",
              "      <td>A3TAS1AG6FMBQW</td>\n",
              "      <td>0972683275</td>\n",
              "      <td>5.0</td>\n",
              "    </tr>\n",
              "    <tr>\n",
              "      <th>2</th>\n",
              "      <td>A25RTRAPQAJBDJ</td>\n",
              "      <td>0972683275</td>\n",
              "      <td>5.0</td>\n",
              "    </tr>\n",
              "    <tr>\n",
              "      <th>3</th>\n",
              "      <td>A3LDPF5FMB782Z</td>\n",
              "      <td>1400501466</td>\n",
              "      <td>5.0</td>\n",
              "    </tr>\n",
              "    <tr>\n",
              "      <th>4</th>\n",
              "      <td>A1A5KUIIIHFF4U</td>\n",
              "      <td>1400501466</td>\n",
              "      <td>1.0</td>\n",
              "    </tr>\n",
              "  </tbody>\n",
              "</table>\n",
              "</div>"
            ],
            "text/plain": [
              "           userId   productId  Rating\n",
              "0  A3CLWR1UUZT6TG  0972683275     5.0\n",
              "1  A3TAS1AG6FMBQW  0972683275     5.0\n",
              "2  A25RTRAPQAJBDJ  0972683275     5.0\n",
              "3  A3LDPF5FMB782Z  1400501466     5.0\n",
              "4  A1A5KUIIIHFF4U  1400501466     1.0"
            ]
          },
          "metadata": {
            "tags": []
          },
          "execution_count": 75
        }
      ]
    },
    {
      "cell_type": "code",
      "metadata": {
        "id": "ao1EUKsaPfaz"
      },
      "source": [
        "#Reading the dataset\n",
        "from sklearn.model_selection import train_test_split\n",
        "reader = Reader(rating_scale=(1, 5))\n",
        "data = Dataset.load_from_df(new_df4,reader)\n",
        "#train_data, test_data = train_test_split(new_df4, test_size = 0.30, random_state=0)\n",
        "#data_train = Dataset.load_from_df(train_data,reader)\n",
        "#data_test = Dataset.load_from_df(test_data,reader)"
      ],
      "execution_count": 76,
      "outputs": []
    },
    {
      "cell_type": "code",
      "metadata": {
        "id": "_FAkPxJiuvOb"
      },
      "source": [
        "#Split the data here only into 70% and 30%"
      ],
      "execution_count": 77,
      "outputs": []
    },
    {
      "cell_type": "code",
      "metadata": {
        "id": "sp09xvEbPsCG"
      },
      "source": [
        "#Splitting the dataset into 70% train and 30% test data\n",
        "trainset, testset = tts(data, test_size=0.3,random_state=0)"
      ],
      "execution_count": 78,
      "outputs": []
    },
    {
      "cell_type": "code",
      "metadata": {
        "id": "USWAdyWL8Y_Z",
        "outputId": "3a98fb63-2f8f-4cbb-e1de-de6759950fca",
        "colab": {
          "base_uri": "https://localhost:8080/",
          "height": 85
        }
      },
      "source": [
        "# Use user_based true/false to switch between user-based or item-based collaborative filtering\n",
        "# For item-based we give user_based argument as false\n",
        "algo = KNNWithMeans(k=5, sim_options={'name': 'pearson_baseline', 'user_based': False})\n",
        "algo.fit(trainset)"
      ],
      "execution_count": 79,
      "outputs": [
        {
          "output_type": "stream",
          "text": [
            "Estimating biases using als...\n",
            "Computing the pearson_baseline similarity matrix...\n",
            "Done computing similarity matrix.\n"
          ],
          "name": "stdout"
        },
        {
          "output_type": "execute_result",
          "data": {
            "text/plain": [
              "<surprise.prediction_algorithms.knns.KNNWithMeans at 0x7ff51a2cc2b0>"
            ]
          },
          "metadata": {
            "tags": []
          },
          "execution_count": 79
        }
      ]
    },
    {
      "cell_type": "code",
      "metadata": {
        "id": "og8cg2HF8kgA"
      },
      "source": [
        "# run the trained model against the testset\n",
        "test_pred = algo.test(testset)"
      ],
      "execution_count": 80,
      "outputs": []
    },
    {
      "cell_type": "code",
      "metadata": {
        "id": "yV28FR5V8pTs",
        "outputId": "8b2a1b8d-a9da-4f64-90ba-a31704de4ef1",
        "colab": {
          "base_uri": "https://localhost:8080/",
          "height": 1000
        }
      },
      "source": [
        "test_pred"
      ],
      "execution_count": 81,
      "outputs": [
        {
          "output_type": "execute_result",
          "data": {
            "text/plain": [
              "[Prediction(uid='A1VQBEW0G4IH1J', iid='B0028LK6IU', r_ui=5.0, est=5, details={'actual_k': 0, 'was_impossible': False}),\n",
              " Prediction(uid='A3OXHLG6DIBRW8', iid='B00ECERI32', r_ui=2.0, est=3.857142857142857, details={'actual_k': 0, 'was_impossible': False}),\n",
              " Prediction(uid='ADLVFFE4VBT8', iid='B004SD2562', r_ui=3.0, est=2.25, details={'actual_k': 0, 'was_impossible': False}),\n",
              " Prediction(uid='A1EH2S92FHWZRP', iid='B002VPE1XY', r_ui=5.0, est=4.080534535765993, details={'actual_k': 2, 'was_impossible': False}),\n",
              " Prediction(uid='A1PAGHECG401K1', iid='B003ZTWYXY', r_ui=4.0, est=5, details={'actual_k': 0, 'was_impossible': False}),\n",
              " Prediction(uid='AD0J5KK4WQXNS', iid='B000HAR8UI', r_ui=5.0, est=4.333333333333333, details={'actual_k': 0, 'was_impossible': False}),\n",
              " Prediction(uid='A231WM2Z2JL0U3', iid='B0000658CH', r_ui=5.0, est=3.0, details={'actual_k': 0, 'was_impossible': False}),\n",
              " Prediction(uid='A26KXNN6H1IL0I', iid='B003E2VLYA', r_ui=5.0, est=4.298160932442798, details={'was_impossible': True, 'reason': 'User and/or item is unknown.'}),\n",
              " Prediction(uid='A3JU990UTN5RQP', iid='B007PYY8K2', r_ui=5.0, est=4.298160932442798, details={'was_impossible': True, 'reason': 'User and/or item is unknown.'}),\n",
              " Prediction(uid='A105TOJ6LTVMBG', iid='B0027EMHM6', r_ui=2.0, est=4.666666666666667, details={'actual_k': 0, 'was_impossible': False}),\n",
              " Prediction(uid='A25WJCAP606YMP', iid='B0006Q3B2W', r_ui=5.0, est=5, details={'actual_k': 0, 'was_impossible': False}),\n",
              " Prediction(uid='A1TDR7Y90SVCHL', iid='B003SX0O2K', r_ui=5.0, est=5, details={'actual_k': 0, 'was_impossible': False}),\n",
              " Prediction(uid='A3Q4TYJVAM4IRM', iid='B000AZ57M6', r_ui=5.0, est=4.548391438294164, details={'actual_k': 2, 'was_impossible': False}),\n",
              " Prediction(uid='ARBKYIVNYWK3C', iid='B0019M6GP6', r_ui=5.0, est=5, details={'actual_k': 0, 'was_impossible': False}),\n",
              " Prediction(uid='ATZJNEXX7LWD3', iid='B00EMB4LU8', r_ui=3.0, est=3.615991141692545, details={'actual_k': 2, 'was_impossible': False}),\n",
              " Prediction(uid='A17BUUBOU0598B', iid='B0013FW8XS', r_ui=4.0, est=3.8319370338368075, details={'actual_k': 3, 'was_impossible': False}),\n",
              " Prediction(uid='ANYC38I00IRVK', iid='B007BK42ME', r_ui=4.0, est=4.298160932442798, details={'was_impossible': True, 'reason': 'User and/or item is unknown.'}),\n",
              " Prediction(uid='ARBKYIVNYWK3C', iid='B00E3W15P0', r_ui=5.0, est=4.097259076731292, details={'actual_k': 5, 'was_impossible': False}),\n",
              " Prediction(uid='AN9CP6J4JF91X', iid='B006ZW4HY2', r_ui=5.0, est=4.5, details={'actual_k': 0, 'was_impossible': False}),\n",
              " Prediction(uid='A1TQZUSOU22E9M', iid='B002WN30IM', r_ui=4.0, est=4.0, details={'actual_k': 0, 'was_impossible': False}),\n",
              " Prediction(uid='A1ILWPH1GHUXE2', iid='B004J8HWHI', r_ui=3.0, est=3.4333333333333327, details={'actual_k': 1, 'was_impossible': False}),\n",
              " Prediction(uid='A3TP31S61PPE3G', iid='B009SYZ8OC', r_ui=5.0, est=5, details={'actual_k': 5, 'was_impossible': False}),\n",
              " Prediction(uid='A54S9CIUV5VNB', iid='B00F19Q7YI', r_ui=3.0, est=5, details={'actual_k': 0, 'was_impossible': False}),\n",
              " Prediction(uid='A141OPVE376YFI', iid='B000233WJ6', r_ui=5.0, est=4.4, details={'actual_k': 0, 'was_impossible': False}),\n",
              " Prediction(uid='AS8C336DDLSO4', iid='B001O94GNS', r_ui=3.0, est=4.625, details={'actual_k': 0, 'was_impossible': False}),\n",
              " Prediction(uid='A3GFQHHVMEAIO', iid='B001MXON98', r_ui=2.0, est=4.298160932442798, details={'was_impossible': True, 'reason': 'User and/or item is unknown.'}),\n",
              " Prediction(uid='A3N4I2KRSMACW8', iid='B006SOLITY', r_ui=5.0, est=4.0, details={'actual_k': 0, 'was_impossible': False}),\n",
              " Prediction(uid='A2WXURU33RBGQS', iid='B001C48HTO', r_ui=4.0, est=4.666666666666667, details={'actual_k': 0, 'was_impossible': False}),\n",
              " Prediction(uid='AGEWOMQ90BV8R', iid='B00BQ4F9ZA', r_ui=4.0, est=4.954545454545454, details={'actual_k': 0, 'was_impossible': False}),\n",
              " Prediction(uid='A3W4D8XOGLWUN5', iid='B005GS3C9C', r_ui=4.0, est=4.298160932442798, details={'was_impossible': True, 'reason': 'User and/or item is unknown.'}),\n",
              " Prediction(uid='A3JU16JTNLVK1J', iid='B000Y16TY6', r_ui=5.0, est=5, details={'actual_k': 0, 'was_impossible': False}),\n",
              " Prediction(uid='A3VBZDYGHF4NK8', iid='B00DQZPCTA', r_ui=5.0, est=4.972753455507394, details={'actual_k': 3, 'was_impossible': False}),\n",
              " Prediction(uid='A1PN2U0AWXGVML', iid='B000VXKD8K', r_ui=3.0, est=3.6666666666666665, details={'actual_k': 0, 'was_impossible': False}),\n",
              " Prediction(uid='A3B20R4ZAH0Y2Y', iid='B0078SAIUY', r_ui=4.0, est=4.0, details={'actual_k': 0, 'was_impossible': False}),\n",
              " Prediction(uid='A6FIAB28IS79', iid='B000OTF6G0', r_ui=5.0, est=4.0, details={'actual_k': 0, 'was_impossible': False}),\n",
              " Prediction(uid='A2WB7LZ595CR50', iid='B00BQ4F9ZA', r_ui=5.0, est=5, details={'actual_k': 5, 'was_impossible': False}),\n",
              " Prediction(uid='A2VH0UT5EQFB6P', iid='B005OB1TU0', r_ui=4.0, est=4.8, details={'actual_k': 0, 'was_impossible': False}),\n",
              " Prediction(uid='ATZJNEXX7LWD3', iid='B0031RG29M', r_ui=3.0, est=4.75, details={'actual_k': 0, 'was_impossible': False}),\n",
              " Prediction(uid='A38KK0SZYEH5UD', iid='B000VJX7DW', r_ui=5.0, est=5, details={'actual_k': 2, 'was_impossible': False}),\n",
              " Prediction(uid='A2LF07KCXDR70D', iid='B00006JPDI', r_ui=5.0, est=5, details={'actual_k': 0, 'was_impossible': False}),\n",
              " Prediction(uid='A34CSXOGVYF94S', iid='B00CJRZ31S', r_ui=4.0, est=4.0256410256410255, details={'actual_k': 1, 'was_impossible': False}),\n",
              " Prediction(uid='A11FX8HL2ANK6T', iid='B0048IW030', r_ui=5.0, est=1.8611111111111107, details={'actual_k': 1, 'was_impossible': False}),\n",
              " Prediction(uid='A2NX6PABLIJLP1', iid='B000EVT0XS', r_ui=5.0, est=5, details={'actual_k': 0, 'was_impossible': False}),\n",
              " Prediction(uid='A1CMD08Z49PGKQ', iid='B002LK2QJK', r_ui=5.0, est=5, details={'actual_k': 0, 'was_impossible': False}),\n",
              " Prediction(uid='A35A2RWUMC737N', iid='B000BSN4UY', r_ui=5.0, est=4.777777777777778, details={'actual_k': 0, 'was_impossible': False}),\n",
              " Prediction(uid='A2GMZZ6TDYOHY7', iid='B007NZGPAY', r_ui=5.0, est=4.5, details={'actual_k': 0, 'was_impossible': False}),\n",
              " Prediction(uid='A2V0I904FH7ABY', iid='B002R5AM7C', r_ui=5.0, est=4.431122983336767, details={'actual_k': 5, 'was_impossible': False}),\n",
              " Prediction(uid='AUCIFMWP3DU8R', iid='B004Z0S7K6', r_ui=2.0, est=2.337142857142857, details={'actual_k': 1, 'was_impossible': False}),\n",
              " Prediction(uid='A1OMXVXXP07F05', iid='B005QCDY50', r_ui=4.0, est=3.456973009198849, details={'actual_k': 2, 'was_impossible': False}),\n",
              " Prediction(uid='A2BLFCOPSMBOZ9', iid='B001NJ0WCS', r_ui=5.0, est=3.496865203761755, details={'actual_k': 1, 'was_impossible': False}),\n",
              " Prediction(uid='A3QQGPI3CTV9SX', iid='B0009Q4PH4', r_ui=5.0, est=4.5, details={'actual_k': 0, 'was_impossible': False}),\n",
              " Prediction(uid='A2GKMXRLI7KLFP', iid='B004FPQJGK', r_ui=5.0, est=3.25, details={'actual_k': 0, 'was_impossible': False}),\n",
              " Prediction(uid='A17BUUBOU0598B', iid='B001HSOFI2', r_ui=4.0, est=4.174591792727687, details={'actual_k': 5, 'was_impossible': False}),\n",
              " Prediction(uid='A2QI2NTDTMK2FV', iid='B0097CXWUW', r_ui=4.0, est=4.032768107410747, details={'actual_k': 4, 'was_impossible': False}),\n",
              " Prediction(uid='A2MCRCK1V61FWQ', iid='B002YTDE5I', r_ui=5.0, est=4.4, details={'actual_k': 0, 'was_impossible': False}),\n",
              " Prediction(uid='A10ZFE6YE0UHW8', iid='B00HSQAIQU', r_ui=3.0, est=3.797044334975369, details={'actual_k': 1, 'was_impossible': False}),\n",
              " Prediction(uid='A25UZ7MA72SMKM', iid='B0018LX0DY', r_ui=2.0, est=4.0, details={'actual_k': 0, 'was_impossible': False}),\n",
              " Prediction(uid='A2WLNSZ9U0T1S3', iid='B001ACXHXE', r_ui=5.0, est=4.0, details={'actual_k': 0, 'was_impossible': False}),\n",
              " Prediction(uid='A2D1ZQEFS1NBH2', iid='B0037BQJPE', r_ui=5.0, est=4.298160932442798, details={'was_impossible': True, 'reason': 'User and/or item is unknown.'}),\n",
              " Prediction(uid='A34LQ791ACZ0JC', iid='B0009MIP8I', r_ui=4.0, est=3.6, details={'actual_k': 0, 'was_impossible': False}),\n",
              " Prediction(uid='A16QODENBJVUI1', iid='B0007MXZB2', r_ui=4.0, est=3.85598682117078, details={'actual_k': 2, 'was_impossible': False}),\n",
              " Prediction(uid='A3D6OI36USYOU1', iid='B004UE1W9K', r_ui=5.0, est=3.3333333333333335, details={'actual_k': 0, 'was_impossible': False}),\n",
              " Prediction(uid='A1P0JSFW184ZXJ', iid='B0038W0NEU', r_ui=5.0, est=3.4285714285714284, details={'actual_k': 0, 'was_impossible': False}),\n",
              " Prediction(uid='A1CMD08Z49PGKQ', iid='B004QJ9JLW', r_ui=5.0, est=5, details={'actual_k': 0, 'was_impossible': False}),\n",
              " Prediction(uid='A3EWJX7W1X7E79', iid='B003LNNOCO', r_ui=5.0, est=4.0, details={'actual_k': 0, 'was_impossible': False}),\n",
              " Prediction(uid='A17BUUBOU0598B', iid='B000QHOB4S', r_ui=3.0, est=1.5, details={'actual_k': 0, 'was_impossible': False}),\n",
              " Prediction(uid='A3CJ7MHAS9IMAM', iid='B0007DDK7A', r_ui=4.0, est=4.540769789553957, details={'actual_k': 2, 'was_impossible': False}),\n",
              " Prediction(uid='A2B7BUH8834Y6M', iid='B0007KX4TM', r_ui=4.0, est=5, details={'actual_k': 0, 'was_impossible': False}),\n",
              " Prediction(uid='A2NJQF2UI60VGT', iid='B00BTCPQ5C', r_ui=5.0, est=5, details={'actual_k': 0, 'was_impossible': False}),\n",
              " Prediction(uid='A1CST2WUA32GP0', iid='B006AR2SKW', r_ui=4.0, est=4.0, details={'actual_k': 0, 'was_impossible': False}),\n",
              " Prediction(uid='ARXU3FESTWMJJ', iid='B003656Q7C', r_ui=4.0, est=4.0, details={'actual_k': 0, 'was_impossible': False}),\n",
              " Prediction(uid='A3VBXQKRM7A4JR', iid='B0002HA7FY', r_ui=5.0, est=3.6666666666666665, details={'actual_k': 0, 'was_impossible': False}),\n",
              " Prediction(uid='A2O6HZ2B9YSRXR', iid='B0041UJVI2', r_ui=2.0, est=3.0, details={'actual_k': 0, 'was_impossible': False}),\n",
              " Prediction(uid='AQIJ3ZEEVCIKU', iid='B00HPM1G8Q', r_ui=4.0, est=4.113054721210934, details={'actual_k': 3, 'was_impossible': False}),\n",
              " Prediction(uid='ARTA78TP6H73D', iid='B00F93IOR4', r_ui=5.0, est=4.2727272727272725, details={'actual_k': 0, 'was_impossible': False}),\n",
              " Prediction(uid='A2TVH2OBNXYXHV', iid='B00HFRWWAM', r_ui=4.0, est=5, details={'actual_k': 2, 'was_impossible': False}),\n",
              " Prediction(uid='A2PB325LKXYDOL', iid='B00834SJNA', r_ui=5.0, est=4.815691249167496, details={'actual_k': 2, 'was_impossible': False}),\n",
              " Prediction(uid='A2W9GX82SLKROQ', iid='B0002WPSB2', r_ui=4.0, est=2.75, details={'actual_k': 0, 'was_impossible': False}),\n",
              " Prediction(uid='A33YZNZIRA3H97', iid='B000HDQ2G6', r_ui=5.0, est=4.0, details={'actual_k': 0, 'was_impossible': False}),\n",
              " Prediction(uid='A16C19G0I2DE8S', iid='B0098PRKA6', r_ui=5.0, est=4.25, details={'actual_k': 0, 'was_impossible': False}),\n",
              " Prediction(uid='A1PL7QILVQV3IF', iid='B0013AV4M4', r_ui=5.0, est=4.636363636363637, details={'actual_k': 0, 'was_impossible': False}),\n",
              " Prediction(uid='ABDR6IJ93HFIO', iid='B00BOHNYTW', r_ui=5.0, est=5, details={'actual_k': 2, 'was_impossible': False}),\n",
              " Prediction(uid='A3223W5IROMYTY', iid='B007SZ0EOW', r_ui=5.0, est=5, details={'actual_k': 0, 'was_impossible': False}),\n",
              " Prediction(uid='A1CMD08Z49PGKQ', iid='B007NZGPAY', r_ui=5.0, est=4.662790697674419, details={'actual_k': 1, 'was_impossible': False}),\n",
              " Prediction(uid='A1DO9LRCO23EOM', iid='B000B55ANG', r_ui=4.0, est=4.298160932442798, details={'was_impossible': True, 'reason': 'User and/or item is unknown.'}),\n",
              " Prediction(uid='AO2EURP2Y4JZM', iid='B00HFRWWAM', r_ui=4.0, est=2.913118521783292, details={'actual_k': 2, 'was_impossible': False}),\n",
              " Prediction(uid='A20G074MWH9U7O', iid='B002TLT10S', r_ui=2.0, est=4.298160932442798, details={'was_impossible': True, 'reason': 'User and/or item is unknown.'}),\n",
              " Prediction(uid='A10O7THJ2O20AG', iid='B000067RT6', r_ui=5.0, est=5, details={'actual_k': 1, 'was_impossible': False}),\n",
              " Prediction(uid='AD8DLOGHAXL', iid='B00009XT3H', r_ui=4.0, est=5, details={'actual_k': 0, 'was_impossible': False}),\n",
              " Prediction(uid='A2UOHALGF2X77Q', iid='B0006I1TRY', r_ui=4.0, est=5, details={'actual_k': 0, 'was_impossible': False}),\n",
              " Prediction(uid='AMS2CPERWN7JV', iid='B00GN6PPXW', r_ui=5.0, est=5, details={'actual_k': 1, 'was_impossible': False}),\n",
              " Prediction(uid='AM9APPMIE1BHZ', iid='B00829THVO', r_ui=5.0, est=4.724137931034483, details={'actual_k': 0, 'was_impossible': False}),\n",
              " Prediction(uid='A3T7V207KRDE2O', iid='B000ID7QNI', r_ui=5.0, est=4.6090826559992255, details={'actual_k': 4, 'was_impossible': False}),\n",
              " Prediction(uid='A3L1VJMHFWONCB', iid='B00006BBAC', r_ui=5.0, est=3.6666666666666665, details={'actual_k': 0, 'was_impossible': False}),\n",
              " Prediction(uid='A1PVX61PRPVX27', iid='B00FA9ACIG', r_ui=5.0, est=4.298160932442798, details={'was_impossible': True, 'reason': 'User and/or item is unknown.'}),\n",
              " Prediction(uid='A506HOOCVL8GW', iid='B0026RHUNK', r_ui=5.0, est=5, details={'actual_k': 0, 'was_impossible': False}),\n",
              " Prediction(uid='A2294LS59GC5K7', iid='B000GU88CQ', r_ui=5.0, est=5, details={'actual_k': 0, 'was_impossible': False}),\n",
              " Prediction(uid='A1GYEGLX3P2Y7P', iid='B00387EW1K', r_ui=5.0, est=5, details={'actual_k': 1, 'was_impossible': False}),\n",
              " Prediction(uid='A15U64VGUV6RBF', iid='B006U3O566', r_ui=5.0, est=4.846153846153846, details={'actual_k': 0, 'was_impossible': False}),\n",
              " Prediction(uid='A1QOK9LU90ACF7', iid='B004T9RR6I', r_ui=3.0, est=3.904545519784847, details={'actual_k': 5, 'was_impossible': False}),\n",
              " Prediction(uid='A3EXWV8FNSSFL6', iid='B002WE0QN8', r_ui=5.0, est=5, details={'actual_k': 4, 'was_impossible': False}),\n",
              " Prediction(uid='AYOMAHLWRQHUG', iid='B004Q3R9B0', r_ui=5.0, est=5, details={'actual_k': 1, 'was_impossible': False}),\n",
              " Prediction(uid='AWNJAY0M5UI70', iid='B00DR0PDNE', r_ui=5.0, est=3.7389117111441306, details={'actual_k': 2, 'was_impossible': False}),\n",
              " Prediction(uid='A30XZK10EZN9V4', iid='B004Z88WSK', r_ui=3.0, est=4.298160932442798, details={'was_impossible': True, 'reason': 'User and/or item is unknown.'}),\n",
              " Prediction(uid='A1EH2S92FHWZRP', iid='B004XZHY34', r_ui=5.0, est=4.431548108960527, details={'actual_k': 2, 'was_impossible': False}),\n",
              " Prediction(uid='A100UD67AHFODS', iid='B0010SB8HA', r_ui=5.0, est=4.298160932442798, details={'was_impossible': True, 'reason': 'User and/or item is unknown.'}),\n",
              " Prediction(uid='A368IPE6EW0GZL', iid='B0056TYRMW', r_ui=5.0, est=3.196512265784492, details={'actual_k': 2, 'was_impossible': False}),\n",
              " Prediction(uid='A1NJHKPHD4YWZV', iid='B00109Y2DQ', r_ui=4.0, est=4.56, details={'actual_k': 0, 'was_impossible': False}),\n",
              " Prediction(uid='A1MRPX3RM48T2I', iid='B00465W7EC', r_ui=5.0, est=4.298160932442798, details={'was_impossible': True, 'reason': 'User and/or item is unknown.'}),\n",
              " Prediction(uid='AQNSQW4495SG0', iid='B004GZRE1S', r_ui=4.0, est=5, details={'actual_k': 0, 'was_impossible': False}),\n",
              " Prediction(uid='A11KZ906QD08C5', iid='B006XXQRSM', r_ui=5.0, est=2.6666666666666665, details={'actual_k': 0, 'was_impossible': False}),\n",
              " Prediction(uid='A379DLIAF0MFM5', iid='B004Z57WDO', r_ui=5.0, est=4.666666666666667, details={'actual_k': 0, 'was_impossible': False}),\n",
              " Prediction(uid='A3FBM0RMCMAABV', iid='B00EU9V3S0', r_ui=5.0, est=5, details={'actual_k': 1, 'was_impossible': False}),\n",
              " Prediction(uid='AJEOFP6ZWY0MK', iid='B002SQK2F2', r_ui=5.0, est=2.9166666666666665, details={'actual_k': 0, 'was_impossible': False}),\n",
              " Prediction(uid='A2FSOHSM9X13JT', iid='B00DCEPKJ2', r_ui=3.0, est=4.298160932442798, details={'was_impossible': True, 'reason': 'User and/or item is unknown.'}),\n",
              " Prediction(uid='A2AC6GQ24S45GA', iid='B000PGHCG4', r_ui=5.0, est=5, details={'actual_k': 0, 'was_impossible': False}),\n",
              " Prediction(uid='A2SPV96SGOEO2', iid='B0035AN31A', r_ui=3.0, est=4.0, details={'actual_k': 0, 'was_impossible': False}),\n",
              " Prediction(uid='A1U4GOVZWL8ZTL', iid='B000067O7T', r_ui=5.0, est=4.0, details={'actual_k': 0, 'was_impossible': False}),\n",
              " Prediction(uid='A2D1ZQEFS1NBH2', iid='B000812QC6', r_ui=5.0, est=2.75, details={'actual_k': 0, 'was_impossible': False}),\n",
              " Prediction(uid='A3F9CMU8KNAY1M', iid='B006WHPQCC', r_ui=4.0, est=4.166666666666667, details={'actual_k': 0, 'was_impossible': False}),\n",
              " Prediction(uid='A3B20R4ZAH0Y2Y', iid='B001TUYTZM', r_ui=5.0, est=4.666666666666667, details={'actual_k': 0, 'was_impossible': False}),\n",
              " Prediction(uid='AV8MDYLHHTUOY', iid='B00BQHD4B8', r_ui=5.0, est=4.019488511810013, details={'actual_k': 2, 'was_impossible': False}),\n",
              " Prediction(uid='A3F7USIDJBR8WU', iid='B000BVB2FK', r_ui=5.0, est=4.298160932442798, details={'was_impossible': True, 'reason': 'User and/or item is unknown.'}),\n",
              " Prediction(uid='A84FLVDK2R5JF', iid='B004ZF0Q28', r_ui=2.0, est=4.0, details={'actual_k': 0, 'was_impossible': False}),\n",
              " Prediction(uid='A3M7BCQKSQAK4L', iid='B0058BDFXA', r_ui=1.0, est=4.298160932442798, details={'was_impossible': True, 'reason': 'User and/or item is unknown.'}),\n",
              " Prediction(uid='A25UZ7MA72SMKM', iid='B003CFATT2', r_ui=5.0, est=5, details={'actual_k': 5, 'was_impossible': False}),\n",
              " Prediction(uid='A1CMD08Z49PGKQ', iid='B006DKEUAM', r_ui=5.0, est=5, details={'actual_k': 0, 'was_impossible': False}),\n",
              " Prediction(uid='A5JLAU2ARJ0BO', iid='B00009VSIM', r_ui=5.0, est=3.0, details={'actual_k': 0, 'was_impossible': False}),\n",
              " Prediction(uid='A1FLJCHN5CG5M5', iid='B003O8682Y', r_ui=5.0, est=4.6, details={'actual_k': 0, 'was_impossible': False}),\n",
              " Prediction(uid='ABDR6IJ93HFIO', iid='B003XKWLSS', r_ui=5.0, est=5, details={'actual_k': 0, 'was_impossible': False}),\n",
              " Prediction(uid='A2BCDZO1XQLDH', iid='B000VDCTCI', r_ui=5.0, est=5, details={'actual_k': 0, 'was_impossible': False}),\n",
              " Prediction(uid='AAR7CEPXYJA0T', iid='B001SJVU24', r_ui=2.0, est=4.555555555555555, details={'actual_k': 0, 'was_impossible': False}),\n",
              " Prediction(uid='ABMF4UC4Z00NT', iid='B000BTL0OA', r_ui=5.0, est=5, details={'actual_k': 1, 'was_impossible': False}),\n",
              " Prediction(uid='A1CMD08Z49PGKQ', iid='B009VK26J8', r_ui=5.0, est=5, details={'actual_k': 0, 'was_impossible': False}),\n",
              " Prediction(uid='A14I1F2H7NOYDC', iid='B000FKP7TY', r_ui=5.0, est=3.5, details={'actual_k': 0, 'was_impossible': False}),\n",
              " Prediction(uid='AENULRBQ2IE5I', iid='B004MT7GGG', r_ui=5.0, est=5, details={'actual_k': 0, 'was_impossible': False}),\n",
              " Prediction(uid='A3W4D8XOGLWUN5', iid='B003M0NURK', r_ui=4.0, est=4.414735584066133, details={'actual_k': 3, 'was_impossible': False}),\n",
              " Prediction(uid='A1FDSZISWIXH1A', iid='B008HK3YOO', r_ui=4.0, est=3.3333333333333335, details={'actual_k': 0, 'was_impossible': False}),\n",
              " Prediction(uid='A4GHPW9AAH1NY', iid='B0013B2EWC', r_ui=5.0, est=5, details={'actual_k': 0, 'was_impossible': False}),\n",
              " Prediction(uid='AY3XPKRAMKKY7', iid='B009XN9GQY', r_ui=5.0, est=4.25, details={'actual_k': 0, 'was_impossible': False}),\n",
              " Prediction(uid='AMKNPIDFLRFMP', iid='B0001GZ87I', r_ui=3.0, est=5, details={'actual_k': 0, 'was_impossible': False}),\n",
              " Prediction(uid='A3CJ7MHAS9IMAM', iid='B00009W5FF', r_ui=5.0, est=5, details={'actual_k': 0, 'was_impossible': False}),\n",
              " Prediction(uid='A3L9E0YI7C5G0W', iid='B004SBBDD0', r_ui=3.0, est=3.8, details={'actual_k': 0, 'was_impossible': False}),\n",
              " Prediction(uid='A34VRVI4CSI5RQ', iid='B003ZX8B2S', r_ui=5.0, est=4.428571428571429, details={'actual_k': 0, 'was_impossible': False}),\n",
              " Prediction(uid='A2DF62DP20RIXF', iid='B002B3YCQM', r_ui=4.0, est=4.375, details={'actual_k': 0, 'was_impossible': False}),\n",
              " Prediction(uid='A36MP37DITBU6F', iid='B008ULPE70', r_ui=5.0, est=4.523693841165623, details={'actual_k': 5, 'was_impossible': False}),\n",
              " Prediction(uid='AYLLSFYS3UP1H', iid='B005C84H54', r_ui=5.0, est=4.298160932442798, details={'was_impossible': True, 'reason': 'User and/or item is unknown.'}),\n",
              " Prediction(uid='A3S0EHEIR52HP1', iid='B003EE8OL6', r_ui=5.0, est=4.298160932442798, details={'was_impossible': True, 'reason': 'User and/or item is unknown.'}),\n",
              " Prediction(uid='A33ZYFE8XMKKR1', iid='B007RFW1NA', r_ui=2.0, est=4.484615384615385, details={'actual_k': 1, 'was_impossible': False}),\n",
              " Prediction(uid='A1G3DKT38DNZJP', iid='B00BWF5U0M', r_ui=5.0, est=4.5, details={'actual_k': 0, 'was_impossible': False}),\n",
              " Prediction(uid='A2MOJANFPX353G', iid='B001G0WPLK', r_ui=5.0, est=4.125, details={'actual_k': 0, 'was_impossible': False}),\n",
              " Prediction(uid='AGGAQLXPVGM5D', iid='B007L5NKZO', r_ui=4.0, est=3.375, details={'actual_k': 0, 'was_impossible': False}),\n",
              " Prediction(uid='A200RY2ELZL2Q3', iid='B00825BZUY', r_ui=5.0, est=4.363636363636363, details={'actual_k': 0, 'was_impossible': False}),\n",
              " Prediction(uid='A3PJJTAKISAFI9', iid='B00337FY76', r_ui=3.0, est=4.298160932442798, details={'was_impossible': True, 'reason': 'User and/or item is unknown.'}),\n",
              " Prediction(uid='A1RPTVW5VEOSI', iid='B002MUAEX4', r_ui=5.0, est=5, details={'actual_k': 0, 'was_impossible': False}),\n",
              " Prediction(uid='A2PZXXPGLXXKZU', iid='B000B60H0G', r_ui=3.0, est=4.25, details={'actual_k': 0, 'was_impossible': False}),\n",
              " Prediction(uid='A3M82NO6OU1FHS', iid='B00366KE3I', r_ui=3.0, est=5, details={'actual_k': 0, 'was_impossible': False}),\n",
              " Prediction(uid='A1X2LENOF84LCQ', iid='B005X9Y0YU', r_ui=3.0, est=3.3611111111111116, details={'actual_k': 1, 'was_impossible': False}),\n",
              " Prediction(uid='A1B4MIXYVIKMU2', iid='B004CJ8DKE', r_ui=4.0, est=3.4285714285714284, details={'actual_k': 0, 'was_impossible': False}),\n",
              " Prediction(uid='A33PVCHCQ2BTN0', iid='B0007QKMQY', r_ui=5.0, est=5, details={'actual_k': 0, 'was_impossible': False}),\n",
              " Prediction(uid='A2V0I904FH7ABY', iid='B004CLYEE6', r_ui=5.0, est=4.824715517312737, details={'actual_k': 4, 'was_impossible': False}),\n",
              " Prediction(uid='A25QJBK33C4O0R', iid='B004LB4MZS', r_ui=4.0, est=4.3939393939393945, details={'actual_k': 1, 'was_impossible': False}),\n",
              " Prediction(uid='AD9ZL63H0VKCZ', iid='B004RCHX0W', r_ui=2.0, est=5, details={'actual_k': 0, 'was_impossible': False}),\n",
              " Prediction(uid='A23GFTVIETX7DS', iid='B000065BP9', r_ui=5.0, est=4.25, details={'actual_k': 0, 'was_impossible': False}),\n",
              " Prediction(uid='A2M14CFAMF8J7I', iid='B0081FLFQE', r_ui=5.0, est=4.97191584383869, details={'actual_k': 5, 'was_impossible': False}),\n",
              " Prediction(uid='A1UEL5C1N6E5SE', iid='B000FZXHGO', r_ui=4.0, est=5, details={'actual_k': 0, 'was_impossible': False}),\n",
              " Prediction(uid='APBDZ88BBTN4F', iid='B005HTIWF4', r_ui=1.0, est=3.5665254227702614, details={'actual_k': 3, 'was_impossible': False}),\n",
              " Prediction(uid='A3SMD3T0QTN109', iid='B00829THEG', r_ui=4.0, est=4.476338577860987, details={'actual_k': 3, 'was_impossible': False}),\n",
              " Prediction(uid='A10Y058K7B96C6', iid='B004CLYEE6', r_ui=5.0, est=4.554260432411812, details={'actual_k': 5, 'was_impossible': False}),\n",
              " Prediction(uid='A1PEXTGNF36I1Q', iid='B000CNPK3M', r_ui=5.0, est=5, details={'actual_k': 0, 'was_impossible': False}),\n",
              " Prediction(uid='AVPNQUVZWMDSX', iid='B00008SCFL', r_ui=4.0, est=4.0, details={'actual_k': 0, 'was_impossible': False}),\n",
              " Prediction(uid='AHD3NZHDUZ5I6', iid='B001L5U16G', r_ui=5.0, est=4.298160932442798, details={'was_impossible': True, 'reason': 'User and/or item is unknown.'}),\n",
              " Prediction(uid='A38RMU1Y5TDP9', iid='B001AAN4PW', r_ui=3.0, est=5, details={'actual_k': 0, 'was_impossible': False}),\n",
              " Prediction(uid='A27H0T39U3FZB5', iid='B004RSCL4E', r_ui=5.0, est=4.298160932442798, details={'was_impossible': True, 'reason': 'User and/or item is unknown.'}),\n",
              " Prediction(uid='A1MFAPVBW9BEGD', iid='B00969J3EU', r_ui=5.0, est=4.666666666666667, details={'actual_k': 0, 'was_impossible': False}),\n",
              " Prediction(uid='A2WYF4POBUXL2O', iid='B00EVVGAC6', r_ui=4.0, est=3.7, details={'actual_k': 0, 'was_impossible': False}),\n",
              " Prediction(uid='A3OA4DV4L81N1D', iid='B002NEGTTM', r_ui=5.0, est=4.0, details={'actual_k': 0, 'was_impossible': False}),\n",
              " Prediction(uid='A2PICNZWHEINQC', iid='B009SYZ8OC', r_ui=5.0, est=5, details={'actual_k': 1, 'was_impossible': False}),\n",
              " Prediction(uid='A2I5LVVQ7WXEH6', iid='B0009RGLSE', r_ui=5.0, est=4.5, details={'actual_k': 0, 'was_impossible': False}),\n",
              " Prediction(uid='A2KYRPDKVBI2R4', iid='B007WTAJTO', r_ui=5.0, est=5, details={'actual_k': 5, 'was_impossible': False}),\n",
              " Prediction(uid='A3NCIN6TNL0MGA', iid='B000629GES', r_ui=5.0, est=3.6666666666666665, details={'actual_k': 0, 'was_impossible': False}),\n",
              " Prediction(uid='AIJQU979J6UFY', iid='B001DJ64C0', r_ui=5.0, est=3.8285714285714283, details={'actual_k': 1, 'was_impossible': False}),\n",
              " Prediction(uid='A19X4BF861LQST', iid='B000SDLNKA', r_ui=2.0, est=4.333333333333333, details={'actual_k': 0, 'was_impossible': False}),\n",
              " Prediction(uid='A781ITP3HE2N5', iid='B002RMPHMU', r_ui=4.0, est=3.0, details={'actual_k': 0, 'was_impossible': False}),\n",
              " Prediction(uid='A6KL17KKN0A5L', iid='B001SJVU24', r_ui=5.0, est=4.555555555555555, details={'actual_k': 0, 'was_impossible': False}),\n",
              " Prediction(uid='A2AEZQ3DGBBLPR', iid='B002IL8XRQ', r_ui=5.0, est=5, details={'actual_k': 0, 'was_impossible': False}),\n",
              " Prediction(uid='A3U41ZL33SS92P', iid='B00829THK0', r_ui=3.0, est=4.382749256997436, details={'actual_k': 5, 'was_impossible': False}),\n",
              " Prediction(uid='A2V9DTXTQ5YIMK', iid='B003YKG2UK', r_ui=5.0, est=5, details={'actual_k': 2, 'was_impossible': False}),\n",
              " Prediction(uid='A2NOIWPJDD7WIQ', iid='B0067PLM5E', r_ui=4.0, est=4.25, details={'actual_k': 0, 'was_impossible': False}),\n",
              " Prediction(uid='A1ZCSSCAGBCD49', iid='B0036WT1RW', r_ui=1.0, est=5, details={'actual_k': 0, 'was_impossible': False}),\n",
              " Prediction(uid='A2BMZRO0H7TFCS', iid='B005KG44V0', r_ui=4.0, est=3.637127991410698, details={'actual_k': 5, 'was_impossible': False}),\n",
              " Prediction(uid='A1QVFHPY8418HC', iid='B0081FLFQE', r_ui=5.0, est=4.832680013900459, details={'actual_k': 3, 'was_impossible': False}),\n",
              " Prediction(uid='A1GQRGB8FGSLIZ', iid='B00BQ4F9ZA', r_ui=5.0, est=4.954545454545454, details={'actual_k': 0, 'was_impossible': False}),\n",
              " Prediction(uid='A3QQCEQ33O0GJU', iid='B000JQ17WK', r_ui=5.0, est=4.0, details={'actual_k': 0, 'was_impossible': False}),\n",
              " Prediction(uid='A3CEUT263RNUDO', iid='B00HNJWSH4', r_ui=4.0, est=3.972029402376191, details={'actual_k': 2, 'was_impossible': False}),\n",
              " Prediction(uid='A2L90SGUP36KGA', iid='B000L47AHG', r_ui=5.0, est=4.981481481481481, details={'actual_k': 1, 'was_impossible': False}),\n",
              " Prediction(uid='A2JOPUWVV0XQJ3', iid='B003M0NURK', r_ui=4.0, est=4.707672468437838, details={'actual_k': 2, 'was_impossible': False}),\n",
              " Prediction(uid='AONUCJBC85BL', iid='B001TK3ACA', r_ui=4.0, est=3.859200550761867, details={'actual_k': 3, 'was_impossible': False}),\n",
              " Prediction(uid='A1MZL91Z44RN06', iid='B004CLYEDC', r_ui=4.0, est=4.667893351582717, details={'actual_k': 5, 'was_impossible': False}),\n",
              " Prediction(uid='A3DOPYDOS49I3T', iid='B00ATM1MHO', r_ui=5.0, est=5, details={'actual_k': 1, 'was_impossible': False}),\n",
              " Prediction(uid='A24P4E3RJ6AX94', iid='B000JE7GPY', r_ui=5.0, est=3.9081996284727674, details={'actual_k': 3, 'was_impossible': False}),\n",
              " Prediction(uid='A2OKRGHIYTBQ6P', iid='B007WTAJTO', r_ui=5.0, est=4.2873250215981695, details={'actual_k': 5, 'was_impossible': False}),\n",
              " Prediction(uid='A25C2M3QF9G7OQ', iid='B001GAOYCS', r_ui=5.0, est=4.666666666666667, details={'actual_k': 0, 'was_impossible': False}),\n",
              " Prediction(uid='A3RGHO0Q938FRS', iid='B005X9Y0YU', r_ui=5.0, est=5, details={'actual_k': 3, 'was_impossible': False}),\n",
              " Prediction(uid='A3V0YR50F1XSKP', iid='B000HGMMH6', r_ui=5.0, est=5, details={'actual_k': 0, 'was_impossible': False}),\n",
              " Prediction(uid='A34JKODTSKCGEN', iid='B006HIKIG0', r_ui=5.0, est=5, details={'actual_k': 0, 'was_impossible': False}),\n",
              " Prediction(uid='A1F1A0QQP2XVH5', iid='B00GRNUO2I', r_ui=4.0, est=4.60492930114601, details={'actual_k': 5, 'was_impossible': False}),\n",
              " Prediction(uid='A37D1ZP8GBHE38', iid='B005J2F7NE', r_ui=4.0, est=3.5, details={'actual_k': 0, 'was_impossible': False}),\n",
              " Prediction(uid='A3LDPF5FMB782Z', iid='B000QUUFRW', r_ui=5.0, est=5, details={'actual_k': 1, 'was_impossible': False}),\n",
              " Prediction(uid='A2XRMQA6PJ5ZJ8', iid='B004GGK2JI', r_ui=4.0, est=4.0, details={'actual_k': 0, 'was_impossible': False}),\n",
              " Prediction(uid='AC1YLEFC9AN5X', iid='B00CF030S2', r_ui=3.0, est=4.298160932442798, details={'was_impossible': True, 'reason': 'User and/or item is unknown.'}),\n",
              " Prediction(uid='A2JXS1JII6SAUD', iid='B004G8QO8E', r_ui=5.0, est=4.083333333333333, details={'actual_k': 0, 'was_impossible': False}),\n",
              " Prediction(uid='A15J71JLC29KPW', iid='B00CE590Z0', r_ui=4.0, est=4.278095238095238, details={'actual_k': 1, 'was_impossible': False}),\n",
              " Prediction(uid='A2TVH2OBNXYXHV', iid='B00B3329WA', r_ui=4.0, est=4.6, details={'actual_k': 0, 'was_impossible': False}),\n",
              " Prediction(uid='AGOH8N902URMW', iid='B007BXD66E', r_ui=5.0, est=5, details={'actual_k': 2, 'was_impossible': False}),\n",
              " Prediction(uid='A3LGT6UZL99IW1', iid='B007BWTOHU', r_ui=4.0, est=4.016666666666667, details={'actual_k': 1, 'was_impossible': False}),\n",
              " Prediction(uid='A1WG97A0EFHYXN', iid='B0012Y0QT8', r_ui=5.0, est=4.298160932442798, details={'was_impossible': True, 'reason': 'User and/or item is unknown.'}),\n",
              " Prediction(uid='A13QOK3SKIT9QL', iid='B0019EHU8G', r_ui=5.0, est=4.478173624623718, details={'actual_k': 2, 'was_impossible': False}),\n",
              " Prediction(uid='AT8V3JOZD3KWK', iid='B004OOVIDQ', r_ui=5.0, est=4.298160932442798, details={'was_impossible': True, 'reason': 'User and/or item is unknown.'}),\n",
              " Prediction(uid='A3QMJMTLJC34QC', iid='B004N62HZI', r_ui=4.0, est=4.0, details={'actual_k': 0, 'was_impossible': False}),\n",
              " Prediction(uid='A38RMU1Y5TDP9', iid='B009X01C64', r_ui=3.0, est=4.7272727272727275, details={'actual_k': 0, 'was_impossible': False}),\n",
              " Prediction(uid='A1RL1OTV8IJMVD', iid='B000Z80ICM', r_ui=4.0, est=5, details={'actual_k': 1, 'was_impossible': False}),\n",
              " Prediction(uid='A2GKMXRLI7KLFP', iid='B001U3S5S0', r_ui=5.0, est=4.298160932442798, details={'was_impossible': True, 'reason': 'User and/or item is unknown.'}),\n",
              " Prediction(uid='A2H4OMJLE7JFM2', iid='B0081F2Z40', r_ui=5.0, est=4.298160932442798, details={'was_impossible': True, 'reason': 'User and/or item is unknown.'}),\n",
              " Prediction(uid='A22MANL4US4RMY', iid='B007NJ0S1W', r_ui=5.0, est=5, details={'actual_k': 0, 'was_impossible': False}),\n",
              " Prediction(uid='A2L9OPJAAEK08Q', iid='B0003QER7S', r_ui=3.0, est=3.0, details={'actual_k': 0, 'was_impossible': False}),\n",
              " Prediction(uid='A11I1I9QLMAM1A', iid='B004FPOPXE', r_ui=5.0, est=5, details={'actual_k': 0, 'was_impossible': False}),\n",
              " Prediction(uid='A38NELQT98S4H8', iid='B0002MQGOK', r_ui=5.0, est=4.75, details={'actual_k': 1, 'was_impossible': False}),\n",
              " Prediction(uid='AQIJ3ZEEVCIKU', iid='B004YIFP04', r_ui=5.0, est=4.298160932442798, details={'was_impossible': True, 'reason': 'User and/or item is unknown.'}),\n",
              " Prediction(uid='AHIK7BUXFRMT8', iid='B00024ENWU', r_ui=5.0, est=3.25, details={'actual_k': 0, 'was_impossible': False}),\n",
              " Prediction(uid='AENULRBQ2IE5I', iid='B000I68BD4', r_ui=5.0, est=3.8421052631578947, details={'actual_k': 0, 'was_impossible': False}),\n",
              " Prediction(uid='A186697K4XKXQL', iid='B008DWCRQW', r_ui=4.0, est=3.7044539268045042, details={'actual_k': 5, 'was_impossible': False}),\n",
              " Prediction(uid='A100UD67AHFODS', iid='B0054JJ0QW', r_ui=5.0, est=5, details={'actual_k': 2, 'was_impossible': False}),\n",
              " Prediction(uid='A1VFX417XDNWIU', iid='B0015BUJ0Y', r_ui=4.0, est=4.2563131313131315, details={'actual_k': 1, 'was_impossible': False}),\n",
              " Prediction(uid='A3U41ZL33SS92P', iid='B004J8HWHI', r_ui=3.0, est=5, details={'actual_k': 1, 'was_impossible': False}),\n",
              " Prediction(uid='A3SVYWA9O1KUQV', iid='B000QAY028', r_ui=5.0, est=4.298160932442798, details={'was_impossible': True, 'reason': 'User and/or item is unknown.'}),\n",
              " Prediction(uid='A3HPCRD9RX351S', iid='B00062QY5W', r_ui=4.0, est=5, details={'actual_k': 0, 'was_impossible': False}),\n",
              " Prediction(uid='AOEAD7DPLZE53', iid='B001ID49BO', r_ui=2.0, est=4.298160932442798, details={'was_impossible': True, 'reason': 'User and/or item is unknown.'}),\n",
              " Prediction(uid='A1X2LENOF84LCQ', iid='B00829THEG', r_ui=4.0, est=4.352099275044976, details={'actual_k': 3, 'was_impossible': False}),\n",
              " Prediction(uid='A2NVQZ4Y7Y0J1R', iid='B0002K6Y1C', r_ui=5.0, est=4.298160932442798, details={'was_impossible': True, 'reason': 'User and/or item is unknown.'}),\n",
              " Prediction(uid='AG35JCCQWDRCS', iid='B009SYZ8OC', r_ui=5.0, est=5, details={'actual_k': 1, 'was_impossible': False}),\n",
              " Prediction(uid='A2503LT8PZIHAD', iid='B004OVECUA', r_ui=4.0, est=4.0, details={'actual_k': 0, 'was_impossible': False}),\n",
              " Prediction(uid='A17HMM1M7T9PJ1', iid='B000NIKQ7Q', r_ui=4.0, est=5, details={'actual_k': 0, 'was_impossible': False}),\n",
              " Prediction(uid='A1EQ5D5JRSW23K', iid='B00FRMAOIO', r_ui=5.0, est=1.9, details={'actual_k': 1, 'was_impossible': False}),\n",
              " Prediction(uid='A3CLWR1UUZT6TG', iid='B001ELJ9QK', r_ui=4.0, est=3.25, details={'actual_k': 0, 'was_impossible': False}),\n",
              " Prediction(uid='A3EZEP0FX5BC1P', iid='B00ARB5FLQ', r_ui=3.0, est=3.741959970440797, details={'actual_k': 5, 'was_impossible': False}),\n",
              " Prediction(uid='AIJQU979J6UFY', iid='B007JCNOHI', r_ui=5.0, est=4.528625805635411, details={'actual_k': 2, 'was_impossible': False}),\n",
              " Prediction(uid='A3NKRH3TJ4DPVI', iid='B001TH7GUA', r_ui=5.0, est=5, details={'actual_k': 3, 'was_impossible': False}),\n",
              " Prediction(uid='A1CSRR7FCKBL9M', iid='B00G9TIR9W', r_ui=2.0, est=5, details={'actual_k': 0, 'was_impossible': False}),\n",
              " Prediction(uid='A2NB2E5DXE319Z', iid='B005X3E5BO', r_ui=4.0, est=4.298160932442798, details={'was_impossible': True, 'reason': 'User and/or item is unknown.'}),\n",
              " Prediction(uid='A1ZXMMQPYC3Z9I', iid='B00004TVSP', r_ui=2.0, est=5, details={'actual_k': 0, 'was_impossible': False}),\n",
              " Prediction(uid='A3A4ZAIBQWKOZS', iid='B00GO4GMAI', r_ui=5.0, est=5, details={'actual_k': 5, 'was_impossible': False}),\n",
              " Prediction(uid='A28621TSIR5EOG', iid='B00006IW1X', r_ui=5.0, est=4.875, details={'actual_k': 0, 'was_impossible': False}),\n",
              " Prediction(uid='A7Y6AVS576M03', iid='B000089GN3', r_ui=5.0, est=4.611111111111111, details={'actual_k': 0, 'was_impossible': False}),\n",
              " Prediction(uid='A3EZEP0FX5BC1P', iid='B003YNO0LA', r_ui=3.0, est=4.111111111111111, details={'actual_k': 1, 'was_impossible': False}),\n",
              " Prediction(uid='A2I2KPNJDQ9SL0', iid='B002LKWKWS', r_ui=3.0, est=4.298160932442798, details={'was_impossible': True, 'reason': 'User and/or item is unknown.'}),\n",
              " Prediction(uid='A3SDJ70H00OQCJ', iid='B005DIBH10', r_ui=5.0, est=4.0, details={'actual_k': 0, 'was_impossible': False}),\n",
              " Prediction(uid='ADLVFFE4VBT8', iid='B001A5FH9S', r_ui=5.0, est=4.586005833183835, details={'actual_k': 2, 'was_impossible': False}),\n",
              " Prediction(uid='A2ZRG5NOFZ47RK', iid='B004UTR4HO', r_ui=5.0, est=4.298160932442798, details={'was_impossible': True, 'reason': 'User and/or item is unknown.'}),\n",
              " Prediction(uid='A5JLAU2ARJ0BO', iid='B00005QFZG', r_ui=5.0, est=4.298160932442798, details={'was_impossible': True, 'reason': 'User and/or item is unknown.'}),\n",
              " Prediction(uid='AR74YY08IP2WE', iid='B00APP6694', r_ui=4.0, est=2.801282051282051, details={'actual_k': 1, 'was_impossible': False}),\n",
              " Prediction(uid='A7QMQBGJ2TCQG', iid='B00005LE75', r_ui=4.0, est=5, details={'actual_k': 0, 'was_impossible': False}),\n",
              " Prediction(uid='AETQIN7OH0RL9', iid='B007525SLM', r_ui=2.0, est=4.298160932442798, details={'was_impossible': True, 'reason': 'User and/or item is unknown.'}),\n",
              " Prediction(uid='A1J75JJ0Q2OEJN', iid='B004N62HZI', r_ui=4.0, est=4.944489613651342, details={'actual_k': 2, 'was_impossible': False}),\n",
              " Prediction(uid='APBB297H3ZA5E', iid='B0074WDDN8', r_ui=5.0, est=4.0, details={'actual_k': 0, 'was_impossible': False}),\n",
              " Prediction(uid='A1B0NL8UWAELI7', iid='B007S642BW', r_ui=5.0, est=4.6, details={'actual_k': 0, 'was_impossible': False}),\n",
              " Prediction(uid='A2NOW4U7W3F7RI', iid='B00FISD9DO', r_ui=5.0, est=5, details={'actual_k': 5, 'was_impossible': False}),\n",
              " Prediction(uid='AXU3VKZE848IY', iid='B000779RZA', r_ui=4.0, est=4.0, details={'actual_k': 0, 'was_impossible': False}),\n",
              " Prediction(uid='A1SFPA80X7TRBR', iid='B0024TNXNG', r_ui=5.0, est=5, details={'actual_k': 0, 'was_impossible': False}),\n",
              " Prediction(uid='A18HE80910BTZI', iid='B00176F2RC', r_ui=5.0, est=4.5, details={'actual_k': 0, 'was_impossible': False}),\n",
              " Prediction(uid='A1X1CEGHTHMBL1', iid='B00G5TDGK6', r_ui=5.0, est=4.298160932442798, details={'was_impossible': True, 'reason': 'User and/or item is unknown.'}),\n",
              " Prediction(uid='AYMD77ITD15PT', iid='B005QZ8BCI', r_ui=5.0, est=5, details={'actual_k': 0, 'was_impossible': False}),\n",
              " Prediction(uid='A18HE80910BTZI', iid='B0011NVMO8', r_ui=4.0, est=4.7894736842105265, details={'actual_k': 0, 'was_impossible': False}),\n",
              " Prediction(uid='A2F7CSE6KT7NI4', iid='B000V1MLBE', r_ui=5.0, est=3.764705882352941, details={'actual_k': 0, 'was_impossible': False}),\n",
              " Prediction(uid='A3LWC833HQIG7J', iid='B000F7JCRA', r_ui=5.0, est=4.75, details={'actual_k': 0, 'was_impossible': False}),\n",
              " Prediction(uid='A200RY2ELZL2Q3', iid='B005PAINXQ', r_ui=5.0, est=3.25, details={'actual_k': 0, 'was_impossible': False}),\n",
              " Prediction(uid='A3PGVJF37JSHFO', iid='B00009R90P', r_ui=5.0, est=4.0, details={'actual_k': 0, 'was_impossible': False}),\n",
              " Prediction(uid='A1Z7SC7HH1BJKA', iid='B0056BPUQC', r_ui=5.0, est=5, details={'actual_k': 0, 'was_impossible': False}),\n",
              " Prediction(uid='A1WXG10FJ353K0', iid='B004GCJEZU', r_ui=5.0, est=3.7387608336482185, details={'actual_k': 4, 'was_impossible': False}),\n",
              " Prediction(uid='A2LW5AL0KQ9P1M', iid='B005LMWP82', r_ui=5.0, est=4.0, details={'actual_k': 0, 'was_impossible': False}),\n",
              " Prediction(uid='A2GOHNFBHUU3UI', iid='B003MA9HYU', r_ui=5.0, est=4.298160932442798, details={'was_impossible': True, 'reason': 'User and/or item is unknown.'}),\n",
              " Prediction(uid='A132ETQPMHQ585', iid='B008QZTJH6', r_ui=1.0, est=4.298160932442798, details={'was_impossible': True, 'reason': 'User and/or item is unknown.'}),\n",
              " Prediction(uid='A1SHHQSPOWR00F', iid='B0000BZL28', r_ui=5.0, est=5, details={'actual_k': 0, 'was_impossible': False}),\n",
              " Prediction(uid='A2WPL6Y08K6ZQH', iid='B00ICDAAXO', r_ui=4.0, est=3.5555555555555554, details={'actual_k': 0, 'was_impossible': False}),\n",
              " Prediction(uid='A2Y739CRM15WDL', iid='B000J3G2CS', r_ui=4.0, est=4.0, details={'actual_k': 0, 'was_impossible': False}),\n",
              " Prediction(uid='A27QXQQOLAMRRR', iid='B0006BGV2Y', r_ui=4.0, est=4.5, details={'actual_k': 0, 'was_impossible': False}),\n",
              " Prediction(uid='ASRA2UZ3JV87B', iid='B0022NHQ32', r_ui=2.0, est=4.298160932442798, details={'was_impossible': True, 'reason': 'User and/or item is unknown.'}),\n",
              " Prediction(uid='A2D1ZQEFS1NBH2', iid='B003VANOI6', r_ui=3.0, est=4.791304347826087, details={'actual_k': 1, 'was_impossible': False}),\n",
              " Prediction(uid='A1QVFHPY8418HC', iid='B0016BVKAQ', r_ui=5.0, est=4.583333333333333, details={'actual_k': 0, 'was_impossible': False}),\n",
              " Prediction(uid='A2TRXEZYU9GYY8', iid='B003EE8OL6', r_ui=5.0, est=4.298160932442798, details={'was_impossible': True, 'reason': 'User and/or item is unknown.'}),\n",
              " Prediction(uid='AGOH8N902URMW', iid='B002UT42UI', r_ui=4.0, est=4.228331652552838, details={'actual_k': 3, 'was_impossible': False}),\n",
              " Prediction(uid='A2PSD2R9A1CXG7', iid='B005JW6WQU', r_ui=4.0, est=4.90525295270996, details={'actual_k': 2, 'was_impossible': False}),\n",
              " Prediction(uid='A3F9CBHV4OHFBS', iid='B000HAR8UI', r_ui=5.0, est=4.333333333333333, details={'actual_k': 0, 'was_impossible': False}),\n",
              " Prediction(uid='A3CW0ZLUO5X2B1', iid='B004CLYEDC', r_ui=5.0, est=4.255902981624248, details={'actual_k': 5, 'was_impossible': False}),\n",
              " Prediction(uid='ATNOI7E8GTIVE', iid='B0021L9BME', r_ui=5.0, est=5, details={'actual_k': 0, 'was_impossible': False}),\n",
              " Prediction(uid='A8CKH8XB33XGN', iid='B001QUA6RA', r_ui=5.0, est=5, details={'actual_k': 1, 'was_impossible': False}),\n",
              " Prediction(uid='AMWL7XIWIPXEZ', iid='B00GJ7Y7MU', r_ui=5.0, est=5, details={'actual_k': 0, 'was_impossible': False}),\n",
              " Prediction(uid='AG2YXYIQ8TLTA', iid='B000NLSGA2', r_ui=3.0, est=4.4, details={'actual_k': 0, 'was_impossible': False}),\n",
              " Prediction(uid='A377LPVLLAI42D', iid='B0015TJNEY', r_ui=4.0, est=3.3333333333333335, details={'actual_k': 0, 'was_impossible': False}),\n",
              " Prediction(uid='A6VPK7X53QNAQ', iid='B001ELJ9QK', r_ui=5.0, est=3.25, details={'actual_k': 0, 'was_impossible': False}),\n",
              " Prediction(uid='A3M7BCQKSQAK4L', iid='B005ES0YYA', r_ui=5.0, est=5, details={'actual_k': 1, 'was_impossible': False}),\n",
              " Prediction(uid='A2LXX47A0KMJVX', iid='B00426C57O', r_ui=5.0, est=3.1478260869565213, details={'actual_k': 1, 'was_impossible': False}),\n",
              " Prediction(uid='AT53ZTTO707MB', iid='B00FSA8VQ2', r_ui=5.0, est=4.79709596796806, details={'actual_k': 3, 'was_impossible': False}),\n",
              " Prediction(uid='A3V7D0LH8L7BG0', iid='B005UI6V1E', r_ui=5.0, est=4.298160932442798, details={'was_impossible': True, 'reason': 'User and/or item is unknown.'}),\n",
              " Prediction(uid='A3AYSYSLHU26U9', iid='B002P8LZ68', r_ui=4.0, est=4.298160932442798, details={'was_impossible': True, 'reason': 'User and/or item is unknown.'}),\n",
              " Prediction(uid='A1VGXHHR08G044', iid='B005EOWBKE', r_ui=4.0, est=4.545454545454546, details={'actual_k': 0, 'was_impossible': False}),\n",
              " Prediction(uid='A6FIAB28IS79', iid='B0097BEFYA', r_ui=5.0, est=4.855197596594818, details={'actual_k': 3, 'was_impossible': False}),\n",
              " Prediction(uid='A2X78O6G89CB30', iid='B003YH9DZ4', r_ui=4.0, est=3.5, details={'actual_k': 0, 'was_impossible': False}),\n",
              " Prediction(uid='A8X8D4BUY5DFU', iid='B003FVVMS0', r_ui=5.0, est=4.8, details={'actual_k': 0, 'was_impossible': False}),\n",
              " Prediction(uid='A247L282PID4PE', iid='B007M7RP6Q', r_ui=5.0, est=5, details={'actual_k': 0, 'was_impossible': False}),\n",
              " Prediction(uid='AS8C336DDLSO4', iid='B00009R6TA', r_ui=5.0, est=3.7142857142857144, details={'actual_k': 1, 'was_impossible': False}),\n",
              " Prediction(uid='A2S26YGSVXBCFL', iid='B00DBX371C', r_ui=5.0, est=4.637821076615199, details={'actual_k': 2, 'was_impossible': False}),\n",
              " Prediction(uid='AMWL7XIWIPXEZ', iid='B000P6R6CY', r_ui=5.0, est=4.298160932442798, details={'was_impossible': True, 'reason': 'User and/or item is unknown.'}),\n",
              " Prediction(uid='A13BX9O5UDBILC', iid='B00EVIBN8U', r_ui=3.0, est=4.636363636363637, details={'actual_k': 0, 'was_impossible': False}),\n",
              " Prediction(uid='A3IUW081KXD3PE', iid='B005VAORH6', r_ui=4.0, est=4.444444444444445, details={'actual_k': 0, 'was_impossible': False}),\n",
              " Prediction(uid='A215WH6RUDUCMP', iid='B000I4T7VG', r_ui=5.0, est=4.298160932442798, details={'was_impossible': True, 'reason': 'User and/or item is unknown.'}),\n",
              " Prediction(uid='A1SB9BNNGKNX2Z', iid='B002KC55OM', r_ui=5.0, est=4.462180345613607, details={'actual_k': 3, 'was_impossible': False}),\n",
              " Prediction(uid='A17BUUBOU0598B', iid='B002O3W2OI', r_ui=1.0, est=2.990575438187673, details={'actual_k': 2, 'was_impossible': False}),\n",
              " Prediction(uid='A5KMMY627T3W', iid='B000AYGDWU', r_ui=5.0, est=4.333333333333333, details={'actual_k': 0, 'was_impossible': False}),\n",
              " Prediction(uid='AQB4DH57MSZSC', iid='B0031ESTD2', r_ui=5.0, est=4.298160932442798, details={'was_impossible': True, 'reason': 'User and/or item is unknown.'}),\n",
              " Prediction(uid='A1522TN5FVJL0Y', iid='B00829TIA4', r_ui=5.0, est=4.539021177398441, details={'actual_k': 4, 'was_impossible': False}),\n",
              " Prediction(uid='A2S26YGSVXBCFL', iid='B008DWCRQW', r_ui=5.0, est=3.20869659860068, details={'actual_k': 5, 'was_impossible': False}),\n",
              " Prediction(uid='A2NOW4U7W3F7RI', iid='B002650XNQ', r_ui=5.0, est=4.298160932442798, details={'was_impossible': True, 'reason': 'User and/or item is unknown.'}),\n",
              " Prediction(uid='AOWF9T81XMX2S', iid='B001TH7GUU', r_ui=5.0, est=4.881825625148231, details={'actual_k': 5, 'was_impossible': False}),\n",
              " Prediction(uid='A24ARANWS5E3T8', iid='B001Q9A69O', r_ui=4.0, est=3.0, details={'actual_k': 0, 'was_impossible': False}),\n",
              " Prediction(uid='A1PV5T5S4D5NPI', iid='B000CRFOMK', r_ui=5.0, est=5, details={'actual_k': 3, 'was_impossible': False}),\n",
              " Prediction(uid='A680RUE1FDO8B', iid='B0017KH6OU', r_ui=5.0, est=4.666666666666667, details={'actual_k': 0, 'was_impossible': False}),\n",
              " Prediction(uid='ABMNX856X89CS', iid='B00GC1ZMYA', r_ui=4.0, est=3.876470588235294, details={'actual_k': 1, 'was_impossible': False}),\n",
              " Prediction(uid='A2NN1KIYEM2SKS', iid='B004CGHDEO', r_ui=5.0, est=4.0, details={'actual_k': 0, 'was_impossible': False}),\n",
              " Prediction(uid='A3FPSY1M6G7XIB', iid='B000V1VG5G', r_ui=5.0, est=4.5, details={'actual_k': 0, 'was_impossible': False}),\n",
              " Prediction(uid='A203OCQQ12MAVT', iid='B0002E50MC', r_ui=5.0, est=3.0, details={'actual_k': 0, 'was_impossible': False}),\n",
              " Prediction(uid='AKSQNMIKOU01H', iid='B001TI7GTK', r_ui=5.0, est=5, details={'actual_k': 0, 'was_impossible': False}),\n",
              " Prediction(uid='A2NVQZ4Y7Y0J1R', iid='B000ZMCILW', r_ui=4.0, est=5, details={'actual_k': 1, 'was_impossible': False}),\n",
              " Prediction(uid='A1KY5G5FP31F2F', iid='B002SZEOLG', r_ui=5.0, est=2.9920794808175906, details={'actual_k': 2, 'was_impossible': False}),\n",
              " Prediction(uid='A1GWG5CWLKJ7ET', iid='B004HD4L1U', r_ui=3.0, est=3.8, details={'actual_k': 1, 'was_impossible': False}),\n",
              " Prediction(uid='A1WXG10FJ353K0', iid='B0045XV2CI', r_ui=5.0, est=5, details={'actual_k': 2, 'was_impossible': False}),\n",
              " Prediction(uid='AFNG8O2DXRCUV', iid='B002WE6D44', r_ui=5.0, est=4.7896825396825395, details={'actual_k': 1, 'was_impossible': False}),\n",
              " Prediction(uid='A1QQA7Y92L4F9R', iid='B004KZHRAM', r_ui=5.0, est=4.5, details={'actual_k': 0, 'was_impossible': False}),\n",
              " Prediction(uid='A1PN2U0AWXGVML', iid='B007WTAJTO', r_ui=5.0, est=5, details={'actual_k': 1, 'was_impossible': False}),\n",
              " Prediction(uid='A7EJERNB7IK3Z', iid='B0002SQ0A4', r_ui=4.0, est=4.0, details={'actual_k': 0, 'was_impossible': False}),\n",
              " Prediction(uid='A27TN8D0CZ8LUY', iid='B0015YU0FA', r_ui=2.0, est=4.0, details={'actual_k': 0, 'was_impossible': False}),\n",
              " Prediction(uid='A11T807LX2EF00', iid='B000J5LA9Q', r_ui=5.0, est=4.8, details={'actual_k': 0, 'was_impossible': False}),\n",
              " Prediction(uid='A10NMELR4KX0J6', iid='B00CSIOLXY', r_ui=5.0, est=4.5, details={'actual_k': 0, 'was_impossible': False}),\n",
              " Prediction(uid='A2V2URLB31HG59', iid='B004IBK3PE', r_ui=4.0, est=4.0, details={'actual_k': 0, 'was_impossible': False}),\n",
              " Prediction(uid='A1VOFY3QFT9WCG', iid='B000GL3MOY', r_ui=5.0, est=5, details={'actual_k': 0, 'was_impossible': False}),\n",
              " Prediction(uid='ALDAF4VVLFRHP', iid='B002FFG6JC', r_ui=5.0, est=3.7142857142857144, details={'actual_k': 0, 'was_impossible': False}),\n",
              " Prediction(uid='A3SX5MZTCZRQLF', iid='B004M8SBC0', r_ui=4.0, est=5, details={'actual_k': 0, 'was_impossible': False}),\n",
              " Prediction(uid='A1XE3M22N91451', iid='B003D8O264', r_ui=5.0, est=4.298160932442798, details={'was_impossible': True, 'reason': 'User and/or item is unknown.'}),\n",
              " Prediction(uid='A377LPVLLAI42D', iid='B002M78EA2', r_ui=3.0, est=5, details={'actual_k': 0, 'was_impossible': False}),\n",
              " Prediction(uid='A1T1YSCDW0PD25', iid='B001C271MA', r_ui=5.0, est=5, details={'actual_k': 1, 'was_impossible': False}),\n",
              " Prediction(uid='A36K2N527TXXJN', iid='B000RQSGYO', r_ui=5.0, est=4.3, details={'actual_k': 0, 'was_impossible': False}),\n",
              " Prediction(uid='A1URXSRV6WDHVY', iid='B00AYB3OOY', r_ui=2.0, est=4.0, details={'actual_k': 0, 'was_impossible': False}),\n",
              " Prediction(uid='AW5JSQCHC2ZJO', iid='B003A5TX82', r_ui=5.0, est=5, details={'actual_k': 0, 'was_impossible': False}),\n",
              " Prediction(uid='A1OGCPMSIVK7G4', iid='B009WU5XUG', r_ui=5.0, est=4.571428571428571, details={'actual_k': 0, 'was_impossible': False}),\n",
              " Prediction(uid='AYOMAHLWRQHUG', iid='B003STVG80', r_ui=1.0, est=3.125, details={'actual_k': 0, 'was_impossible': False}),\n",
              " Prediction(uid='A1BT6TL7UCIC5Y', iid='B0029EB3OC', r_ui=4.0, est=4.5, details={'actual_k': 0, 'was_impossible': False}),\n",
              " Prediction(uid='A23NSKTMSPPBTR', iid='B00HPM1FZ0', r_ui=4.0, est=2.05, details={'actual_k': 1, 'was_impossible': False}),\n",
              " Prediction(uid='A37D1ZP8GBHE38', iid='B002HWRZ2K', r_ui=1.0, est=3.875, details={'actual_k': 0, 'was_impossible': False}),\n",
              " Prediction(uid='A2XXBZPQT5EXHV', iid='B003DZJQQI', r_ui=5.0, est=5, details={'actual_k': 1, 'was_impossible': False}),\n",
              " Prediction(uid='A206CGM6J75UJY', iid='B003G2ZJTG', r_ui=5.0, est=4.5, details={'actual_k': 0, 'was_impossible': False}),\n",
              " Prediction(uid='A2WBVO6X3KPMDT', iid='B004Z94BA2', r_ui=5.0, est=4.298160932442798, details={'was_impossible': True, 'reason': 'User and/or item is unknown.'}),\n",
              " Prediction(uid='A2KYRPDKVBI2R4', iid='B007THRG4U', r_ui=5.0, est=4.298160932442798, details={'was_impossible': True, 'reason': 'User and/or item is unknown.'}),\n",
              " Prediction(uid='A4WEZJOIZIV4U', iid='B00009U0XI', r_ui=5.0, est=4.666666666666667, details={'actual_k': 0, 'was_impossible': False}),\n",
              " Prediction(uid='A38KK0SZYEH5UD', iid='B0081FLFQE', r_ui=4.0, est=4.489470374019006, details={'actual_k': 4, 'was_impossible': False}),\n",
              " Prediction(uid='A2503LT8PZIHAD', iid='B00DQZQHBW', r_ui=3.0, est=4.515880763103445, details={'actual_k': 2, 'was_impossible': False}),\n",
              " Prediction(uid='A30XZK10EZN9V4', iid='B004LEAYXY', r_ui=5.0, est=4.4, details={'actual_k': 0, 'was_impossible': False}),\n",
              " Prediction(uid='A3V15SFD7918WZ', iid='B005VTIMEQ', r_ui=3.0, est=3.2395382395382395, details={'actual_k': 1, 'was_impossible': False}),\n",
              " Prediction(uid='A15J71JLC29KPW', iid='B007YXA5TC', r_ui=5.0, est=4.5, details={'actual_k': 0, 'was_impossible': False}),\n",
              " Prediction(uid='A6VXZ1EEPRTLV', iid='B00009R94Q', r_ui=5.0, est=4.857142857142857, details={'actual_k': 0, 'was_impossible': False}),\n",
              " Prediction(uid='A1CYTBE7LLUQ8F', iid='B007GMPZ9Q', r_ui=4.0, est=4.0, details={'actual_k': 0, 'was_impossible': False}),\n",
              " Prediction(uid='AEJAGHLC675A7', iid='B0064EL2DK', r_ui=5.0, est=5, details={'actual_k': 3, 'was_impossible': False}),\n",
              " Prediction(uid='A3R4794K2RVU1S', iid='B0035JKJC2', r_ui=4.0, est=4.0, details={'actual_k': 0, 'was_impossible': False}),\n",
              " Prediction(uid='A1MFPAM9TTRTXN', iid='B003ELYQGG', r_ui=5.0, est=4.250737382771091, details={'actual_k': 2, 'was_impossible': False}),\n",
              " Prediction(uid='A27Y4OEC9MD9PA', iid='B00004SYNX', r_ui=5.0, est=3.0, details={'actual_k': 0, 'was_impossible': False}),\n",
              " Prediction(uid='A3IY316DRNF5F2', iid='B0012R9WHW', r_ui=1.0, est=3.0, details={'actual_k': 0, 'was_impossible': False}),\n",
              " Prediction(uid='A1O229NVVDJUX2', iid='B004J3VAYO', r_ui=4.0, est=4.75, details={'actual_k': 0, 'was_impossible': False}),\n",
              " Prediction(uid='A1YVO5V1SO18DZ', iid='B00B4OCWE8', r_ui=5.0, est=4.304196362067318, details={'actual_k': 3, 'was_impossible': False}),\n",
              " Prediction(uid='A2AY4YUOX2N1BQ', iid='B00DK2JQOQ', r_ui=5.0, est=4.876562622856193, details={'actual_k': 4, 'was_impossible': False}),\n",
              " Prediction(uid='A4GGT6O0GQNV2', iid='B00EHDZMFO', r_ui=3.0, est=4.222222222222222, details={'actual_k': 0, 'was_impossible': False}),\n",
              " Prediction(uid='A2J0IBS4PFRO2C', iid='B00004WCIC', r_ui=3.0, est=4.4, details={'actual_k': 0, 'was_impossible': False}),\n",
              " Prediction(uid='A3QX0ERX4D03TF', iid='B003ZX871I', r_ui=4.0, est=3.3333333333333335, details={'actual_k': 0, 'was_impossible': False}),\n",
              " Prediction(uid='A8WEXFRWX1ZHH', iid='B00H09BB16', r_ui=5.0, est=4.5, details={'actual_k': 0, 'was_impossible': False}),\n",
              " Prediction(uid='A3W4D8XOGLWUN5', iid='B005FVNGRI', r_ui=4.0, est=4.230769230769231, details={'actual_k': 0, 'was_impossible': False}),\n",
              " Prediction(uid='A1MJMYLRTZ76ZX', iid='B00007B6L5', r_ui=5.0, est=3.5, details={'actual_k': 0, 'was_impossible': False}),\n",
              " Prediction(uid='A8X478DM3KAWM', iid='B00AQRUW4Q', r_ui=3.0, est=4.306713928273561, details={'actual_k': 1, 'was_impossible': False}),\n",
              " Prediction(uid='A2RIL2NXHE00AQ', iid='B0054ENDO2', r_ui=5.0, est=4.5, details={'actual_k': 0, 'was_impossible': False}),\n",
              " Prediction(uid='A18YMFFJW974QS', iid='B001O9ARDG', r_ui=5.0, est=4.298160932442798, details={'was_impossible': True, 'reason': 'User and/or item is unknown.'}),\n",
              " Prediction(uid='A2NJQF2UI60VGT', iid='B005GI19HY', r_ui=5.0, est=4.142857142857143, details={'actual_k': 0, 'was_impossible': False}),\n",
              " Prediction(uid='A2D1LPEUCTNT8X', iid='B00343DNJK', r_ui=5.0, est=3.0, details={'actual_k': 0, 'was_impossible': False}),\n",
              " Prediction(uid='A3IOQ7NVVLAUEE', iid='B0073FE1F0', r_ui=5.0, est=4.411764705882353, details={'actual_k': 0, 'was_impossible': False}),\n",
              " Prediction(uid='A225G2TFM76GYX', iid='B001QUA6R0', r_ui=5.0, est=5, details={'actual_k': 2, 'was_impossible': False}),\n",
              " Prediction(uid='AYB4ELCS5AM8P', iid='B00DBX371C', r_ui=5.0, est=4.502508208448208, details={'actual_k': 5, 'was_impossible': False}),\n",
              " Prediction(uid='A680RUE1FDO8B', iid='B00169N0BK', r_ui=5.0, est=5, details={'actual_k': 1, 'was_impossible': False}),\n",
              " Prediction(uid='A23ZXHFLC6TBLD', iid='B000HPV3RW', r_ui=5.0, est=5, details={'actual_k': 5, 'was_impossible': False}),\n",
              " Prediction(uid='ACJT8MUC0LRF0', iid='B00IMZKDOS', r_ui=5.0, est=5, details={'actual_k': 4, 'was_impossible': False}),\n",
              " Prediction(uid='AWPODHOB4GFWL', iid='B000PQL7AQ', r_ui=5.0, est=5, details={'actual_k': 0, 'was_impossible': False}),\n",
              " Prediction(uid='A9Y5O2R4D6EH5', iid='B002DMKPQ2', r_ui=5.0, est=4.25, details={'actual_k': 0, 'was_impossible': False}),\n",
              " Prediction(uid='A22S7D0LP8GRDH', iid='B0000658CH', r_ui=4.0, est=3.0, details={'actual_k': 0, 'was_impossible': False}),\n",
              " Prediction(uid='A27ADCSD15F3GL', iid='B007ZZ6OW6', r_ui=5.0, est=4.248027706898798, details={'actual_k': 2, 'was_impossible': False}),\n",
              " Prediction(uid='A19UTUEBWKIZFT', iid='B00CD8ADKO', r_ui=5.0, est=4.969496819276673, details={'actual_k': 5, 'was_impossible': False}),\n",
              " Prediction(uid='A2LTYEYGKBYXRR', iid='B00BS3NM3A', r_ui=5.0, est=5, details={'actual_k': 0, 'was_impossible': False}),\n",
              " Prediction(uid='A3SMD3T0QTN109', iid='B003P2UMR6', r_ui=5.0, est=3.5, details={'actual_k': 0, 'was_impossible': False}),\n",
              " Prediction(uid='A1ZCSSCAGBCD49', iid='B000L4D42Q', r_ui=4.0, est=4.4, details={'actual_k': 0, 'was_impossible': False}),\n",
              " Prediction(uid='A30XZK10EZN9V4', iid='B005L38VPC', r_ui=5.0, est=4.071428571428571, details={'actual_k': 0, 'was_impossible': False}),\n",
              " Prediction(uid='AHR86ZEYETLJI', iid='B00AXTQQDS', r_ui=5.0, est=5, details={'actual_k': 0, 'was_impossible': False}),\n",
              " Prediction(uid='A145LBW8ZHF0TW', iid='B0047ZH0B6', r_ui=5.0, est=3.6666666666666665, details={'actual_k': 0, 'was_impossible': False}),\n",
              " Prediction(uid='A1VGXHHR08G044', iid='B0053T4PHC', r_ui=5.0, est=3.75, details={'actual_k': 0, 'was_impossible': False}),\n",
              " Prediction(uid='A2RU4U1JZ3DMP5', iid='B0002RBQO0', r_ui=4.0, est=4.8, details={'actual_k': 0, 'was_impossible': False}),\n",
              " Prediction(uid='A9Y5O2R4D6EH5', iid='B006W8U2MU', r_ui=4.0, est=4.353191839617757, details={'actual_k': 4, 'was_impossible': False}),\n",
              " Prediction(uid='A23GFTVIETX7DS', iid='B004M8SVEI', r_ui=4.0, est=3.0, details={'actual_k': 0, 'was_impossible': False}),\n",
              " Prediction(uid='A1MJMYLRTZ76ZX', iid='B002C7481G', r_ui=4.0, est=4.157894736842105, details={'actual_k': 0, 'was_impossible': False}),\n",
              " Prediction(uid='A17W0GMB0YY83M', iid='B005PSTV2K', r_ui=5.0, est=4.0, details={'actual_k': 0, 'was_impossible': False}),\n",
              " Prediction(uid='A6XLG77BC9R8R', iid='B0009JR82U', r_ui=1.0, est=5, details={'actual_k': 0, 'was_impossible': False}),\n",
              " Prediction(uid='A3NKRH3TJ4DPVI', iid='B001C271MA', r_ui=5.0, est=4.7272727272727275, details={'actual_k': 0, 'was_impossible': False}),\n",
              " Prediction(uid='A32O5FZH994CNY', iid='B007Y4TTWU', r_ui=4.0, est=3.4285714285714284, details={'actual_k': 0, 'was_impossible': False}),\n",
              " Prediction(uid='ACY9QYNDFLVBI', iid='B000068O16', r_ui=5.0, est=5, details={'actual_k': 1, 'was_impossible': False}),\n",
              " Prediction(uid='A1VQHH85U7PX0', iid='B002W3IXZW', r_ui=5.0, est=4.633333333333333, details={'actual_k': 1, 'was_impossible': False}),\n",
              " Prediction(uid='A11D1KHM7DVOQK', iid='B000084FD5', r_ui=1.0, est=4.298160932442798, details={'was_impossible': True, 'reason': 'User and/or item is unknown.'}),\n",
              " Prediction(uid='A680RUE1FDO8B', iid='B000WR0CKE', r_ui=3.0, est=4.5, details={'actual_k': 0, 'was_impossible': False}),\n",
              " Prediction(uid='A1NJHKPHD4YWZV', iid='B0059AK8HQ', r_ui=4.0, est=3.6666666666666665, details={'actual_k': 0, 'was_impossible': False}),\n",
              " Prediction(uid='A11I1I9QLMAM1A', iid='B0035AN31A', r_ui=4.0, est=4.578947368421052, details={'actual_k': 1, 'was_impossible': False}),\n",
              " Prediction(uid='A3R19YKNL641X3', iid='B002MCZJ78', r_ui=4.0, est=4.8721540296759125, details={'actual_k': 2, 'was_impossible': False}),\n",
              " Prediction(uid='A3PJJTAKISAFI9', iid='B00004WCIC', r_ui=5.0, est=4.4, details={'actual_k': 0, 'was_impossible': False}),\n",
              " Prediction(uid='AOEAD7DPLZE53', iid='B000JMJWV2', r_ui=5.0, est=4.897933752791376, details={'actual_k': 3, 'was_impossible': False}),\n",
              " Prediction(uid='A3N4VTNFPMTHEF', iid='B009VV56TY', r_ui=4.0, est=3.9879547147503516, details={'actual_k': 3, 'was_impossible': False}),\n",
              " Prediction(uid='A21INUA35HX4XQ', iid='B001CBFTFM', r_ui=4.0, est=4.0, details={'actual_k': 0, 'was_impossible': False}),\n",
              " Prediction(uid='AXP8GO5Q3AXSA', iid='B001W6NU9E', r_ui=5.0, est=4.298160932442798, details={'was_impossible': True, 'reason': 'User and/or item is unknown.'}),\n",
              " Prediction(uid='A1CMD08Z49PGKQ', iid='B00BOHNYTW', r_ui=5.0, est=5, details={'actual_k': 5, 'was_impossible': False}),\n",
              " Prediction(uid='A3D2VIUT2HWP0Z', iid='B0000AOWW9', r_ui=5.0, est=4.298160932442798, details={'was_impossible': True, 'reason': 'User and/or item is unknown.'}),\n",
              " Prediction(uid='A2NB2E5DXE319Z', iid='B007PRHNHO', r_ui=5.0, est=4.714285714285714, details={'actual_k': 0, 'was_impossible': False}),\n",
              " Prediction(uid='A206CGM6J75UJY', iid='B0019RGQVU', r_ui=5.0, est=4.166666666666667, details={'actual_k': 0, 'was_impossible': False}),\n",
              " Prediction(uid='A3EZEP0FX5BC1P', iid='B007PTCFFW', r_ui=5.0, est=3.910377826984616, details={'actual_k': 4, 'was_impossible': False}),\n",
              " Prediction(uid='AEWYUPCNDV7HY', iid='B0041Q38NU', r_ui=5.0, est=4.572284728135571, details={'actual_k': 4, 'was_impossible': False}),\n",
              " Prediction(uid='A1NMM0RDRF6R84', iid='B0000665V6', r_ui=5.0, est=3.0, details={'actual_k': 0, 'was_impossible': False}),\n",
              " Prediction(uid='A2RIXSMGE9VIBG', iid='B001FA1NVE', r_ui=5.0, est=4.298160932442798, details={'was_impossible': True, 'reason': 'User and/or item is unknown.'}),\n",
              " Prediction(uid='A1PEXTGNF36I1Q', iid='B001G1ZPV6', r_ui=5.0, est=4.196428571428571, details={'actual_k': 1, 'was_impossible': False}),\n",
              " Prediction(uid='AWPODHOB4GFWL', iid='B000UY1MB2', r_ui=5.0, est=4.488441625156806, details={'actual_k': 5, 'was_impossible': False}),\n",
              " Prediction(uid='A2X78O6G89CB30', iid='B004J3V90Y', r_ui=5.0, est=4.076923076923077, details={'actual_k': 0, 'was_impossible': False}),\n",
              " Prediction(uid='A17W0GMB0YY83M', iid='B001CIREXA', r_ui=5.0, est=2.7527271021593442, details={'actual_k': 2, 'was_impossible': False}),\n",
              " Prediction(uid='A2AF0NOCM71J0B', iid='B007WTAJTO', r_ui=5.0, est=4.622811528033211, details={'actual_k': 5, 'was_impossible': False}),\n",
              " Prediction(uid='A1LYMYNURB9EWW', iid='B009HQCARY', r_ui=4.0, est=2.8256327023373293, details={'actual_k': 2, 'was_impossible': False}),\n",
              " Prediction(uid='A3U029B8Z5WGI2', iid='B0054L8MR8', r_ui=5.0, est=4.5, details={'actual_k': 0, 'was_impossible': False}),\n",
              " Prediction(uid='A21T0D2F7SKG5S', iid='B00009R6WO', r_ui=5.0, est=5, details={'actual_k': 2, 'was_impossible': False}),\n",
              " Prediction(uid='AR6APXLK7TJU2', iid='B00829TIA4', r_ui=4.0, est=4.193075283033469, details={'actual_k': 2, 'was_impossible': False}),\n",
              " Prediction(uid='A2EHYCA29NSQLU', iid='B000VE4PNS', r_ui=1.0, est=4.666666666666667, details={'actual_k': 0, 'was_impossible': False}),\n",
              " Prediction(uid='A1PVJICI412IN4', iid='B000E6G9RI', r_ui=5.0, est=2.4, details={'actual_k': 1, 'was_impossible': False}),\n",
              " Prediction(uid='A3HQAPXAJV7PRX', iid='B000GABCY2', r_ui=5.0, est=5, details={'actual_k': 0, 'was_impossible': False}),\n",
              " Prediction(uid='ASJSX783R5HTZ', iid='B00007EDZ7', r_ui=4.0, est=3.0, details={'actual_k': 0, 'was_impossible': False}),\n",
              " Prediction(uid='A2ARDVMUGDFED6', iid='B000OEP3F4', r_ui=4.0, est=4.4, details={'actual_k': 0, 'was_impossible': False}),\n",
              " Prediction(uid='A2QI2NTDTMK2FV', iid='B000BFYPM8', r_ui=5.0, est=5, details={'actual_k': 0, 'was_impossible': False}),\n",
              " Prediction(uid='A16QODENBJVUI1', iid='B00EO302SO', r_ui=5.0, est=5, details={'actual_k': 2, 'was_impossible': False}),\n",
              " Prediction(uid='AB094YABX21WQ', iid='B000NUYW92', r_ui=4.0, est=4.25, details={'actual_k': 0, 'was_impossible': False}),\n",
              " Prediction(uid='A2I6GN7OHB9JKF', iid='B003O1UYHG', r_ui=5.0, est=4.888888888888889, details={'actual_k': 0, 'was_impossible': False}),\n",
              " Prediction(uid='AW5JSQCHC2ZJO', iid='B0011ZCDKS', r_ui=4.0, est=4.777777777777778, details={'actual_k': 0, 'was_impossible': False}),\n",
              " Prediction(uid='A3W4D8XOGLWUN5', iid='B000NWWT3G', r_ui=4.0, est=4.298160932442798, details={'was_impossible': True, 'reason': 'User and/or item is unknown.'}),\n",
              " Prediction(uid='A2DXENZNO2JT4F', iid='B000RN3EVC', r_ui=5.0, est=4.298160932442798, details={'was_impossible': True, 'reason': 'User and/or item is unknown.'}),\n",
              " Prediction(uid='AGX2K0FMS0IVL', iid='B00H6BU3J4', r_ui=3.0, est=4.298160932442798, details={'was_impossible': True, 'reason': 'User and/or item is unknown.'}),\n",
              " Prediction(uid='A3DOPYDOS49I3T', iid='B009NW0934', r_ui=5.0, est=4.298160932442798, details={'was_impossible': True, 'reason': 'User and/or item is unknown.'}),\n",
              " Prediction(uid='A1VVRA3P6G1TWH', iid='B000Y16TY6', r_ui=3.0, est=5, details={'actual_k': 0, 'was_impossible': False}),\n",
              " Prediction(uid='A5GPH59NDWJRB', iid='B00CL8F98W', r_ui=4.0, est=4.498350033643289, details={'actual_k': 2, 'was_impossible': False}),\n",
              " Prediction(uid='A3JU990UTN5RQP', iid='B003VSTDFG', r_ui=4.0, est=5, details={'actual_k': 0, 'was_impossible': False}),\n",
              " Prediction(uid='A3SOJO7Z7R9WIA', iid='B0025EWXEU', r_ui=5.0, est=4.4, details={'actual_k': 0, 'was_impossible': False}),\n",
              " Prediction(uid='AWPODHOB4GFWL', iid='B004CLYE8C', r_ui=5.0, est=4.532956194917089, details={'actual_k': 5, 'was_impossible': False}),\n",
              " Prediction(uid='A3T4OHEAHOJ700', iid='B00902SFC4', r_ui=4.0, est=4.69377990430622, details={'actual_k': 1, 'was_impossible': False}),\n",
              " Prediction(uid='AGHZXQL9F94T9', iid='B00006DY6M', r_ui=1.0, est=5, details={'actual_k': 0, 'was_impossible': False}),\n",
              " Prediction(uid='A3FOSLM5G1BO63', iid='B0057UUB1G', r_ui=5.0, est=3.8101383724190208, details={'actual_k': 5, 'was_impossible': False}),\n",
              " Prediction(uid='A2WXURU33RBGQS', iid='B001XURP7W', r_ui=1.0, est=4.5476190476190474, details={'actual_k': 0, 'was_impossible': False}),\n",
              " Prediction(uid='A2HRHF83I3NDGT', iid='B004LSNF04', r_ui=5.0, est=5, details={'actual_k': 1, 'was_impossible': False}),\n",
              " Prediction(uid='A2RIL2NXHE00AQ', iid='B00064V6SK', r_ui=5.0, est=5, details={'actual_k': 0, 'was_impossible': False}),\n",
              " Prediction(uid='ACJT8MUC0LRF0', iid='B00DK2JQOQ', r_ui=5.0, est=4.977097543059057, details={'actual_k': 2, 'was_impossible': False}),\n",
              " Prediction(uid='A20L63B48RPSOH', iid='B002TLTE6O', r_ui=5.0, est=4.4249348479516755, details={'actual_k': 3, 'was_impossible': False}),\n",
              " Prediction(uid='A3N4VTNFPMTHEF', iid='B00006B81E', r_ui=5.0, est=4.75, details={'actual_k': 0, 'was_impossible': False}),\n",
              " Prediction(uid='A1X2LENOF84LCQ', iid='B006K551WQ', r_ui=4.0, est=3.857142857142857, details={'actual_k': 0, 'was_impossible': False}),\n",
              " Prediction(uid='A3SQCTNYQFVBWM', iid='B0091V5EE6', r_ui=4.0, est=4.298160932442798, details={'was_impossible': True, 'reason': 'User and/or item is unknown.'}),\n",
              " Prediction(uid='A3N4VTNFPMTHEF', iid='B005QUQP6W', r_ui=3.0, est=3.1190917377314022, details={'actual_k': 2, 'was_impossible': False}),\n",
              " Prediction(uid='A231WM2Z2JL0U3', iid='B00004YMBK', r_ui=5.0, est=4.298160932442798, details={'was_impossible': True, 'reason': 'User and/or item is unknown.'}),\n",
              " Prediction(uid='A1MFAPVBW9BEGD', iid='B00434PJ6Y', r_ui=4.0, est=4.298160932442798, details={'was_impossible': True, 'reason': 'User and/or item is unknown.'}),\n",
              " Prediction(uid='A2Y739CRM15WDL', iid='B002CNOYRS', r_ui=4.0, est=5, details={'actual_k': 0, 'was_impossible': False}),\n",
              " Prediction(uid='A3AZI828WJN1CD', iid='B005DKZTMG', r_ui=5.0, est=4.489219336490018, details={'actual_k': 2, 'was_impossible': False}),\n",
              " Prediction(uid='A1VLE2SH9J8WYS', iid='B0000510ZO', r_ui=5.0, est=4.8, details={'actual_k': 0, 'was_impossible': False}),\n",
              " Prediction(uid='AY6A8KPYCE6B0', iid='B00DQZNWNI', r_ui=4.0, est=3.2238400497537243, details={'actual_k': 5, 'was_impossible': False}),\n",
              " Prediction(uid='A18A5VSD0IPN14', iid='B0089V3WDO', r_ui=4.0, est=4.298160932442798, details={'was_impossible': True, 'reason': 'User and/or item is unknown.'}),\n",
              " Prediction(uid='A3J8A5L5AF5TX9', iid='B0037G2BMY', r_ui=4.0, est=4.298160932442798, details={'was_impossible': True, 'reason': 'User and/or item is unknown.'}),\n",
              " Prediction(uid='A368IPE6EW0GZL', iid='B005JN9310', r_ui=4.0, est=3.09748427672956, details={'actual_k': 1, 'was_impossible': False}),\n",
              " Prediction(uid='A1MQQEM7W77L62', iid='B006VJREFS', r_ui=4.0, est=5, details={'actual_k': 0, 'was_impossible': False}),\n",
              " Prediction(uid='A2MCRCK1V61FWQ', iid='B0026ZPFCK', r_ui=5.0, est=4.3, details={'actual_k': 0, 'was_impossible': False}),\n",
              " Prediction(uid='ALHC64J88LVWO', iid='B00CA66YGQ', r_ui=2.0, est=3.0, details={'actual_k': 0, 'was_impossible': False}),\n",
              " Prediction(uid='A3CJ7MHAS9IMAM', iid='B001FA1NZK', r_ui=4.0, est=4.909090909090909, details={'actual_k': 0, 'was_impossible': False}),\n",
              " Prediction(uid='A1GBT4UN2RW7XY', iid='B00F2ENTYI', r_ui=5.0, est=4.298160932442798, details={'was_impossible': True, 'reason': 'User and/or item is unknown.'}),\n",
              " Prediction(uid='A105S56ODHGJEK', iid='B001O5CCQK', r_ui=5.0, est=4.181818181818182, details={'actual_k': 0, 'was_impossible': False}),\n",
              " Prediction(uid='AT2J7H5TRZM8Z', iid='B000031KIM', r_ui=5.0, est=4.5, details={'actual_k': 0, 'was_impossible': False}),\n",
              " Prediction(uid='A12R3YGEHW7D8G', iid='B003A4GZUC', r_ui=5.0, est=4.0, details={'actual_k': 0, 'was_impossible': False}),\n",
              " Prediction(uid='A22S7D0LP8GRDH', iid='B009E6J1BU', r_ui=4.0, est=4.571428571428571, details={'actual_k': 0, 'was_impossible': False}),\n",
              " Prediction(uid='A2XQYE6TJYROHQ', iid='B00007056H', r_ui=5.0, est=3.8333333333333335, details={'actual_k': 0, 'was_impossible': False}),\n",
              " Prediction(uid='AOMEH9W6LHC4S', iid='B002O3W2OI', r_ui=3.0, est=3.41337239334179, details={'actual_k': 2, 'was_impossible': False}),\n",
              " Prediction(uid='ABMF4UC4Z00NT', iid='B002BH3I9U', r_ui=3.0, est=3.9375, details={'actual_k': 0, 'was_impossible': False}),\n",
              " Prediction(uid='A274MXTX3DYLUV', iid='B003XN24GY', r_ui=5.0, est=4.56547619047619, details={'actual_k': 1, 'was_impossible': False}),\n",
              " Prediction(uid='A2MJ8OL2FYN7CW', iid='B00AQRUW4Q', r_ui=4.0, est=4.953141852430576, details={'actual_k': 4, 'was_impossible': False}),\n",
              " Prediction(uid='A2F2GLVFRNV7JJ', iid='B002V8C3W2', r_ui=5.0, est=4.67741935483871, details={'actual_k': 0, 'was_impossible': False}),\n",
              " Prediction(uid='AY6A8KPYCE6B0', iid='B00CD8ADKO', r_ui=5.0, est=4.353460406170872, details={'actual_k': 4, 'was_impossible': False}),\n",
              " Prediction(uid='A3TAS1AG6FMBQW', iid='B001F7HLRC', r_ui=5.0, est=4.083333333333333, details={'actual_k': 0, 'was_impossible': False}),\n",
              " Prediction(uid='A2KOV8XWZOZ0FQ', iid='B0040702HA', r_ui=5.0, est=4.333333333333333, details={'actual_k': 1, 'was_impossible': False}),\n",
              " Prediction(uid='A2Y3WWPUKIJ59I', iid='B00829THVO', r_ui=4.0, est=4.4311640262070116, details={'actual_k': 3, 'was_impossible': False}),\n",
              " Prediction(uid='A3L1VJMHFWONCB', iid='B003ES5ZSW', r_ui=5.0, est=4.500031215177812, details={'actual_k': 2, 'was_impossible': False}),\n",
              " Prediction(uid='A4D5B7Q8A7PA6', iid='B004I5FL1G', r_ui=5.0, est=5, details={'actual_k': 2, 'was_impossible': False}),\n",
              " Prediction(uid='A18S2VGUH9SCV5', iid='B002R5AM7C', r_ui=4.0, est=4.242047791557698, details={'actual_k': 5, 'was_impossible': False}),\n",
              " Prediction(uid='A3977M5S0GIG5H', iid='B0006TIF2K', r_ui=5.0, est=4.298160932442798, details={'was_impossible': True, 'reason': 'User and/or item is unknown.'}),\n",
              " Prediction(uid='A20VG5W98SX99L', iid='B000YQ6DIS', r_ui=4.0, est=3.398737265769561, details={'actual_k': 2, 'was_impossible': False}),\n",
              " Prediction(uid='AP53MVRC8ZEW2', iid='B007V5A1BK', r_ui=4.0, est=4.333333333333333, details={'actual_k': 0, 'was_impossible': False}),\n",
              " Prediction(uid='A3CG93783LP0FO', iid='B000067RT6', r_ui=5.0, est=5, details={'actual_k': 2, 'was_impossible': False}),\n",
              " Prediction(uid='A22MANL4US4RMY', iid='B002QEBMAK', r_ui=5.0, est=4.803580067731011, details={'actual_k': 1, 'was_impossible': False}),\n",
              " Prediction(uid='A1WF4QNIE2Z3I7', iid='B003FVJYF8', r_ui=5.0, est=5, details={'actual_k': 1, 'was_impossible': False}),\n",
              " Prediction(uid='A2EF8N7ZE7ONWX', iid='B004J3ZV62', r_ui=5.0, est=4.363636363636363, details={'actual_k': 0, 'was_impossible': False}),\n",
              " Prediction(uid='ASRA2UZ3JV87B', iid='B008ALA6DW', r_ui=5.0, est=4.777777777777778, details={'actual_k': 0, 'was_impossible': False}),\n",
              " Prediction(uid='A259MPG6SOL02P', iid='B001OORMVQ', r_ui=5.0, est=3.5, details={'actual_k': 0, 'was_impossible': False}),\n",
              " Prediction(uid='A1V4VVBQBFXRHC', iid='B006LW0W5Y', r_ui=5.0, est=5, details={'actual_k': 2, 'was_impossible': False}),\n",
              " Prediction(uid='A1HBI9BBQIG1NH', iid='B0088CJT4U', r_ui=5.0, est=3.613730265595511, details={'actual_k': 5, 'was_impossible': False}),\n",
              " Prediction(uid='A3KNGMX2RVQG91', iid='B003ELVLKU', r_ui=5.0, est=3.875, details={'actual_k': 0, 'was_impossible': False}),\n",
              " Prediction(uid='A3TBMAWIIHKHFN', iid='B0013CED4I', r_ui=5.0, est=4.5, details={'actual_k': 0, 'was_impossible': False}),\n",
              " Prediction(uid='A2XRIU3SOYZ0ZC', iid='B0001F22PA', r_ui=4.0, est=3.142857142857143, details={'actual_k': 0, 'was_impossible': False}),\n",
              " Prediction(uid='A11EYMH9UV9XG7', iid='B00CIRLJPI', r_ui=4.0, est=3.28125, details={'actual_k': 1, 'was_impossible': False}),\n",
              " Prediction(uid='A1L5TA5UQF7EWE', iid='B008U3038I', r_ui=4.0, est=4.0, details={'actual_k': 0, 'was_impossible': False}),\n",
              " Prediction(uid='AT53ZTTO707MB', iid='B00HL7Z46K', r_ui=5.0, est=4.971423951511909, details={'actual_k': 2, 'was_impossible': False}),\n",
              " Prediction(uid='AM0QLU79O05JR', iid='B0098O6HGK', r_ui=2.0, est=4.298160932442798, details={'was_impossible': True, 'reason': 'User and/or item is unknown.'}),\n",
              " Prediction(uid='A3IRA0BHI9NE9U', iid='B00CHYKVR4', r_ui=3.0, est=4.298160932442798, details={'was_impossible': True, 'reason': 'User and/or item is unknown.'}),\n",
              " Prediction(uid='A8X8D4BUY5DFU', iid='B00267EJKC', r_ui=5.0, est=5, details={'actual_k': 0, 'was_impossible': False}),\n",
              " Prediction(uid='AZMY6E8B52L2T', iid='B002J46IYW', r_ui=5.0, est=3.9961240310077524, details={'actual_k': 1, 'was_impossible': False}),\n",
              " Prediction(uid='A2HMF8ZR67BNZS', iid='B002R9CQYK', r_ui=4.0, est=4.8, details={'actual_k': 0, 'was_impossible': False}),\n",
              " Prediction(uid='AATWFX0ZZSE6C', iid='B00069BVIK', r_ui=5.0, est=5, details={'actual_k': 0, 'was_impossible': False}),\n",
              " Prediction(uid='A2V0I904FH7ABY', iid='B004HW7KF0', r_ui=3.0, est=4.0, details={'actual_k': 0, 'was_impossible': False}),\n",
              " Prediction(uid='A3G7BEJJCPD6DS', iid='B004J4VYEY', r_ui=3.0, est=2.0826256210008243, details={'actual_k': 2, 'was_impossible': False}),\n",
              " Prediction(uid='A35W3JQYP0M655', iid='B008MWBY6W', r_ui=5.0, est=4.422214934562265, details={'actual_k': 2, 'was_impossible': False}),\n",
              " Prediction(uid='ABH9D1TEOJ56E', iid='B0000C8VEK', r_ui=5.0, est=3.75, details={'actual_k': 0, 'was_impossible': False}),\n",
              " Prediction(uid='A2IT7S59GSASN7', iid='B0019RBJOE', r_ui=5.0, est=3.6681096681096683, details={'actual_k': 1, 'was_impossible': False}),\n",
              " Prediction(uid='AJL3U764D7NI3', iid='B0095VPBM2', r_ui=5.0, est=5, details={'actual_k': 0, 'was_impossible': False}),\n",
              " Prediction(uid='A3D6OI36USYOU1', iid='B000068CNU', r_ui=5.0, est=5, details={'actual_k': 0, 'was_impossible': False}),\n",
              " Prediction(uid='A3QDY9I0CNMD2W', iid='B00005T3W5', r_ui=4.0, est=5, details={'actual_k': 0, 'was_impossible': False}),\n",
              " Prediction(uid='A21GW4L8FO307V', iid='B006QB1RPY', r_ui=5.0, est=4.4375, details={'actual_k': 0, 'was_impossible': False}),\n",
              " Prediction(uid='A1AKW788238PWQ', iid='B001P3PSSU', r_ui=5.0, est=4.298160932442798, details={'was_impossible': True, 'reason': 'User and/or item is unknown.'}),\n",
              " Prediction(uid='AG6TX1ZJHLMO7', iid='B000NLSGA2', r_ui=4.0, est=4.4, details={'actual_k': 0, 'was_impossible': False}),\n",
              " Prediction(uid='A25C2M3QF9G7OQ', iid='B004YRUDKM', r_ui=5.0, est=5, details={'actual_k': 0, 'was_impossible': False}),\n",
              " Prediction(uid='A361U4SXK7FCQE', iid='B005KFONIU', r_ui=4.0, est=4.5090738962759085, details={'actual_k': 3, 'was_impossible': False}),\n",
              " Prediction(uid='A1U5NWJOYH2QQH', iid='B0091TA5EW', r_ui=5.0, est=4.298160932442798, details={'was_impossible': True, 'reason': 'User and/or item is unknown.'}),\n",
              " Prediction(uid='A1JZFGZEZVWQPY', iid='B00F19PYR4', r_ui=5.0, est=5, details={'actual_k': 0, 'was_impossible': False}),\n",
              " Prediction(uid='ADKGE078JK8K7', iid='B007U5MGDC', r_ui=5.0, est=4.5, details={'actual_k': 0, 'was_impossible': False}),\n",
              " Prediction(uid='A2NP9CGUSFP22E', iid='B008JJLW4M', r_ui=5.0, est=4.826086956521739, details={'actual_k': 0, 'was_impossible': False}),\n",
              " Prediction(uid='A22R9L5DAVYYWR', iid='B001MYASTG', r_ui=4.0, est=4.0, details={'actual_k': 0, 'was_impossible': False}),\n",
              " Prediction(uid='A17V9XL4CWTQ6G', iid='B008X9Z528', r_ui=4.0, est=4.192307692307692, details={'actual_k': 1, 'was_impossible': False}),\n",
              " Prediction(uid='A22MANL4US4RMY', iid='B001D60LG8', r_ui=5.0, est=4.055555555555555, details={'actual_k': 0, 'was_impossible': False}),\n",
              " Prediction(uid='A3QNQQKJTL76H0', iid='B00EOE4G4E', r_ui=5.0, est=4.705331688548896, details={'actual_k': 5, 'was_impossible': False}),\n",
              " Prediction(uid='AR8LWDT6TUKNZ', iid='B007VGGIB6', r_ui=5.0, est=3.3333333333333335, details={'actual_k': 0, 'was_impossible': False}),\n",
              " Prediction(uid='A24HWYHR28JJ7A', iid='B004I5BUSO', r_ui=5.0, est=3.761764705882353, details={'actual_k': 1, 'was_impossible': False}),\n",
              " Prediction(uid='A3EZEP0FX5BC1P', iid='B009LU80RK', r_ui=4.0, est=3.7615894039735096, details={'actual_k': 1, 'was_impossible': False}),\n",
              " Prediction(uid='A3IUW081KXD3PE', iid='B005FVNHBI', r_ui=4.0, est=4.0847953216374275, details={'actual_k': 1, 'was_impossible': False}),\n",
              " Prediction(uid='A1JBEKU5TYIWE7', iid='B004286VMW', r_ui=5.0, est=4.888888888888889, details={'actual_k': 0, 'was_impossible': False}),\n",
              " Prediction(uid='A18FLOC8YQY0P8', iid='B002IT1BGI', r_ui=2.0, est=4.298160932442798, details={'was_impossible': True, 'reason': 'User and/or item is unknown.'}),\n",
              " Prediction(uid='A11YIHB6IW352W', iid='B004W2JKWG', r_ui=5.0, est=4.635207807334151, details={'actual_k': 3, 'was_impossible': False}),\n",
              " Prediction(uid='ABMF4UC4Z00NT', iid='B003ES5ZR8', r_ui=5.0, est=4.913043478260869, details={'actual_k': 0, 'was_impossible': False}),\n",
              " Prediction(uid='A1143YEAZYMYHJ', iid='B0035JKJ2W', r_ui=3.0, est=4.0, details={'actual_k': 0, 'was_impossible': False}),\n",
              " Prediction(uid='A1WF4QNIE2Z3I7', iid='B007R1FH3K', r_ui=5.0, est=4.571428571428571, details={'actual_k': 0, 'was_impossible': False}),\n",
              " Prediction(uid='A1VS1LL905P5L5', iid='B001FA1NZU', r_ui=3.0, est=5, details={'actual_k': 1, 'was_impossible': False}),\n",
              " Prediction(uid='A1I96OYAUJ3HQE', iid='B003K1EYM6', r_ui=5.0, est=4.3, details={'actual_k': 0, 'was_impossible': False}),\n",
              " Prediction(uid='A17UNMURMLX0ZE', iid='B0097CXWUW', r_ui=5.0, est=4.363759195641791, details={'actual_k': 3, 'was_impossible': False}),\n",
              " Prediction(uid='A3O4OIBCML0683', iid='B007K9P7H0', r_ui=5.0, est=4.298160932442798, details={'was_impossible': True, 'reason': 'User and/or item is unknown.'}),\n",
              " Prediction(uid='A2JE071UW97J2A', iid='B002V8C3W2', r_ui=5.0, est=5, details={'actual_k': 1, 'was_impossible': False}),\n",
              " Prediction(uid='A1F5O1USOUOOXI', iid='B00EO96W2I', r_ui=5.0, est=4.833333333333333, details={'actual_k': 0, 'was_impossible': False}),\n",
              " Prediction(uid='A1CPRP3VFJRS1R', iid='B0002L5R78', r_ui=5.0, est=5, details={'actual_k': 1, 'was_impossible': False}),\n",
              " Prediction(uid='A18L9A64XNGVGU', iid='B009QOGBZE', r_ui=4.0, est=4.298160932442798, details={'was_impossible': True, 'reason': 'User and/or item is unknown.'}),\n",
              " Prediction(uid='A2294LS59GC5K7', iid='B002V88HFE', r_ui=5.0, est=4.044799529364809, details={'actual_k': 5, 'was_impossible': False}),\n",
              " Prediction(uid='A27AF4DLLOBQDQ', iid='B003L76BJS', r_ui=4.0, est=5, details={'actual_k': 0, 'was_impossible': False}),\n",
              " Prediction(uid='A3TBMAWIIHKHFN', iid='B000BI7NHY', r_ui=3.0, est=3.25, details={'actual_k': 0, 'was_impossible': False}),\n",
              " Prediction(uid='A1FXT4VNDA25LY', iid='B00125Y0NU', r_ui=5.0, est=4.0, details={'actual_k': 0, 'was_impossible': False}),\n",
              " Prediction(uid='A19RGDJPNZ7NZ', iid='B0006LSIIE', r_ui=2.0, est=4.298160932442798, details={'was_impossible': True, 'reason': 'User and/or item is unknown.'}),\n",
              " Prediction(uid='A3Q4TYJVAM4IRM', iid='B00HG1L334', r_ui=5.0, est=5, details={'actual_k': 2, 'was_impossible': False}),\n",
              " Prediction(uid='A3S3VSXEFXBMRC', iid='B0074FGLUM', r_ui=5.0, est=4.7272727272727275, details={'actual_k': 0, 'was_impossible': False}),\n",
              " Prediction(uid='A2QDOJFFLFGF18', iid='B00366KE3I', r_ui=5.0, est=5, details={'actual_k': 0, 'was_impossible': False}),\n",
              " Prediction(uid='A3QU3O79AGNWCY', iid='B003ZKG10K', r_ui=5.0, est=4.5, details={'actual_k': 0, 'was_impossible': False}),\n",
              " Prediction(uid='A2W0XCWOK3MW6F', iid='B00EO302SO', r_ui=5.0, est=4.777777777777778, details={'actual_k': 0, 'was_impossible': False}),\n",
              " Prediction(uid='A30JPZ9TZ7I61U', iid='B0074FGLUM', r_ui=5.0, est=5, details={'actual_k': 1, 'was_impossible': False}),\n",
              " Prediction(uid='A2UOHALGF2X77Q', iid='B005QXX35K', r_ui=3.0, est=3.0, details={'actual_k': 0, 'was_impossible': False}),\n",
              " Prediction(uid='A1B4MIXYVIKMU2', iid='B000JMJWV2', r_ui=5.0, est=4.412897093434497, details={'actual_k': 4, 'was_impossible': False}),\n",
              " Prediction(uid='A9DYWY9VOSP1P', iid='B000P5AJXI', r_ui=5.0, est=4.333333333333333, details={'actual_k': 0, 'was_impossible': False}),\n",
              " Prediction(uid='A1J75JJ0Q2OEJN', iid='B00B8PRRTI', r_ui=4.0, est=5, details={'actual_k': 0, 'was_impossible': False}),\n",
              " Prediction(uid='A2W2ODLRQ2L8LE', iid='B002SGATH8', r_ui=5.0, est=4.1875, details={'actual_k': 0, 'was_impossible': False}),\n",
              " Prediction(uid='A20DZX38KRBIT8', iid='B0009WKBGC', r_ui=5.0, est=4.6, details={'actual_k': 0, 'was_impossible': False}),\n",
              " Prediction(uid='A37D1ZP8GBHE38', iid='B003LVZO8S', r_ui=4.0, est=4.7, details={'actual_k': 0, 'was_impossible': False}),\n",
              " Prediction(uid='A2KOV8XWZOZ0FQ', iid='B004FEEY9A', r_ui=5.0, est=3.8, details={'actual_k': 0, 'was_impossible': False}),\n",
              " Prediction(uid='A2RN2AO4BE6F4K', iid='B0017U8FTU', r_ui=3.0, est=4.0, details={'actual_k': 0, 'was_impossible': False}),\n",
              " Prediction(uid='A20951I210L0IB', iid='B000KEY7MS', r_ui=5.0, est=4.298160932442798, details={'was_impossible': True, 'reason': 'User and/or item is unknown.'}),\n",
              " Prediction(uid='AJX9A4Q19UTJU', iid='B0094S37GS', r_ui=4.0, est=4.298160932442798, details={'was_impossible': True, 'reason': 'User and/or item is unknown.'}),\n",
              " Prediction(uid='A1EXGL6L0QQ0M5', iid='B00B3PDH5G', r_ui=4.0, est=4.90192783639511, details={'actual_k': 2, 'was_impossible': False}),\n",
              " Prediction(uid='A30UP2KKD5IQEP', iid='B0088CJT4U', r_ui=4.0, est=4.565282799873849, details={'actual_k': 5, 'was_impossible': False}),\n",
              " Prediction(uid='A3MQAQT8C6D1I7', iid='B000Q82PIQ', r_ui=5.0, est=5, details={'actual_k': 1, 'was_impossible': False}),\n",
              " Prediction(uid='A3HR0ZZOFKQ97N', iid='B004BU6ITW', r_ui=5.0, est=4.298160932442798, details={'was_impossible': True, 'reason': 'User and/or item is unknown.'}),\n",
              " Prediction(uid='A3FS3FJPD3RJTD', iid='B004MMEI6Y', r_ui=1.0, est=4.5, details={'actual_k': 0, 'was_impossible': False}),\n",
              " Prediction(uid='ABAPF3XY1W6JX', iid='B0077E48IM', r_ui=5.0, est=4.298160932442798, details={'was_impossible': True, 'reason': 'User and/or item is unknown.'}),\n",
              " Prediction(uid='A3IY316DRNF5F2', iid='B006W8U2MU', r_ui=5.0, est=4.775, details={'actual_k': 0, 'was_impossible': False}),\n",
              " Prediction(uid='A2CIQEY05SPHTZ', iid='B003ES61EE', r_ui=5.0, est=3.6666666666666665, details={'actual_k': 0, 'was_impossible': False}),\n",
              " Prediction(uid='AL9WKVMRI6GFB', iid='B003VQQVDU', r_ui=4.0, est=3.0, details={'actual_k': 0, 'was_impossible': False}),\n",
              " Prediction(uid='A3R4794K2RVU1S', iid='B002SZEOLG', r_ui=5.0, est=4.716976730354438, details={'actual_k': 5, 'was_impossible': False}),\n",
              " Prediction(uid='A2OBDNQ5ZYU1L8', iid='B008H9BXMK', r_ui=3.0, est=4.439326108457592, details={'actual_k': 3, 'was_impossible': False}),\n",
              " Prediction(uid='A1PV5T5S4D5NPI', iid='B002AF5184', r_ui=5.0, est=4.298160932442798, details={'was_impossible': True, 'reason': 'User and/or item is unknown.'}),\n",
              " Prediction(uid='A11YOTONCPRQ9S', iid='B001R1X6OS', r_ui=1.0, est=4.298160932442798, details={'was_impossible': True, 'reason': 'User and/or item is unknown.'}),\n",
              " Prediction(uid='A3N0P5AAMP6XD2', iid='B0073WTG6M', r_ui=4.0, est=4.298160932442798, details={'was_impossible': True, 'reason': 'User and/or item is unknown.'}),\n",
              " Prediction(uid='AHS6PX6H22WW1', iid='B00FJWKYYG', r_ui=4.0, est=5, details={'actual_k': 2, 'was_impossible': False}),\n",
              " Prediction(uid='A31N0XY2UTB25C', iid='B002MZUNXU', r_ui=5.0, est=4.857142857142857, details={'actual_k': 0, 'was_impossible': False}),\n",
              " Prediction(uid='A30R8VFR16RE32', iid='B000M3ILF6', r_ui=5.0, est=4.666666666666667, details={'actual_k': 0, 'was_impossible': False}),\n",
              " Prediction(uid='A3F3B1JPACN215', iid='B009YT6PPC', r_ui=4.0, est=2.314985005346333, details={'actual_k': 2, 'was_impossible': False}),\n",
              " Prediction(uid='A3T8WOFS5RD2IR', iid='B000JO3Y1O', r_ui=5.0, est=5, details={'actual_k': 0, 'was_impossible': False}),\n",
              " Prediction(uid='A3VTOLNB5N6FVP', iid='B00AQRUW4Q', r_ui=4.0, est=3.814421250292161, details={'actual_k': 5, 'was_impossible': False}),\n",
              " Prediction(uid='A2SGAJWXG65464', iid='B005PSQ5TM', r_ui=5.0, est=5, details={'actual_k': 0, 'was_impossible': False}),\n",
              " Prediction(uid='A5KMMY627T3W', iid='B000HJPK0Y', r_ui=3.0, est=4.0, details={'actual_k': 0, 'was_impossible': False}),\n",
              " Prediction(uid='A3H4S6YO9VNGDZ', iid='B00CALLZK6', r_ui=5.0, est=4.666666666666667, details={'actual_k': 0, 'was_impossible': False}),\n",
              " Prediction(uid='A2NOW4U7W3F7RI', iid='B000NK3NBA', r_ui=5.0, est=5, details={'actual_k': 0, 'was_impossible': False}),\n",
              " Prediction(uid='A3FEGTOLCWXSV4', iid='B000N7VPRW', r_ui=4.0, est=5, details={'actual_k': 0, 'was_impossible': False}),\n",
              " Prediction(uid='A12LH2100CKQO', iid='B003VAHYTG', r_ui=5.0, est=4.222222222222222, details={'actual_k': 0, 'was_impossible': False}),\n",
              " Prediction(uid='A204K1OFE8OB9Y', iid='B00DVFLJDS', r_ui=2.0, est=4.142857142857143, details={'actual_k': 0, 'was_impossible': False}),\n",
              " Prediction(uid='A2OTQMC69J8MUI', iid='B008RZ0EQ0', r_ui=5.0, est=4.285714285714286, details={'actual_k': 0, 'was_impossible': False}),\n",
              " Prediction(uid='A3EPJSPH03AS29', iid='B000067SGI', r_ui=5.0, est=5, details={'actual_k': 0, 'was_impossible': False}),\n",
              " Prediction(uid='A17UNMURMLX0ZE', iid='B00F3F0EIU', r_ui=5.0, est=4.247729866669743, details={'actual_k': 5, 'was_impossible': False}),\n",
              " Prediction(uid='A9Y5O2R4D6EH5', iid='B00030097G', r_ui=5.0, est=5, details={'actual_k': 0, 'was_impossible': False}),\n",
              " Prediction(uid='A3FPSY1M6G7XIB', iid='B005HQ50SO', r_ui=3.0, est=5, details={'actual_k': 0, 'was_impossible': False}),\n",
              " Prediction(uid='A781ITP3HE2N5', iid='B00AWYMXZY', r_ui=5.0, est=4.0, details={'actual_k': 0, 'was_impossible': False}),\n",
              " Prediction(uid='A38QEATH3NODFM', iid='B007XOQI4S', r_ui=5.0, est=5, details={'actual_k': 0, 'was_impossible': False}),\n",
              " Prediction(uid='A3OXHLG6DIBRW8', iid='B000BY8BW4', r_ui=4.0, est=4.298160932442798, details={'was_impossible': True, 'reason': 'User and/or item is unknown.'}),\n",
              " Prediction(uid='AONUCJBC85BL', iid='B0050A1O5U', r_ui=4.0, est=4.267918832665814, details={'actual_k': 3, 'was_impossible': False}),\n",
              " Prediction(uid='A2AF0NOCM71J0B', iid='B003FBQKZ0', r_ui=5.0, est=4.0, details={'actual_k': 0, 'was_impossible': False}),\n",
              " Prediction(uid='A1B8EJQU73YGL9', iid='B00834SJNA', r_ui=5.0, est=5, details={'actual_k': 1, 'was_impossible': False}),\n",
              " Prediction(uid='A2F2GLVFRNV7JJ', iid='B000XZCIX4', r_ui=5.0, est=5, details={'actual_k': 0, 'was_impossible': False}),\n",
              " Prediction(uid='A3EXWV8FNSSFL6', iid='B000UY3NR8', r_ui=5.0, est=3.5, details={'actual_k': 0, 'was_impossible': False}),\n",
              " Prediction(uid='A3PD8JD9L4WEII', iid='B001OI2YNS', r_ui=5.0, est=5, details={'actual_k': 1, 'was_impossible': False}),\n",
              " Prediction(uid='A11KZ906QD08C5', iid='B000023VW2', r_ui=4.0, est=5, details={'actual_k': 0, 'was_impossible': False}),\n",
              " Prediction(uid='A2NQMVTQ4PVLL', iid='B001TH7GUU', r_ui=5.0, est=4.956155374264615, details={'actual_k': 5, 'was_impossible': False}),\n",
              " Prediction(uid='A38NHXL5257E3B', iid='B00CB2F65O', r_ui=5.0, est=5, details={'actual_k': 2, 'was_impossible': False}),\n",
              " Prediction(uid='A1IU7S4HCK1XK0', iid='B006GQHRU8', r_ui=4.0, est=1, details={'actual_k': 0, 'was_impossible': False}),\n",
              " Prediction(uid='A11I1I9QLMAM1A', iid='B002V5M5E6', r_ui=4.0, est=3.0, details={'actual_k': 0, 'was_impossible': False}),\n",
              " Prediction(uid='A3NCIN6TNL0MGA', iid='B005LS2GPI', r_ui=5.0, est=4.714285714285714, details={'actual_k': 0, 'was_impossible': False}),\n",
              " Prediction(uid='A2NSXY5L42ZUGO', iid='B003EWGD1Q', r_ui=5.0, est=5, details={'actual_k': 0, 'was_impossible': False}),\n",
              " Prediction(uid='AG6TX1ZJHLMO7', iid='B000IXP96Y', r_ui=5.0, est=5, details={'actual_k': 0, 'was_impossible': False}),\n",
              " Prediction(uid='AAXAKFQEAQPWC', iid='B000MUXJCO', r_ui=5.0, est=4.555555555555555, details={'actual_k': 0, 'was_impossible': False}),\n",
              " Prediction(uid='A3QX0ERX4D03TF', iid='B000V0IE5M', r_ui=4.0, est=5, details={'actual_k': 0, 'was_impossible': False}),\n",
              " Prediction(uid='A1F9Z42CFF9IAY', iid='B00006B7DA', r_ui=5.0, est=2.8474995014270137, details={'actual_k': 3, 'was_impossible': False}),\n",
              " Prediction(uid='A9Y5O2R4D6EH5', iid='B001B8EOMU', r_ui=4.0, est=4.0, details={'actual_k': 0, 'was_impossible': False}),\n",
              " Prediction(uid='A8FKL1DHTHC12', iid='B002ODIE54', r_ui=4.0, est=4.75, details={'actual_k': 0, 'was_impossible': False}),\n",
              " Prediction(uid='A27B1U3OWCU14J', iid='B000IM9542', r_ui=4.0, est=5, details={'actual_k': 0, 'was_impossible': False}),\n",
              " Prediction(uid='A4GHPW9AAH1NY', iid='B0011V1KZ6', r_ui=5.0, est=4.298160932442798, details={'was_impossible': True, 'reason': 'User and/or item is unknown.'}),\n",
              " Prediction(uid='A3QMJMTLJC34QC', iid='B000HCRVSK', r_ui=4.0, est=3.6666666666666665, details={'actual_k': 0, 'was_impossible': False}),\n",
              " Prediction(uid='A6FIAB28IS79', iid='B000MX48VM', r_ui=5.0, est=3.7505880213549747, details={'actual_k': 4, 'was_impossible': False}),\n",
              " Prediction(uid='ANW6EGY12V5XS', iid='B00591GIMY', r_ui=5.0, est=5, details={'actual_k': 0, 'was_impossible': False}),\n",
              " Prediction(uid='A3LDPF5FMB782Z', iid='B0015DNIOG', r_ui=4.0, est=4.666666666666667, details={'actual_k': 0, 'was_impossible': False}),\n",
              " Prediction(uid='A2NJQF2UI60VGT', iid='B001IEXU68', r_ui=5.0, est=5, details={'actual_k': 0, 'was_impossible': False}),\n",
              " Prediction(uid='A212MDP6K4VJS5', iid='B000VZCEUI', r_ui=5.0, est=4.8, details={'actual_k': 0, 'was_impossible': False}),\n",
              " Prediction(uid='A3TP31S61PPE3G', iid='B003YH9EZ8', r_ui=3.0, est=4.369213806875344, details={'actual_k': 2, 'was_impossible': False}),\n",
              " Prediction(uid='A1D9V11QUHXENQ', iid='B00JJNQG98', r_ui=5.0, est=5, details={'actual_k': 0, 'was_impossible': False}),\n",
              " Prediction(uid='A1HSM98KUGTHNY', iid='B000FVGM38', r_ui=4.0, est=4.333333333333333, details={'actual_k': 0, 'was_impossible': False}),\n",
              " Prediction(uid='A2WLNSZ9U0T1S3', iid='B004T9RR6I', r_ui=3.0, est=3.690124712489164, details={'actual_k': 5, 'was_impossible': False}),\n",
              " Prediction(uid='A2GMZZ6TDYOHY7', iid='B0027P9C9G', r_ui=5.0, est=5, details={'actual_k': 0, 'was_impossible': False}),\n",
              " Prediction(uid='A2BYV7S1QP2YIG', iid='B0041Q38NU', r_ui=5.0, est=3.827443974638906, details={'actual_k': 3, 'was_impossible': False}),\n",
              " Prediction(uid='AI8EMB0HUC6Z5', iid='B000652M6Y', r_ui=3.0, est=4.5, details={'actual_k': 0, 'was_impossible': False}),\n",
              " Prediction(uid='A10ZBR6O8S8OCY', iid='B001KURYAS', r_ui=4.0, est=4.487179487179487, details={'actual_k': 1, 'was_impossible': False}),\n",
              " Prediction(uid='A3T4OHEAHOJ700', iid='B004XZHY34', r_ui=5.0, est=3.912686512969851, details={'actual_k': 3, 'was_impossible': False}),\n",
              " Prediction(uid='A5Q1FK0FWU7DH', iid='B003EWNXFU', r_ui=5.0, est=3.5, details={'actual_k': 0, 'was_impossible': False}),\n",
              " Prediction(uid='AW6FQE5QRF2LM', iid='B004HHICKC', r_ui=5.0, est=5, details={'actual_k': 0, 'was_impossible': False}),\n",
              " Prediction(uid='A28UMA3GW9L124', iid='B000F34FVM', r_ui=2.0, est=4.583333333333333, details={'actual_k': 0, 'was_impossible': False}),\n",
              " Prediction(uid='A2OTQMC69J8MUI', iid='B000M2TAN4', r_ui=5.0, est=4.404166666666667, details={'actual_k': 1, 'was_impossible': False}),\n",
              " Prediction(uid='A2IFGGXG3YV3Y6', iid='B0036WT3ZM', r_ui=5.0, est=4.0, details={'actual_k': 0, 'was_impossible': False}),\n",
              " Prediction(uid='A4WEZJOIZIV4U', iid='B005HXFARS', r_ui=5.0, est=5, details={'actual_k': 0, 'was_impossible': False}),\n",
              " Prediction(uid='ALQ4USPEQ9L5N', iid='B007Q8GOHM', r_ui=4.0, est=3.8342084579046105, details={'actual_k': 5, 'was_impossible': False}),\n",
              " Prediction(uid='A30C8WHQ2CYFO4', iid='B0040JHVC2', r_ui=5.0, est=4.666666666666667, details={'actual_k': 0, 'was_impossible': False}),\n",
              " Prediction(uid='ABIVKBMSIPEDY', iid='B00ARB5FLQ', r_ui=4.0, est=3.0514119514112323, details={'actual_k': 5, 'was_impossible': False}),\n",
              " Prediction(uid='A1CPRP3VFJRS1R', iid='B0007N55OQ', r_ui=2.0, est=4.0, details={'actual_k': 0, 'was_impossible': False}),\n",
              " Prediction(uid='A291XTI6NO7DEG', iid='B00006364I', r_ui=4.0, est=4.298160932442798, details={'was_impossible': True, 'reason': 'User and/or item is unknown.'}),\n",
              " Prediction(uid='AA91O96C1Z18W', iid='B007G92MG8', r_ui=2.0, est=4.0, details={'actual_k': 0, 'was_impossible': False}),\n",
              " Prediction(uid='AXP8GO5Q3AXSA', iid='B0079TOEQQ', r_ui=5.0, est=4.14573992153945, details={'actual_k': 5, 'was_impossible': False}),\n",
              " Prediction(uid='A3J029KBNG5MNP', iid='B004CLYE8C', r_ui=5.0, est=4.905555555555555, details={'actual_k': 1, 'was_impossible': False}),\n",
              " Prediction(uid='AXP8GO5Q3AXSA', iid='B000PH2E3E', r_ui=4.0, est=4.298160932442798, details={'was_impossible': True, 'reason': 'User and/or item is unknown.'}),\n",
              " Prediction(uid='A3SQCTNYQFVBWM', iid='B0097252UK', r_ui=4.0, est=4.0, details={'actual_k': 0, 'was_impossible': False}),\n",
              " Prediction(uid='A33HIV8RXRDM88', iid='B005DSPLCQ', r_ui=5.0, est=4.3593194609655, details={'actual_k': 3, 'was_impossible': False}),\n",
              " Prediction(uid='A204K1OFE8OB9Y', iid='B0097252UK', r_ui=4.0, est=4.0, details={'actual_k': 0, 'was_impossible': False}),\n",
              " Prediction(uid='ASFP250F22MDZ', iid='B00CWBABP4', r_ui=1.0, est=3.857142857142857, details={'actual_k': 0, 'was_impossible': False}),\n",
              " Prediction(uid='A3QNQQKJTL76H0', iid='B002Y6CJJ8', r_ui=4.0, est=4.943355131172811, details={'actual_k': 5, 'was_impossible': False}),\n",
              " Prediction(uid='A4H4KYSM2KQ85', iid='B00AQRUW4Q', r_ui=2.0, est=4.645743311600095, details={'actual_k': 2, 'was_impossible': False}),\n",
              " Prediction(uid='A3MU9G6YWKTGTA', iid='B0057V9HQ0', r_ui=5.0, est=4.0, details={'actual_k': 0, 'was_impossible': False}),\n",
              " Prediction(uid='A22CW0ZHY3NJH8', iid='B0099TX7O4', r_ui=5.0, est=4.333333333333333, details={'actual_k': 0, 'was_impossible': False}),\n",
              " Prediction(uid='A7QMQBGJ2TCQG', iid='B001YI02CS', r_ui=2.0, est=5, details={'actual_k': 0, 'was_impossible': False}),\n",
              " Prediction(uid='A2BIJMB2BITQUM', iid='B003EYV224', r_ui=4.0, est=2.6363636363636367, details={'actual_k': 1, 'was_impossible': False}),\n",
              " Prediction(uid='A226VGZWOEBPGL', iid='B000VRYLU2', r_ui=5.0, est=2.0, details={'actual_k': 0, 'was_impossible': False}),\n",
              " Prediction(uid='A3D5B2CBFNJB0K', iid='B004T9RR6I', r_ui=5.0, est=3.8796306056473937, details={'actual_k': 3, 'was_impossible': False}),\n",
              " Prediction(uid='A2OT3PDH1AWLTG', iid='B000EHUR3O', r_ui=5.0, est=3.6666666666666665, details={'actual_k': 0, 'was_impossible': False}),\n",
              " Prediction(uid='A2WPL6Y08K6ZQH', iid='B002R5AM7C', r_ui=5.0, est=4.665481859404792, details={'actual_k': 5, 'was_impossible': False}),\n",
              " Prediction(uid='A20DDH4NT6Q1E8', iid='B001OOZ1X2', r_ui=4.0, est=4.727952403115351, details={'actual_k': 3, 'was_impossible': False}),\n",
              " Prediction(uid='AMKNPIDFLRFMP', iid='B0036WT3RU', r_ui=5.0, est=5, details={'actual_k': 0, 'was_impossible': False}),\n",
              " Prediction(uid='AVSMRPI23DQI2', iid='B0039ZLMK0', r_ui=5.0, est=4.298160932442798, details={'was_impossible': True, 'reason': 'User and/or item is unknown.'}),\n",
              " Prediction(uid='A2UOHALGF2X77Q', iid='B00FJRS5BA', r_ui=3.0, est=5, details={'actual_k': 2, 'was_impossible': False}),\n",
              " Prediction(uid='A3G5MOHY1U635N', iid='B008O2HVIK', r_ui=4.0, est=4.2023809523809526, details={'actual_k': 1, 'was_impossible': False}),\n",
              " Prediction(uid='ACHTDPEQYSEQL', iid='B004CLYEDC', r_ui=5.0, est=5, details={'actual_k': 2, 'was_impossible': False}),\n",
              " Prediction(uid='AZ515FFZ7I2P7', iid='B002QUZL10', r_ui=4.0, est=3.0, details={'actual_k': 0, 'was_impossible': False}),\n",
              " Prediction(uid='A2LCE1D0TW2XY0', iid='B00EOI2SR2', r_ui=3.0, est=4.545454545454546, details={'actual_k': 0, 'was_impossible': False}),\n",
              " Prediction(uid='A3OA4DV4L81N1D', iid='B000EW8074', r_ui=5.0, est=4.414715719063546, details={'actual_k': 1, 'was_impossible': False}),\n",
              " Prediction(uid='AG7EF0SVBQOUX', iid='B0002VAQR4', r_ui=4.0, est=4.5, details={'actual_k': 0, 'was_impossible': False}),\n",
              " Prediction(uid='A17HMM1M7T9PJ1', iid='B000NFIW98', r_ui=5.0, est=4.25, details={'actual_k': 0, 'was_impossible': False}),\n",
              " Prediction(uid='A3NOBH42C7UI5M', iid='B001GIPSAM', r_ui=4.0, est=4.666666666666667, details={'actual_k': 0, 'was_impossible': False}),\n",
              " Prediction(uid='A12EVK82QUTSA6', iid='B0012KZNP4', r_ui=4.0, est=5, details={'actual_k': 0, 'was_impossible': False}),\n",
              " Prediction(uid='A253IOATGMT2UP', iid='B003WPTBAK', r_ui=5.0, est=5, details={'actual_k': 1, 'was_impossible': False}),\n",
              " Prediction(uid='A2F2GLVFRNV7JJ', iid='B0041Q38NU', r_ui=5.0, est=4.906814400842018, details={'actual_k': 2, 'was_impossible': False}),\n",
              " Prediction(uid='A2X695AM08AIN1', iid='B00DBX371C', r_ui=5.0, est=4.816091954022988, details={'actual_k': 1, 'was_impossible': False}),\n",
              " Prediction(uid='A9LNWA25IM2DX', iid='B0063705PE', r_ui=3.0, est=4.345339054756009, details={'actual_k': 4, 'was_impossible': False}),\n",
              " Prediction(uid='A10PEXB6XAQ5XF', iid='B0084JFLTY', r_ui=4.0, est=3.875, details={'actual_k': 0, 'was_impossible': False}),\n",
              " Prediction(uid='A20H1M28WLI9J2', iid='B0017K6BD2', r_ui=5.0, est=4.5, details={'actual_k': 0, 'was_impossible': False}),\n",
              " Prediction(uid='A3CLWR1UUZT6TG', iid='B004CLYJ0K', r_ui=3.0, est=4.857142857142857, details={'actual_k': 0, 'was_impossible': False}),\n",
              " Prediction(uid='A1R6RKKE44AYA8', iid='B0043WJRRS', r_ui=5.0, est=5, details={'actual_k': 1, 'was_impossible': False}),\n",
              " Prediction(uid='AN0JK8OQLUC55', iid='B000SAB34O', r_ui=5.0, est=4.298160932442798, details={'was_impossible': True, 'reason': 'User and/or item is unknown.'}),\n",
              " Prediction(uid='A1S7BFT0HDF3HA', iid='B005I7KIUW', r_ui=4.0, est=4.298160932442798, details={'was_impossible': True, 'reason': 'User and/or item is unknown.'}),\n",
              " Prediction(uid='A22I55P15NSAOX', iid='B004BDOGL6', r_ui=4.0, est=4.666666666666667, details={'actual_k': 0, 'was_impossible': False}),\n",
              " Prediction(uid='A27M75LRSJ788H', iid='B00DTZYHX4', r_ui=5.0, est=5, details={'actual_k': 5, 'was_impossible': False}),\n",
              " Prediction(uid='A1J75JJ0Q2OEJN', iid='B00829TIA4', r_ui=5.0, est=5, details={'actual_k': 5, 'was_impossible': False}),\n",
              " Prediction(uid='A2ZFBTGPDP6PH6', iid='B000YK1JAG', r_ui=5.0, est=4.0, details={'actual_k': 0, 'was_impossible': False}),\n",
              " Prediction(uid='A215WH6RUDUCMP', iid='B008MF3X9K', r_ui=5.0, est=4.910068158659072, details={'actual_k': 5, 'was_impossible': False}),\n",
              " Prediction(uid='A34CSXOGVYF94S', iid='B007IXY472', r_ui=5.0, est=5, details={'actual_k': 0, 'was_impossible': False}),\n",
              " Prediction(uid='AOVTLYTHVDNUX', iid='B004YG7JV4', r_ui=5.0, est=4.75, details={'actual_k': 0, 'was_impossible': False}),\n",
              " Prediction(uid='A2RN2AO4BE6F4K', iid='B008M0NDOK', r_ui=4.0, est=4.0, details={'actual_k': 0, 'was_impossible': False}),\n",
              " Prediction(uid='A19RGDJPNZ7NZ', iid='B00007056H', r_ui=4.0, est=3.8333333333333335, details={'actual_k': 0, 'was_impossible': False}),\n",
              " Prediction(uid='A20DZX38KRBIT8', iid='B000JO7PIM', r_ui=1.0, est=4.666666666666667, details={'actual_k': 0, 'was_impossible': False}),\n",
              " Prediction(uid='A33PVCHCQ2BTN0', iid='B00B59NO5S', r_ui=5.0, est=3.0, details={'actual_k': 0, 'was_impossible': False}),\n",
              " Prediction(uid='A1LHMSY3Q46PJS', iid='B005QBK5V2', r_ui=5.0, est=2.0428571428571427, details={'actual_k': 1, 'was_impossible': False}),\n",
              " Prediction(uid='AVJORH3ACR2A5', iid='B00141AYM8', r_ui=5.0, est=3.5, details={'actual_k': 0, 'was_impossible': False}),\n",
              " Prediction(uid='A16HXVNPU5TCGE', iid='B001MQ8CBU', r_ui=5.0, est=4.298160932442798, details={'was_impossible': True, 'reason': 'User and/or item is unknown.'}),\n",
              " Prediction(uid='A2I357I10ZY7CI', iid='B003SQEAY0', r_ui=4.0, est=5, details={'actual_k': 1, 'was_impossible': False}),\n",
              " Prediction(uid='A2JMJVNTBL7K7E', iid='B003ES5ZUU', r_ui=5.0, est=4.342981716325971, details={'actual_k': 5, 'was_impossible': False}),\n",
              " Prediction(uid='AGATRDOFW48DK', iid='B000F7JCRA', r_ui=5.0, est=4.75, details={'actual_k': 0, 'was_impossible': False}),\n",
              " Prediction(uid='A16RI68PS6T5CA', iid='B0013FW8XS', r_ui=5.0, est=3.9852177770149715, details={'actual_k': 5, 'was_impossible': False}),\n",
              " Prediction(uid='A2BIJMB2BITQUM', iid='B00DB9WCR6', r_ui=5.0, est=4.75, details={'actual_k': 0, 'was_impossible': False}),\n",
              " Prediction(uid='A1J75JJ0Q2OEJN', iid='B005CLPP84', r_ui=4.0, est=4.2845250937277894, details={'actual_k': 5, 'was_impossible': False}),\n",
              " Prediction(uid='A6XDZ1MJ0B1A2', iid='B004XC6GJ0', r_ui=5.0, est=4.68, details={'actual_k': 0, 'was_impossible': False}),\n",
              " Prediction(uid='A2VODABWSVHV8E', iid='B00170MYIS', r_ui=5.0, est=5, details={'actual_k': 0, 'was_impossible': False}),\n",
              " Prediction(uid='A2HMF8ZR67BNZS', iid='B00000J1EQ', r_ui=5.0, est=5, details={'actual_k': 0, 'was_impossible': False}),\n",
              " Prediction(uid='A3LDFTSXU3UPBO', iid='B002DS7NJI', r_ui=5.0, est=4.298160932442798, details={'was_impossible': True, 'reason': 'User and/or item is unknown.'}),\n",
              " Prediction(uid='AKSQNMIKOU01H', iid='B0036AWR8E', r_ui=5.0, est=5, details={'actual_k': 0, 'was_impossible': False}),\n",
              " Prediction(uid='AEWYUPCNDV7HY', iid='B001OQC0IO', r_ui=4.0, est=4.142857142857143, details={'actual_k': 0, 'was_impossible': False}),\n",
              " Prediction(uid='A10O7THJ2O20AG', iid='B0000AQNX2', r_ui=5.0, est=4.5, details={'actual_k': 0, 'was_impossible': False}),\n",
              " Prediction(uid='A3IY316DRNF5F2', iid='B002KG6HZO', r_ui=5.0, est=3.0, details={'actual_k': 0, 'was_impossible': False}),\n",
              " Prediction(uid='A22CW0ZHY3NJH8', iid='B003AM8OXK', r_ui=4.0, est=4.298160932442798, details={'was_impossible': True, 'reason': 'User and/or item is unknown.'}),\n",
              " Prediction(uid='A2K5RRMPICZ606', iid='B002WE4HE2', r_ui=5.0, est=4.371428571428571, details={'actual_k': 1, 'was_impossible': False}),\n",
              " Prediction(uid='A3N8O68DOEQ2FE', iid='B004NBL9WK', r_ui=4.0, est=3.25, details={'actual_k': 0, 'was_impossible': False}),\n",
              " Prediction(uid='A9LNWA25IM2DX', iid='B00834SJNA', r_ui=4.0, est=4.236182046622862, details={'actual_k': 5, 'was_impossible': False}),\n",
              " Prediction(uid='A1SB9BNNGKNX2Z', iid='B005HSDLCO', r_ui=5.0, est=4.6, details={'actual_k': 0, 'was_impossible': False}),\n",
              " Prediction(uid='A22CW0ZHY3NJH8', iid='B002V8C3W2', r_ui=5.0, est=4.086041318019075, details={'actual_k': 3, 'was_impossible': False}),\n",
              " Prediction(uid='A2T24Z5QP2OMXU', iid='B005DLDO4U', r_ui=4.0, est=4.0, details={'actual_k': 0, 'was_impossible': False}),\n",
              " Prediction(uid='A1V5TRJXTI6F01', iid='B003DZ165W', r_ui=5.0, est=4.984669811320755, details={'actual_k': 1, 'was_impossible': False}),\n",
              " Prediction(uid='A2BCDZO1XQLDH', iid='B001U0O5QO', r_ui=4.0, est=3.727272727272727, details={'actual_k': 0, 'was_impossible': False}),\n",
              " Prediction(uid='A2RTVGR9B1M600', iid='B0038JE07O', r_ui=4.0, est=3.7, details={'actual_k': 0, 'was_impossible': False}),\n",
              " Prediction(uid='A680RUE1FDO8B', iid='B0074024XU', r_ui=5.0, est=5, details={'actual_k': 0, 'was_impossible': False}),\n",
              " Prediction(uid='A5JLAU2ARJ0BO', iid='B00009QSET', r_ui=5.0, est=4.5, details={'actual_k': 0, 'was_impossible': False}),\n",
              " Prediction(uid='A1H7Y5XKPGT0OS', iid='B00EEBS9O0', r_ui=4.0, est=4.25, details={'actual_k': 0, 'was_impossible': False}),\n",
              " Prediction(uid='A24HWYHR28JJ7A', iid='B0093H4VSS', r_ui=3.0, est=4.125, details={'actual_k': 0, 'was_impossible': False}),\n",
              " Prediction(uid='A2YRX8J4WM5BRX', iid='B003ZYF3LO', r_ui=5.0, est=4.5, details={'actual_k': 0, 'was_impossible': False}),\n",
              " Prediction(uid='A2JAEZ0FMAMJVW', iid='B00IVPU7DG', r_ui=5.0, est=4.166666666666667, details={'actual_k': 0, 'was_impossible': False}),\n",
              " Prediction(uid='A1KWPIORLG2QV', iid='B005PXOGWU', r_ui=5.0, est=4.298160932442798, details={'was_impossible': True, 'reason': 'User and/or item is unknown.'}),\n",
              " Prediction(uid='A3EXWV8FNSSFL6', iid='B001ELJER4', r_ui=5.0, est=3.2, details={'actual_k': 0, 'was_impossible': False}),\n",
              " Prediction(uid='A21NS06GDEA3V0', iid='B0045JCL22', r_ui=4.0, est=5, details={'actual_k': 0, 'was_impossible': False}),\n",
              " Prediction(uid='A3DWO5RJDA430F', iid='B000I1YIDQ', r_ui=3.0, est=4.833333333333333, details={'actual_k': 0, 'was_impossible': False}),\n",
              " Prediction(uid='A214W7SK2DJQ99', iid='B005DIYQA4', r_ui=4.0, est=4.298160932442798, details={'was_impossible': True, 'reason': 'User and/or item is unknown.'}),\n",
              " Prediction(uid='A200RY2ELZL2Q3', iid='B007L6NYAO', r_ui=5.0, est=4.5, details={'actual_k': 0, 'was_impossible': False}),\n",
              " Prediction(uid='A1VHCO8RQFIGQJ', iid='B00CRY250U', r_ui=5.0, est=4.636363636363637, details={'actual_k': 0, 'was_impossible': False}),\n",
              " Prediction(uid='A2JP9E1H0SF392', iid='B000CKVOOY', r_ui=5.0, est=4.7, details={'actual_k': 0, 'was_impossible': False}),\n",
              " Prediction(uid='A3F7USIDJBR8WU', iid='B0002MRO2S', r_ui=5.0, est=5, details={'actual_k': 0, 'was_impossible': False}),\n",
              " Prediction(uid='A250AXLRBVYKB4', iid='B0030DL37I', r_ui=5.0, est=4.25, details={'actual_k': 0, 'was_impossible': False}),\n",
              " Prediction(uid='A1RPTVW5VEOSI', iid='B002FL4WYW', r_ui=4.0, est=5, details={'actual_k': 0, 'was_impossible': False}),\n",
              " Prediction(uid='A2NOW4U7W3F7RI', iid='B001SER46K', r_ui=5.0, est=4.298160932442798, details={'was_impossible': True, 'reason': 'User and/or item is unknown.'}),\n",
              " Prediction(uid='A1ZBEIL78MLR9Z', iid='B001U3ZH7W', r_ui=4.0, est=4.63730590583623, details={'actual_k': 2, 'was_impossible': False}),\n",
              " Prediction(uid='ABH9D1TEOJ56E', iid='B00008OE6I', r_ui=5.0, est=4.6, details={'actual_k': 0, 'was_impossible': False}),\n",
              " Prediction(uid='A1EH2S92FHWZRP', iid='B000VK7LBA', r_ui=5.0, est=3.6666666666666665, details={'actual_k': 0, 'was_impossible': False}),\n",
              " Prediction(uid='A1UCAVBNJUZMPR', iid='B0038L54ZO', r_ui=5.0, est=5, details={'actual_k': 0, 'was_impossible': False}),\n",
              " Prediction(uid='AT6CZDCP4TRGA', iid='B0000511U7', r_ui=4.0, est=5, details={'actual_k': 0, 'was_impossible': False}),\n",
              " Prediction(uid='AT53ZTTO707MB', iid='B0082E9K7U', r_ui=5.0, est=5, details={'actual_k': 5, 'was_impossible': False}),\n",
              " Prediction(uid='A3OXHLG6DIBRW8', iid='B00461E7JE', r_ui=5.0, est=5, details={'actual_k': 2, 'was_impossible': False}),\n",
              " Prediction(uid='A314KKDIJWCNMV', iid='B0055FZIX4', r_ui=5.0, est=5, details={'actual_k': 0, 'was_impossible': False}),\n",
              " Prediction(uid='A1N5FSCYN4796F', iid='B004TLH6GM', r_ui=5.0, est=4.393939393939394, details={'actual_k': 1, 'was_impossible': False}),\n",
              " Prediction(uid='A2UKE7GIVC7XFW', iid='B009IKCKME', r_ui=4.0, est=4.0, details={'actual_k': 0, 'was_impossible': False}),\n",
              " Prediction(uid='AUBEFRFHJR64Y', iid='B005ES0YYA', r_ui=5.0, est=5, details={'actual_k': 0, 'was_impossible': False}),\n",
              " Prediction(uid='A1ZU55TM45Y2R8', iid='B000RZDBM2', r_ui=5.0, est=3.142857142857143, details={'actual_k': 0, 'was_impossible': False}),\n",
              " Prediction(uid='A6XLG77BC9R8R', iid='B00025742A', r_ui=5.0, est=4.298160932442798, details={'was_impossible': True, 'reason': 'User and/or item is unknown.'}),\n",
              " Prediction(uid='ABAPF3XY1W6JX', iid='B003VOW5WI', r_ui=4.0, est=4.25, details={'actual_k': 0, 'was_impossible': False}),\n",
              " Prediction(uid='A16WP8NTPYB0ZM', iid='B00BU80S6W', r_ui=3.0, est=4.298160932442798, details={'was_impossible': True, 'reason': 'User and/or item is unknown.'}),\n",
              " Prediction(uid='A32HSNCNPRUMTR', iid='B002AQSTXM', r_ui=1.0, est=4.298160932442798, details={'was_impossible': True, 'reason': 'User and/or item is unknown.'}),\n",
              " Prediction(uid='A25KKXUQQ0OLWB', iid='B004RO9L4Q', r_ui=4.0, est=5, details={'actual_k': 0, 'was_impossible': False}),\n",
              " Prediction(uid='A1D9V11QUHXENQ', iid='B003IEZBLS', r_ui=5.0, est=4.298160932442798, details={'was_impossible': True, 'reason': 'User and/or item is unknown.'}),\n",
              " Prediction(uid='A2YW6XOID7GV6G', iid='B001EYV9TM', r_ui=5.0, est=4.615384615384615, details={'actual_k': 0, 'was_impossible': False}),\n",
              " Prediction(uid='APMYPD97EHUUZ', iid='B00CRJWW2G', r_ui=5.0, est=4.734401869891222, details={'actual_k': 3, 'was_impossible': False}),\n",
              " Prediction(uid='A38NELQT98S4H8', iid='B007VL8Y2C', r_ui=4.0, est=5, details={'actual_k': 1, 'was_impossible': False}),\n",
              " Prediction(uid='A5QDZEOIMQ4LW', iid='B000KZALSG', r_ui=5.0, est=5, details={'actual_k': 0, 'was_impossible': False}),\n",
              " Prediction(uid='ADLVFFE4VBT8', iid='B00B4QESVQ', r_ui=5.0, est=4.4, details={'actual_k': 0, 'was_impossible': False}),\n",
              " Prediction(uid='A1G5MI2KREPEIB', iid='B000VE2RP6', r_ui=5.0, est=4.466666666666667, details={'actual_k': 0, 'was_impossible': False}),\n",
              " Prediction(uid='A3S5WYWYKSAI9C', iid='B005X9XVNQ', r_ui=3.0, est=4.352133209209648, details={'actual_k': 3, 'was_impossible': False}),\n",
              " Prediction(uid='A39K52QDP4C3ZS', iid='B003D8GAA0', r_ui=1.0, est=3.6666666666666665, details={'actual_k': 0, 'was_impossible': False}),\n",
              " Prediction(uid='A25RTRAPQAJBDJ', iid='B00DUTIZJG', r_ui=4.0, est=4.962606837606837, details={'actual_k': 1, 'was_impossible': False}),\n",
              " Prediction(uid='A7KBAXO177NND', iid='B00139W0XM', r_ui=5.0, est=4.138888888888888, details={'actual_k': 1, 'was_impossible': False}),\n",
              " Prediction(uid='A3LDPF5FMB782Z', iid='B0002SQ0A4', r_ui=4.0, est=4.0, details={'actual_k': 0, 'was_impossible': False}),\n",
              " Prediction(uid='AAA0TUKS5VBSA', iid='B0033160U2', r_ui=5.0, est=4.2, details={'actual_k': 0, 'was_impossible': False}),\n",
              " Prediction(uid='APOGXH3A74CM3', iid='B0018CWY3A', r_ui=5.0, est=3.0, details={'actual_k': 0, 'was_impossible': False}),\n",
              " Prediction(uid='AOVTLYTHVDNUX', iid='B00000K2YR', r_ui=4.0, est=4.298160932442798, details={'was_impossible': True, 'reason': 'User and/or item is unknown.'}),\n",
              " Prediction(uid='A19EKT8H85AKO5', iid='B00BLCLURI', r_ui=5.0, est=4.0, details={'actual_k': 0, 'was_impossible': False}),\n",
              " Prediction(uid='ACY9QYNDFLVBI', iid='B003L5D0OE', r_ui=5.0, est=4.25, details={'actual_k': 0, 'was_impossible': False}),\n",
              " Prediction(uid='A3E3EQ39FZTZEK', iid='B009YCASK2', r_ui=5.0, est=5, details={'actual_k': 0, 'was_impossible': False}),\n",
              " Prediction(uid='A2TA40MV2H4O6F', iid='B00007E89K', r_ui=5.0, est=5, details={'actual_k': 0, 'was_impossible': False}),\n",
              " Prediction(uid='AKSFZ4G1AXYFC', iid='B000IDUP3G', r_ui=5.0, est=4.298160932442798, details={'was_impossible': True, 'reason': 'User and/or item is unknown.'}),\n",
              " Prediction(uid='A1EVV74UQYVKRY', iid='B0037258L4', r_ui=5.0, est=4.298160932442798, details={'was_impossible': True, 'reason': 'User and/or item is unknown.'}),\n",
              " Prediction(uid='A1AKW788238PWQ', iid='B0007MWE28', r_ui=5.0, est=4.6, details={'actual_k': 0, 'was_impossible': False}),\n",
              " Prediction(uid='AB094YABX21WQ', iid='B0038JECKE', r_ui=5.0, est=4.333333333333333, details={'actual_k': 0, 'was_impossible': False}),\n",
              " Prediction(uid='A3DL29NLZ7SXXG', iid='B0072NPFH6', r_ui=5.0, est=4.298160932442798, details={'was_impossible': True, 'reason': 'User and/or item is unknown.'}),\n",
              " Prediction(uid='A215IN14OKAE2T', iid='B00004Z5PY', r_ui=4.0, est=4.25, details={'actual_k': 0, 'was_impossible': False}),\n",
              " Prediction(uid='AQNSQW4495SG0', iid='B0019SHZU0', r_ui=4.0, est=4.222222222222222, details={'actual_k': 0, 'was_impossible': False}),\n",
              " Prediction(uid='A1CMD08Z49PGKQ', iid='B007SM7O2U', r_ui=5.0, est=5, details={'actual_k': 1, 'was_impossible': False}),\n",
              " Prediction(uid='A1MNN0ZMHYPJDU', iid='B001DBF07I', r_ui=5.0, est=5, details={'actual_k': 0, 'was_impossible': False}),\n",
              " Prediction(uid='A2KOV8XWZOZ0FQ', iid='B00EU9V3VW', r_ui=5.0, est=5, details={'actual_k': 0, 'was_impossible': False}),\n",
              " Prediction(uid='A5JLAU2ARJ0BO', iid='B000117DGW', r_ui=4.0, est=5, details={'actual_k': 0, 'was_impossible': False}),\n",
              " Prediction(uid='AZAC8O310IK4E', iid='B000FFLWLQ', r_ui=5.0, est=4.0, details={'actual_k': 0, 'was_impossible': False}),\n",
              " Prediction(uid='A2Y29IRSI08F0I', iid='B00011KM38', r_ui=5.0, est=5, details={'actual_k': 0, 'was_impossible': False}),\n",
              " Prediction(uid='A3VBZDYGHF4NK8', iid='B000FVGM38', r_ui=4.0, est=4.871794871794871, details={'actual_k': 1, 'was_impossible': False}),\n",
              " Prediction(uid='A2PZXXPGLXXKZU', iid='B000OFSN4G', r_ui=5.0, est=4.4, details={'actual_k': 0, 'was_impossible': False}),\n",
              " Prediction(uid='A1UQBFCERIP7VJ', iid='B0099SMFP2', r_ui=5.0, est=4.255980902508548, details={'actual_k': 2, 'was_impossible': False}),\n",
              " Prediction(uid='A1U5NWJOYH2QQH', iid='B0007MXZB2', r_ui=1.0, est=3.8823529411764706, details={'actual_k': 0, 'was_impossible': False}),\n",
              " Prediction(uid='A1L1N3J6XNABO2', iid='B000E8SY5G', r_ui=4.0, est=4.298160932442798, details={'was_impossible': True, 'reason': 'User and/or item is unknown.'}),\n",
              " Prediction(uid='AKSFZ4G1AXYFC', iid='B0049P6OTI', r_ui=3.0, est=4.230769230769231, details={'actual_k': 0, 'was_impossible': False}),\n",
              " Prediction(uid='A1O229NVVDJUX2', iid='B000EMWBV0', r_ui=5.0, est=4.833333333333333, details={'actual_k': 0, 'was_impossible': False}),\n",
              " Prediction(uid='A3SMD3T0QTN109', iid='B0025VKUQG', r_ui=3.0, est=3.75, details={'actual_k': 0, 'was_impossible': False}),\n",
              " Prediction(uid='A2J7FHZFKOKGZ6', iid='B002TZAAT0', r_ui=1.0, est=4.298160932442798, details={'was_impossible': True, 'reason': 'User and/or item is unknown.'}),\n",
              " Prediction(uid='A36K2N527TXXJN', iid='B004JMZPJQ', r_ui=5.0, est=4.996124031007752, details={'actual_k': 1, 'was_impossible': False}),\n",
              " Prediction(uid='A1CN1P7147QDJC', iid='B00BN5Z2WM', r_ui=4.0, est=4.0, details={'actual_k': 0, 'was_impossible': False}),\n",
              " Prediction(uid='A3HXGSMCIOZEW8', iid='B005KOZNBW', r_ui=1.0, est=4.0476190476190474, details={'actual_k': 0, 'was_impossible': False}),\n",
              " Prediction(uid='A3EK2KTYHJCPB9', iid='B008HK3YOO', r_ui=4.0, est=3.3333333333333335, details={'actual_k': 0, 'was_impossible': False}),\n",
              " Prediction(uid='A1M7HP5CHDXXOU', iid='B007B6YPAM', r_ui=5.0, est=4.5, details={'actual_k': 0, 'was_impossible': False}),\n",
              " Prediction(uid='A1X3ESYZ79H59E', iid='B004N62HZI', r_ui=4.0, est=4.0, details={'actual_k': 0, 'was_impossible': False}),\n",
              " Prediction(uid='A36MP37DITBU6F', iid='B00HQ883QW', r_ui=5.0, est=4.683333333333333, details={'actual_k': 1, 'was_impossible': False}),\n",
              " Prediction(uid='A1NZLRAZJGD99W', iid='B00000JDF6', r_ui=2.0, est=5, details={'actual_k': 0, 'was_impossible': False}),\n",
              " Prediction(uid='A3RGJ1FXOB1ZLL', iid='B0019MEIOM', r_ui=5.0, est=5, details={'actual_k': 0, 'was_impossible': False}),\n",
              " Prediction(uid='A3P69DTOXII004', iid='B00DXWFF3E', r_ui=3.0, est=3.0, details={'actual_k': 0, 'was_impossible': False}),\n",
              " Prediction(uid='A1FF2PLA84KNAE', iid='B00133BAKM', r_ui=3.0, est=5, details={'actual_k': 0, 'was_impossible': False}),\n",
              " Prediction(uid='A1R377IPZOKLMM', iid='B000EWHEM6', r_ui=4.0, est=2.5, details={'actual_k': 0, 'was_impossible': False}),\n",
              " Prediction(uid='A13EQE9EY2ET93', iid='B001FFU1GC', r_ui=4.0, est=3.0, details={'actual_k': 0, 'was_impossible': False}),\n",
              " Prediction(uid='A64LEAZ2QF8L2', iid='B000FITKK8', r_ui=5.0, est=5, details={'actual_k': 2, 'was_impossible': False}),\n",
              " Prediction(uid='A2UOHALGF2X77Q', iid='B00CF030S2', r_ui=3.0, est=4.298160932442798, details={'was_impossible': True, 'reason': 'User and/or item is unknown.'}),\n",
              " Prediction(uid='A1GQRGB8FGSLIZ', iid='B00EOE4G4E', r_ui=5.0, est=3.885689769850142, details={'actual_k': 2, 'was_impossible': False}),\n",
              " Prediction(uid='AWNJAY0M5UI70', iid='B00969J3EU', r_ui=5.0, est=4.666666666666667, details={'actual_k': 0, 'was_impossible': False}),\n",
              " Prediction(uid='A3TRY87JJCA5Y8', iid='B004TLH7C0', r_ui=4.0, est=3.857142857142857, details={'actual_k': 0, 'was_impossible': False}),\n",
              " Prediction(uid='A2LFWJ8X817QGX', iid='B009SQQF9C', r_ui=5.0, est=4.619047619047619, details={'actual_k': 1, 'was_impossible': False}),\n",
              " Prediction(uid='A1CN1P7147QDJC', iid='B00007AP2O', r_ui=5.0, est=5, details={'actual_k': 0, 'was_impossible': False}),\n",
              " Prediction(uid='A1VQHH85U7PX0', iid='B008MF3X9K', r_ui=5.0, est=4.754809062797594, details={'actual_k': 5, 'was_impossible': False}),\n",
              " Prediction(uid='A3OA4DV4L81N1D', iid='B003LA595M', r_ui=5.0, est=2.6666666666666665, details={'actual_k': 0, 'was_impossible': False}),\n",
              " Prediction(uid='A2XA8CW5DF4MNZ', iid='B0039BPG1A', r_ui=5.0, est=5, details={'actual_k': 3, 'was_impossible': False}),\n",
              " Prediction(uid='AETQIN7OH0RL9', iid='B0062XB9FE', r_ui=3.0, est=4.777777777777778, details={'actual_k': 0, 'was_impossible': False}),\n",
              " Prediction(uid='AEZJTA4KDIWY8', iid='B0001UZQWG', r_ui=3.0, est=4.5, details={'actual_k': 0, 'was_impossible': False}),\n",
              " Prediction(uid='A1U5NWJOYH2QQH', iid='B001JTQUYG', r_ui=5.0, est=4.298160932442798, details={'was_impossible': True, 'reason': 'User and/or item is unknown.'}),\n",
              " Prediction(uid='A3RGHO0Q938FRS', iid='B00DR6DQZA', r_ui=5.0, est=5, details={'actual_k': 3, 'was_impossible': False}),\n",
              " Prediction(uid='A2NX6PABLIJLP1', iid='B0054JJ0QW', r_ui=5.0, est=4.7, details={'actual_k': 0, 'was_impossible': False}),\n",
              " Prediction(uid='A2MCRCK1V61FWQ', iid='B00AXWOLO6', r_ui=5.0, est=4.4, details={'actual_k': 0, 'was_impossible': False}),\n",
              " Prediction(uid='A30X750M8V1XXW', iid='B007FPIQ0E', r_ui=4.0, est=4.266666666666667, details={'actual_k': 0, 'was_impossible': False}),\n",
              " Prediction(uid='A12ANFNOSMW5VD', iid='B004XNLR16', r_ui=4.0, est=4.1, details={'actual_k': 0, 'was_impossible': False}),\n",
              " Prediction(uid='A1GNYV0RA0EQSS', iid='B00FLZ2F5W', r_ui=5.0, est=4.7038230348028165, details={'actual_k': 2, 'was_impossible': False}),\n",
              " Prediction(uid='AY3D7DG5L5WCK', iid='B004CLYE8C', r_ui=4.0, est=4.50129972402757, details={'actual_k': 3, 'was_impossible': False}),\n",
              " Prediction(uid='ANXEW7IDYDJEH', iid='B004SBI2PW', r_ui=5.0, est=4.333333333333333, details={'actual_k': 0, 'was_impossible': False}),\n",
              " Prediction(uid='ATFBVUXDIRXT6', iid='B002AKKFQ2', r_ui=5.0, est=4.0, details={'actual_k': 0, 'was_impossible': False}),\n",
              " Prediction(uid='A1LHMSY3Q46PJS', iid='B005HARR2W', r_ui=5.0, est=4.0, details={'actual_k': 0, 'was_impossible': False}),\n",
              " Prediction(uid='A1HBI9BBQIG1NH', iid='B004CLYEFK', r_ui=5.0, est=3.9936388735720576, details={'actual_k': 2, 'was_impossible': False}),\n",
              " Prediction(uid='A17BUUBOU0598B', iid='B000UKMZ94', r_ui=4.0, est=2.6509949819771323, details={'actual_k': 2, 'was_impossible': False}),\n",
              " Prediction(uid='AAEVGE52KL0DJ', iid='B007WTAJTO', r_ui=5.0, est=4.975455824051803, details={'actual_k': 4, 'was_impossible': False}),\n",
              " Prediction(uid='A361M14PU2GUEG', iid='B003M0NURK', r_ui=5.0, est=4.39928757491318, details={'actual_k': 2, 'was_impossible': False}),\n",
              " Prediction(uid='A1F7YU6O5RU432', iid='B0053R0WWG', r_ui=5.0, est=5, details={'actual_k': 5, 'was_impossible': False}),\n",
              " Prediction(uid='A2294LS59GC5K7', iid='B006G5ZVA2', r_ui=4.0, est=4.666666666666667, details={'actual_k': 0, 'was_impossible': False}),\n",
              " Prediction(uid='A23NSKTMSPPBTR', iid='B00DTZYHX4', r_ui=5.0, est=4.815212641037411, details={'actual_k': 2, 'was_impossible': False}),\n",
              " Prediction(uid='A1IU7S4HCK1XK0', iid='B002VPE1WK', r_ui=4.0, est=5, details={'actual_k': 1, 'was_impossible': False}),\n",
              " Prediction(uid='A38QEATH3NODFM', iid='B000BONJXU', r_ui=5.0, est=4.6, details={'actual_k': 0, 'was_impossible': False}),\n",
              " Prediction(uid='A34BZM6S9L7QI4', iid='B0042SDDXM', r_ui=2.0, est=3.3333333333333335, details={'actual_k': 0, 'was_impossible': False}),\n",
              " Prediction(uid='A31HOWJKEIY037', iid='B0097BEFYA', r_ui=4.0, est=4.444444444444445, details={'actual_k': 0, 'was_impossible': False}),\n",
              " Prediction(uid='A1VQHH85U7PX0', iid='B00009R6GE', r_ui=5.0, est=4.0, details={'actual_k': 0, 'was_impossible': False}),\n",
              " Prediction(uid='AQM0K7MBBT4AY', iid='B006CFU61U', r_ui=4.0, est=5, details={'actual_k': 1, 'was_impossible': False}),\n",
              " Prediction(uid='ABDR6IJ93HFIO', iid='B000O7OO24', r_ui=5.0, est=4.298160932442798, details={'was_impossible': True, 'reason': 'User and/or item is unknown.'}),\n",
              " Prediction(uid='A32NEDX6UVV8DE', iid='B000LRMS66', r_ui=5.0, est=4.815, details={'actual_k': 1, 'was_impossible': False}),\n",
              " Prediction(uid='A200DY76VXVGP9', iid='B008EQYRRY', r_ui=5.0, est=5, details={'actual_k': 1, 'was_impossible': False}),\n",
              " Prediction(uid='A2LEIANN1UZTHP', iid='B002LVUN6M', r_ui=5.0, est=4.298160932442798, details={'was_impossible': True, 'reason': 'User and/or item is unknown.'}),\n",
              " Prediction(uid='A2NOW4U7W3F7RI', iid='B0035LD0EY', r_ui=5.0, est=5, details={'actual_k': 0, 'was_impossible': False}),\n",
              " Prediction(uid='A14JBDSWKPKTZA', iid='B004CLYEE6', r_ui=4.0, est=4.5239134014721545, details={'actual_k': 4, 'was_impossible': False}),\n",
              " Prediction(uid='A3Q4TYJVAM4IRM', iid='B004CLYE8C', r_ui=4.0, est=4.723499358929917, details={'actual_k': 3, 'was_impossible': False}),\n",
              " Prediction(uid='ARTA78TP6H73D', iid='B008OEHV6U', r_ui=4.0, est=3.8, details={'actual_k': 0, 'was_impossible': False}),\n",
              " Prediction(uid='A18S2VGUH9SCV5', iid='B00511PS3C', r_ui=5.0, est=4.662790697674419, details={'actual_k': 1, 'was_impossible': False}),\n",
              " Prediction(uid='A3U41ZL33SS92P', iid='B0013DXVYK', r_ui=2.0, est=4.666666666666667, details={'actual_k': 0, 'was_impossible': False}),\n",
              " Prediction(uid='A1DB5QPH7WO488', iid='B005X9Y0YU', r_ui=4.0, est=4.52374332269718, details={'actual_k': 4, 'was_impossible': False}),\n",
              " Prediction(uid='A29KJ32G75L7G9', iid='B0039ORBLK', r_ui=5.0, est=5, details={'actual_k': 0, 'was_impossible': False}),\n",
              " Prediction(uid='A3QNX5KWHDV0GD', iid='B007JGB8R2', r_ui=1.0, est=5, details={'actual_k': 0, 'was_impossible': False}),\n",
              " Prediction(uid='A6VPK7X53QNAQ', iid='B00003G1RG', r_ui=5.0, est=4.0, details={'actual_k': 0, 'was_impossible': False}),\n",
              " Prediction(uid='A2HRHF83I3NDGT', iid='B003ZTWYXY', r_ui=5.0, est=5, details={'actual_k': 0, 'was_impossible': False}),\n",
              " Prediction(uid='AT8V3JOZD3KWK', iid='B005NX7HY6', r_ui=5.0, est=4.2, details={'actual_k': 0, 'was_impossible': False}),\n",
              " Prediction(uid='AU2UJF4I7KAWL', iid='B005BOMTT0', r_ui=5.0, est=5, details={'actual_k': 0, 'was_impossible': False}),\n",
              " Prediction(uid='A2OWR5G2OAQF7C', iid='B00FRKOFIQ', r_ui=5.0, est=4.587719298245615, details={'actual_k': 1, 'was_impossible': False}),\n",
              " Prediction(uid='A2SATO5BNKWY3Y', iid='B000SEQGT2', r_ui=3.0, est=5, details={'actual_k': 0, 'was_impossible': False}),\n",
              " Prediction(uid='A3P1508PZ0UADD', iid='B004G6002M', r_ui=5.0, est=2.587662337662338, details={'actual_k': 1, 'was_impossible': False}),\n",
              " Prediction(uid='A3OXHLG6DIBRW8', iid='B0000510T7', r_ui=5.0, est=5, details={'actual_k': 0, 'was_impossible': False}),\n",
              " Prediction(uid='ABVYGB2TKBO8F', iid='B00COYOAYW', r_ui=4.0, est=4.3, details={'actual_k': 0, 'was_impossible': False}),\n",
              " Prediction(uid='A2OKRGHIYTBQ6P', iid='B003CJQ69A', r_ui=5.0, est=4.5, details={'actual_k': 0, 'was_impossible': False}),\n",
              " Prediction(uid='A9Y5O2R4D6EH5', iid='B001AYW91I', r_ui=3.0, est=3.2699999999999996, details={'actual_k': 1, 'was_impossible': False}),\n",
              " Prediction(uid='A1F1A0QQP2XVH5', iid='B000SBCA7C', r_ui=5.0, est=4.0, details={'actual_k': 0, 'was_impossible': False}),\n",
              " Prediction(uid='A314KKDIJWCNMV', iid='B003FVVMS0', r_ui=4.0, est=4.886206896551724, details={'actual_k': 1, 'was_impossible': False}),\n",
              " Prediction(uid='A10PEXB6XAQ5XF', iid='B0040VGBYO', r_ui=4.0, est=4.298160932442798, details={'was_impossible': True, 'reason': 'User and/or item is unknown.'}),\n",
              " Prediction(uid='A17W0GMB0YY83M', iid='B0074F5DMO', r_ui=5.0, est=3.5, details={'actual_k': 0, 'was_impossible': False}),\n",
              " Prediction(uid='A38RMU1Y5TDP9', iid='B00EMHVVNM', r_ui=5.0, est=1.5202020202020199, details={'actual_k': 1, 'was_impossible': False}),\n",
              " Prediction(uid='A3U5HKDHPYBAK3', iid='B0001FTVEK', r_ui=4.0, est=4.142857142857143, details={'actual_k': 0, 'was_impossible': False}),\n",
              " Prediction(uid='A18EA7MNLXP9H5', iid='B000V1R96Q', r_ui=5.0, est=5, details={'actual_k': 0, 'was_impossible': False}),\n",
              " Prediction(uid='A2W2ODLRQ2L8LE', iid='B000FOYMKU', r_ui=4.0, est=5, details={'actual_k': 1, 'was_impossible': False}),\n",
              " Prediction(uid='A1MRRMHGV3PN5W', iid='B0082OJ2VE', r_ui=3.0, est=5, details={'actual_k': 0, 'was_impossible': False}),\n",
              " Prediction(uid='A12EVK82QUTSA6', iid='B003ES5ZUU', r_ui=5.0, est=3.935853018356516, details={'actual_k': 5, 'was_impossible': False}),\n",
              " Prediction(uid='ATOKT8QYK967L', iid='B00125Y0NU', r_ui=5.0, est=4.0, details={'actual_k': 0, 'was_impossible': False}),\n",
              " Prediction(uid='A2HXE29CU1I24Y', iid='B0020HR7DE', r_ui=3.0, est=3.4, details={'actual_k': 0, 'was_impossible': False}),\n",
              " Prediction(uid='A3LDFTSXU3UPBO', iid='B004NBZ8DQ', r_ui=5.0, est=4.428571428571429, details={'actual_k': 0, 'was_impossible': False}),\n",
              " Prediction(uid='A1S27P7KJO9I96', iid='B0099SMFP2', r_ui=5.0, est=4.357142857142857, details={'actual_k': 0, 'was_impossible': False}),\n",
              " Prediction(uid='A2D1LPEUCTNT8X', iid='B00CMF0SO4', r_ui=4.0, est=4.700823165225659, details={'actual_k': 3, 'was_impossible': False}),\n",
              " Prediction(uid='ANYC38I00IRVK', iid='B0021L9BME', r_ui=4.0, est=5, details={'actual_k': 0, 'was_impossible': False}),\n",
              " Prediction(uid='A2JAEZ0FMAMJVW', iid='B004CLYEH8', r_ui=5.0, est=4.980661467994949, details={'actual_k': 5, 'was_impossible': False}),\n",
              " Prediction(uid='AUBEFRFHJR64Y', iid='B007ZWLRSU', r_ui=4.0, est=5, details={'actual_k': 0, 'was_impossible': False}),\n",
              " Prediction(uid='A3QKIR8J56EUI1', iid='B003BEDQR6', r_ui=3.0, est=4.298160932442798, details={'was_impossible': True, 'reason': 'User and/or item is unknown.'}),\n",
              " Prediction(uid='A1MJMYLRTZ76ZX', iid='B001IUQB2W', r_ui=2.0, est=3.0, details={'actual_k': 0, 'was_impossible': False}),\n",
              " Prediction(uid='ADKZOXAOV8EXD', iid='B004431UBM', r_ui=5.0, est=3.5714285714285716, details={'actual_k': 0, 'was_impossible': False}),\n",
              " Prediction(uid='A1S27P7KJO9I96', iid='B0002A0206', r_ui=5.0, est=4.0, details={'actual_k': 0, 'was_impossible': False}),\n",
              " Prediction(uid='A2EZTM9WY5B5IL', iid='B001UHOX2S', r_ui=4.0, est=4.5, details={'actual_k': 0, 'was_impossible': False}),\n",
              " Prediction(uid='A1NGFGBX2VCQS8', iid='B005EJH6Z4', r_ui=5.0, est=4.3443855160778435, details={'actual_k': 3, 'was_impossible': False}),\n",
              " Prediction(uid='AWPODHOB4GFWL', iid='B0007Y79AI', r_ui=4.0, est=4.25, details={'actual_k': 0, 'was_impossible': False}),\n",
              " Prediction(uid='AW3LX47IHPFRL', iid='B000WG6XW6', r_ui=5.0, est=4.333333333333333, details={'actual_k': 0, 'was_impossible': False}),\n",
              " Prediction(uid='A34BZM6S9L7QI4', iid='B00E0EY7Z6', r_ui=4.0, est=4.598052313276475, details={'actual_k': 2, 'was_impossible': False}),\n",
              " Prediction(uid='AN0JK8OQLUC55', iid='B001FB568E', r_ui=5.0, est=4.298160932442798, details={'was_impossible': True, 'reason': 'User and/or item is unknown.'}),\n",
              " Prediction(uid='A3V6Z4RCDGRC44', iid='B006C248BC', r_ui=5.0, est=4.5, details={'actual_k': 0, 'was_impossible': False}),\n",
              " Prediction(uid='AAQ9NJ480N9W5', iid='B0015BYKGI', r_ui=3.0, est=4.5, details={'actual_k': 0, 'was_impossible': False}),\n",
              " Prediction(uid='A17Z0LVY96TO53', iid='B007FGYZFI', r_ui=5.0, est=4.7272727272727275, details={'actual_k': 0, 'was_impossible': False}),\n",
              " Prediction(uid='A23NSKTMSPPBTR', iid='B00005A1K1', r_ui=3.0, est=4.5, details={'actual_k': 0, 'was_impossible': False}),\n",
              " Prediction(uid='A2Y29IRSI08F0I', iid='B004S7QKDC', r_ui=5.0, est=5, details={'actual_k': 0, 'was_impossible': False}),\n",
              " Prediction(uid='AOJA1LC8PN7K1', iid='B000GQMHBI', r_ui=4.0, est=5, details={'actual_k': 0, 'was_impossible': False}),\n",
              " Prediction(uid='ABE5E8B3J7MKY', iid='B000067VB7', r_ui=5.0, est=4.298160932442798, details={'was_impossible': True, 'reason': 'User and/or item is unknown.'}),\n",
              " Prediction(uid='A17NVM7IAPF2NS', iid='B00D6XW62I', r_ui=5.0, est=4.85, details={'actual_k': 0, 'was_impossible': False}),\n",
              " Prediction(uid='A7EJERNB7IK3Z', iid='B0001FTVE0', r_ui=5.0, est=4.111111111111111, details={'actual_k': 0, 'was_impossible': False}),\n",
              " Prediction(uid='A2ZFBTGPDP6PH6', iid='B0028QWJTO', r_ui=5.0, est=4.0, details={'actual_k': 0, 'was_impossible': False}),\n",
              " Prediction(uid='A4S2WAQVQR6PI', iid='B000I68BD4', r_ui=2.0, est=3.8421052631578947, details={'actual_k': 0, 'was_impossible': False}),\n",
              " Prediction(uid='A2RGWCT6K2C3EZ', iid='B002ZIVKAE', r_ui=5.0, est=4.5, details={'actual_k': 0, 'was_impossible': False}),\n",
              " Prediction(uid='AYMD77ITD15PT', iid='B002JLZMN8', r_ui=4.0, est=5, details={'actual_k': 0, 'was_impossible': False}),\n",
              " Prediction(uid='ARIDN94LOCQFD', iid='B001DAIW74', r_ui=5.0, est=3.5, details={'actual_k': 0, 'was_impossible': False}),\n",
              " Prediction(uid='A1N5FSCYN4796F', iid='B003VAK1I2', r_ui=4.0, est=4.201923076923077, details={'actual_k': 1, 'was_impossible': False}),\n",
              " Prediction(uid='A2WPL6Y08K6ZQH', iid='B00ATM1M92', r_ui=5.0, est=4.125, details={'actual_k': 0, 'was_impossible': False}),\n",
              " Prediction(uid='A2BIJMB2BITQUM', iid='B00D6XSRL2', r_ui=5.0, est=4.316883116883117, details={'actual_k': 1, 'was_impossible': False}),\n",
              " Prediction(uid='A4UGMKUSX9XHI', iid='B00AEKEA48', r_ui=5.0, est=5, details={'actual_k': 0, 'was_impossible': False}),\n",
              " Prediction(uid='AGR1V15L6FLMA', iid='B007M50PTM', r_ui=5.0, est=4.0, details={'actual_k': 0, 'was_impossible': False}),\n",
              " Prediction(uid='A2DG63DN704LOI', iid='B009M27MB2', r_ui=5.0, est=4.454391467466277, details={'actual_k': 3, 'was_impossible': False}),\n",
              " Prediction(uid='A19RGDJPNZ7NZ', iid='B000MUXJCO', r_ui=4.0, est=4.555555555555555, details={'actual_k': 0, 'was_impossible': False}),\n",
              " Prediction(uid='AGLT3L7ALL4O4', iid='B000EEQ83K', r_ui=5.0, est=4.5, details={'actual_k': 0, 'was_impossible': False}),\n",
              " Prediction(uid='A2PICNZWHEINQC', iid='B008EQZ25K', r_ui=5.0, est=5, details={'actual_k': 1, 'was_impossible': False}),\n",
              " Prediction(uid='A2V0I904FH7ABY', iid='B00DUTIZJG', r_ui=3.0, est=5, details={'actual_k': 2, 'was_impossible': False}),\n",
              " Prediction(uid='A3PJJTAKISAFI9', iid='B002PXFJ2O', r_ui=1.0, est=4.298160932442798, details={'was_impossible': True, 'reason': 'User and/or item is unknown.'}),\n",
              " Prediction(uid='A1Z7U9K6X3FEOU', iid='B001CJOLBW', r_ui=4.0, est=3.6666666666666665, details={'actual_k': 0, 'was_impossible': False}),\n",
              " Prediction(uid='A31ICLWQ9CSHRS', iid='B0093H4WT6', r_ui=5.0, est=3.8830188679245277, details={'actual_k': 1, 'was_impossible': False}),\n",
              " Prediction(uid='AT09WGFUM934H', iid='B003XN24GY', r_ui=4.0, est=4.357142857142857, details={'actual_k': 0, 'was_impossible': False}),\n",
              " Prediction(uid='AEL6CQNQXONBX', iid='B008THTWIW', r_ui=4.0, est=4.2, details={'actual_k': 0, 'was_impossible': False}),\n",
              " Prediction(uid='A1EKSETIBS9ETQ', iid='B00FRDUZXM', r_ui=4.0, est=4.6, details={'actual_k': 0, 'was_impossible': False}),\n",
              " Prediction(uid='AR1T36GLLAFFX', iid='B004Q3R9B0', r_ui=5.0, est=4.454545454545454, details={'actual_k': 0, 'was_impossible': False}),\n",
              " Prediction(uid='A1LD5SE8IZ1H70', iid='B00EB7UIO6', r_ui=5.0, est=4.166666666666667, details={'actual_k': 0, 'was_impossible': False}),\n",
              " Prediction(uid='A3F7F7QKQP2FKT', iid='B003U9RHM2', r_ui=5.0, est=5, details={'actual_k': 0, 'was_impossible': False}),\n",
              " Prediction(uid='A1Y051MQ2SVPFI', iid='B000NP3DJW', r_ui=5.0, est=4.9375, details={'actual_k': 0, 'was_impossible': False}),\n",
              " Prediction(uid='A30ADSBTWCORYC', iid='B004J3V90Y', r_ui=5.0, est=4.3769230769230765, details={'actual_k': 1, 'was_impossible': False}),\n",
              " Prediction(uid='A1HFT68GJ42LTM', iid='B008OEHV6U', r_ui=5.0, est=3.8, details={'actual_k': 0, 'was_impossible': False}),\n",
              " Prediction(uid='A1AWL9JASMG904', iid='B000N99BBC', r_ui=4.0, est=4.365470969119233, details={'actual_k': 4, 'was_impossible': False}),\n",
              " Prediction(uid='AOMEH9W6LHC4S', iid='B000P1NAMO', r_ui=4.0, est=3.2, details={'actual_k': 0, 'was_impossible': False}),\n",
              " Prediction(uid='A1F1A0QQP2XVH5', iid='B004XQWGHW', r_ui=2.0, est=3.63692908687702, details={'actual_k': 4, 'was_impossible': False}),\n",
              " Prediction(uid='A376OJHLE6SU9Q', iid='B007G95FJE', r_ui=4.0, est=3.8333333333333335, details={'actual_k': 0, 'was_impossible': False}),\n",
              " Prediction(uid='A3QRR8PSCBI07C', iid='B00CM9K7E6', r_ui=4.0, est=4.298160932442798, details={'was_impossible': True, 'reason': 'User and/or item is unknown.'}),\n",
              " Prediction(uid='A3F9CBHV4OHFBS', iid='B001B077PO', r_ui=5.0, est=3.0, details={'actual_k': 0, 'was_impossible': False}),\n",
              " Prediction(uid='A2NOIWPJDD7WIQ', iid='B008J7IJOK', r_ui=5.0, est=4.298160932442798, details={'was_impossible': True, 'reason': 'User and/or item is unknown.'}),\n",
              " Prediction(uid='A2PB325LKXYDOL', iid='B000X24ISU', r_ui=5.0, est=4.62070369994172, details={'actual_k': 2, 'was_impossible': False}),\n",
              " Prediction(uid='ADKZOXAOV8EXD', iid='B0012DR4HG', r_ui=5.0, est=4.333333333333333, details={'actual_k': 0, 'was_impossible': False}),\n",
              " Prediction(uid='A1MQQEM7W77L62', iid='B003EYV224', r_ui=5.0, est=4.0, details={'actual_k': 0, 'was_impossible': False}),\n",
              " Prediction(uid='A2ZFFSJ0VM6KSJ', iid='B007MHFMMU', r_ui=3.0, est=4.298160932442798, details={'was_impossible': True, 'reason': 'User and/or item is unknown.'}),\n",
              " Prediction(uid='A3LWC833HQIG7J', iid='B005GOINEK', r_ui=3.0, est=4.42503877264159, details={'actual_k': 2, 'was_impossible': False}),\n",
              " Prediction(uid='A1EH2S92FHWZRP', iid='B0015GVQEC', r_ui=4.0, est=4.298160932442798, details={'was_impossible': True, 'reason': 'User and/or item is unknown.'}),\n",
              " Prediction(uid='A5JLAU2ARJ0BO', iid='B004HW7KF0', r_ui=5.0, est=4.0, details={'actual_k': 0, 'was_impossible': False}),\n",
              " Prediction(uid='A2F7CSE6KT7NI4', iid='B001P9XHHI', r_ui=5.0, est=4.5, details={'actual_k': 0, 'was_impossible': False}),\n",
              " Prediction(uid='A22MANL4US4RMY', iid='B0009I96LC', r_ui=5.0, est=5, details={'actual_k': 0, 'was_impossible': False}),\n",
              " Prediction(uid='A225G2TFM76GYX', iid='B001VEIYAC', r_ui=4.0, est=4.0, details={'actual_k': 0, 'was_impossible': False}),\n",
              " Prediction(uid='A15TABNGK6L4N3', iid='B0064VP70W', r_ui=5.0, est=3.6666666666666665, details={'actual_k': 0, 'was_impossible': False}),\n",
              " Prediction(uid='A36MP37DITBU6F', iid='B00CPIF4G0', r_ui=4.0, est=4.5, details={'actual_k': 0, 'was_impossible': False}),\n",
              " Prediction(uid='AMKNPIDFLRFMP', iid='B0092MD8OW', r_ui=2.0, est=3.2147227903029, details={'actual_k': 2, 'was_impossible': False}),\n",
              " Prediction(uid='A1VS1LL905P5L5', iid='B002AKKFQ2', r_ui=1.0, est=4.0, details={'actual_k': 0, 'was_impossible': False}),\n",
              " Prediction(uid='A3CLWR1UUZT6TG', iid='B001TLEXES', r_ui=5.0, est=4.298160932442798, details={'was_impossible': True, 'reason': 'User and/or item is unknown.'}),\n",
              " Prediction(uid='A34LQ791ACZ0JC', iid='B004E9SGO0', r_ui=5.0, est=4.666666666666667, details={'actual_k': 0, 'was_impossible': False}),\n",
              " Prediction(uid='AYMD77ITD15PT', iid='B001I45TA8', r_ui=5.0, est=4.0, details={'actual_k': 0, 'was_impossible': False}),\n",
              " Prediction(uid='A1EVV74UQYVKRY', iid='B00CHH0JF0', r_ui=5.0, est=5, details={'actual_k': 5, 'was_impossible': False}),\n",
              " Prediction(uid='A314KKDIJWCNMV', iid='B002KMR2IE', r_ui=5.0, est=5, details={'actual_k': 0, 'was_impossible': False}),\n",
              " Prediction(uid='A2WC9NFLG57W4H', iid='B001OI2Z4Q', r_ui=5.0, est=4.8018762531394135, details={'actual_k': 3, 'was_impossible': False}),\n",
              " Prediction(uid='A2L4ZGN7GZJ95T', iid='B00FF8ZRR8', r_ui=4.0, est=4.648704176550774, details={'actual_k': 3, 'was_impossible': False}),\n",
              " Prediction(uid='AGVWTYW0ULXHT', iid='B00GEBTFNM', r_ui=4.0, est=3.7756410256410255, details={'actual_k': 1, 'was_impossible': False}),\n",
              " Prediction(uid='A2YRX8J4WM5BRX', iid='B000IXNEI4', r_ui=5.0, est=4.298160932442798, details={'was_impossible': True, 'reason': 'User and/or item is unknown.'}),\n",
              " Prediction(uid='A1EH2S92FHWZRP', iid='B0025PKFUI', r_ui=5.0, est=5, details={'actual_k': 0, 'was_impossible': False}),\n",
              " Prediction(uid='ASF3J4UYV34KA', iid='B003MVMTDA', r_ui=5.0, est=4.666666666666667, details={'actual_k': 0, 'was_impossible': False}),\n",
              " Prediction(uid='A12R3YGEHW7D8G', iid='B000L9OIQC', r_ui=4.0, est=4.125, details={'actual_k': 1, 'was_impossible': False}),\n",
              " Prediction(uid='A3VTOLNB5N6FVP', iid='B00AO1L1RG', r_ui=4.0, est=4.0, details={'actual_k': 0, 'was_impossible': False}),\n",
              " Prediction(uid='A18GJ9MYYO6GCQ', iid='B0046TJG1U', r_ui=5.0, est=4.928571428571429, details={'actual_k': 0, 'was_impossible': False}),\n",
              " Prediction(uid='A2JP9E1H0SF392', iid='B002EL4RIO', r_ui=5.0, est=5, details={'actual_k': 1, 'was_impossible': False}),\n",
              " ...]"
            ]
          },
          "metadata": {
            "tags": []
          },
          "execution_count": 81
        }
      ]
    },
    {
      "cell_type": "code",
      "metadata": {
        "id": "PmYLsdgm8t9f",
        "outputId": "43a21ab5-297e-455b-a7d6-c4cc367feb19",
        "colab": {
          "base_uri": "https://localhost:8080/",
          "height": 68
        }
      },
      "source": [
        "# get RMSE\n",
        "print(\"Item-based Model : Test Set\")\n",
        "accuracy.rmse(test_pred, verbose=True)"
      ],
      "execution_count": 82,
      "outputs": [
        {
          "output_type": "stream",
          "text": [
            "Item-based Model : Test Set\n",
            "RMSE: 1.1211\n"
          ],
          "name": "stdout"
        },
        {
          "output_type": "execute_result",
          "data": {
            "text/plain": [
              "1.1210884014038527"
            ]
          },
          "metadata": {
            "tags": []
          },
          "execution_count": 82
        }
      ]
    },
    {
      "cell_type": "code",
      "metadata": {
        "id": "_FRGX_qV-GAs"
      },
      "source": [
        "from collections import defaultdict\n",
        "def get_top_n(predictions, n=5):\n",
        "    \"\"\"Return the top-N recommendation for each user from a set of predictions.\n",
        "\n",
        "    Args:\n",
        "        predictions(list of Prediction objects): The list of predictions, as\n",
        "            returned by the test method of an algorithm.\n",
        "        n(int): The number of recommendation to output for each user. Default\n",
        "            is 5.\n",
        "\n",
        "    Returns:\n",
        "    A dict where keys are user (raw) ids and values are lists of tuples:\n",
        "        [(raw item id, rating estimation), ...] of size n.\n",
        "    \"\"\"\n",
        "\n",
        "    # First map the predictions to each user.\n",
        "    top_n = defaultdict(list)\n",
        "    for uid, iid, true_r, est, _ in predictions:\n",
        "        top_n[uid].append((iid, est))\n",
        "\n",
        "    # Then sort the predictions for each user and retrieve the k highest ones.\n",
        "    for uid, user_ratings in top_n.items():\n",
        "        user_ratings.sort(key=lambda x: x[1], reverse=True)\n",
        "        top_n[uid] = user_ratings[:n]\n",
        "\n",
        "    return top_n"
      ],
      "execution_count": 83,
      "outputs": []
    },
    {
      "cell_type": "code",
      "metadata": {
        "id": "4Ey6qaez-2fH"
      },
      "source": [
        "#Get the top 5 items for each user\n",
        "top_n = get_top_n(test_pred, n=5)"
      ],
      "execution_count": 84,
      "outputs": []
    },
    {
      "cell_type": "code",
      "metadata": {
        "id": "rjfhjjdi_N-0",
        "outputId": "8ee7c179-8610-4851-d711-875294aeb6fd",
        "colab": {
          "base_uri": "https://localhost:8080/",
          "height": 1000
        }
      },
      "source": [
        "# Print the recommended items for each user\n",
        "for uid, user_ratings in top_n.items():\n",
        "    print(uid, [iid for (iid, _) in user_ratings])"
      ],
      "execution_count": 85,
      "outputs": [
        {
          "output_type": "stream",
          "text": [
            "A1VQBEW0G4IH1J ['B0028LK6IU', 'B00GHY5F3K', 'B00BQ5RY1G', 'B004CLYEFK', 'B0039NLS3I']\n",
            "A3OXHLG6DIBRW8 ['B00461E7JE', 'B0000510T7', 'B000FQ2JLW', 'B0093AN1OA', 'B00012FVYC']\n",
            "ADLVFFE4VBT8 ['B004MSI7UQ', 'B0011FQUUW', 'B00L3YHF6O', 'B008YRG5JQ', 'B007M506WS']\n",
            "A1EH2S92FHWZRP ['B0025PKFUI', 'B000PO3CTM', 'B00000J4FS', 'B002KANXBG', 'B00FRMAOIO']\n",
            "A1PAGHECG401K1 ['B003ZTWYXY', 'B0036OR91A', 'B00BOZCUG2', 'B007M58WWO', 'B005J7YA4G']\n",
            "AD0J5KK4WQXNS ['B0007NIJBC', 'B0002ED4PM', 'B000051SGX', 'B000HAR8UI', 'B00007KDVI']\n",
            "A231WM2Z2JL0U3 ['B000028F42', 'B0000630TO', 'B00007K3A3', 'B00005B8HO', 'B00005AC8J']\n",
            "A26KXNN6H1IL0I ['B003TJALAI', 'B000RZ8WHG', 'B003Q0BPC8', 'B000VWPULQ', 'B0012Y541S']\n",
            "A3JU990UTN5RQP ['B003VSTDFG', 'B0078GCLRY', 'B006HUMYCO', 'B002YU83YO', 'B003SX0OR0']\n",
            "A105TOJ6LTVMBG ['B003MB0WMA', 'B00135IILO', 'B0019EHU8G', 'B004W2BAXI', 'B00029U1DK']\n",
            "A25WJCAP606YMP ['B0006Q3B2W', 'B0055Q2VNI', 'B00180LGX6', 'B00BG5M93Y', 'B00ALN54KM']\n",
            "A1TDR7Y90SVCHL ['B003SX0O2K', 'B001K7I62Q', 'B00BCPIFC2', 'B007WTAJTO', 'B00461E7JE']\n",
            "A3Q4TYJVAM4IRM ['B00HG1L334', 'B0036AWR8E', 'B0017VRGXU', 'B00C28L138', 'B005LSS1D4']\n",
            "ARBKYIVNYWK3C ['B0019M6GP6', 'B000IGGCCG', 'B001GS8G24', 'B006GWO7UA', 'B0006I1TRY']\n",
            "ATZJNEXX7LWD3 ['B00CGVF8E4', 'B002VPE21A', 'B001TH7GT6', 'B0031RG29M', 'B001DJ9GOS']\n",
            "A17BUUBOU0598B ['B0013WNVU0', 'B0012LWG9O', 'B00070QI1I', 'B000OFTRKU', 'B00126V8WU']\n",
            "ANYC38I00IRVK ['B0021L9BME', 'B004CADY9I', 'B007QOX5A0', 'B0053VZUW4', 'B004C9P9TM']\n",
            "AN9CP6J4JF91X ['B000QUUFRW', 'B000KO0GY6', 'B00CG70K78', 'B004P1V8TM', 'B008RI1YKC']\n",
            "A1TQZUSOU22E9M ['B001OI2YNS', 'B001TK3ACA', 'B00005LEN4', 'B002JM1V6O', 'B006DEBYWU']\n",
            "A1ILWPH1GHUXE2 ['B007RZB3KM', 'B000I1X3W8', 'B0040X4PQI', 'B001DFZ5HO', 'B008BBR8CI']\n",
            "A3TP31S61PPE3G ['B009SYZ8OC', 'B003I4FHNA', 'B003RRYAXQ', 'B0048IATQ0', 'B00BFO14W8']\n",
            "A54S9CIUV5VNB ['B00F19Q7YI', 'B001TH7GUU', 'B000068O1A', 'B00GTGETFG', 'B00APCMMDG']\n",
            "A141OPVE376YFI ['B002TKS0S8', 'B00126V8WU', 'B002WE6D44', 'B0000BZL1P', 'B001CIREXA']\n",
            "AS8C336DDLSO4 ['B009SYZ8OC', 'B004CLYEDC', 'B00BWL33H8', 'B000MX48VM', 'B001O94GNS']\n",
            "A3GFQHHVMEAIO ['B00447GA2W', 'B002DYIXMI', 'B000IJV4BC', 'B001BRXW74', 'B001MXON98']\n",
            "A3N4I2KRSMACW8 ['B003UI62AG', 'B00142JKSG', 'B0011UIXLG', 'B005J2E2US', 'B00BCGRTFK']\n",
            "A2WXURU33RBGQS ['B003F8UWUM', 'B0029L4NX8', 'B001C9KW88', 'B001C48HTO', 'B001XURP7W']\n",
            "AGEWOMQ90BV8R ['B00BQ4F9ZA', 'B000IWTHYA', 'B004NY9UUK', 'B008H6HFZM', 'B001KUXMPE']\n",
            "A3W4D8XOGLWUN5 ['B0009K9FZW', 'B00001OWYM', 'B0007Y798U', 'B002M3SOC4', 'B007PJ4P4G']\n",
            "A3JU16JTNLVK1J ['B000Y16TY6', 'B0041MY32Y', 'B004HR0M4Q', 'B000UHQVOW', 'B001KN6WL2']\n",
            "A3VBZDYGHF4NK8 ['B00DQZPCTA', 'B000FVGM38', 'B00FZ9SM4M', 'B002R5AM7C', 'B000JMJWV2']\n",
            "A1PN2U0AWXGVML ['B007WTAJTO', 'B0007VPFI4', 'B000PF886S', 'B002M78EA2', 'B002OL2NT4']\n",
            "A3B20R4ZAH0Y2Y ['B00HFRWWAM', 'B001XURPQI', 'B000NP3DJW', 'B00CB2F65O', 'B005IA844Q']\n",
            "A6FIAB28IS79 ['B000066R6M', 'B000SB9K5W', 'B000P1R9QM', 'B0017Q8B70', 'B0042F3K9W']\n",
            "A2WB7LZ595CR50 ['B00BQ4F9ZA', 'B007R5YDYA', 'B004PYD9I2', 'B0012Y6HC8', 'B0092ML8QW']\n",
            "A2VH0UT5EQFB6P ['B005OB1TU0', 'B000JE7GPY', 'B007X3VC7W', 'B005IVLJZG', 'B0014C0IAK']\n",
            "A38KK0SZYEH5UD ['B000VJX7DW', 'B001PS9E5I', 'B002O3MVYO', 'B0016XIQ1U', 'B0013A1XDY']\n",
            "A2LF07KCXDR70D ['B00006JPDI', 'B0009MX5R4', 'B0079MX4Q4', 'B0014H16V0', 'B0002GX1XA']\n",
            "A34CSXOGVYF94S ['B007IXY472', 'B006291K7A', 'B00JDAIMQ2', 'B00HG1L334', 'B00G4V0QSK']\n",
            "A11FX8HL2ANK6T ['B002SSK9VW', 'B001P7CAZ0', 'B0034XRDUA', 'B0007LBPBA', 'B001NDYTKA']\n",
            "A2NX6PABLIJLP1 ['B000EVT0XS', 'B00113XADE', 'B007R5YDYA', 'B000M2GYF6', 'B0054JJ0QW']\n",
            "A1CMD08Z49PGKQ ['B002LK2QJK', 'B004QJ9JLW', 'B006DKEUAM', 'B009VK26J8', 'B00BOHNYTW']\n",
            "A35A2RWUMC737N ['B003HHK576', 'B001ENI3C4', 'B009SQQF9C', 'B004B8GF7Y', 'B000067RC4']\n",
            "A2GMZZ6TDYOHY7 ['B0027P9C9G', 'B007R5YDYA', 'B003547GRI', 'B006WXK874', 'B00005114Z']\n",
            "A2V0I904FH7ABY ['B00DUTIZJG', 'B001DJ64D4', 'B002OEBTC8', 'B004J8HWHI', 'B00003WGP5']\n",
            "AUCIFMWP3DU8R ['B0058P0I2C', 'B0035WTVZA', 'B002SIMPXM', 'B004AK154Q', 'B0094S37GS']\n",
            "A1OMXVXXP07F05 ['B004GCJEZU', 'B00426D9KQ', 'B006ZH0KVG', 'B0064RY5PO', 'B0046TJG1U']\n",
            "A2BLFCOPSMBOZ9 ['B00BERGFV6', 'B000C12GH2', 'B00IKCQ0EK', 'B00CIZ2238', 'B00005T3G0']\n",
            "A3QQGPI3CTV9SX ['B0013BT8US', 'B000BY52NK', 'B000L7INLU', 'B000NONHYY', 'B00006HOAQ']\n",
            "A2GKMXRLI7KLFP ['B002SQ9ZX2', 'B00461E7JE', 'B003ZDLATE', 'B0002TPFTA', 'B005D5M136']\n",
            "A2QI2NTDTMK2FV ['B000BFYPM8', 'B0013FLTNS', 'B000N99BBC', 'B001AO4MWW', 'B003P2UMQ2']\n",
            "A2MCRCK1V61FWQ ['B002XMP7K6', 'B001IYCMNA', 'B004ING996', 'B00DP1WYD2', 'B0002Y5WZM']\n",
            "A10ZFE6YE0UHW8 ['B007472SZ2', 'B003L139HG', 'B004UHDUNI', 'B005AY01RI', 'B00BJ17WKK']\n",
            "A25UZ7MA72SMKM ['B003CFATT2', 'B00HFRWWAM', 'B0014VY28A', 'B000BQ7GW8', 'B0041G633W']\n",
            "A2WLNSZ9U0T1S3 ['B001BYB5ZS', 'B003ES5ZQE', 'B000GA7048', 'B007FPIQ0E', 'B00AJHDZSI']\n",
            "A2D1ZQEFS1NBH2 ['B008GVM9K4', 'B003VANOI6', 'B0054JJ0QW', 'B001CZ5BOW', 'B001DLTDQC']\n",
            "A34LQ791ACZ0JC ['B004CRSM4I', 'B002W4M0DW', 'B003L62T7W', 'B004E9SGO0', 'B00336EM0W']\n",
            "A16QODENBJVUI1 ['B00EO302SO', 'B00GO4GMAI', 'B00176NKPS', 'B0014175E8', 'B0002L5R78']\n",
            "A3D6OI36USYOU1 ['B000068CNU', 'B00AWBHFRI', 'B000N8DJB6', 'B000086EYG', 'B0064Z71T8']\n",
            "A1P0JSFW184ZXJ ['B00829TIEK', 'B00BWHILCY', 'B0034CL2ZI', 'B00JC5Y6YA', 'B001OOZ1X2']\n",
            "A3EWJX7W1X7E79 ['B0032B0XUG', 'B0028AYIXK', 'B000NB05MO', 'B003FVVMS0', 'B001AWAT3K']\n",
            "A3CJ7MHAS9IMAM ['B00009W5FF', 'B00009R6WO', 'B000V5P90K', 'B001FA1NZK', 'B001CCAISE']\n",
            "A2B7BUH8834Y6M ['B0007KX4TM', 'B004L6MLPQ', 'B003ES5ZUU', 'B0000899ZB', 'B002AJMHMI']\n",
            "A2NJQF2UI60VGT ['B00BTCPQ5C', 'B001IEXU68', 'B0010Y414Q', 'B000V06UHQ', 'B0002D6QJO']\n",
            "A1CST2WUA32GP0 ['B005HXFARS', 'B005H3I38G', 'B001TH7GUU', 'B005CMP434', 'B0035PS57C']\n",
            "ARXU3FESTWMJJ ['B00CDS9HTM', 'B00D6XW62I', 'B003XU6H8I', 'B00829THK0', 'B002J9HCV0']\n",
            "A3VBXQKRM7A4JR ['B005DKIID8', 'B00GN6PPXW', 'B004CLYEH8', 'B004Q3R9AQ', 'B002TLSOGA']\n",
            "A2O6HZ2B9YSRXR ['B0055Y66A4', 'B005QUQP7G', 'B004RFBIUU', 'B0036WTDHK', 'B004FA8NOQ']\n",
            "AQIJ3ZEEVCIKU ['B00DQGIIM2', 'B001144JQU', 'B003SX0NG2', 'B001TANZ0W', 'B00080YK9Y']\n",
            "ARTA78TP6H73D ['B00BYRPM9M', 'B005HSDLCO', 'B00CM0XHNS', 'B002FU5QMA', 'B009X01C64']\n",
            "A2TVH2OBNXYXHV ['B00HFRWWAM', 'B003XDU2Y0', 'B004GUT1QO', 'B006K553LU', 'B001FA1OHW']\n",
            "A2PB325LKXYDOL ['B000S6E0XY', 'B00H09BOXQ', 'B00834SJNA', 'B001MSZBNA', 'B000X24ISU']\n",
            "A2W9GX82SLKROQ ['B004Q3R9B0', 'B008F05Q2E', 'B00BVUQZZ2', 'B0011NVMO8', 'B000CKVOOY']\n",
            "A33YZNZIRA3H97 ['B004MT7GGG', 'B00AXTQQDS', 'B008IEGSGU', 'B002HMWQE2', 'B0077V88YU']\n",
            "A16C19G0I2DE8S ['B009HC7BL8', 'B008YLD7XE', 'B00DBA9YD0', 'B005ONMDYE', 'B00722JCMQ']\n",
            "A1PL7QILVQV3IF ['B000B8IHDS', 'B00029U1DK', 'B003VANO7C', 'B0013AV4M4', 'B000JE7GPY']\n",
            "ABDR6IJ93HFIO ['B00BOHNYTW', 'B003XKWLSS', 'B0020ZDI5C', 'B00JF0D7RE', 'B004G8QO5C']\n",
            "A3223W5IROMYTY ['B007SZ0EOW', 'B00AVYNS7M', 'B00CPLGGXM', 'B00B1R8JT0', 'B003PJ6QVU']\n",
            "A1DO9LRCO23EOM ['B0013CDZDI', 'B001T9NUJE', 'B000EOMXM0', 'B002SZEOLG', 'B000B55ANG']\n",
            "AO2EURP2Y4JZM ['B001C271MA', 'B00180LGX6', 'B002Z2QDNE', 'B001URWAYG', 'B0034CL2ZI']\n",
            "A20G074MWH9U7O ['B00CB2F65O', 'B002SOU2Y0', 'B002I3OZB2', 'B000ODN7VM', 'B006OBGEHW']\n",
            "A10O7THJ2O20AG ['B000067RT6', 'B001XURP7W', 'B006W8U2MU', 'B00006HSML', 'B000IF51UQ']\n",
            "AD8DLOGHAXL ['B00009XT3H', 'B00030DEQE', 'B000RT77I2', 'B0012YFXSW', 'B00113PUJQ']\n",
            "A2UOHALGF2X77Q ['B0006I1TRY', 'B00FJRS5BA', 'B00006IS4X', 'B00HVT27B8', 'B0011ZCDKS']\n",
            "AMS2CPERWN7JV ['B00GN6PPXW', 'B009PK9S90', 'B00F3F0EIU', 'B002HWRJY4', 'B0079TOET8']\n",
            "AM9APPMIE1BHZ ['B000GHD73Y', 'B0081FLFQE', 'B00ESYW40S', 'B009HPBPOY', 'B00829THVO']\n",
            "A3T7V207KRDE2O ['B007KB0EGC', 'B004HEBXFQ', 'B003HFCDLY', 'B000KZ70JE', 'B0034XRDU0']\n",
            "A3L1VJMHFWONCB ['B000V1JUJU', 'B002V88HFE', 'B0002QPC28', 'B00005T3G0', 'B003ES5ZSW']\n",
            "A1PVX61PRPVX27 ['B0019884K0', 'B00B4GGW5Q', 'B00068U44I', 'B00A35WYBA', 'B00FA9ACIG']\n",
            "A506HOOCVL8GW ['B0026RHUNK', 'B007WTAJTO', 'B000J45BK6', 'B005LJKEXS', 'B002B9J3R4']\n",
            "A2294LS59GC5K7 ['B000GU88CQ', 'B003IRR0YQ', 'B004YTCNJY', 'B006G5ZVA2', 'B00AAIPT76']\n",
            "A1GYEGLX3P2Y7P ['B00387EW1K', 'B0042AM7JQ', 'B005FDXZJU', 'B00JC5Y6WM', 'B000Q74102']\n",
            "A15U64VGUV6RBF ['B0001MQUNS', 'B00BLCVD9I', 'B000GBO9IM', 'B001F7AHOG', 'B004Q3R9AQ']\n",
            "A1QOK9LU90ACF7 ['B004VM1T5S', 'B0088PUEPK', 'B006MH3MNW', 'B001JE5N3A', 'B003ZX8B0U']\n",
            "A3EXWV8FNSSFL6 ['B002WE0QN8', 'B00001OPJZ', 'B00CJRZ31S', 'B000WPDKRI', 'B00EJ8CKGG']\n",
            "AYOMAHLWRQHUG ['B004Q3R9B0', 'B007JIBAVE', 'B009YT6PPC', 'B00B3PDH5G', 'B001TOD7ME']\n",
            "AWNJAY0M5UI70 ['B0054KPK9C', 'B000FI9VU2', 'B00966IREK', 'B004GF8TIK', 'B006EWUOL8']\n",
            "A30XZK10EZN9V4 ['B004Q3R9AQ', 'B004MSI7UQ', 'B00ENSKUUK', 'B004AGX4YO', 'B008B488DI']\n",
            "A100UD67AHFODS ['B0054JJ0QW', 'B0082E9K7U', 'B00113XADE', 'B00133BAKM', 'B004YLCFCM']\n",
            "A368IPE6EW0GZL ['B000P1R9QM', 'B003VS9UP4', 'B00DIFIM36', 'B008H6HFZM', 'B006FKFZB8']\n",
            "A1NJHKPHD4YWZV ['B0019CSVMW', 'B0031U1AT6', 'B0018LQVIA', 'B000JLK5NW', 'B001AHALEC']\n",
            "A1MRPX3RM48T2I ['B00E3W15P0', 'B00H09BOXQ', 'B001NJ27QM', 'B005XULTG6', 'B003WUX6PG']\n",
            "AQNSQW4495SG0 ['B004GZRE1S', 'B001M4HXB2', 'B002ZIMEMW', 'B00454YCWY', 'B00009UT18']\n",
            "A11KZ906QD08C5 ['B000023VW2', 'B0031GGQC6', 'B000Q3043Y', 'B0035FZJHQ', 'B000UCZHWO']\n",
            "A379DLIAF0MFM5 ['B0019M6GP6', 'B000N99BBC', 'B002R5AM7C', 'B004Z57WDO', 'B000DZMC3K']\n",
            "A3FBM0RMCMAABV ['B00EU9V3S0', 'B006ZBWV0K', 'B005I6EU48', 'B00F6E8OUS', 'B00EHZYWGM']\n",
            "AJEOFP6ZWY0MK ['B0085DHPZ2', 'B0042RA8C2', 'B00CHRID4Y', 'B000HPV3RW', 'B0041Q38NU']\n",
            "A2FSOHSM9X13JT ['B0060B7NCG', 'B002SQKVE4', 'B008B14VAK', 'B003ZYF3M8', 'B004V4IWHY']\n",
            "A2AC6GQ24S45GA ['B000PGHCG4', 'B0034CL2ZI', 'B003VANO7C', 'B000T8CWFE', 'B009E6J1BU']\n",
            "A2SPV96SGOEO2 ['B00BCGRVSU', 'B001TH7GUU', 'B008EQYRRY', 'B00CB2F65O', 'B000N99BBC']\n",
            "A1U4GOVZWL8ZTL ['B001TP6TDW', 'B0088VQEV2', 'B001FVI91U', 'B003Y2GTG0', 'B0002D03ZW']\n",
            "A3F9CMU8KNAY1M ['B005LIDN14', 'B002K9IHGI', 'B00829TIA4', 'B004SGJCCO', 'B004BDOGL6']\n",
            "AV8MDYLHHTUOY ['B00009KIYM', 'B0034CL2ZI', 'B00DXFDHV8', 'B0096239FG', 'B00HFRWWAM']\n",
            "A3F7USIDJBR8WU ['B0002MRO2S', 'B001Q3M2Z6', 'B0001ZA4PA', 'B004THA2OE', 'B004LSNF04']\n",
            "A84FLVDK2R5JF ['B000O8WE66', 'B004N625C8', 'B002GHBW4S', 'B004Q3R9AQ', 'B003ES5ZUU']\n",
            "A3M7BCQKSQAK4L ['B005ES0YYA', 'B00HHRP11C', 'B0088PUEPK', 'B004ELA0SS', 'B0034CL2ZI']\n",
            "A5JLAU2ARJ0BO ['B000117DGW', 'B00020KPB2', 'B000067RMT', 'B00015GYU4', 'B0013FSKSA']\n",
            "A1FLJCHN5CG5M5 ['B002O3MVYO', 'B002ZIMEMW', 'B005IMFX2K', 'B003O8682Y', 'B002W3IXZW']\n",
            "A2BCDZO1XQLDH ['B000VDCTCI', 'B00007LTBI', 'B0009PEU3Y', 'B001U3Y8QI', 'B000EOSHGQ']\n",
            "AAR7CEPXYJA0T ['B000058EGT', 'B001R4BBL0', 'B001JTQCU8', 'B0001VGFKW', 'B0035J7XG2']\n",
            "ABMF4UC4Z00NT ['B000BTL0OA', 'B001PKAG0I', 'B001L6G326', 'B000CNBQAS', 'B000I06JLQ']\n",
            "A14I1F2H7NOYDC ['B000T93UR2', 'B00029U1DK', 'B00A85ANCW', 'B0045DMA42', 'B0027VT6V4']\n",
            "AENULRBQ2IE5I ['B004MT7GGG', 'B0054OWT0G', 'B001TSMJDS', 'B001T6O0ZK', 'B000W8JFPG']\n",
            "A1FDSZISWIXH1A ['B00426C57O', 'B00EVIBN8U', 'B005KQ2O26', 'B000WQ21SQ', 'B005QBK5V2']\n",
            "A4GHPW9AAH1NY ['B0013B2EWC', 'B000BMAQAQ', 'B000PGDT8O', 'B005QBK5V2', 'B0013J0502']\n",
            "AY3XPKRAMKKY7 ['B00005NIMJ', 'B000EVS4YY', 'B003VAHYNC', 'B009XNBFJK', 'B002SAJCYU']\n",
            "AMKNPIDFLRFMP ['B0001GZ87I', 'B0036WT3RU', 'B000Q5UMEI', 'B0001M4E72', 'B0036WT3TS']\n",
            "A3L9E0YI7C5G0W ['B0019EHU8G', 'B0016RNX2I', 'B004C9P9TM', 'B00009R6UU', 'B0002ZPJZY']\n",
            "A34VRVI4CSI5RQ ['B009AU2JT6', 'B00D429Y12', 'B00IVFDZBC', 'B002OOWC4C', 'B00829TIEK']\n",
            "A2DF62DP20RIXF ['B0036E8V08', 'B000BP2YLC', 'B003JZU8DC', 'B000GYI76Y', 'B002B3YCQM']\n",
            "A36MP37DITBU6F ['B004YHXXKO', 'B004L9M4C8', 'B0034CL2ZI', 'B00HQ883QW', 'B008ULPE70']\n",
            "AYLLSFYS3UP1H ['B009UZ3TF4', 'B002WE4HE2', 'B005U0M9B8', 'B000NP46K2', 'B002V8C3W2']\n",
            "A3S0EHEIR52HP1 ['B006LP0FXA', 'B005003WAA', 'B00FG7MVJU', 'B002VG39BI', 'B003EE8OL6']\n",
            "A33ZYFE8XMKKR1 ['B0039XRUBM', 'B001UHOR88', 'B0097BEFYA', 'B007RFW1NA', 'B002HZYBZ6']\n",
            "A1G3DKT38DNZJP ['B007FFIF0K', 'B005H3Q59U', 'B004ZGLM5W', 'B005552QD4', 'B00BWF5U0M']\n",
            "A2MOJANFPX353G ['B0041OSQ9I', 'B004RORMF6', 'B0002RBQO0', 'B008ZGKWQI', 'B008L2WS8Q']\n",
            "AGGAQLXPVGM5D ['B0014S5FVQ', 'B007XOQI4S', 'B00142MUEM', 'B00JP12170', 'B005DOUJL8']\n",
            "A200RY2ELZL2Q3 ['B004KKGF1O', 'B003X26PMO', 'B007L6NYAO', 'B003IZ9XTI', 'B008DVMRXG']\n",
            "A3PJJTAKISAFI9 ['B004V3KCJG', 'B0083J8D90', 'B004QVPGXK', 'B009SYZ8OC', 'B000I963FE']\n",
            "A1RPTVW5VEOSI ['B002MUAEX4', 'B002FL4WYW', 'B002C74E9C', 'B00003WGP5', 'B000FD8MJS']\n",
            "A2PZXXPGLXXKZU ['B0036E8V08', 'B004X355Y6', 'B0013FRNKG', 'B009W8YQ6K', 'B001A4LVYY']\n",
            "A3M82NO6OU1FHS ['B00366KE3I', 'B0018QNYSK', 'B008ABKADI', 'B0018QNYVM', 'B00E3W15P0']\n",
            "A1X2LENOF84LCQ ['B000CBG0XI', 'B000I62PEU', 'B001TUYTZM', 'B002MPPHKY', 'B0010WG2H2']\n",
            "A1B4MIXYVIKMU2 ['B001RB24PK', 'B00480P67K', 'B000VIHFZ4', 'B004R7P28W', 'B0009GZSSO']\n",
            "A33PVCHCQ2BTN0 ['B0007QKMQY', 'B002Y6CJJ8', 'B0019EHU8G', 'B000TXNS6G', 'B005LJQM3Y']\n",
            "A25QJBK33C4O0R ['B009GF6F9U', 'B0058SRNZ4', 'B004LB4MZS', 'B0090EC5MS', 'B00FFJ0HUE']\n",
            "AD9ZL63H0VKCZ ['B004RCHX0W', 'B008B488DI', 'B007WTAJTO', 'B006JGXOSY', 'B00004X10B']\n",
            "A23GFTVIETX7DS ['B002WE4HE2', 'B003DZJQQI', 'B005OA24PU', 'B001NT9UHG', 'B007PPYXOC']\n",
            "A2M14CFAMF8J7I ['B008R7EWEI', 'B00834SJNA', 'B0081FLFQE', 'B004MSQZUU']\n",
            "A1UEL5C1N6E5SE ['B000FZXHGO', 'B000ACGQI8', 'B00DMCVKMU', 'B000BV8604', 'B00746LVOM']\n",
            "APBDZ88BBTN4F ['B0032FPVKE', 'B003N7NMO8', 'B00CKAOJA0', 'B0007MXZB2', 'B00511PS3C']\n",
            "A3SMD3T0QTN109 ['B003FVNC0Q', 'B009VV56TY', 'B004S50WPG', 'B001UI2FPE', 'B000VX6XL6']\n",
            "A10Y058K7B96C6 ['B00D18U63O', 'B0036AWR8E', 'B00390JT1O', 'B000HPV3RW', 'B001QUA6RA']\n",
            "A1PEXTGNF36I1Q ['B000CNPK3M', 'B0013LQD7Y', 'B005LJKEXS', 'B004SUELLC', 'B005BHX0A4']\n",
            "AVPNQUVZWMDSX ['B0007T27D2', 'B0031GK3OI', 'B00A1ZRL88', 'B00CD1FB26', 'B00IF0JAYE']\n",
            "AHD3NZHDUZ5I6 ['B0019FJM7W', 'B001P68FIW', 'B0013FNZ1M', 'B001W26TKU', 'B001L5U16G']\n",
            "A38RMU1Y5TDP9 ['B001AAN4PW', 'B00007E816', 'B003ZG9T62', 'B008YKV5RA', 'B001918HQS']\n",
            "A27H0T39U3FZB5 ['B00B99JU5M', 'B001E1Y5O6', 'B00829TIA4', 'B005EOWBKE', 'B002V88HFE']\n",
            "A1MFAPVBW9BEGD ['B0016D1I0G', 'B003VSTDFG', 'B007477COO', 'B00426D9KQ', 'B000N99BBC']\n",
            "A2WYF4POBUXL2O ['B0051XJXJU', 'B000CNPK3M', 'B000Q82PIQ', 'B001ENW61I', 'B0013AV4M4']\n",
            "A3OA4DV4L81N1D ['B004QC6VAG', 'B000QUUFRW', 'B001KELVS0', 'B0058G40O8', 'B002WE0QN8']\n",
            "A2PICNZWHEINQC ['B009SYZ8OC', 'B008EQZ25K', 'B005ES0YYA', 'B005U8XJO6', 'B005HVPYNU']\n",
            "A2I5LVVQ7WXEH6 ['B000I5LACO', 'B00H09BOXQ', 'B001TH7T2U', 'B006BGZJJ4', 'B00109Y2DQ']\n",
            "A2KYRPDKVBI2R4 ['B007WTAJTO', 'B004PW04B4', 'B004GL72K0', 'B0034CL2ZI', 'B0030AZ44O']\n",
            "A3NCIN6TNL0MGA ['B00065X51U', 'B00006I5WJ', 'B00006IS4X', 'B005LS2GPI', 'B000MUXJCO']\n",
            "AIJQU979J6UFY ['B003MB3A92', 'B008KEPX1O', 'B001V9KG0I', 'B000AZ57M6', 'B003ZSHNGS']\n",
            "A19X4BF861LQST ['B001R4BBL0', 'B001EMUE6I', 'B0013FRNKG', 'B000KKPN5C', 'B001SV571M']\n",
            "A781ITP3HE2N5 ['B009D79VH4', 'B003CJTQJC', 'B004I5FL1G', 'B003UT2E8E', 'B002ZIN9DU']\n",
            "A6KL17KKN0A5L ['B00006I53W', 'B001EZUQ5E', 'B00G97AJMW', 'B00004YZQ8', 'B00894YP00']\n",
            "A2AEZQ3DGBBLPR ['B002IL8XRQ', 'B00004Y2MM', 'B00006JU62', 'B001GQ8MT8', 'B0099UPF70']\n",
            "A3U41ZL33SS92P ['B004J8HWHI', 'B005HEUUEA', 'B003NSBKSC', 'B001TYRYHS', 'B001LYUG3A']\n",
            "A2V9DTXTQ5YIMK ['B003YKG2UK', 'B002FU5QM0', 'B00BGIQPSG', 'B005J31BCY', 'B00AJHDZSI']\n",
            "A2NOIWPJDD7WIQ ['B0063K4NN6', 'B003BRURLG', 'B008F4NL04', 'B000KKPN5C', 'B002HWRJY4']\n",
            "A1ZCSSCAGBCD49 ['B0036WT1RW', 'B007HBLXI8', 'B004ELA0SS', 'B002K9IHGI', 'B00EO96W2I']\n",
            "A2BMZRO0H7TFCS ['B0007NWL70', 'B0068INTCY', 'B0055Q7BR4', 'B00006HZ0L', 'B002QUZM0U']\n",
            "A1QVFHPY8418HC ['B000O8AHLA', 'B000RZQZM0', 'B000R9HU16', 'B000IV413S', 'B0000EZ1KK']\n",
            "A1GQRGB8FGSLIZ ['B00HFRWWAM', 'B004ELA0SS', 'B00BQ4F9ZA', 'B0054CFKQI', 'B001OC6DCW']\n",
            "A3QQCEQ33O0GJU ['B002IO2UM2', 'B004SUO068', 'B005UBNKWO', 'B0055QYKQO', 'B006WVVA28']\n",
            "A3CEUT263RNUDO ['B00004XOM3', 'B004JMZPJQ', 'B003VS9UP4', 'B000089GN3', 'B001ENW61I']\n",
            "A2L90SGUP36KGA ['B002W2Y8PC', 'B0051XJXJU', 'B0045TKC7S', 'B001U3DZMQ', 'B003F69JBW']\n",
            "A2JOPUWVV0XQJ3 ['B001PBYQHG', 'B001NJ27QM', 'B005LS2FS6', 'B0035LF2R2', 'B000N99BBC']\n",
            "AONUCJBC85BL ['B000UZH7P6', 'B00DR6DQZA', 'B00HFRWWAM', 'B007PRHNHO', 'B00829THK0']\n",
            "A1MZL91Z44RN06 ['B0018QTWH2', 'B0047WZOOO', 'B004CLYEH8', 'B00BOHNYU6', 'B00834SJSK']\n",
            "A3DOPYDOS49I3T ['B00ATM1MHO', 'B000BOLHH0', 'B00CB2F65O', 'B000EPHP4U', 'B000O8WE66']\n",
            "A24P4E3RJ6AX94 ['B005G9RB3Y', 'B003NVMHM2', 'B007YXA5S8', 'B001TH7GUA', 'B001XURP7W']\n",
            "A2OKRGHIYTBQ6P ['B0007ZFLYI', 'B0042X8XQO', 'B00005105N', 'B003MTTJOY', 'B0061RJSWC']\n",
            "A25C2M3QF9G7OQ ['B004YRUDKM', 'B0061GQ7PO', 'B008F05Q2E', 'B00009USW3', 'B00JX1ZS5O']\n",
            "A3RGHO0Q938FRS ['B005X9Y0YU', 'B00DR6DQZA', 'B002C1BHIO', 'B0000B006W', 'B000V1PB2K']\n",
            "A3V0YR50F1XSKP ['B000HGMMH6', 'B00BQ4F9ZA', 'B0034JSYZ2', 'B006DUDWXI', 'B0088PUEPK']\n",
            "A34JKODTSKCGEN ['B006HIKIG0', 'B0002LEMWE', 'B003DA4D2U', 'B0006TIA02', 'B000JG3WBY']\n",
            "A1F1A0QQP2XVH5 ['B00BBQ8IDS', 'B006JD3F0Y', 'B008PQAFR4', 'B002TMRZOQ', 'B0012GK3MQ']\n",
            "A37D1ZP8GBHE38 ['B0081FLFQE', 'B009F7IBZK', 'B003LVZO8S', 'B00834SJNA', 'B002MCZJ78']\n",
            "A3LDPF5FMB782Z ['B000QUUFRW', 'B000Q3043Y', 'B001SER48S', 'B0015DNIOG', 'B001NS828K']\n",
            "A2XRMQA6PJ5ZJ8 ['B000L9OIQ2', 'B001202514', 'B002Y1U2M4', 'B0001CNMFM', 'B00008OT2G']\n",
            "AC1YLEFC9AN5X ['B001OI2Z4Q', 'B002IC0YL8', 'B0088CJT4U', 'B007K3SB6K', 'B005YR0X4W']\n",
            "A2JXS1JII6SAUD ['B008V9959O', 'B003BO4H56', 'B0051G5SBY', 'B001A5V1K2', 'B001FB578I']\n",
            "A15J71JLC29KPW ['B000I6P1I2', 'B00EHZYWGM', 'B007YXA5TC', 'B003FSTAFK', 'B00CE590Z0']\n",
            "AGOH8N902URMW ['B007BXD66E', 'B000VJX7DW', 'B005DIQ2OC', 'B000VEOIEO', 'B00ATM1MHO']\n",
            "A3LGT6UZL99IW1 ['B00GNPPJW0', 'B003U6Y1OC', 'B003U7MSLE', 'B006EKIQYM', 'B001M4HXB2']\n",
            "A1WG97A0EFHYXN ['B002EAAS8S', 'B0044FJGFM', 'B008MUDGBA', 'B006HXUXRY', 'B0012Y0QT8']\n",
            "A13QOK3SKIT9QL ['B0013FSKSA', 'B003P2UMQ2', 'B00466X9SY', 'B0019EHU8G', 'B00A44CD52']\n",
            "AT8V3JOZD3KWK ['B002JCSV5I', 'B0012X43P2', 'B0014Z29U4', 'B00768SBAU', 'B004C13VWC']\n",
            "A3QMJMTLJC34QC ['B000OLDG60', 'B000TKHBDK', 'B001F51G16', 'B0034HIB0W', 'B0001XGQTA']\n",
            "A1RL1OTV8IJMVD ['B000Z80ICM', 'B008R7EWEI', 'B00906HNZU', 'B00691WMJG', 'B0093H4VSS']\n",
            "A2H4OMJLE7JFM2 ['B000FIDTYG', 'B000BQ7GW8', 'B000S1ADYY', 'B002M3SOCE', 'B0081F2Z40']\n",
            "A22MANL4US4RMY ['B007NJ0S1W', 'B0009I96LC', 'B000COZ45K', 'B0095ABFGO', 'B002V88HFE']\n",
            "A2L9OPJAAEK08Q ['B0049V0ZX8', 'B007PJ4P4G', 'B002OGMNT4', 'B00109Y2DQ', 'B002GHIPYI']\n",
            "A11I1I9QLMAM1A ['B004FPOPXE', 'B007WTAJTO', 'B00IF4OATU', 'B00946XHI8', 'B00DQKQ7U8']\n",
            "A38NELQT98S4H8 ['B007VL8Y2C', 'B0051V7XK8', 'B0002MQGOK', 'B000BUK7KW', 'B00546JKJC']\n",
            "AHIK7BUXFRMT8 ['B003Z4G3I6', 'B00CHRID4Y', 'B00006B9H8', 'B00212NO6W', 'B000S1CEQ4']\n",
            "A186697K4XKXQL ['B006W3ZWXE', 'B00FJRS5BA', 'B0042X8NT6', 'B003Y3BFB8', 'B00E87E1OM']\n",
            "A1VFX417XDNWIU ['B00CUIVSNS', 'B001URY8CI', 'B00E6ONJJU', 'B001F0RPGG', 'B00829TIEK']\n",
            "A3SVYWA9O1KUQV ['B0007WTHLY', 'B000JO3Y1O', 'B001OC6DCW', 'B00425S1H8', 'B00DQZSFSA']\n",
            "A3HPCRD9RX351S ['B00062QY5W', 'B007OY5V68', 'B004JQQDZ2', 'B00575RN62', 'B0009WG6KM']\n",
            "AOEAD7DPLZE53 ['B0084ZY3QK', 'B000028F42', 'B001ADXR3I', 'B00077AA5Q', 'B0018Z0PWY']\n",
            "A2NVQZ4Y7Y0J1R ['B000ZMCILW', 'B000O8WE66', 'B001ENOZY4', 'B000EMWBV0', 'B003LPUWT0']\n",
            "AG35JCCQWDRCS ['B009SYZ8OC', 'B00EZSUVHK', 'B003ZSHNE0', 'B007WTAJTO', 'B000F9YN22']\n",
            "A2503LT8PZIHAD ['B0079UAT0A', 'B003L1ZYZ6', 'B008X9Z9ZQ', 'B00DQZQHBW', 'B002LITT56']\n",
            "A17HMM1M7T9PJ1 ['B000NIKQ7Q', 'B002NO7PWC', 'B0010Z294O', 'B0007DDK7A', 'B000CSOXTO']\n",
            "A1EQ5D5JRSW23K ['B004M8ST5Y', 'B00DT04I9W', 'B005CT56F8', 'B00EAR8S76', 'B004NY9UUK']\n",
            "A3CLWR1UUZT6TG ['B005NC8BF6', 'B004CLYJ0K', 'B004AFFZNI', 'B003ES5ZUU', 'B006QB1RPY']\n",
            "A3EZEP0FX5BC1P ['B00FR6VL50', 'B004SGJCCO', 'B00008I9K8', 'B008VMT2HQ', 'B0010CKE7G']\n",
            "A3NKRH3TJ4DPVI ['B001TH7GUA', 'B000F7QRTG', 'B007WTAJTO', 'B002T0EK64', 'B00368CIBC']\n",
            "A1CSRR7FCKBL9M ['B00G9TIR9W', 'B0058AH2US', 'B001LYUG3A', 'B005CT56F8', 'B005755U0I']\n",
            "A2NB2E5DXE319Z ['B0002J2TLC', 'B007WTAJTO', 'B0002JY712', 'B008HO9DIG', 'B005HY4U5A']\n",
            "A1ZXMMQPYC3Z9I ['B00004TVSP', 'B0007XHLXO', 'B0038JECKY', 'B001UE6I0G', 'B00A35WYBA']\n",
            "A3A4ZAIBQWKOZS ['B00GO4GMAI', 'B00HZWJGS8', 'B00G4V0QSK', 'B004C9P9TM', 'B00IHWOBVC']\n",
            "A28621TSIR5EOG ['B00CHH0JF0', 'B002V88HFE', 'B00E055H5O', 'B002UBE15C', 'B009SS0FZK']\n",
            "A7Y6AVS576M03 ['B00001OWYM', 'B000BQ7GW8', 'B000089GN3', 'B00004YMBK', 'B000089GN2']\n",
            "A2I2KPNJDQ9SL0 ['B000QZ001I', 'B0000TSJVI', 'B00007FGUF', 'B005CLPP84', 'B00006RVPW']\n",
            "A3SDJ70H00OQCJ ['B0015F0AB8', 'B000F7JCRA', 'B00165XQWW', 'B000093UDQ', 'B003ZX8B2S']\n",
            "A2ZRG5NOFZ47RK ['B004TA0AUW', 'B00005T3W5', 'B002V88HFE', 'B0018BTPLK', 'B000CKVOOY']\n",
            "AR74YY08IP2WE ['B005DD28XG', 'B00006B9CR', 'B009CP99GK', 'B0015DYMVO', 'B00DR8LAE2']\n",
            "A7QMQBGJ2TCQG ['B00005LE75', 'B001YI02CS', 'B000EOSHGQ', 'B002PY7OHQ', 'B001E1Y5O6']\n",
            "AETQIN7OH0RL9 ['B003HC8V9A', 'B004FLOXE4', 'B0062XB9FE', 'B008AST7R6', 'B004TJ6JH6']\n",
            "A1J75JJ0Q2OEJN ['B00B8PRRTI', 'B00829TIA4', 'B009VV56TY', 'B000R6QAHY', 'B00BQ5RY1G']\n",
            "APBB297H3ZA5E ['B0016XIQ1U', 'B009D4D1NW', 'B001FWBUUG', 'B000TKHBDK', 'B000BYVA8Q']\n",
            "A1B0NL8UWAELI7 ['B0020M1O1A', 'B004UTQRHW', 'B0055QYKQE', 'B009O7YUF6', 'B0035FZJHQ']\n",
            "A2NOW4U7W3F7RI ['B00FISD9DO', 'B000NK3NBA', 'B0035LD0EY', 'B003ES5ZUU', 'B0081ZDWZQ']\n",
            "AXU3VKZE848IY ['B003UH0Z9Q', 'B00EO302SO', 'B001S4OTS6', 'B009VV56TY', 'B004N625BO']\n",
            "A1SFPA80X7TRBR ['B0024TNXNG', 'B005LJQMCK', 'B0034DUR6W', 'B000QUUFRW', 'B000BM8RFM']\n",
            "A18HE80910BTZI ['B0011NVMO8', 'B005TCMW7S', 'B000VE4PNS', 'B002MPPHKY', 'B00176F2RC']\n",
            "A1X1CEGHTHMBL1 ['B0055QYJJM', 'B000O8JZIG', 'B000U8HBRW', 'B005F30IJK', 'B002QG2H7K']\n",
            "AYMD77ITD15PT ['B005QZ8BCI', 'B002JLZMN8', 'B000IVDTSG', 'B00FRMAOIO', 'B006W3ZWXE']\n",
            "A2F7CSE6KT7NI4 ['B002UOR17Y', 'B000051299', 'B0040723AE', 'B00FR6VL50', 'B00AQUO5RI']\n",
            "A3LWC833HQIG7J ['B003L1ZYZ6', 'B000MSOC22', 'B00BWL33H8', 'B000F7JCRA', 'B00001P4ZH']\n",
            "A3PGVJF37JSHFO ['B0042FZ51I', 'B001KJ91V4', 'B00B7O1CY6', 'B0053YLTBC', 'B005JN9310']\n",
            "A1Z7SC7HH1BJKA ['B0056BPUQC', 'B00A0ABQLM', 'B003SQ1JTY', 'B005H3Q52C', 'B004QQXDVC']\n",
            "A1WXG10FJ353K0 ['B0045XV2CI', 'B000UY1MB2', 'B00429N16A', 'B004YRUDKM', 'B0010WG2H2']\n",
            "A2LW5AL0KQ9P1M ['B0012GK3MQ', 'B00829THEG', 'B0064RY5PO', 'B008X9Z8NE', 'B00FJWKYYG']\n",
            "A2GOHNFBHUU3UI ['B000KLHDZO', 'B000EON3WY', 'B001SEL36M', 'B000GABCY2', 'B00889ST2G']\n",
            "A132ETQPMHQ585 ['B000AB286S', 'B0000AI0N1', 'B008QZTJH6', 'B0026K5SWW', 'B001MQ4JUS']\n",
            "A1SHHQSPOWR00F ['B0000BZL28', 'B002V8C3W2', 'B0038VETHS', 'B000BN94F8', 'B002LARRDA']\n",
            "A2WPL6Y08K6ZQH ['B003U4VIXQ', 'B008DWCRQW', 'B002R5AM7C', 'B00HFRWWAM', 'B00BGGDVOO']\n",
            "A2Y739CRM15WDL ['B002CNOYRS', 'B000TKHGL2', 'B00126R3P6', 'B00DQZRQPI', 'B00119T6NQ']\n",
            "A27QXQQOLAMRRR ['B0039VYN1Y', 'B000QDNPVM', 'B00009MK5M', 'B0002YE6EU', 'B000GYI76Y']\n",
            "ASRA2UZ3JV87B ['B0028R3NCU', 'B008ALA6DW', 'B009HQCAPQ', 'B0022NHQ32', 'B000NEDYU6']\n",
            "A2TRXEZYU9GYY8 ['B005MHN6K2', 'B003N8GVUY', 'B003ZM7YTA', 'B0054OWT0G', 'B007R9CRGW']\n",
            "A2PSD2R9A1CXG7 ['B001KELVS0', 'B004SKBJYE', 'B00006I53X', 'B00009R6V0', 'B0000C4G78']\n",
            "A3F9CBHV4OHFBS ['B004ZGLM5W', 'B0013LWK3A', 'B000A3WS20', 'B0040JHVC2', 'B000Q8UAWY']\n",
            "A3CW0ZLUO5X2B1 ['B00752R8KG', 'B00A2XKNO8', 'B00L3YHF6O', 'B0006I1TRY', 'B0081ER9KG']\n",
            "ATNOI7E8GTIVE ['B0021L9BME', 'B0000Y2WYS', 'B0015A8Y3E', 'B003X7TRWE', 'B003P2UMQ2']\n",
            "A8CKH8XB33XGN ['B001QUA6RA', 'B0056VP0KS', 'B00178HJ6C', 'B003IFYPEQ', 'B003VY83HO']\n",
            "AMWL7XIWIPXEZ ['B00GJ7Y7MU', 'B006ON5KZC', 'B000GQMHBI', 'B0000C3GWU', 'B004FA8NOQ']\n",
            "AG2YXYIQ8TLTA ['B007OY5V68', 'B002MPPHKY', 'B0077SAYY0', 'B0055QZ216', 'B008PQAFR4']\n",
            "A377LPVLLAI42D ['B002M78EA2', 'B0001G6U5W', 'B001U0O7RQ', 'B00007JDRV', 'B0000C4G79']\n",
            "A6VPK7X53QNAQ ['B00007GWC6', 'B003WKOENO', 'B003YKG2YQ', 'B00028D778', 'B0015DNIKU']\n",
            "A2LXX47A0KMJVX ['B0000WKYU4', 'B00008V6NI', 'B002WE6D44', 'B003DZJQQI', 'B00834SJSK']\n",
            "AT53ZTTO707MB ['B0082E9K7U', 'B00HZWJGS8', 'B003N3BLAO', 'B00CD8ADKO', 'B00HL7Z46K']\n",
            "A3V7D0LH8L7BG0 ['B003C1AO2I', 'B0025VKUQQ', 'B000HATNI8', 'B0007UVRVO', 'B00BOHNYU6']\n",
            "A3AYSYSLHU26U9 ['B00CHH0JF0', 'B004M8ST5Y', 'B00DTZYHX4', 'B00F0DD0I6', 'B0019EHU8G']\n",
            "A1VGXHHR08G044 ['B00486UR2I', 'B000V5K3FG', 'B0000AI0N1', 'B005EOWBKE', 'B005S0BYQ6']\n",
            "A2X78O6G89CB30 ['B003SQEAY0', 'B002S7PS8M', 'B002K46DDC', 'B001VL572I', 'B000WYVBR0']\n",
            "A8X8D4BUY5DFU ['B00267EJKC', 'B00007AP2O', 'B00009V6U0', 'B003FVVMS0', 'B0049P6OTI']\n",
            "A247L282PID4PE ['B007M7RP6Q', 'B003NUIK4M', 'B0011WHFPE', 'B000I992XY', 'B001MQ4Q06']\n",
            "A2S26YGSVXBCFL ['B00011G5FW', 'B0041D81WQ', 'B000WOIFO2', 'B001FA1NZK', 'B00D6XSRL2']\n",
            "A13BX9O5UDBILC ['B00FG7MZP0', 'B0014DVIL2', 'B0035FZJHQ', 'B00267S7XW', 'B001IOPIRM']\n",
            "A3IUW081KXD3PE ['B001S0PWWC', 'B002NP8XJ0', 'B00005A1K1', 'B0079UAT0A', 'B005VAORH6']\n",
            "A215WH6RUDUCMP ['B009NHWVIA', 'B00EDCF0MY', 'B008MF3X9K', 'B009YQ8BTI', 'B008X9Z7N0']\n",
            "A1SB9BNNGKNX2Z ['B00C87D0XM', 'B009A6CZ30', 'B0001A3N6C', 'B001HSOFI2', 'B000HPV3RW']\n",
            "A5KMMY627T3W ['B00DDK1QUC', 'B000LGGAD4', 'B0012Y6HC8', 'B000BY52NK', 'B009HQCARY']\n",
            "AQB4DH57MSZSC ['B005KFONIU', 'B00JC5Y6YA', 'B000J1HPXK', 'B008X9Z7N0', 'B004T9RR6I']\n",
            "A1522TN5FVJL0Y ['B00004Z5M1', 'B00829TIA4', 'B003W9B4H4', 'B00004VX3T', 'B0038KLD50']\n",
            "AOWF9T81XMX2S ['B000L9OIQC', 'B008R79VMQ', 'B00005U21H', 'B00005T3Q2', 'B0039XRUBM']\n",
            "A24ARANWS5E3T8 ['B002S9KDKS', 'B005P91CQM', 'B00006I53S', 'B007YWMCA8', 'B008T17W9O']\n",
            "A1PV5T5S4D5NPI ['B000CRFOMK', 'B003924UCK', 'B000UB7WD2', 'B00165YVTE', 'B003HC8V9A']\n",
            "A680RUE1FDO8B ['B00169N0BK', 'B0074024XU', 'B0015AARJI', 'B004AX6Z3Y', 'B005LDLP8W']\n",
            "ABMNX856X89CS ['B0079TOI8K', 'B0097FZRYI', 'B00JC5Y6WM', 'B00IVFDZBC', 'B0013FRNKG']\n",
            "A2NN1KIYEM2SKS ['B00BQ4F9ZA', 'B007VXJ9IS', 'B000S5Q9CA', 'B007PJ4P4G', 'B006ZH0KVG']\n",
            "A3FPSY1M6G7XIB ['B005HQ50SO', 'B0029ZA78O', 'B006W8U2MU', 'B00FAMAQQG', 'B009PBUK9Q']\n",
            "A203OCQQ12MAVT ['B003UI62AG', 'B000GBN42E', 'B0000TU7I6', 'B000068O16', 'B001H0GEW0']\n",
            "AKSQNMIKOU01H ['B001TI7GTK', 'B0036AWR8E', 'B004Y1AYAC', 'B0042X9LC4', 'B000XB9GV0']\n",
            "A1KY5G5FP31F2F ['B003OSPCJO', 'B007PTCFFW', 'B00DBX371C', 'B00B5HE3UU', 'B0000A0VET']\n",
            "A1GWG5CWLKJ7ET ['B005HGBF9W', 'B00FF8ZRR8', 'B0041OSAZ8', 'B000U8HBRW', 'B009QV72VY']\n",
            "AFNG8O2DXRCUV ['B000GHD73Y', 'B007WTAJTO', 'B001TH7GUU', 'B002WE6D44', 'B004HX5OFW']\n",
            "A1QQA7Y92L4F9R ['B002FYJQB8', 'B005ES0YYA', 'B000N4WRFY', 'B0029F21LA', 'B0000BVYTV']\n",
            "A7EJERNB7IK3Z ['B0007M3PJO', 'B000RY2PLQ', 'B000JV9LUK', 'B001D7REIK', 'B0001IM95U']\n",
            "A27TN8D0CZ8LUY ['B003ZG9T62', 'B0013LWK3A', 'B00889ST2G', 'B003Z4G3I6', 'B003UEWF8I']\n",
            "A11T807LX2EF00 ['B0078GCM4G', 'B004CLYEDC', 'B009SYZ8OC', 'B000J5LA9Q', 'B00E98O7GC']\n",
            "A10NMELR4KX0J6 ['B007SZ0EOW', 'B00178T5V4', 'B002AJMHMI', 'B000Z80ICM', 'B000YB862E']\n",
            "A2V2URLB31HG59 ['B0011E4NSO', 'B004PGMFG2', 'B008X9Z3UC', 'B00COEBCXY', 'B009YQ8BTI']\n",
            "A1VOFY3QFT9WCG ['B000GL3MOY', 'B003AVPV1O', 'B001R0EVMA', 'B0080DTGBI', 'B002LHG20W']\n",
            "ALDAF4VVLFRHP ['B005CWIVYI', 'B0040IO1RQ', 'B0047S5VQY', 'B000HEW0KW', 'B003Q5J4NU']\n",
            "A3SX5MZTCZRQLF ['B004M8SBC0', 'B001GUPEMW', 'B009PK9S90', 'B00066FH1U', 'B00HRQB28Y']\n",
            "A1XE3M22N91451 ['B002V8C3W2', 'B003819S8S', 'B008G2GBN4', 'B007SZ0E1K', 'B001W26TIW']\n",
            "A1T1YSCDW0PD25 ['B001C271MA', 'B009USAJCC', 'B00IX2VGFA', 'B007SZ0EOW', 'B002UOR17Y']\n",
            "A36K2N527TXXJN ['B0012Y6HC8', 'B0044YMQIW', 'B00GMTN96U', 'B00003006E', 'B00DTZYHX4']\n",
            "A1URXSRV6WDHVY ['B005EWTKN2', 'B0052SCU8U', 'B004Y3FG9E', 'B00972M942', 'B007ZSYHYU']\n",
            "AW5JSQCHC2ZJO ['B003A5TX82', 'B003YKG2YQ', 'B0011ZCDKS', 'B005IHAIC0', 'B004MF11MU']\n",
            "A1OGCPMSIVK7G4 ['B009WHV3XA', 'B0007Q9PWQ', 'B000NLSGA2', 'B00CI3BP06', 'B000QUUFRW']\n",
            "A1BT6TL7UCIC5Y ['B002LEVGMO', 'B002TLTE6Y', 'B004N625BE', 'B00AJHDZSI', 'B00511PS3C']\n",
            "A23NSKTMSPPBTR ['B00FZ9SJLS', 'B008ISKDL2', 'B000M17AVO', 'B00HG1L334', 'B003HGHR82']\n",
            "A2XXBZPQT5EXHV ['B003DZJQQI', 'B00102ZOQC', 'B000068O1A', 'B001XURP7W', 'B000I4UQL6']\n",
            "A206CGM6J75UJY ['B006W8U2MU', 'B007477COO', 'B00A3U7IS4', 'B0093HKFYW', 'B0036ORMS0']\n",
            "A2WBVO6X3KPMDT ['B003A7CDY6', 'B00346I5LI', 'B00116SLYY', 'B004Z94BA2', 'B004L37VFE']\n",
            "A4WEZJOIZIV4U ['B005HXFARS', 'B001TH7GUU', 'B0001G6U4S', 'B00IVFDZBC', 'B00HFRWWAM']\n",
            "A3V15SFD7918WZ ['B0071BTJPI', 'B00829THO6', 'B001ELK2NY', 'B003CMW6NM', 'B008NMCPTQ']\n",
            "A6VXZ1EEPRTLV ['B000IBLMHQ', 'B000NP3DJW', 'B00005AC8J', 'B00009R94Q', 'B00EFE9OAE']\n",
            "A1CYTBE7LLUQ8F ['B0001G6U52', 'B000MP831G', 'B000GYU9IS', 'B0002IWC9C', 'B000H6CBA4']\n",
            "AEJAGHLC675A7 ['B0064EL2DK', 'B00004Z5KA', 'B00H3JTT30', 'B003Z4G3I6', 'B0093IZOV0']\n",
            "A3R4794K2RVU1S ['B00A45JEX0', 'B00023CJI6', 'B000HJPK2C', 'B002QUZM0U', 'B0026ZPFCK']\n",
            "A1MFPAM9TTRTXN ['B00636FQ86', 'B000067RC4', 'B003SX0OR0', 'B00722JCMQ', 'B002HWRJY4']\n",
            "A27Y4OEC9MD9PA ['B002NWO9EG', 'B00009R6WU', 'B00009XVCZ', 'B000JNQSIQ', 'B0023ZK2TY']\n",
            "A3IY316DRNF5F2 ['B001RB24NM', 'B0014ZADVQ', 'B003EHA5G0', 'B0071CU6HC', 'B000EWHH7I']\n",
            "A1O229NVVDJUX2 ['B000Q30420', 'B005UNFRU0', 'B003VAHYNC', 'B000EMWBV0', 'B0036V9AGU']\n",
            "A1YVO5V1SO18DZ ['B006291K7A', 'B008ULPE70', 'B00A7PPLP2', 'B004CLYEH8', 'B0097CZHAU']\n",
            "A2AY4YUOX2N1BQ ['B002K3X2WS', 'B001BAW7P4', 'B002BU8LIK', 'B001FVI91U', 'B003MACYGS']\n",
            "A4GGT6O0GQNV2 ['B0002GX0ZE', 'B00EZ2E8KC', 'B00CD8ADKO', 'B003L1717K', 'B00FJXVRM8']\n",
            "A2J0IBS4PFRO2C ['B000JV9NL2', 'B001EQ4BVI', 'B0035AN31A', 'B000NPCI9I', 'B000A3WS84']\n",
            "A3QX0ERX4D03TF ['B000V0IE5M', 'B000TYL27M', 'B005GI2VMG', 'B000P1O73A', 'B00GTGETFG']\n",
            "A8WEXFRWX1ZHH ['B00BCGRVSU', 'B009APBY0G', 'B00H09BB16', 'B00FGOTA6K', 'B000HNJ96Q']\n",
            "A1MJMYLRTZ76ZX ['B002V88HFE', 'B00005Y1Z6', 'B00CGY4KHM', 'B00008WFVI', 'B000071A7U']\n",
            "A8X478DM3KAWM ['B000G1D8HU', 'B009PBUK9Q', 'B004C9P9TM', 'B001UHOR88', 'B001UFYFYG']\n",
            "A2RIL2NXHE00AQ ['B00064V6SK', 'B003EHCBDA', 'B002YC3K9A', 'B003QSG0HK', 'B00007GQLU']\n",
            "A18YMFFJW974QS ['B00CSDMWGW', 'B00DTZYHX4', 'B001MXLD4G', 'B00DUKJ5CQ', 'B0012QN3AA']\n",
            "A2D1LPEUCTNT8X ['B005FDXZJU', 'B0009RKL62', 'B00BERGFV6', 'B001E1Y5O6', 'B0041OSQ9I']\n",
            "A3IOQ7NVVLAUEE ['B003VKTJGW', 'B001O9X9EU', 'B001NPEBEC', 'B00AVSSKLW', 'B0073FE1F0']\n",
            "A225G2TFM76GYX ['B001QUA6R0', 'B00829TIEK', 'B001F7AHOG', 'B000N99BBC', 'B0076BDBDE']\n",
            "AYB4ELCS5AM8P ['B00BFO14W8', 'B00IRV2DL8', 'B004NHCGJO', 'B00G4V0QSK', 'B00A0JUNWQ']\n",
            "A23ZXHFLC6TBLD ['B000HPV3RW', 'B007ZWLRSU', 'B004G6002M', 'B00007IFED', 'B001XURP7W']\n",
            "ACJT8MUC0LRF0 ['B00IMZKDOS', 'B005I6EU48', 'B008DJAYJM', 'B008X9Z44M', 'B0064RY5PO']\n",
            "AWPODHOB4GFWL ['B000PQL7AQ', 'B00CP7SWII', 'B00DTZYHX4', 'B001NTFATI', 'B000HCGAFK']\n",
            "A9Y5O2R4D6EH5 ['B00030097G', 'B004ING996', 'B000P3ZADE', 'B00007GQLS', 'B0002YE6EU']\n",
            "A22S7D0LP8GRDH ['B00AAHT8JC', 'B004LVMCMS', 'B004ELA0SS', 'B009YQ8BTI', 'B00746YZS6']\n",
            "A27ADCSD15F3GL ['B0019884K0', 'B001FS1LLI', 'B00FE8MKTM', 'B00918MEZG', 'B00AW54Z7C']\n",
            "A19UTUEBWKIZFT ['B00DQZQHBW', 'B009YQ8BTI', 'B000N99BBC', 'B005SEIO4M', 'B00D429Y12']\n",
            "A2LTYEYGKBYXRR ['B00BS3NM3A', 'B00ISGCAJM', 'B00K4VQZCM', 'B00IIEC3O6', 'B00GR1I242']\n",
            "AHR86ZEYETLJI ['B00AXTQQDS', 'B006W8U2MU', 'B00461E7JE', 'B004G8QO5C', 'B008B488DI']\n",
            "A145LBW8ZHF0TW ['B000O5TH14', 'B000NG67E4', 'B00007IFED', 'B000067RC4', 'B00007M1TZ']\n",
            "A2RU4U1JZ3DMP5 ['B00007E89K', 'B003LR7ME6', 'B0002RBQO0', 'B002MU1ZRS', 'B001G445Q4']\n",
            "A17W0GMB0YY83M ['B003XM73P2', 'B002VKVZ1A', 'B004RORMF6', 'B004Q0T0LU', 'B001NJ0D0Y']\n",
            "A6XLG77BC9R8R ['B0009JR82U', 'B0028Y4DCC', 'B0001LS3EI', 'B000S6E0XY', 'B003FPD3IS']\n",
            "A32O5FZH994CNY ['B0013IWYHU', 'B003GAAQXM', 'B005J31BCY', 'B0002J2TLC', 'B000B6D39I']\n",
            "ACY9QYNDFLVBI ['B000068O16', 'B002CZAPUQ', 'B007G5NNOW', 'B007SZ0EOW', 'B000NIKQ7Q']\n",
            "A1VQHH85U7PX0 ['B0000BZL5A', 'B0099SMFVQ', 'B000OLDG60', 'B00C94GTJQ', 'B00HMREOLK']\n",
            "A11D1KHM7DVOQK ['B0001FV35U', 'B00005QBUU', 'B00008VF63', 'B00007EDM8', 'B000084FD5']\n",
            "A3R19YKNL641X3 ['B00834SJSK', 'B000TKHBDK', 'B00HVT27B8', 'B005KELR3A', 'B002MCZJ78']\n",
            "A3N4VTNFPMTHEF ['B000FTLSR0', 'B005MIDB7E', 'B002BH3Z8E', 'B003DXI288', 'B000068UY6']\n",
            "A21INUA35HX4XQ ['B000RZTDZ6', 'B003BRURLG', 'B0064EL2DK', 'B00CEZBKTO', 'B0031U1ATQ']\n",
            "AXP8GO5Q3AXSA ['B003ES5ZUU', 'B00834SJSK', 'B002669XKY', 'B001S4OTS6', 'B0093HAWZY']\n",
            "A3D2VIUT2HWP0Z ['B000TKHBDK', 'B000RHZJN4', 'B001NTFATI', 'B003VAHYNC', 'B0000AOWW9']\n",
            "AEWYUPCNDV7HY ['B002VPE1X4', 'B001OOZ1X2', 'B000VX6XL6', 'B0046HAO40', 'B000UY1MB2']\n",
            "A1NMM0RDRF6R84 ['B002L6937C', 'B007K94I2U', 'B000QUUFRW', 'B004HREPCQ', 'B001UFYFYG']\n",
            "A2RIXSMGE9VIBG ['B0019BPTMI', 'B00114162K', 'B000UZCR56', 'B009W34X1I', 'B0010QPX4G']\n",
            "A2AF0NOCM71J0B ['B005JE3VYY', 'B004CLYEDC', 'B001PI9AAC', 'B00D42AFS8', 'B00117LECY']\n",
            "A1LYMYNURB9EWW ['B00EXPNFQO', 'B001NTBVPA', 'B005KJJKVG', 'B00884WH74', 'B009HQCARY']\n",
            "A3U029B8Z5WGI2 ['B004Q3R9AQ', 'B00D5Q75RC', 'B000NDBRJC', 'B000Q3043Y', 'B002TLTE6Y']\n",
            "A21T0D2F7SKG5S ['B00009R6WO', 'B000JLK5PK', 'B00006I53X', 'B000FKQ8LA', 'B006QB1RPY']\n",
            "AR6APXLK7TJU2 ['B00178PKVS', 'B001VEIYAC', 'B001G5ZTLS', 'B002J9HBSE', 'B0014H16V0']\n",
            "A2EHYCA29NSQLU ['B001AO4MWW', 'B000VE4PNS', 'B003AI272I', 'B00FFJ0HUE', 'B008SZWBR4']\n",
            "A1PVJICI412IN4 ['B00E5HXJEI', 'B001QUA6R0', 'B000MIXFWA', 'B005BGKAGC', 'B0013FRNKG']\n",
            "A3HQAPXAJV7PRX ['B000GABCY2', 'B00AYQ433U', 'B00DXFDHV8', 'B00EU9V3VW', 'B005QBK5V2']\n",
            "ASJSX783R5HTZ ['B0013A1XDY', 'B006TAP096', 'B0007Q9PWQ', 'B007BXD66E', 'B001TK3D4A']\n",
            "A2ARDVMUGDFED6 ['B00004WCFY', 'B000U0HRJM', 'B007WTAJTO', 'B00FG7MZP0', 'B003CFB180']\n",
            "AB094YABX21WQ ['B0009ON12G', 'B0002E1RZQ', 'B001PKEJYM', 'B001TH7GUA', 'B0011TM19C']\n",
            "A2I6GN7OHB9JKF ['B000HCGAFK', 'B005GGTTZ0', 'B00APCMMDG', 'B000KI0YXU', 'B0007RXDDM']\n",
            "A2DXENZNO2JT4F ['B009F7IBZK', 'B00DUTIZJG', 'B00BWHILCY', 'B004ELA0SS', 'B008F4NL04']\n",
            "AGX2K0FMS0IVL ['B002MCZF2C', 'B000P1O73A', 'B002YU83YO', 'B00H6BU3J4', 'B0018PS4O0']\n",
            "A1VVRA3P6G1TWH ['B000Y16TY6', 'B000IBLMHQ', 'B0007Y791C', 'B0018ZDGAC', 'B00021EE4U']\n",
            "A5GPH59NDWJRB ['B005I6EU48', 'B003Y74AXO', 'B0002Y5WZM', 'B001TZUS98', 'B007OY5V68']\n",
            "A3SOJO7Z7R9WIA ['B002QUZM0U', 'B000144I30', 'B00HPMCNXI', 'B0026FCKC8', 'B002ZWU33U']\n",
            "A3T4OHEAHOJ700 ['B001DJ64D4', 'B004ULOZPQ', 'B004FHO5Y6', 'B00902SFC4', 'B000094Q77']\n",
            "AGHZXQL9F94T9 ['B00006DY6M', 'B0002ZAEYA', 'B0007KQUP2', 'B0002ZAIMI', 'B0002ZAIM8']\n",
            "A3FOSLM5G1BO63 ['B001RR9ZQ0', 'B001E8NVNA', 'B00825BZUY', 'B008X9ZBVI', 'B0057UUB1G']\n",
            "A2HRHF83I3NDGT ['B004LSNF04', 'B003ZTWYXY', 'B00FJRS5BA', 'B005LJQMCK', 'B00762YNMG']\n",
            "A20L63B48RPSOH ['B00ESYW40S', 'B002TLTE6O', 'B00834SJNA', 'B000V5O640', 'B002Y5XQYG']\n",
            "A3SQCTNYQFVBWM ['B004PX56TI', 'B002WE0QN8', 'B0091V5EE6', 'B00I2VIR2M', 'B0025Z7MAE']\n",
            "A3AZI828WJN1CD ['B005LJQM3Y', 'B003765X38', 'B0082E9K7U', 'B004HO58SO', 'B005IHAIC0']\n",
            "A1VLE2SH9J8WYS ['B0034CL2ZI', 'B003ES5ZUU', 'B0000510ZO', 'B0035JD0DW', 'B000F28DP2']\n",
            "AY6A8KPYCE6B0 ['B006JH8T3S', 'B00834SJSK', 'B007YXA5TC', 'B00F6E8OUS', 'B0001DBEM4']\n",
            "A18A5VSD0IPN14 ['B00CALM17C', 'B002LITI70', 'B0002GWY38', 'B00358PRCA', 'B003VSTDFG']\n",
            "A3J8A5L5AF5TX9 ['B003Z2NIH2', 'B005HKIDF2', 'B001OC3YB0', 'B00DGBVMAW', 'B000OGX5AM']\n",
            "A1MQQEM7W77L62 ['B006VJREFS', 'B00007FSB9', 'B003ES5ZUU', 'B00D5Q75RC', 'B002TLTG9E']\n",
            "ALHC64J88LVWO ['B008Z2661W', 'B002V41X2M', 'B00DTPYRKC', 'B004OB0EBQ', 'B0082PRPIA']\n",
            "A1GBT4UN2RW7XY ['B007I5JT4S', 'B00G0OYHCW', 'B000Y634SU', 'B005NHTG6O', 'B00D1GYNT4']\n",
            "A105S56ODHGJEK ['B000N99BBC', 'B009NHWVIA', 'B00DQZOD8Q', 'B00829TIEK', 'B0054CFKQI']\n",
            "AT2J7H5TRZM8Z ['B00005QFZF', 'B000031KIM', 'B00005QFZG', 'B00005KK2Q', 'B00006F2MW']\n",
            "A12R3YGEHW7D8G ['B0087TVYP6', 'B009W8EWOG', 'B001PS9UKW', 'B00B4GGW5Q', 'B0058G40O8']\n",
            "A2XQYE6TJYROHQ ['B001R4BBL0', 'B000HDJT4S', 'B002BNLYFY', 'B001PA94NS', 'B0007SXHP0']\n",
            "AOMEH9W6LHC4S ['B001TQ2PSO', 'B004N625BE', 'B0076W9Q5A', 'B000BT97UO', 'B00C87D0XM']\n",
            "A274MXTX3DYLUV ['B001F0RPGG', 'B002B8WVVU', 'B003XN24GY', 'B000PI9E4K', 'B0051PGX2I']\n",
            "A2MJ8OL2FYN7CW ['B00CPGYNV4', 'B00AQRUW4Q', 'B007RNCLBY', 'B006DDT6JO', 'B003ZSHKIY']\n",
            "A2F2GLVFRNV7JJ ['B000XZCIX4', 'B008ISKDL2', 'B006W8U2MU', 'B0041Q38NU', 'B002V8C3W2']\n",
            "A3TAS1AG6FMBQW ['B001M4XCHQ', 'B005Y1UFIM', 'B00DT04I9W', 'B002C97CAI', 'B00426C57O']\n",
            "A2KOV8XWZOZ0FQ ['B00EU9V3VW', 'B002WE6D44', 'B0099SMFVQ', 'B005E8MVV4', 'B0026MRTHM']\n",
            "A2Y3WWPUKIJ59I ['B000FH9UOK', 'B0002XN3VS', 'B000RHZJN4', 'B003P2UMQ2', 'B0041Q38N0']\n",
            "A4D5B7Q8A7PA6 ['B004I5FL1G', 'B003CFATT2', 'B0082E9K7U', 'B000A0CV9S', 'B00D96BMV8']\n",
            "A18S2VGUH9SCV5 ['B003B41XYO', '1400501776', 'B001T9NUJE', 'B005NGKR54', 'B000095SB4']\n",
            "A3977M5S0GIG5H ['B004MME6SE', 'B000J47W12', 'B000N4Z4JK', 'B002V88HFE', 'B003O1UYHG']\n",
            "A20VG5W98SX99L ['B0043T7FXE', 'B000U8HBRW', 'B0046SQ8VW', 'B001OOZ1X2', 'B008R7EWEI']\n",
            "AP53MVRC8ZEW2 ['B007SZ0EHE', 'B006EKIQYM', 'B009NHAEXE', 'B007GFX0PY', 'B008R7EWEI']\n",
            "A3CG93783LP0FO ['B000067RT6', 'B00BN2AJOQ', 'B003B41XYO', 'B004PGMFG2', 'B00DTZYHX4']\n",
            "A1WF4QNIE2Z3I7 ['B003FVJYF8', 'B004K8WPUQ', 'B00AEGRGNO', 'B0042UC5BG', 'B005JE3VYY']\n",
            "A2EF8N7ZE7ONWX ['B001IEZX3G', 'B0015YJOK2', 'B004J3ZV62', 'B000DZH4D8', 'B000EGLXTW']\n",
            "A259MPG6SOL02P ['B00004Y7TD', 'B002SP2X5U', 'B000J0AON4', 'B00EZ2E8KC', 'B0000C8817']\n",
            "A1V4VVBQBFXRHC ['B006LW0W5Y', 'B00EOI2SR2', 'B0044779G8', 'B003SGCO3E', 'B00634PLTW']\n",
            "A1HBI9BBQIG1NH ['B0054CFKQI', 'B00DHPCVQG', 'B00829TIA4', 'B004M8SB0W', 'B003L1ZYZ6']\n",
            "A3KNGMX2RVQG91 ['B004MKNJ6G', 'B005IN09GO', 'B002V88HFE', 'B007YKUWN4', 'B002VPE1QG']\n",
            "A3TBMAWIIHKHFN ['B000MURAT2', 'B001G0MPBK', 'B001FWBUUG', 'B000MX48VM', 'B0018M7ZES']\n",
            "A2XRIU3SOYZ0ZC ['B003ZTKFEE', 'B001A1NM2G', 'B000OLDG60', 'B002DMKPQ2', 'B001GS8FZ2']\n",
            "A11EYMH9UV9XG7 ['B00D1GYNT4', 'B004ELA0SS', 'B000N99BBC', 'B003YKG2W8', 'B001OC6DCW']\n",
            "A1L5TA5UQF7EWE ['B0003QER8C', 'B000VX6XL6', 'B005UA3I72', 'B007PTCFFW', 'B004T6VT74']\n",
            "AM0QLU79O05JR ['B0009VT9MU', 'B002TLTG9E', 'B000GOUE7O', 'B000B6D39I', 'B00D5Q75RC']\n",
            "A3IRA0BHI9NE9U ['B0008GMHEI', 'B000VX6XL6', 'B000FBK3QK', 'B00CHYKVR4', 'B004RKQM8I']\n",
            "AZMY6E8B52L2T ['B00000J1EQ', 'B00G500AE0', 'B004SCSV2U', 'B00B9KOCYA', 'B0019EHU8G']\n",
            "A2HMF8ZR67BNZS ['B00000J1EQ', 'B001GKPOJK', 'B000QUUFRW', 'B00316263Y', 'B000J47W12']\n",
            "AATWFX0ZZSE6C ['B00069BVIK', 'B003C1FC7K', 'B0031U1ATQ', 'B00AWKBZOI', 'B002BH3Z8E']\n",
            "A3G7BEJJCPD6DS ['B00634PLTW', 'B0088CJT4U', 'B0087NZ31S', 'B009YT6PPC', 'B00358P3YM']\n",
            "A35W3JQYP0M655 ['B00G500AE0', 'B00G4V0QSK', 'B001MXLD4G', 'B00G4UQ6U8', 'B0006G0II2']\n",
            "ABH9D1TEOJ56E ['B00008O35W', 'B00009VSBE', 'B00008I9K8', 'B00008OE6I', 'B00006LV79']\n",
            "A2IT7S59GSASN7 ['B00009KAPX', 'B007JCNOHI', 'B000ID6DTG', 'B004X68JPK', 'B00HFRWWAM']\n",
            "AJL3U764D7NI3 ['B0095VPBM2', 'B003AVN6D4', 'B003V7BJ9U', 'B00AYQ433U', 'B000UO6C5S']\n",
            "A3QDY9I0CNMD2W ['B00005T3W5', 'B000RT77I2', 'B000VIQ6AO', 'B0084ZY3QK', 'B003D5MY5I']\n",
            "A21GW4L8FO307V ['B004RORMF6', 'B000CRFOMK', 'B0023Y9EQC', 'B005EOWBHC', 'B006QB1RPY']\n",
            "A1AKW788238PWQ ['B001D7REIK', 'B0007MWE28', 'B003LPTAYI', 'B001P3PSSU', 'B0002BEQNE']\n",
            "AG6TX1ZJHLMO7 ['B000IXP96Y', 'B000FJJASO', 'B0015VW3BM', 'B005HY4U46', 'B000NLSGA2']\n",
            "A361U4SXK7FCQE ['B00CKAOJA0', 'B0078GCM4G', 'B00CU9GOAO', 'B00546JKJC', 'B005KFONIU']\n",
            "A1U5NWJOYH2QQH ['B004QQY2JO', 'B005QUQP7G', 'B0001Y7UAI', 'B000M2TAN4', 'B001X017G2']\n",
            "A1JZFGZEZVWQPY ['B00F19PYR4', 'B00CYSHUG8', 'B004ETIKH8', 'B00A4ZXE40', 'B004MMEHH4']\n",
            "ADKGE078JK8K7 ['B0043T34RK', 'B007U5MGDC', 'B0011Z44UA', 'B00005N6KG', 'B000RNDUMA']\n",
            "A2NP9CGUSFP22E ['B0052SCU8U', 'B0001PFQAI', 'B00773DB4A', 'B004RORMF6', 'B004X7U5N8']\n",
            "A22R9L5DAVYYWR ['B004DDI0IE', 'B000067SGI', 'B001FWYGJS', 'B001IEXU68', 'B000Q82PIQ']\n",
            "A17V9XL4CWTQ6G ['B005FDXZJU', 'B0082E9K7U', 'B004V3KCJG', 'B00BGIQPSG', 'B00GQOZFNQ']\n",
            "A3QNQQKJTL76H0 ['B000O8WE66', 'B003N3BLAO', 'B003YNO0LA', 'B00B9KOCYA', 'B002Y6CJJ8']\n",
            "AR8LWDT6TUKNZ ['B008YKV5RA', 'B0002RBQO0', 'B0045TYDNC', 'B003T0EYVE', 'B0056KEPVO']\n",
            "A24HWYHR28JJ7A ['B001NS0OZ4', 'B001E3XLZS', 'B003CJTQJC', 'B005LDLP8W', 'B0000BZL5A']\n",
            "A1JBEKU5TYIWE7 ['B0019EHU8G', 'B004286VMW', 'B006MRAVFE', 'B0051PMWY6', 'B00139XOCI']\n",
            "A18FLOC8YQY0P8 ['B005FJ7OF0', 'B00CAFPF26', 'B00E3W15P0', 'B001FA09WI', 'B00BW6KCTU']\n",
            "A11YIHB6IW352W ['B0079EVQ2Q', 'B001K9BFB8', 'B0031GK3OI', 'B000HEEG54', 'B008HO9DK4']\n",
            "A1143YEAZYMYHJ ['B007KZQM9Q', 'B000066JQU', 'B001TK3D4A', 'B00BQ4F9ZA', 'B000CSOXTO']\n",
            "A1VS1LL905P5L5 ['B001FA1NZU', 'B000V0IE5M', 'B0000CE1VP', 'B007R5YDYA', 'B0000UI304']\n",
            "A1I96OYAUJ3HQE ['B007NLSGOQ', 'B0083Z6R4W', 'B001UE6N6A', 'B00CGW74YU', 'B001C6WW84']\n",
            "A17UNMURMLX0ZE ['B004H8FNBC', 'B0054L8N7M', 'B000N99BBC', 'B0025ZH43O', 'B009PK9S90']\n",
            "A3O4OIBCML0683 ['B003AVPV1O', 'B002RCNX8K', 'B000KUQ8FG', 'B0076R7F1M', 'B005DIQ2OC']\n",
            "A2JE071UW97J2A ['B002V8C3W2', 'B001G5ZTZO', 'B002K4GDGY', 'B003EHA5G0', 'B000KUQ8FG']\n",
            "A1F5O1USOUOOXI ['B00B2HCLL6', 'B00BIP816Q', 'B000N99BBC', 'B004CLYEH8', 'B00EO96W2I']\n",
            "A1CPRP3VFJRS1R ['B0002L5R78', 'B000N99BBC', 'B00BQ4F9ZA', 'B005MIDB7E', 'B004HKIB6E']\n",
            "A18L9A64XNGVGU ['B00DY7VAL4', 'B002ROEKBW', 'B001905C62', 'B008467K1E', 'B005C31H34']\n",
            "A27AF4DLLOBQDQ ['B003L76BJS', 'B000DZKNM2', 'B008GVM9K4', 'B001FA1O1S', 'B002TLTG9E']\n",
            "A1FXT4VNDA25LY ['B00EFILHB4', 'B004QC6VAG', 'B004M8ST2W', 'B000VDF5RO', 'B00CDS9EKE']\n",
            "A19RGDJPNZ7NZ ['B0049SCB2Y', 'B001PIBE8I', 'B000MUXJCO', 'B004GUT1QO', 'B000AM3U2I']\n",
            "A3S3VSXEFXBMRC ['B00332X1M6', 'B0037FS8WM', 'B000MX48VM', 'B0046RE21G', 'B004R7P28W']\n",
            "A2QDOJFFLFGF18 ['B00366KE3I', 'B003D8OSV8', 'B0002L5R78', 'B00829THVO', 'B008X9Z8NE']\n",
            "A3QU3O79AGNWCY ['B009CN8VNY', 'B000FBK3QK', 'B003ZKG10K', 'B005HSG3BA', 'B006WVR9GY']\n",
            "A2W0XCWOK3MW6F ['B004CLYEE6', 'B004NY9UV4', 'B00CI3BIWQ', 'B00EO302SO', 'B00E87E1OM']\n",
            "A30JPZ9TZ7I61U ['B0074FGLUM', 'B0097FZRYI', 'B00HC0ZDOE', 'B0002ZDIKW', 'B008ULPE70']\n",
            "A9DYWY9VOSP1P ['B0001G6UB6', 'B000MWVMRG', 'B004J3ZV62', 'B000P5AJXI', 'B000W09ZTK']\n",
            "A2W2ODLRQ2L8LE ['B000FOYMKU', 'B004MT7GGG', 'B00313JCUC', 'B001EH8FZA', 'B001A833JQ']\n",
            "A20DZX38KRBIT8 ['B00AA04LUA', 'B004YLCFCM', 'B009W8YQ6K', 'B000JO7PIM', 'B0058UUR6E']\n",
            "A2RN2AO4BE6F4K ['B001TOD7ME', 'B001DJ64D4', 'B001B99I34', 'B004HW7E6K', 'B00126R3P6']\n",
            "A20951I210L0IB ['B001OQQ01W', 'B0018P7WZ2', 'B005Y1CYSQ', 'B009MAKWC0', 'B00CF5OHZ2']\n",
            "AJX9A4Q19UTJU ['B000N99BBC', 'B00829THO6', 'B004TS2AP2', 'B00DT04I9W', 'B008EQYRRY']\n",
            "A1EXGL6L0QQ0M5 ['B004Y1AYAC', 'B0015A8Y3E', 'B0055QYJIS', 'B00FF8ZRR8', 'B005ESY8VA']\n",
            "A30UP2KKD5IQEP ['B000N99BBC', 'B000QWEN5K', 'B002K9IHGI', 'B00BGGDVOO', 'B005PUZOYM']\n",
            "A3MQAQT8C6D1I7 ['B000Q82PIQ', 'B000J1HPXK', 'B0000X0VCY', 'B000N4Z4JK', 'B001C4BEOY']\n",
            "A3HR0ZZOFKQ97N ['B0019EHU8G', 'B007RMAS1K', 'B0028N7442', 'B006DDT6JO', 'B0036Q7MV0']\n",
            "A3FS3FJPD3RJTD ['B0000EI9VU', 'B007KZQM8W', 'B005FDXMJS', 'B009WROL6G', 'B00009RDIF']\n",
            "ABAPF3XY1W6JX ['B00768SBAU', 'B003ZG9T62', 'B00484IEJS', 'B004W2JKWG', 'B003F7WXTG']\n",
            "A2CIQEY05SPHTZ ['B002LEVGMO', 'B000NMKHW6', 'B000N53TDM', 'B000UO796Y', 'B001GENI4E']\n",
            "AL9WKVMRI6GFB ['B00113XADE', 'B00G4UQ6U8', 'B0011YZJPA', 'B003ES5ZUU', 'B00FSA8VQ2']\n",
            "A2OBDNQ5ZYU1L8 ['B005EWB396', 'B009A178BO', 'B004JMZZE6', 'B000WL0I1I', 'B003ZK5NZY']\n",
            "A11YOTONCPRQ9S ['B003ZUIHY8', 'B005CT56F8', 'B002T45WXU', 'B001IYCUM8', 'B001R1X6OS']\n",
            "A3N0P5AAMP6XD2 ['B00849BPFI', 'B005HZZA80', 'B0037FS8WM', 'B004QQXDVC', 'B0021AFWL4']\n",
            "AHS6PX6H22WW1 ['B00FJWKYYG', 'B00009VS6P', 'B001G0NSD4', 'B008EQZ25K', 'B004ZMG55I']\n",
            "A31N0XY2UTB25C ['B000Q82PIQ', 'B001196MG0', 'B00212NO6W', 'B00CDS9EKE', 'B00002EQCS']\n",
            "A30R8VFR16RE32 ['B00006BXBS', 'B00HNJWSH4', 'B000M3ILF6', 'B008EWNVI4', 'B003DZ14EU']\n",
            "A3F3B1JPACN215 ['B006VJREFS', 'B0032CP24W', 'B000MVBHRW', 'B00CF5OHZ2', 'B005CG2AL4']\n",
            "A3T8WOFS5RD2IR ['B000JO3Y1O', 'B001N0KEWU', 'B00009R896', 'B005YQXMAK', 'B002SIMPXM']\n",
            "A3VTOLNB5N6FVP ['B004N80E9C', 'B006OOKT3Y', 'B004DVEW8I', 'B00EOE4G4E', 'B003GSLU3E']\n",
            "A2SGAJWXG65464 ['B005PSQ5TM', 'B007HBLX8I', 'B005T3GPXE', 'B004IVAPM0', 'B0056YNA1Q']\n",
            "A3H4S6YO9VNGDZ ['B004VTF7IG', 'B000068O16', 'B000234TYI', 'B00CDS9EKE', 'B00009YFTI']\n",
            "A3FEGTOLCWXSV4 ['B000N7VPRW', 'B00834SJSK', 'B004CLYEDC', 'B001QATRCA', 'B001ENW61I']\n",
            "A12LH2100CKQO ['B00005AC8W', 'B00007IFED', 'B00006B8BS', 'B0058UUR6E', 'B002IVVBDE']\n",
            "A204K1OFE8OB9Y ['B001B7H39W', 'B0016D1I0G', 'B0001Y7UAI', 'B004Q0T0LU', 'B001F51G16']\n",
            "A2OTQMC69J8MUI ['B00D6XSRL2', 'B005LFT3GG', 'B009SK57IS', 'B009ZIILLI', 'B000M2TAN4']\n",
            "A3EPJSPH03AS29 ['B000067SGI', 'B0000BZL1P', 'B004K1EO5C', 'B0037258L4', 'B005HGBEZ2']\n",
            "A38QEATH3NODFM ['B007XOQI4S', 'B00142OHAC', 'B00081NX5U', 'B000LD14PQ', 'B000BONJXU']\n",
            "A1B8EJQU73YGL9 ['B00834SJNA', 'B005GI2VMG', 'B004M8ST36', 'B007WTAJTO', 'B002WE0QN8']\n",
            "A3PD8JD9L4WEII ['B001OI2YNS', 'B00CI3BIWQ', 'B003U7SR0U', 'B004TPPWT6', 'B00004SQET']\n",
            "A2NQMVTQ4PVLL ['B007WTAJTO', 'B006H06TVG', 'B001TH7GUU', 'B002WE6D44', 'B0064R9H2A']\n",
            "A38NHXL5257E3B ['B00CB2F65O', 'B007KZQM8W', 'B004XC6GJ0', 'B004OVEUPW', 'B00466X9SY']\n",
            "A1IU7S4HCK1XK0 ['B002VPE1WK', 'B00JC5Y6WM', 'B0047ELBN0', 'B00BW6KCTU', 'B007QWF9GK']\n",
            "A2NSXY5L42ZUGO ['B003EWGD1Q', 'B00551XMWC', 'B005LFT40G', 'B000068O34', 'B001AHALEC']\n",
            "AAXAKFQEAQPWC ['B005B8DCKQ', 'B000VDCTCI', 'B00155RGYM', 'B000MUXJCO', 'B00095W91O']\n",
            "A1F9Z42CFF9IAY ['B001V9KG0I', 'B000MP831G', 'B00109Y2DQ', 'B0049MOK92', 'B000JV9LUK']\n",
            "A8FKL1DHTHC12 ['B003XIJ3MW', 'B005IMFX2K', 'B001CCAISE', 'B00007E7JU', 'B0090XWU8S']\n",
            "A27B1U3OWCU14J ['B000IM9542', 'B000EDK8V4', 'B005HSDLCO', 'B003IHUHGE', 'B000NMKHW6']\n",
            "ANW6EGY12V5XS ['B00591GIMY', 'B007WTAJTO', 'B003CP0KCS', 'B005644VGO', 'B00EU9V3S0']\n",
            "A212MDP6K4VJS5 ['B004QK7HI8', 'B00000JDF6', 'B000VZCEUI', 'B00C25I5TE', 'B001F7AHXM']\n",
            "A1D9V11QUHXENQ ['B00JJNQG98', 'B0037U95U6', 'B000067SMH', 'B006ZBWV0K', 'B004LSNF04']\n",
            "A1HSM98KUGTHNY ['B007X0ASZM', 'B000MX48VM', 'B0011YZJPA', 'B005DKZTMG', 'B004LEAYXY']\n",
            "A2BYV7S1QP2YIG ['B0052MAI8U', 'B00D5Q75RC', 'B00BS3NM3A', 'B00IMPM8OQ', 'B007IFVSDI']\n",
            "AI8EMB0HUC6Z5 ['B0096LZ5QI', 'B00008OE6F', 'B006TT91TW', 'B000M2GYF6', 'B0043T34RK']\n",
            "A10ZBR6O8S8OCY ['B000KBG51W', 'B00AQRUW4Q', 'B002SZEOLG', 'B001KURYAS', 'B002I3OZ7G']\n",
            "A5Q1FK0FWU7DH ['B001TOD7ME', 'B002C744K6', 'B00093IIRA', 'B00EMHVVLY', 'B0085VB8GQ']\n",
            "AW6FQE5QRF2LM ['B004HHICKC', 'B00578KYZG', 'B005PQTYHE', 'B008UG6GCC', 'B000I94FAE']\n",
            "A28UMA3GW9L124 ['B005INAIOW', 'B004NY9UV4', 'B004JJU6I4', 'B003LSTD38', 'B002IO2UM2']\n",
            "A2IFGGXG3YV3Y6 ['B00DQZQG3G', 'B00B7N9CWG', 'B008ULPCB8', 'B008ULPAT2', 'B009B0MZ8U']\n",
            "ALQ4USPEQ9L5N ['B0077SAYY0', 'B00FRDUZXM', 'B008X9Z9ZQ', 'B005KELR3A', 'B001762LIA']\n",
            "A30C8WHQ2CYFO4 ['B009B0WREM', 'B000AZ57M6', 'B0040JHVC2', 'B000VE2RP6', 'B001P06Q66']\n",
            "ABIVKBMSIPEDY ['B00E8CF0CE', 'B003WOWB5S', 'B003VAK16O', 'B005X9Y0YU', 'B000V4PZBY']\n",
            "A291XTI6NO7DEG ['B0010Z28XG', 'B000EMWBT2', 'B000EVSLRO', 'B0000A2QBP', 'B000ANRP82']\n",
            "AA91O96C1Z18W ['B000QWEN5K', 'B00EOI2SR2', 'B008X9Z528', 'B003VANOI6', 'B004RKVXXM']\n",
            "A3J029KBNG5MNP ['B0034CL2ZI', 'B00D5Q75RC', 'B00BWHILCY', 'B004CLYE8C', 'B00829TIEK']\n",
            "A33HIV8RXRDM88 ['B004VM0SE6', 'B000EVSLRO', 'B004GUT1QO', 'B0002CPBWI', 'B00007EDZG']\n",
            "ASFP250F22MDZ ['B001H8DF0G', 'B000PNGM18', 'B00FPKDPZC', 'B000AAZQJU', 'B000BN94F8']\n",
            "A4H4KYSM2KQ85 ['B00IVPU786', 'B002JCSV8A', 'B0009GZAGO', 'B00AQRUW4Q', 'B000H4CLXS']\n",
            "A3MU9G6YWKTGTA ['B000LB7G00', 'B004XC6GJ0', 'B00483WRZ6', 'B003N12TSY', 'B006U1YUW2']\n",
            "A22CW0ZHY3NJH8 ['B003UDCPEI', 'B00AGH81M6', 'B0041OSQB6', 'B0082E9K7U', 'B00000K135']\n",
            "A2BIJMB2BITQUM ['B0043WJRRS', 'B00DB9WCR6', 'B00AAIPT76', 'B000652M6Y', 'B00D6XSRL2']\n",
            "A226VGZWOEBPGL ['B0034JLTNG', 'B0010QPX4G', 'B00F6E8OUS', 'B0041OSQ9I', 'B000OLDG60']\n",
            "A3D5B2CBFNJB0K ['B000N99BBC', 'B00834SJSK', 'B000IF80ZE', 'B004T9RR6I', 'B007M4Z60Q']\n",
            "A2OT3PDH1AWLTG ['B004N85YBA', 'B003VTZE1M', 'B00AWKBZ16', 'B00BHC7ZTE', 'B004SBI2MU']\n",
            "A20DDH4NT6Q1E8 ['B007PJ4P4G', 'B00346I5LI', 'B00310PJM0', 'B007NJ0S1W', 'B004M8SSZK']\n",
            "AVSMRPI23DQI2 ['B006WAGG14', 'B00267S7TQ', 'B000NK6INU', 'B0039ZLMK0', 'B002C7481G']\n",
            "A3G5MOHY1U635N ['B004HIN7SI', 'B0007A1IRC', 'B0041OSQB6', 'B002Y6CJJ8', 'B000204SWE']\n",
            "ACHTDPEQYSEQL ['B004CLYEDC', 'B000N4WRFY', 'B000YIWR8G', 'B006GWO7UA', 'B003DZ165W']\n",
            "AZ515FFZ7I2P7 ['B00DSGLM50', 'B001I8SCJ4', 'B002IC0YL8', 'B006JINHYS', 'B006DDT6JO']\n",
            "A2LCE1D0TW2XY0 ['B002W2Y8PC', 'B00009R6WO', 'B003G20AAE', 'B00FDUHD2K', 'B004MKNJ84']\n",
            "AG7EF0SVBQOUX ['B007CMSEUM', 'B00126V8WU', 'B0034CL2ZI', 'B004QZFOF6', 'B0040JHVC2']\n",
            "A3NOBH42C7UI5M ['B000XZCIX4', 'B000RZ8WHG', 'B000EWHH7I', 'B0002MQGOK', 'B001GIPSAM']\n",
            "A12EVK82QUTSA6 ['B0012KZNP4', 'B001FWYGJS', 'B001KB6Z2U', 'B007PTCFFW', 'B003ES5ZSW']\n",
            "A253IOATGMT2UP ['B003WPTBAK', 'B0072B90R4', 'B003L76BJS', 'B0000BZL1P', 'B007BXD6DW']\n",
            "A2X695AM08AIN1 ['B006KESOYY', 'B00J8E8YES', 'B00DJERMRS', 'B00FCISG6K', 'B002WE6D44']\n",
            "A9LNWA25IM2DX ['B001BM5XB2', 'B0030MIU16', 'B00D68ZVY8', 'B0031RG29M', 'B00CDIK908']\n",
            "A10PEXB6XAQ5XF ['B009NHU556', 'B008EQZ25K', 'B00DR0C96S', 'B005IA843W', 'B00D78Q2AO']\n",
            "A20H1M28WLI9J2 ['B000067SMH', 'B0007QKMQY', 'B0035WTVZA', 'B0017K6BD2', 'B00BDS3N1G']\n",
            "A1R6RKKE44AYA8 ['B0043WJRRS', 'B002IKLJU0', 'B00BRI4YM4', 'B000QUUFRW', 'B0039BPG1U']\n",
            "AN0JK8OQLUC55 ['B001DKBNMA', 'B001L1H0SC', 'B000SAB34O', 'B001FB568E', 'B004I43F9C']\n",
            "A1S7BFT0HDF3HA ['B007P4VOWC', 'B00E98O7GC', 'B000MDJU06', 'B005I7KIUW', 'B00020M1U0']\n",
            "A22I55P15NSAOX ['B000067SOL', 'B000EN8A7S', 'B006U1YVZ8', 'B0015DYMVO', 'B004BDOGL6']\n",
            "A27M75LRSJ788H ['B00DTZYHX4', 'B0039BPG1A', 'B007WTAJTO', 'B000SSUHO8', 'B003ZYF3M8']\n",
            "A2ZFBTGPDP6PH6 ['B00574ZKV8', 'B000SE6IV8', 'B00133BAKM', 'B0011NVMO8', 'B000BQ7GW8']\n",
            "AOVTLYTHVDNUX ['B00L3YHF6O', 'B009OZUPUC', 'B00HPM1G8Q', 'B004YG7JV4', 'B001WM73P0']\n",
            "A1LHMSY3Q46PJS ['B000VWKSHM', 'B000WPDKRI', 'B00IWJUGQY', 'B00D601UC8', 'B000TKHGL2']\n",
            "AVJORH3ACR2A5 ['B004EDPYHI', 'B004EHSV4W', 'B00081A2KY', 'B005HMKKH4', 'B001342KM8']\n",
            "A16HXVNPU5TCGE ['B00006JPWT', 'B00DR0RBV6', 'B001NS0OZ4', 'B000QUUFRW', 'B004N627KS']\n",
            "A2I357I10ZY7CI ['B003SQEAY0', 'B000GQMHBI', 'B003U7SR0U', 'B004GF8TIK', 'B0056MPVZ6']\n",
            "A2JMJVNTBL7K7E ['B0015C4Y0Y', 'B001F7AJKI', 'B004DVEW8I', 'B00DSGLM50', 'B005I6EVUG']\n",
            "AGATRDOFW48DK ['B0013WM0BQ', 'B0018P7WZ2', 'B000F7JCRA', 'B000KZ70JE', 'B00166EUI0']\n",
            "A16RI68PS6T5CA ['B000M2GYF6', 'B00EO302SO', 'B001TANZ0W', 'B000B8UOTS', 'B0042FZ50O']\n",
            "A6XDZ1MJ0B1A2 ['B004Q0PTD8', 'B007F9XHAY', 'B004XC6GJ0', 'B002LITI8E', 'B002TXIT7C']\n",
            "A2VODABWSVHV8E ['B00170MYIS', 'B0012W7HQK', 'B000L9OIQC', 'B001F7AJKI', 'B004RE5ZCI']\n",
            "A3LDFTSXU3UPBO ['B009SD74H2', 'B004PGMFG2', 'B0014VY28A', 'B00B588HY2', 'B009X3UW2G']\n",
            "A2K5RRMPICZ606 ['B009W34X1I', 'B0019EHU8G', 'B003ES5ZUU', 'B0045XAIFU', 'B000ZSUQ9M']\n",
            "A3N8O68DOEQ2FE ['B00DSUTVK4', 'B001CIREXA', 'B00HSQAIQU', 'B004APJL6A', 'B005BFGPUS']\n",
            "A2T24Z5QP2OMXU ['B00937CTQO', 'B0073ESYZO', 'B00DVFLJDS', 'B005OLOIUI', 'B00B46XUQU']\n",
            "A1V5TRJXTI6F01 ['B008GVL9YQ', 'B003LSTD38', 'B0046A8Y8A', 'B003DZ165W', 'B005NGKR54']\n",
            "A2RTVGR9B1M600 ['B0012Y541S', 'B003OBXHPC', 'B007HRHOZI', 'B0038JE07O', 'B000ESN9GA']\n",
            "A1H7Y5XKPGT0OS ['B0021AFWL4', 'B00DQZP7X6', 'B001XURP7W', 'B0097CZHAU', 'B00EOE4G4E']\n",
            "A2YRX8J4WM5BRX ['B00AXTQQDS', 'B002VPDOH8', 'B001ELK2NY', 'B00005ATMI', 'B002LITT3I']\n",
            "A2JAEZ0FMAMJVW ['B0034CL2ZI', 'B00CYX54C0', 'B00871SR68', 'B004CLYEH8', 'B006WVR9GY']\n",
            "A1KWPIORLG2QV ['B00AJHDZSI', 'B003B41XYO', 'B003RQBKLC', 'B00834SJNA', 'B00A81SXHI']\n",
            "A21NS06GDEA3V0 ['B0045JCL22', 'B00AMTRR5K', 'B008AJNF78', 'B00A4ZXE40', 'B003X7TRWE']\n",
            "A3DWO5RJDA430F ['B004QQY2JO', 'B0062AYFWG', 'B0000AG92Z', 'B0016D1I0G', 'B001G9TYHE']\n",
            "A214W7SK2DJQ99 ['B004YTCNJY', 'B001E1Y5O6', 'B006G5ZVA2', 'B005HWC6PI', 'B005DIYQA4']\n",
            "A1VHCO8RQFIGQJ ['B0012IJYZQ', 'B0019SHZU0', 'B00007GQLU', 'B004HREPCQ', 'B00CRY250U']\n",
            "A2JP9E1H0SF392 ['B002EL4RIO', 'B003Y5FRNS', 'B000E6NGBU', 'B003CJTR8M', 'B00DUN2PBQ']\n",
            "A250AXLRBVYKB4 ['B006JINHYS', 'B001KUL012', 'B003TOE4PQ', 'B003ZUXXVU', 'B009YCASK2']\n",
            "A1ZBEIL78MLR9Z ['B0006G0II2', 'B002FU5QLQ', 'B003YKG2UK', 'B003CJTQJW', 'B00DR6DQZA']\n",
            "A1UCAVBNJUZMPR ['B0038L54ZO', 'B000LRMS66', 'B0084OIY0M', 'B0098OCKDE', 'B00CHKQ28U']\n",
            "AT6CZDCP4TRGA ['B0000511U7', 'B00062QY5W', 'B005T3GPXO', 'B00008CLZS', 'B0002JY6SQ']\n",
            "A314KKDIJWCNMV ['B0055FZIX4', 'B002KMR2IE', 'B00009UHFI', 'B003BLS926', 'B00011KM38']\n",
            "A1N5FSCYN4796F ['B0007T27D2', 'B006VJREFS', 'B003UH0Z9Q', 'B000RHZJN4', 'B005EOWBHC']\n",
            "A2UKE7GIVC7XFW ['B001DJ64D4', 'B00DR8LA60', 'B009PK2MNY', 'B00KFAGCUM', 'B005YQY5TM']\n",
            "AUBEFRFHJR64Y ['B005ES0YYA', 'B007ZWLRSU', 'B0053H73JQ', 'B00814CAS2', 'B003PJ6QVU']\n",
            "A1ZU55TM45Y2R8 ['B004YHXXKO', 'B004MF11MU', 'B003MQO96U', 'B003ZTKFEE', 'B00834SJNA']\n",
            "A16WP8NTPYB0ZM ['B002HMWQE2', 'B003VX3S3Y', 'B008BQGPOA', 'B0093F4ROI', 'B00CRB9CK4']\n",
            "A32HSNCNPRUMTR ['B002LM0U2S', 'B00DQNZ1CU', 'B0041RSPRS', 'B00AEMGGU2', 'B001F51G16']\n",
            "A25KKXUQQ0OLWB ['B004RO9L4Q', 'B00DQZQ5T6', 'B008GGH5HQ', 'B0074BW614', 'B00E5UHRIO']\n",
            "A2YW6XOID7GV6G ['B004TIIBMS', 'B004UQ05M8', 'B007KCV0RS', 'B0046A8YEO', 'B009Z3SVRM']\n",
            "APMYPD97EHUUZ ['B00BQ4F9ZA', 'B00093IIRA', 'B006VJREFS', 'B001FVI91U', 'B00CRJWW2G']\n",
            "A5QDZEOIMQ4LW ['B000KZALSG', 'B004RG4IIS', 'B000AAZQM2', 'B0050RKH2Y', 'B007476KRY']\n",
            "A1G5MI2KREPEIB ['B00028VKLI', 'B000ANCPNM', 'B000JE7GPY', 'B002FU5QM0', 'B00212NO6W']\n",
            "A3S5WYWYKSAI9C ['B003L1ZYZ6', 'B00FWQ7M2G', 'B004NY9UV4', 'B007KZQM9G', 'B005X9XVNQ']\n",
            "A39K52QDP4C3ZS ['B003BLB2T8', 'B0058AH2US', 'B003A7C9WM', 'B007VPGL5U', 'B000R2PC2M']\n",
            "A25RTRAPQAJBDJ ['B004CLYEDC', '0972683275', 'B00DUTIZJG', 'B000TQ4D8K', 'B00026BQJ6']\n",
            "A7KBAXO177NND ['B0009HN588', 'B00803N2AY', 'B003M349VS', 'B003ZYF3M8', 'B008HVNCMC']\n",
            "AAA0TUKS5VBSA ['B003WU6KFO', 'B006DDT6JO', 'B00892RUTA', 'B0036Q7MV0', 'B00D1GYNT4']\n",
            "APOGXH3A74CM3 ['B002WE6D44', 'B0002L5R78', 'B000M2GYF6', 'B00829TIEK', 'B007I5JT4S']\n",
            "A19EKT8H85AKO5 ['B000NAQS3K', 'B000J1H4VI', 'B00834SJNA', 'B0019X20R8', 'B00834SJSK']\n",
            "A3E3EQ39FZTZEK ['B009YCASK2', 'B0009VKJH4', 'B003MVMTDA', 'B000HCT12O', 'B004FJV8EE']\n",
            "A2TA40MV2H4O6F ['B00007E89K', 'B006JILARE', 'B004GJ6FI2', 'B007476KRY', 'B002WE0QN8']\n",
            "AKSFZ4G1AXYFC ['B00813KIAA', 'B001GS8FZC', 'B000FFISV8', 'B0045JHJSS', 'B003ELYQGG']\n",
            "A1EVV74UQYVKRY ['B00CHH0JF0', 'B009NZ6SZE', 'B005OA24PU', 'B00A35WYBA', 'B00HZWJGS8']\n",
            "A3DL29NLZ7SXXG ['B0072NPFH6']\n",
            "A215IN14OKAE2T ['B0013LQD7Y', 'B003VZ7GEY', 'B003SQEAY0', 'B00609B3J2', 'B00B588HY2']\n",
            "A1MNN0ZMHYPJDU ['B001DBF07I', 'B007BXD6DW', 'B00B588HY2', 'B000G1EWZ2', 'B001LDRNY6']\n",
            "AZAC8O310IK4E ['B002Y6CJJ8', 'B000HDJT4S', 'B00746YZS6', 'B002V88HFE', 'B006U1YUZE']\n",
            "A2Y29IRSI08F0I ['B00011KM38', 'B004S7QKDC', 'B00336G7FA', 'B0045KGZOG', 'B00422KZQG']\n",
            "A1UQBFCERIP7VJ ['B00B5C2UDC', 'B005LJQO9G', 'B002V41X2M', 'B005UA3I72', 'B005FDXZJU']\n",
            "A1L1N3J6XNABO2 ['B003L62T7W', 'B0050RKH2Y', 'B000Q8UAWY', 'B0064EL2DK', 'B0000AI0N1']\n",
            "A2J7FHZFKOKGZ6 ['B003Z5CX3E', 'B000V5G4TK', 'B004WITQ9C', 'B001D8AGA2', 'B000UD3NTC']\n",
            "A1CN1P7147QDJC ['B00007AP2O', 'B009F1CWZ6', 'B005H3I38Q', 'B00BQ8RFAI', 'B00BQ4F9ZA']\n",
            "A3HXGSMCIOZEW8 ['B00CS43I4Q', 'B001KBZ3P0', 'B000WL0I1I', 'B000V2FJAS', 'B0097BEF1S']\n",
            "A3EK2KTYHJCPB9 ['B004GUT1QO', 'B008X9Z44M', 'B009LL9VDG', 'B0088CJT4U', 'B00BGIQPSG']\n",
            "A1M7HP5CHDXXOU ['B003MOKUIS', 'B00BJVJV9A', 'B00DVHV7TW', 'B007B6YPAM', 'B004KCI80I']\n",
            "A1X3ESYZ79H59E ['B00FF8ZRR8', 'B006W8U2MU', 'B003X7TRWE', 'B005I6EVUG', 'B0089E5R0W']\n",
            "A1NZLRAZJGD99W ['B00000JDF6', 'B001OC6DCW', 'B0007XHLXO', 'B004M8ST36', 'B00FRMAOIO']\n",
            "A3RGJ1FXOB1ZLL ['B0019MEIOM', 'B009O7YUF6', 'B002W4M0DW', 'B0029F21LA', 'B000F0ELOG']\n",
            "A3P69DTOXII004 ['B00CRXZPA8', 'B00HEYVAN6', 'B005EJH6Z4', 'B00DXWFF3E']\n",
            "A1FF2PLA84KNAE ['B00133BAKM', 'B004L08DCM', 'B003XKWLSS', 'B0002LEMWE', 'B000P5AJXI']\n",
            "A1R377IPZOKLMM ['B0002IWC9C', 'B003WJ218U', 'B008Q7HUR0', 'B001TH7GUU', 'B000N99BBC']\n",
            "A13EQE9EY2ET93 ['B007FPIQ0E', 'B00EMHM622', 'B00CO1HUGU', 'B009OZUPUC', 'B00EAXRVLY']\n",
            "A64LEAZ2QF8L2 ['B000FITKK8', 'B0019EHU8G', 'B00065L5SU', 'B001G5ZTZO', 'B001SERK14']\n",
            "A3TRY87JJCA5Y8 ['B001AO4MWW', 'B002HZW6WQ', 'B0042GHI8U', 'B005MTME3U', 'B006HXUXRY']\n",
            "A2LFWJ8X817QGX ['B004LGNB0A', 'B001QUA6RA', 'B0041OYS36', 'B005003WAA', 'B009SQQF9C']\n",
            "A2XA8CW5DF4MNZ ['B0039BPG1A', 'B001TK3ACA', 'B000EBK3FW', 'B0088CJT4U', 'B003ELOSIW']\n",
            "AEZJTA4KDIWY8 ['B003LR7ME6', 'B00966IREK', 'B00D12OBEU', 'B000UO6C5S', 'B001ID829O']\n",
            "A30X750M8V1XXW ['B00007E816', 'B000ZCIHK8', 'B0010Z28XG', 'B0023B14TK', 'B004N623WK']\n",
            "A12ANFNOSMW5VD ['B000CCXCYC', 'B005ARQV6U', 'B000BKJZ9Q', 'B004LTEUDO', 'B0040QMB8O']\n",
            "A1GNYV0RA0EQSS ['B008MF3X9K', 'B005KFONIU', 'B002ATBEVI', 'B0079UAT0A', 'B003JZU8DC']\n",
            "AY3D7DG5L5WCK ['B004SKBJ5S', 'B0058FAYPI', 'B008X9Z8NE', 'B0042X8NT6', 'B00DQZQPNM']\n",
            "ANXEW7IDYDJEH ['B00GTGETFG', 'B004Y4XAAK', 'B000L9OIQC', 'B001M4HXB2', 'B00BERGFV6']\n",
            "ATFBVUXDIRXT6 ['B006SVV6HG', 'B0044779G8', 'B002R5AM7C', 'B00005T3BD', 'B003SQEAY0']\n",
            "AAEVGE52KL0DJ ['B00B5DHZMM', 'B009GUXU52', 'B00AFSN8UG', 'B007WTAJTO', 'B00E055H5O']\n",
            "A361M14PU2GUEG ['B00698ZUHK', 'B007FNF5IC', 'B009OBCAW2', 'B002JQNXZC', 'B0011NVMO8']\n",
            "A1F7YU6O5RU432 ['B0053R0WWG', 'B004Q3R9AQ', 'B004GF8TIK', 'B0044YPN0A', 'B005K2XM94']\n",
            "A34BZM6S9L7QI4 ['B00CD1FB26', 'B008ULPAT2', 'B008GVL9YQ', 'B004CLYEFK', 'B00A7PPLP2']\n",
            "A31HOWJKEIY037 ['B000Q85WOK', 'B009SYZ8OC', 'B000FQ2JLW', 'B003UDCPEI', 'B001QUA6RA']\n",
            "AQM0K7MBBT4AY ['B006CFU61U', 'B005GVAWXS', 'B00829TIEK', 'B005HY4UPK', 'B00F3F0EIU']\n",
            "A32NEDX6UVV8DE ['B004HEBXFQ', 'B000LRMS66', 'B002HU27UW', 'B002SB8RPO', 'B0069OAHUO']\n",
            "A200DY76VXVGP9 ['B008EQYRRY', 'B003LVZO8S', 'B00B4GGW5Q', 'B001TH7GUK', 'B009WA115M']\n",
            "A2LEIANN1UZTHP ['B0000511U7', 'B005YXD4I8', 'B0035PS57C', 'B00212NO6W', 'B008EQYRRY']\n",
            "A14JBDSWKPKTZA ['B000N99BBC', 'B00007KDVK', 'B003LR7ME6', 'B002DN928S', 'B0013FW8XS']\n",
            "A1DB5QPH7WO488 ['B004GKLT4G', 'B0012Y6HC8', 'B005X9Y0YU', 'B00AR95FOU', 'B005LIDN14']\n",
            "A29KJ32G75L7G9 ['B0039ORBLK', 'B009U7WZCA', 'B00B99JU5M', 'B00AF22NTY', 'B007M506WS']\n",
            "A3QNX5KWHDV0GD ['B007JGB8R2', 'B001IOPIRM', 'B00000J1V3', 'B0041Q38NU', 'B001F51G16']\n",
            "AU2UJF4I7KAWL ['B005BOMTT0', 'B003Y09H8E', 'B00650P2ZC', 'B002W3IXZW', 'B0049XGNKK']\n",
            "A2OWR5G2OAQF7C ['B003SX0NG2', 'B004SCSV2U', 'B003TXRTNG', 'B003ES5ZUU', 'B000EUFJXE']\n",
            "A2SATO5BNKWY3Y ['B000SEQGT2', 'B003E16ODE', 'B00109Y2DQ', 'B000I97N0S', 'B000HPV3RW']\n",
            "A3P1508PZ0UADD ['B00AU0HMGA', 'B009WHV3XA', 'B001EDXPMC', 'B000JNQSIQ', 'B007IV7KRU']\n",
            "ABVYGB2TKBO8F ['B003WUBIZQ', 'B008RJZQSW', 'B001FA1NFA', 'B0043DKBTK', 'B0002J2TLC']\n",
            "A3U5HKDHPYBAK3 ['B004QJ9JLW', 'B0020ZDI5C', 'B006U1YVZ8', 'B0057UUB1G', 'B00DQZQCUI']\n",
            "A18EA7MNLXP9H5 ['B000V1R96Q', 'B0026ZPFCK', 'B0026HSQ3I', 'B0001Y7UAI', 'B00001WRSJ']\n",
            "A1MRRMHGV3PN5W ['B0082OJ2VE', 'B002VPE1XE', 'B004BDOGL6', 'B005KP473Q', 'B003HIXOOG']\n",
            "ATOKT8QYK967L ['B00316263Y', 'B007I5JT4S', 'B000QUUFRW', 'B0014E02AO', 'B003FVVMS0']\n",
            "A2HXE29CU1I24Y ['B001P05NKG', 'B001GCVA0U', 'B00007AKDP', 'B001NJ0WCS', 'B00006YZ3Y']\n",
            "A1S27P7KJO9I96 ['B00DR8LA60', 'B0062XB9FE', 'B000HI9O5W', 'B00D429Y12', 'B009A6CZ30']\n",
            "A3QKIR8J56EUI1 ['B005MR4P0W', 'B001UNI80A', 'B0039BPG1A', 'B002MCZJ3C', 'B0015HS1HQ']\n",
            "ADKZOXAOV8EXD ['B004M8SSZK', 'B003Q0BPC8', 'B00AEKEA48', 'B007VGGFZU', 'B000089GN3']\n",
            "A2EZTM9WY5B5IL ['B000ZMCILW', 'B000MW3YE0', 'B00ENSKUUK', 'B0011NVMO8', 'B000AYJDD6']\n",
            "A1NGFGBX2VCQS8 ['B000VIQ6AO', 'B0052SCU8U', 'B0048IW030', 'B000F28DP2', 'B005EJH6Z4']\n",
            "AW3LX47IHPFRL ['B0002UBDDG', 'B001EH8FZA', 'B000WG6XW6', 'B001OI2Z2I', 'B000IXP932']\n",
            "A3V6Z4RCDGRC44 ['B0007CZ70Y', 'B0034XRDU0', 'B000M17AVO', 'B002I3OZB2', 'B006C248BC']\n",
            "AAQ9NJ480N9W5 ['B0043WJRRS', 'B0000AQIFZ', 'B0000DZEZB', 'B000QUUFRW', 'B001TCJI7E']\n",
            "A17Z0LVY96TO53 ['B003RRFWRY', 'B003F69JBW', 'B007FGYZFI', 'B004HO58SO', 'B00894YP00']\n",
            "AOJA1LC8PN7K1 ['B000GQMHBI', 'B00005T3BD', 'B000J1HPXK', 'B005CLPP84', 'B000IBTK7U']\n",
            "ABE5E8B3J7MKY ['B0019EHU8G', 'B000R9PXE2', 'B003FVJYF8', 'B00BGGDVOO', 'B00006RVPW']\n",
            "A17NVM7IAPF2NS ['B00EF1OGOG', 'B0032FPVKE', 'B009Z3SVRM', 'B0002F8ZGO', 'B00D6XW62I']\n",
            "A4S2WAQVQR6PI ['B00698ZUHK', 'B0019X20R8', 'B001F7AJKI', 'B000I20B86', 'B000I68BD4']\n",
            "A2RGWCT6K2C3EZ ['B00HYAL84G', 'B005KQ2O26', 'B00313JD06', 'B005HSDLCO', 'B002ZIVKAE']\n",
            "ARIDN94LOCQFD ['B003FZA2SM', 'B00B588HY2', 'B004G6002M', 'B00CM0XHNS', 'B0041Q38NU']\n",
            "A4UGMKUSX9XHI ['B00AEKEA48', 'B00D1GYNT4', 'B000N99BBC', 'B00HFRWWAM', 'B00006I53X']\n",
            "AGR1V15L6FLMA ['B002N8JJ04', 'B001BLTDZA', 'B0045JCL22', 'B002YIG9AQ', 'B004N3BH0C']\n",
            "A2DG63DN704LOI ['B000EW9Y4M', 'B005PSQ5TM', 'B008JCVF0U', 'B000V5P90K', 'B00B3PDHBU']\n",
            "AGLT3L7ALL4O4 ['B00316263Y', 'B002SQKL7Q', 'B003S6AXVO', 'B00D601UC8', 'B005DOK8NW']\n",
            "A1Z7U9K6X3FEOU ['B00009R8EK', 'B001TGUYI2', 'B0002JUHS4', 'B000VDCT3C', 'B003UEWF8I']\n",
            "A31ICLWQ9CSHRS ['B000VDF5RO', 'B000JLK5PK', 'B00007GQLS', 'B00006JN3G', 'B000AZ57M6']\n",
            "AT09WGFUM934H ['B00966IREK', 'B002DUKPN2', 'B000J1H4VI', 'B005KSAG3S', 'B00BQ4F9ZA']\n",
            "AEL6CQNQXONBX ['B00H4OWPE4', 'B0007PGADE', 'B004HHICKC', 'B0002CPBWI', 'B004CLYEDC']\n",
            "A1EKSETIBS9ETQ ['B0007TJ5OG', 'B005755U0I', 'B0042X9LC4', 'B003IVZVDO', 'B00A34GP52']\n",
            "AR1T36GLLAFFX ['B000L9OIQC', 'B004H8FNBC', 'B001MT8J4W', 'B00E055H5O', 'B004Q3R9B0']\n",
            "A1LD5SE8IZ1H70 ['B0077E47SI', 'B00752R9PK', 'B001202C44', 'B0018QNYSK', 'B000GQMHBI']\n",
            "A3F7F7QKQP2FKT ['B003U9RHM2', 'B000EYRLXQ', 'B00176NOCM', 'B0060GEZ0E', 'B002CMLDT6']\n",
            "A1Y051MQ2SVPFI ['B000KZALSG', 'B003MQWN40', 'B000NP3DJW', 'B00D5Q75RC', 'B000F7JCRA']\n",
            "A30ADSBTWCORYC ['B009SGB3KI', 'B003LSTD38', 'B00005V8R8', 'B000VZS2EU', 'B00604YSNK']\n",
            "A1HFT68GJ42LTM ['B005BOMTT0', 'B002TLSOG0', 'B0077SAYY0', 'B003WOLM62', 'B002K9IHGI']\n",
            "A1AWL9JASMG904 ['B004UHDUNI', 'B009USAJCC', 'B001QATRCA', 'B000N99BBC', 'B000GK8LVE']\n",
            "A376OJHLE6SU9Q ['B008X9Z44M', 'B009NZ6SZE', 'B001DBF07I', 'B0003QER8C', 'B0034CL2ZI']\n",
            "A3QRR8PSCBI07C ['B001TYRYHS', 'B003ES5ZUU', 'B000067RT6', 'B009NB8WR0', 'B0037ECAQ8']\n",
            "A2ZFFSJ0VM6KSJ ['B000BNY64C', 'B008I64126', 'B0062IPIPQ', 'B0002YE6FY', 'B0017U0WM8']\n",
            "A15TABNGK6L4N3 ['B0046A8YEO', 'B00139W0XM', 'B0083EZE4M', 'B002WC6JFO', 'B004Z0S6RU']\n",
            "A2WC9NFLG57W4H ['B00EO302SO', 'B003YKG2UK', 'B001OI2Z4Q', 'B0097BEF1S', 'B00EOE4G4E']\n",
            "A2L4ZGN7GZJ95T ['B00GN6PPXW', 'B005ZIM73A', 'B00475K64E', 'B00E5UHRIO', 'B008F537KC']\n",
            "AGVWTYW0ULXHT ['B0052N9HWM', 'B001144JQU', 'B006JINHYS', 'B00009MK5M', 'B00BOHNYU6']\n",
            "ASF3J4UYV34KA ['B0002MQGKO', 'B003MVMTDA', 'B001TXWNLQ', 'B00B9996LA']\n",
            "A18GJ9MYYO6GCQ ['B004CLYEFK', 'B000E65HXA', 'B008HK3QII', 'B004XZY71G', 'B002MAPRYU']\n",
            "A2EMUM49CE0JV4 ['B003D5MY5I', 'B000Q85WRC', 'B0002J2P2A', 'B0058UUR6E', 'B00076FVP6']\n",
            "A3GQY0TFRG0MPZ ['B0040IO1RQ', 'B008JCVF0U', 'B000JE7GPY', 'B00182CIB8', 'B002R06PGE']\n",
            "A1L0P1ZP5FD6EC ['B000KIDBO4', 'B005MEBYB8', 'B008GVM9K4', 'B007NJ0S1W', 'B008R7EWEI']\n",
            "AWPN47SSWK1JV ['B0002855KK', 'B001XURP7W', 'B001PNNXGO', 'B009LL9VDG', 'B002RCDKVK']\n",
            "A2Q2A6JKY95RTP ['B003ES5ZUU', 'B0002LEMWE', 'B002DUCMQU', 'B0012JCYPC', 'B0002ILKWM']\n",
            "A2QI2JHSIQ3SN3 ['B003FVVMS0', 'B00GTGETFG', 'B0019EHU8G', 'B005SZ66XM', 'B0006I1TRY']\n",
            "A1SC5OXLQNGPLN ['B00007GQLU', 'B0042X9LC4', 'B00D5Q75RC', 'B006TAP096', 'B001S2PPT0']\n",
            "ABQWMANK4AR63 ['B008EC4O76', 'B0031RGKZI', 'B001CE5LNY', 'B003YFHE9I', 'B008YRG5JQ']\n",
            "AGYH5U11ZKPFB ['B000OG88KY', 'B000BMZHX2', 'B006U3O566', 'B003P2UMQ2', 'B0012MMW7E']\n",
            "A1QNYLBG73QRNF ['B0042WGO3Y', 'B005O9YMM4', 'B000PMGZDO', 'B000053HC5', 'B002DJV83Y']\n",
            "A1FDV3WPOHREY9 ['B00007GQLU', 'B000KJQ1DG', 'B005LW580O', 'B0002V9IKK', 'B000P1O73A']\n",
            "A2KZOIOFXXMC1H ['B000SEQGT2', 'B00D4NTBGY', 'B0001PFQ7G', 'B006R2N8VS', 'B0009HTB0Y']\n",
            "A3OZA8HNJM26DC ['B0047WZOOO', 'B0028R3NCU', 'B00BBD7NFU', 'B007Y0EQE0', 'B00DQZT1I8']\n",
            "A21VM9WVF8EOSJ ['B002DS9BOI', 'B00000K13L', 'B0075Z2SMG', 'B0031GGQC6', 'B0027Q4HXG']\n",
            "A7EU2BWLLCJY2 ['B00FSA8VQ2', 'B00F93IOR4', 'B0058FAYPI', 'B003FMUMN0', 'B00546JKJC']\n",
            "A14X244VGHWPSX ['B0019HGTLC', 'B00009W3BQ', 'B00829TIA4', 'B00DR8LA60', 'B00DQZSEWM']\n",
            "A3R1WFO4KIUQXZ ['B004YDUZ22', 'B004WB8EYM', 'B002V88HFE', 'B003XM1WE0', 'B009JPBPWO']\n",
            "A1JUBRIZMO0RJV ['B001U0OFKU', 'B002M3SO10', 'B001FA1O1S', 'B0002ZAILY', 'B002TMRZOQ']\n",
            "ADOR3TR7GDF68 ['B0000DD7OH', 'B009DMFOVG', 'B000JJSQ3A', 'B0031GGQC6', 'B001TH7GUU']\n",
            "A11OTLEDSW8ZXD ['B00426D9KQ', 'B001FA09WI', 'B005ZIM73A', 'B00BGIQPSG', 'B00009R6WU']\n",
            "A30KPB2ILF6K6J ['B004CLYEDC', 'B00452V66G', 'B00D3F7D7M', 'B001P05NBA', 'B00IF0JAIU']\n",
            "A2ZWJVKITA32OV ['B0038L495U', 'B00AJHDZSI', 'B001D773KY', 'B002OGMNT4', 'B002AKKFPI']\n",
            "A33SX0AD5PYD9B ['B00B8PRRTI', 'B00HC0ZDOE', 'B00BP5KOPA', 'B000AAZQJU', 'B008681YPS']\n",
            "A2IIAQ7VVAHXTD ['B001VJ680U', 'B000VX6XL6', 'B001XURP7W', 'B00746YHV6', 'B009SYZ8OC']\n",
            "AT28RL25Q2OLK ['B006JILARE', 'B00AQ2BU74', 'B000L9OIQ2', 'B009GHYM0M', 'B009NZ6SZE']\n",
            "A31RULW0KNYJ5H ['B006JH8T3S', 'B004QK5N5W', 'B0051BG48U', 'B004KSQANO', 'B00744QNA6']\n",
            "A3PPO2X5PJE1L9 ['B0081ER9KG', 'B006DEBYWU', 'B0040X4PV8', 'B000H02B6O', 'B001KN6WL2']\n",
            "A2NT3W1F1XYBFZ ['B00APCMMDG', 'B001TP6TDW', 'B00CFCTDD6', 'B004HO59M4', 'B0049WBZEK']\n",
            "AEN44U6T9R93 ['B000OGX5AM', 'B002WE6D44', 'B002KETE24', 'B001SERK28', 'B0014C0IAK']\n",
            "A3SL0HA6422W4M ['B00HUNUOJW', 'B0035FJVHA', 'B002VPDOH8', 'B0031RD3YY', 'B007GC4L7S']\n",
            "AR18DH5SL9F73 ['B001R1ZQKU', 'B0012Y2LLE', 'B0041Q38NU', 'B0033QJLQW', 'B0091UHMHO']\n",
            "A12DQZKRKTNF5E ['B002UBPBTC', 'B002Q5XFCM', 'B005LDLP8W', 'B004LSNF04', 'B00DHKKI16']\n",
            "A1BVE2ZIBKJ7YI ['B003CP0K8C', 'B001FA1NK0', 'B000Y4AH3C', 'B00F2ENU92', 'B0067XVNTG']\n",
            "AFH97KY1SBP2C ['B001LQSFKY', 'B000R5LWRI', 'B005058B56', 'B005S6XUXA', 'B0010YWPZ8']\n",
            "A2Q7OJTVPIO2XH ['B00EQ07PG2', 'B00004ZCJE', 'B00017LSPI', 'B005HMKKH4', 'B0043WJRRS']\n",
            "A3IJ4Z18FTIIP ['B009QBIZ60', 'B003FOWIXK', 'B0012YJQWQ', 'B001BTWQDS', 'B009NB8WR0']\n",
            "A3UR2N0ATGBCU8 ['B002CNOYRS', 'B0007TSYCK', 'B00632SB2I', 'B005DKZTMG', 'B0056YNA1Q']\n",
            "A1TR1R2QKWRSRA ['B00007LTBI', 'B002J9HBSE', 'B00884WH74', 'B008ULPE70', 'B008ULPAT2']\n",
            "AIFLY2HF8NS8U ['B004SKBJ5S', 'B000PKC102', 'B003XN24GY', 'B00IMZKDOS', 'B0044YPN0A']\n",
            "ARX7Z3NI6O0F7 ['B0002L5R78', 'B002NEGTTW', 'B0000X0VCY', 'B000KO0GY6', 'B0007Y794O']\n",
            "A3GVXKCTFN3YDN ['B003ES5ZUU', 'B001BY97IU', 'B001LRKB78', 'B001MSU1FS', 'B0013FDLM0']\n",
            "AX05DBU8IRUWY ['B00C57P2BI', 'B00609B3J2', 'B002NU5O8I', 'B006W8U2MU', 'B001L1H0SC']\n",
            "A3QUDXLOJTKEP9 ['B0049V0ZX8', 'B00BOHNYTW', 'B00829THK0', 'B0010383XM', 'B00B7E1D7W']\n",
            "A3BVN2QBNPBHCR ['B00EO302SO', 'B004G8QOJS', 'B009F1CWZ6', 'B000RZQZM0', 'B009NHWVIA']\n",
            "A2HV76MYH7UL3S ['B00DHW4HXY', 'B00752R4QO', 'B003ZTWYXY', 'B008R6OPJQ', 'B0090I9VVC']\n",
            "A2J8DE8R94ZB02 ['B008EQZ25K', 'B00065AO0K', 'B001144JQU', 'B00DUTIZJG', 'B0099SMFVQ']\n",
            "A27T4RQ3XA661C ['B004JOQSEA', 'B003ZTWYXY', 'B00462RMS6', 'B007HBLXI8', 'B005HSDL4M']\n",
            "A316XO4RWX21YN ['B000UD205K', 'B00F6PRSMW', 'B001CROHX6', 'B006DEBYWU', 'B002S53LJ2']\n",
            "A178M2AHNWQZB0 ['B00AX49VBW', 'B004X355Y6', 'B004AX6Z3Y', 'B003WJR69E', 'B007IV7KRU']\n",
            "A2XU6J41ZQOJ2V ['B000PHW1UK', 'B004HNCRNO', 'B00029U1DK', 'B00109Y2DQ', 'B0000CD08M']\n",
            "A15T9G38F589KM ['B002DSHMA8', 'B0018O9JIG', 'B004W2JKWG', 'B0045XV2CI', 'B00CRB9CK4']\n",
            "A1Z16630QMH8Q6 ['B00D1GYNT4', 'B001E1Y5O6', 'B000HPV3RW', 'B00461E7JE', 'B003M0NURK']\n",
            "A2TN0U8173HM7A ['B004EBX5GW', 'B006L8TX94', 'B00005T3BD', 'B004YDUZ22', 'B000067RT6']\n",
            "A1Z4GII5CHCDG7 ['B00006BBAB', 'B000CCXCYC', 'B001BLTDZA', 'B004QQY2JO', 'B007PRHNHO']\n",
            "AS2II0671KT2C ['B0046TJG1U', 'B00722JCMQ', 'B00A35WYBA', 'B0092HP3GS', 'B005WQE25G']\n",
            "A3NEAETOSXDBOM ['B0073Z49AM', 'B000NBBWNU', 'B0035FJVHA', 'B0018P7WZ2', 'B00CKK8GEU']\n",
            "A2HDTOF8222KN3 ['B003ES5ZUU', 'B007BYLO4E', 'B0038JECKY', 'B000ENRFNS', 'B000BJUJSS']\n",
            "AWJWCKB92RJX2 ['B0003QER82', 'B002EVP85K', 'B001AWAT3K', 'B000EEQ83K', 'B000U5TUWE']\n",
            "A1YEPFLLH42OU1 ['B00EAY7MBM', 'B001MSU1HG', 'B007P4VOWC', 'B00CD8ADKO', 'B00BOHNYU6']\n",
            "A3FFZQKCA7UOYY ['B00IF70QCW', 'B00012EYNG', 'B007HSKSMI', 'B0019EHU8G', 'B000M2TAN4']\n",
            "A1B6O7SAIYG2N0 ['B0001GMIOE', 'B00HNJWSH4', 'B00FNPD1OY', 'B005ELBSWO', 'B00DQZOD8Q']\n",
            "A3SU7JSTPH9CC9 ['B001M4HXB2', 'B0084FM5JC', 'B003ZTKFEE', 'B002ZIMEMW', 'B000L47AHG']\n",
            "A3IMALU0RM8UT9 ['B007ZIBURC', 'B004EBX5GW', 'B00DMWFS8C', 'B003O9FZUY', 'B003FVJYF8']\n",
            "AQCJWSMSURQI2 ['B003L1ZYZ6', 'B000VX6XL6', 'B00176TEGM', 'B004CLYEDC', 'B0034CL2ZI']\n",
            "A1ZM846Y7AUYD ['B000VI363Y', 'B000K2NWLC', 'B00009R6V0', 'B000V2FJAS', 'B000LRMS66']\n",
            "A3V2EZ6MA32FF6 ['B006JH8T3S', 'B005Q3144W', 'B00168BSEW', 'B008HO9DK4', 'B002HWRJY4']\n",
            "A1Q5P5ML3176C0 ['B0016D1I0G', 'B007VE0MFG', 'B00007E7JU', 'B0048IATQ0', 'B005GMRVZO']\n",
            "A25TQLMIAPI1T6 ['B000WH6H1M', 'B003Y3TS4Y', 'B00017LSPI', 'B004XF3EQA', 'B003DS4Z6Q']\n",
            "A3NHUQ33CFH3VM ['B00H7PBWK8', 'B0007TSYCK', 'B0036WT1RW', 'B008JFRRYK', 'B00DQZSEWM']\n",
            "A2QRXQPHDMFCQV ['B0015F0AB8', 'B009NB8WR0', 'B001TK3ACA', 'B000N99BBC', 'B009AZSYC2']\n",
            "A3JUHP1E3WUHEA ['B0076BNK30', 'B0033PRWSW', 'B004CLYEDC', 'B004CLYEFK', 'B007FGYZFI']\n",
            "A15G70V9OBTOVO ['B001DL9WDG', 'B0002BEPJY', 'B003WJR69E', 'B004HO59M4', 'B003T0EYVE']\n",
            "A2NYK9KWFMJV4Y ['B00FUV7OP8', 'B00FSDKBYY', 'B00H3JTT30', 'B00IIEC3O6', 'B007WTAJTO']\n",
            "A26877IWJGISYM ['B007KZQM9G', 'B006JH8T3S', 'B002R5AM7C', 'B001OI2Z4Q', 'B004CLYEFK']\n",
            "A1NRMTQ5SZPZA ['B00834SJSK', 'B005DKIID8', 'B006K552SE', 'B0082E9K7U', 'B00AQRUW4Q']\n",
            "A1XEQGYY1IL8CD ['B0000AG92Z', 'B001G4QXLE', 'B003G49V70', 'B002HJ9PTO']\n",
            "A2X8KN82L07RSK ['B00004XRED', 'B001OC6DCW', 'B0001FV3C8', 'B007PJ4P4G', 'B00GO4GMAI']\n",
            "ALUNVOQRXOZIA ['B002TLTG9E', 'B000MP831G', 'B00006G2OJ', 'B004536LUG', 'B004HYG9XC']\n",
            "A87CILADRIZW0 ['B003SQ1JTY', 'B0007OWNYA', 'B004RORMF6', 'B005HMKKH4', 'B00004SABB']\n",
            "AFICF7DKHTQ87 ['B000Y138EK', 'B001ENI3C4', 'B0001DHHIY', 'B000KJQ1DG', 'B00F1CRTJM']\n",
            "A20UU20K7M9ZPF ['B0015DYMVO', 'B009STMN9K', 'B008OEHPPM', 'B002IVWSR2', 'B008GFVF3M']\n",
            "A2MR696ZU17F12 ['B00012EYNG', 'B000F4CTUK', 'B000F7JCRA', 'B00829TIA4', 'B000QJ4ZE2']\n",
            "A1DQHS7MOVYYYA ['B0023B14TK', 'B004Q3R9B0', 'B000EXS1BS', 'B000R6QAHY', 'B001F51G1G']\n",
            "AN81JUYW2SL24 ['B00AQUO5RI', 'B00008AYBE', 'B00F19Q7AC', 'B0009EUSYU', 'B003L76BJS']\n",
            "A1ODOGXEYECQQ8 ['B000F9YN22', 'B00022OCCI', 'B0053G6GI6', 'B001NS828K', 'B00CU8CJSQ']\n",
            "ANSVB7OYSXZSL ['B0082OJ2VE', 'B000QUUFRW', 'B002FL4WYW', 'B00CRY250U', 'B00D6XW62I']\n",
            "A2UWPPU5GZLMQZ ['B0010Z294O', 'B009DJ1OFY', 'B000WJOF1O', 'B0028N7442', 'B0029N3U8K']\n",
            "A3AVJCB1ZD6ZY5 ['B005HGBF9W', 'B001FN3ZRQ', 'B003M0NURK', 'B00D1GYNT4', 'B001EQ4C8U']\n",
            "ABSYIF0ONC2AF ['B004X355Y6', 'B0018BQR84', 'B004YKXGIK', 'B002V88HFE', 'B003QKBVYK']\n",
            "A2VCXIAWCPQ13P ['B001F51G16', 'B0010Z28XG', 'B004G8QOJS', 'B000L9635G', 'B00028D778']\n",
            "A1T7EHCMZ92TKC ['B001V9KG0I', 'B00834SJNA', 'B002M3SOBU', 'B005HMBQR2', 'B004GUT1QO']\n",
            "AVTJEWTCJ3PBE ['B00DR0RBV6', 'B0006I1TRY', 'B001O4EPHA', 'B0014Z29OU', 'B0027EMHM6']\n",
            "A362FM6FYA1SYS ['B007SZ0E1K', 'B000HJPK2C', 'B00A35X6NU', 'B005ES0YYA', 'B0050YG3CU']\n",
            "A35KBAQ4VBNQ6L ['B0034WR71G', 'B007WTAJTO', 'B0079M711S', 'B000JE7GPY', 'B000QUUFRW']\n",
            "A3JV071KO43Q5X ['B004MSI7UQ', 'B003C2T03G', 'B0026L7B8K', 'B00DSUTVK4', 'B00316263Y']\n",
            "A2X06FP2PQ6EK0 ['B003ES5ZUU', 'B0068LACFI', 'B005HM0SNA', 'B001FW9QGQ', 'B00426C57O']\n",
            "A33XMCG1UFDSY2 ['B000I4UQL6', 'B002669XKY', 'B004I5BUSO', 'B000L4D42Q', 'B0050DAJF8']\n",
            "A3Q1J68QY1MZQ9 ['B00001QEMF', 'B001S0PWV8', 'B000136P8W', 'B00126R3P6', 'B002JMYCTC']\n",
            "A35SNSDRNE9P8Q ['B005BOMTT0', 'B005K97B4Y', 'B0043M6F14', 'B000EZL1EA', 'B0041OSQB6']\n",
            "A1H6SBO7R007I8 ['B004C13VWC', 'B006K552SE', 'B00EPY0KX4', 'B004KKZ0J2', 'B00HPM1FZ0']\n",
            "A2ALRZ0ENQLYY5 ['B00009UHFI', 'B002V8C3W2', 'B001AZP6O4', 'B0000510IA', 'B001CCAISE']\n",
            "A124WZCUIH2T7W ['B003RRFWRY', 'B000V5K3FG', 'B002CTV060', 'B00006HOAQ', 'B0002L5R78']\n",
            "A1YN5I4FINMBTI ['B0041OSQ9I', 'B0064S0UHA', 'B00006BXBS', 'B004TA0AUW', 'B0041Q38NU']\n",
            "A2ZY49IDE6TY5I ['B0047E8DN6', 'B004HEBXFQ', 'B000001ON6', 'B0079UAT0A', 'B002V88HFE']\n",
            "A1L64KDYO5BOJA ['B000P1O73A', 'B0039YON6Q', 'B0007VPFI4', 'B001QEPR5M', 'B00176NOCM']\n",
            "A2FXBWR4T4OFQ ['B002ZIMEMW', 'B001PI9AAC', 'B001E0Y3KI', 'B002O3MVYO', 'B001EQ4BVI']\n",
            "AW68KVDV7BBRS ['B005SGIILO', 'B000TCU1Z8', 'B002QUZM0U', 'B002JCSV8U', 'B00140DBRY']\n",
            "A1NQFT941TOTT7 ['B008YRG5JQ', 'B000HPX4AQ', 'B000I5JHB0', 'B005PQTYHE', 'B002RCNX8K']\n",
            "A15QYHQH80W30L ['B001BTG3OQ', 'B000EOSHGQ', 'B002O3KVSC', 'B002O3MVYO', 'B003UI62AG']\n",
            "A2DS9DLMSU2M2Z ['B00CR6DXEA', 'B000O8JZIG', 'B003WUX6PG', 'B004616OIQ', 'B001EQ4BVI']\n",
            "A2V5M5EJPOD2IU ['B005NYPC1U', 'B004NHCGJO', 'B004CAGDUA', 'B003DZJQQI', 'B002OL2NT4']\n",
            "A2SYAQXJGRY3XE ['B000144I2Q', 'B002JCSV8U', 'B0007VPFI4', 'B003IRR0YQ', 'B002JCSV8A']\n",
            "A267FU71Z01CIH ['B009X01C64', 'B004HVW0ZQ', 'B004SGJCCO', 'B00BWL33H8', 'B004ROOCO0']\n",
            "A145B8OHVNNFAJ ['B0007WZLDC', 'B0044779G8', 'B003WU6KFO', 'B00IRV2DL8', 'B00EXPNFQO']\n",
            "A357B3PUHSVQA ['B004JMZPJQ', 'B007PJ4P4G', 'B003SX0P1A', 'B002V88HFE', 'B00AR95FOU']\n",
            "AX7317G153T8W ['B001OOZ1X2', 'B00EU9V3VW', 'B008X1BV2Y', 'B0013FRNKG', 'B002IC0YL8']\n",
            "A1RCGK44YXNBBB ['B000J2QIXM', 'B000E8OVMG', 'B000E3TTIM']\n",
            "A2L4W1M5YU5QX3 ['B00DP3KOOG', 'B001TH7GUK', 'B00A9NE84C', 'B003V42O6K', 'B002V8C3W2']\n",
            "AZCE11PSTCH1L ['B000V0IE6G', 'B004C9M7UG', 'B0039825LM', 'B00461E7JE', 'B006EWUO22']\n",
            "A2XAKGRUHIE2ZA ['B00176NKPS', 'B0036OR91A', 'B0015F0AB8', 'B00BGGDVOO', 'B0013DXVYK']\n",
            "AR3EVUQF0AC7R ['B006VJREFS', 'B00EJ8CKGG', 'B00390JT1O', 'B0058GK55Q', 'B00EOE4G4E']\n",
            "A3NYBI5VMVEEIK ['B0028AYIXK', 'B0032CP24W', 'B0002EQU6C', 'B0009Y7APU', 'B005I6DVC0']\n",
            "A2NSMJVQY0RV9S ['B003Y0CXX0', 'B000KO0GY6', 'B000M127PI', 'B002O3MVYO', 'B002V88HFE']\n",
            "A19RW25Q6206I3 ['B003ZUXXVU', 'B001T9NUJE', 'B007WTAJTO', 'B00CD778LC', 'B0041D81WQ']\n",
            "A1V4A5U5O3TMMD ['B001EAQTRI', 'B0043WJRRS', 'B00894YP00', 'B00009XVCZ', 'B007FGYZFI']\n",
            "ABMN74TBW5UWE ['B000BI2162', 'B003547GRI', 'B004HREPCQ', 'B00746LVOM', 'B0040702HA']\n",
            "A1R19YYR5OR26T ['B002V88HFE', 'B005CT56F8', 'B003DZJQQI', 'B006M76GWG', 'B004XC6GJ0']\n",
            "A3KCKECEO3E2AN ['B000UQCAKW', 'B009SYZ8OC', 'B00F1CRTJM', 'B007K3SB6K', 'B004GUT1QO']\n",
            "A1CMWB7AWQUQH4 ['B0056G10WK', 'B006B7R9PU', 'B001NS828K', 'B00AB3CGF8', 'B001TH7GUU']\n",
            "A1ASWDAEDTTY5I ['B000EHUE7I', 'B00182CIB8', 'B001F7AJKI', 'B000EXS1BS', 'B000MFG44Y']\n",
            "A38C12950IM24P ['B00G4UQ6U8', 'B00DGNA4FY', 'B00C5B1844', 'B0053ORUS8', 'B0074FGLUM']\n",
            "A2PJH18W4XHTZW ['B002WE6D44', 'B008LTBITY', 'B003P2UMQ2', 'B001T9CTRS', 'B005EOWBHC']\n",
            "A1AZQCVCDBQP6 ['B000WH6H1M', 'B000LRMR26', 'B0061XSBZG', 'B005F778JO', 'B008AJNF78']\n",
            "ANFJYYQ0P35CW ['B001TICH08', 'B001HSOFI2', 'B0015DYMVO', 'B00JF0D7RE', 'B0090IA4FO']\n",
            "A3SRDVCD2ATIIS ['B000BVCSMG', 'B009F1CWZ6', 'B000067RT6', 'B006BGZJJ4', 'B007WTAJTO']\n",
            "A25FL6VLD7S23S ['B003XU6H8I', 'B001F51G16', 'B00494XZ1Y', 'B002M38I2U', 'B000DZH4D8']\n",
            "A24RCBRDXRXR0Y ['B0038W0N8G', 'B007RB164E', 'B00BP5KOPA', 'B00634PLTW', 'B00007EDZG']\n",
            "A1U5IJHJK84S54 ['B000LVIC58', 'B005LDLP8W', 'B00BQ8RFAI', 'B000VDF5RO', 'B002ATBEVI']\n",
            "A2YEZ8Z3BW2SKG ['B000AOTLP6', 'B002NU5UW8', 'B003ES5ZSW', 'B0025ZH43O', 'B004XQWGHW']\n",
            "A3284KYDZ00BZA ['B0056YNA1Q', 'B0043CVH2Q', 'B002QGDWLK', 'B000FQ2JLW', 'B00829THK0']\n",
            "A1PSVZBM894R5H ['B000S5Q9CA', 'B000HGQJZW', 'B0014LA4NM', 'B0049P6OTI', 'B000BP50AY']\n",
            "A96JD9312DHWC ['B00829THVO', 'B0023RRNCQ', 'B004CLYEFK', 'B008MF3X9K', 'B002SZEOLG']\n",
            "A2PREU4LOFQRB1 ['B00B99JU5M', 'B000IV413S', 'B005DII6DC', 'B000Q82PIQ', 'B0077E48A0']\n",
            "A1K4G5YJDJQI6Q ['B000R8KVJ0', 'B003VAHYXW', 'B000JET9EA', 'B000NWVAFO', 'B0007SXHP0']\n",
            "AVBLGXSWRN666 ['B00006JKW5', 'B001N9X4CS', 'B005JN9310', 'B00267S7XW', 'B002M3SOBU']\n",
            "ASFW4ZMNZJKDA ['B0010BK24W', 'B001TH7GSW', 'B0077E47SI', 'B005CLPP84', 'B003ES5ZUU']\n",
            "AE88D7OM7YU99 ['B002LEVGMO', 'B0009WKBGC', 'B001342KM8', 'B00EOE4G4E', 'B00DTPYQBM']\n",
            "A196JN53PG0C7R ['B001F6YRNO', 'B003MRHOQG', 'B0016LFN2C', 'B001NJ0D0Y', 'B001FVI91U']\n",
            "A36IHC0K68NS2 ['B002NU5RZS', 'B004ING996', 'B00DTPYQBM', 'B007X3VC7W', 'B000N99BBC']\n",
            "AMRMK86X3PKXD ['B004CLYEFK', 'B0007MWE1E', 'B00192KCAG', 'B001DWI1F0', 'B0009S5HQA']\n",
            "ASJLXOX1VD4DF ['B00BCPGMXQ', 'B003M8HWDA', 'B004CLYEFK', 'B002HWRJBC', 'B001TK3ACA']\n",
            "AV9PIER7NE448 ['B0037NYQ7K', 'B000PMGZDO', 'B00F0DD0I6', 'B0016CMCBG', 'B00BLGUKDE']\n",
            "A1ATVMMJZP3Q4X ['B0039XQQX0', 'B004JOQSEA', 'B00BGGDVOO', 'B000WH83AA', 'B0000A1G05']\n",
            "A3QJU4FEN8PQSZ ['B001OC6DCW', 'B0082YEH8M', 'B009M27MB2', 'B00ER52ES0', 'B000Q6UZBM']\n",
            "A1KXJCXS6HFRQZ ['B00077AA5Q', 'B00834SJSK', 'B004FHO5Y6', 'B0031RG2JC', 'B00006B81E']\n",
            "A2SH6A32BE6NEV ['B0002BEPJY', 'B003D5MY5I', 'B004CLYEDC', 'B00HQ883QW', 'B00752R9PK']\n",
            "A5CDMTW6JKV5G ['B001FA1O18', 'B00EMHVVNM', 'B0039RRC7U', 'B003VVH8Y6', 'B0001D3K8A']\n",
            "A1E1LEVQ9VQNK ['B005IMFX2K', 'B005O9YMM4', 'B00HL7Z46K', 'B005QBK63Y', 'B005GI2VMG']\n",
            "ANRS196NKFVUU ['B002HKHLDK', 'B001EAQTRI', 'B00810ICRO', 'B004TA0AUW', 'B002ODIE54']\n",
            "A5MCDQ60DWUEV ['B004F38Y7Y', 'B00D6XW62I', 'B001UFYFYG', 'B0041OSQB6', 'B003Y322RO']\n",
            "A2YYHSORXIHZCS ['B000UXZUZC', 'B004FA8NOQ', 'B005SEZBXY', 'B001X017G2', 'B006VCP72W']\n",
            "ARX0KOX5Q01BJ ['B005HBN3CE', 'B000067RC1', 'B005UBNLFK', 'B004RORMF6', 'B002SZEOLG']\n",
            "A87N6UTYA6NOB ['B00000J1UQ', 'B002NO7PWC', 'B00483WRZ6', 'B002WUVAVE', 'B000I06JLQ']\n",
            "A2UQK3DAZ8NO2T ['B001ENOZY4', 'B000DZFWL4', 'B000FTLSR0', 'B0009OAFI4', 'B001XURPQI']\n",
            "A3L6L5O89JTX2T ['B004C3AW40', 'B000L7INLU', 'B002WE6D44', 'B0001LRIT4', 'B0009WU65I']\n",
            "A2WW57XX2UVLM6 ['B0009QZDL6', 'B0018LQVIA', 'B001M4HXB2', 'B001NS0OZ4', 'B0045TYDNC']\n",
            "A2SZLNSI5KOQJT ['B0046TJG1U', 'B000WYVBR0', 'B004H8FNBC', 'B000IJY8DS', 'B009PK2MNY']\n",
            "A2IMLOJ2Z2QEU2 ['B00DR6DQZA', 'B003SX0NG2', 'B002MZUNXU', 'B0056YNA2A', 'B009PK9S90']\n",
            "A1KDUQ2HU0WD68 ['B005DIQ2OC', 'B0055QZ216', 'B003M0NURK', 'B00CALM17C', 'B004CLYEFK']\n",
            "A18OTCHQ6MXD6X ['B0000BZL0G', 'B00119T6NQ', 'B002V8C3W2', 'B00009R72R', 'B003CJTQJW']\n",
            "A3O5ASFUXC32UA ['B005HQ50SO', 'B001G445Q4', 'B0000BZL1P', 'B00005LEN4', 'B0037KM0XA']\n",
            "A2F92M62KN324B ['B004CRSM4I', 'B0076U29LK', 'B009NHAEXE', 'B002YIG9AQ', 'B001EPVOQY']\n",
            "ASCBJEPXTOU0V ['B00A14ZT6U', 'B007TMZ1BK', 'B003ES5ZR8', 'B000VWPULQ', 'B008XV7VTG']\n",
            "A3LPL35P7FH78Y ['B000NGKEH0', 'B004S5CCP4', 'B004ASY5ZY', 'B005U8XJO6', 'B0018QTWH2']\n",
            "A1VLVWTLV3LVHR ['B00114LG7U', 'B0015ADWMW', 'B005G5EAGE', 'B001B3A6DQ', 'B009IKCKME']\n",
            "A24J2Y1O22JYZX ['B000N99BBC', 'B0038WJTF4', 'B004LNOSQO', 'B001HBHLEY', 'B00077AA5Q']\n",
            "A1H98YV5K5BUX0 ['B001A1RMXG', 'B0002H4YUI', 'B0010HE2CY', 'B000F34FVM', 'B0001GMIOE']\n",
            "A1BBYSMT9YCODI ['B004QOAF7O', 'B000095S9V', 'B00A9NE84C', 'B005HY4U5A', 'B006DEBYWU']\n",
            "A7FDGFK0KN7QG ['B00E87OITK', 'B002MUAEX4', 'B0055N2L22', 'B004V4IWHY', 'B0043RS864']\n",
            "A3775OP5VTX5ON ['B003C2T08G', 'B003WUX6PG', 'B003L76BJS', 'B00009EHJV', 'B0001DBEM4']\n",
            "A3F3B6HY9RJI04 ['B001NTFAOS', 'B001PUQ7PG', 'B000TKHBDK', 'B002RCNX8K', 'B00B4OCWE8']\n",
            "A36A1ZYZH8568P ['B0000AZ0OP', 'B00CSMYBFS', 'B005HMKKH4', 'B00DDH4TYA', 'B004IK2EAW']\n",
            "A3TPNC3TKGCCEI ['B000BI2162', 'B000I8FZQI', 'B005FE7URM', 'B009QV72VY', 'B0041OSQB6']\n",
            "A2PL06HW6KZH2 ['B005LDLP8W', 'B00CI3BISU', 'B00117LECY', 'B006W8U2MU', 'B0064Z71T8']\n",
            "AM3XNQU9TZBD8 ['B00DR6DQZA', 'B0088CJT4U', 'B002HWRJY4', 'B0021L9C0A', 'B006C248BC']\n",
            "A28X0LT2100RL1 ['B00004TBLW', 'B000652M6Y', 'B00009R9A1', 'B00000JDF6', 'B000067RT6']\n",
            "AA95DWUI3ODU ['B001FA1O1S', 'B003FMUPA0', 'B005U0M9B8', 'B001PY41YQ', 'B00BQH8UEY']\n",
            "A1UL2JH7XOUGM5 ['B00CO2D4G4', 'B007FH1KX2', 'B0076BNK30', 'B000NP46K2', 'B000HCT12O']\n",
            "A35HNL2VEDK9Z1 ['B00007E89K', 'B000VDCTCI', 'B00005LENO', 'B000UZH7P6', 'B000KKPN5C']\n",
            "A3K91X9X2ARDOK ['B00CALM17C', 'B00B3PDHBU', 'B000092TT0', 'B000FMXKC8', 'B004GW25WY']\n",
            "ARW8VGT10JG60 ['B00336EHAM', 'B00FRHTSMW', 'B00004Z0C7', 'B0002Y5WZM', 'B0040JHVC2']\n",
            "A3KZEGBTPH6MMF ['B007PJ4PKK', 'B001NTFATI', 'B00829TIEK', 'B00568BV68', 'B002RWJHBM']\n",
            "AMUP8DYE7EAN2 ['B005JW6WQU', 'B000R6QAHY', 'B001DJ64D4', 'B001NPEB5Q', 'B00126R3P6']\n",
            "A23QII83UGZP5U ['B0036V9AGU', 'B003E49GRC', 'B0073K64NM', 'B0093HMKVI', 'B0000UV0JA']\n",
            "A3FEJ8H2VTN0OJ ['B00EUAFAF6', 'B001TH7GUA', 'B004DDI0IE', 'B007SZ0E1K', 'B003ES5ZUU']\n",
            "A353U0L2HAMSHV ['B004N625BE', 'B000M4XMGI', 'B004AK154Q', 'B000OLDG60', 'B00486MH80']\n",
            "A3G007LQX6KGOD ['B001EPUQAE', 'B004RO9L4Q', 'B00FF8ZRR8', 'B0085RV0AO', 'B002MCZJ78']\n",
            "A3AG5QAT8L0I3R ['B000BP2YLC', 'B007ZZ6OW6', 'B00BWL33H8', 'B00BEHQKPC', 'B008H9BXMK']\n",
            "AUK79PXTAOJP9 ['B0002E52S4', 'B001R0EVMA', 'B0054MLMLA', 'B001PUSERA', 'B00068YUN4']\n",
            "A1GBU479WXR7UG ['B006ZGWJU2', 'B004USRESY', 'B003SQEAY0', 'B002DE3RYM', 'B001D60LG8']\n",
            "AWHL379EE14K7 ['B00AWBHFRI', 'B00942TK8I', 'B006JH8T3S', 'B00932N46S', 'B006W41W7S']\n",
            "A1901NTE8LFJF6 ['B002LITI70', 'B0076R7F1M', 'B003C1AO2I', 'B00119T6NQ', 'B000GK8LVE']\n",
            "A28BX3MM90A6FI ['B005FYNSPK', 'B0041Q38N0', 'B001XURP7W', 'B0041MY32Y', 'B002KETE24']\n",
            "AW63IRQWH10GF ['B0010Y414Q', 'B000BMZHX2', 'B00BLGUKDE', 'B00134LUE2', 'B000EY5F5C']\n",
            "A27GITTN6AVW5I ['B000234TYI', 'B008ALAHA4', 'B001N85NMI', 'B00B99JU5M', 'B009YT6PPC']\n",
            "A4IL0CLL27Q33 ['B00DR6DQZA', 'B00475LJC2', 'B006JH8T3S', 'B004XW2NEW', 'B00EMHVVNM']\n",
            "A1H55L0BLPCWYF ['B0002JY712', 'B000S6E0XY', 'B003USPOLO', 'B0046TJG1U', 'B003HFCDLY']\n",
            "AZBXKUH4AIW3X ['B004G3WCNK', 'B0060B7NCG', 'B005LDLP8W', 'B00316263Y', 'B0000AHO92']\n",
            "A3BACUOZV1M0WM ['B004JRYLG4', 'B00006I53W', 'B00316263Y', 'B0041Q38NU', 'B004HREPCQ']\n",
            "A1VEELTKS8NLZB ['B003BYRGJ0', 'B006ZAHMPA', 'B004DBE080', 'B00CSMYBFS', 'B004G6002M']\n",
            "A2LLSFQO8O8XNW ['B0055QYJIS', 'B00429N18S', 'B003GSCS3U', 'B0012Y2LLE', 'B000083KIH']\n",
            "A1VRANSQ0WF1YS ['B001918HQS', 'B00114162K', 'B00007EDM8', 'B0007A1IRC', 'B002YK1FFI']\n",
            "AFM2J3HJNPIHV ['B0052XN17Y', 'B0043NH28S', 'B001T9NUJE', 'B0015EA3NO', 'B005GB31PE']\n",
            "A2WJ5XSE4I9F55 ['B002W2Y8PC', 'B0017H4EBG', 'B000EFMPCW', 'B004GYZ4JI', 'B006TF3746']\n",
            "A11EXFO14WEJM1 ['B0001G6U52', 'B002VPE1X4', 'B001TH7T2U', 'B002TLTE7I', 'B0025VKUQQ']\n",
            "A3S5EXYZDEBF3K ['B00BZC31WQ', 'B001QUA6R0', 'B0025VKUQQ', 'B002MZUNXU', 'B003LSTD38']\n",
            "A100WO06OQR8BQ ['B00030DEQE', 'B002IKKFJ6', 'B002VPE1X4', 'B00016BYHQ', 'B00108UNEY']\n",
            "A370XYLIZCSK1Y ['B001702I16', 'B003RQBKLC', 'B000WN00FK', 'B0002J2A48', 'B002TPFNXS']\n",
            "A3R1GJY2MY8041 ['B001KMWOJ2', 'B003ZYF3M8', 'B0014DURIW', 'B0000511U7', 'B001T9CTRS']\n",
            "A2LB4FLRZG6CUV ['B003WU6KFO', 'B005UNFRU0', 'B00G4V0QSK', 'B00BQ4F9ZA', 'B00IX2VGFA']\n",
            "A34C9AFFZOI45T ['B001UNM414', 'B000SEQGT2', 'B00723KZTY', 'B004FPOPXE', 'B001P3PSR6']\n",
            "A32AFX2PUJ82HG ['B0052SCU8U', 'B0000DD7OH', 'B003LZYXYU', 'B000P0NJPS', 'B003VAGXZC']\n",
            "A2X3L31KCXBHCL ['B009X0167Y', 'B001ELJ9P6', 'B00GA55OGE', 'B001MQ4OJ4', 'B001TAJR8Q']\n",
            "A257X1MQJO82P2 ['B008EC4O76', 'B002BFA91C', 'B003U7SR0U', 'B002VJL0OI', 'B007BZRXK2']\n",
            "A8P6GIIQ6YQV8 ['B00GOUBT6E', 'B000CKVOOY', 'B00B54F16I', 'B003GTSHY8', 'B00ATTVJX4']\n",
            "A2QNS95WGN35G9 ['B003ES5ZUU', 'B000V07N9U', 'B000I3NUQ0', 'B000UHE8Y2', 'B002FU5QMA']\n",
            "A3VONQL7YW8UPM ['B0096TK65A', 'B001TH7GUA', 'B007WTAJTO', 'B0031SEMBQ', 'B006291K7A']\n",
            "A26LD9FQHTM8ZH ['B000ID7QNI', 'B0038W0K2K', 'B006K551TO', 'B00BF9MUAS', 'B008X9ZBVI']\n",
            "A2ZRMCRLDSUX6R ['B002C74E9C', 'B001GTT0VO', 'B009YT6PPC', 'B001M4N956', 'B00I3YKEKG']\n",
            "AL1XV4L25FZ2S ['B004RO9L4Q', 'B002Y6CJJ8', 'B004Q0PT3I', 'B0002XQDSS', 'B00080DSEM']\n",
            "A6TBR6L2D4XKC ['B002WE0QN8', 'B003LZYXYU', 'B009DJ1THW', 'B006T4USAI']\n",
            "AO8NH0BV82XIE ['B005BHX0A4', 'B000AYKUUQ', 'B005DQG5SC', 'B0036NMQ7S', 'B001TOD7ME']\n",
            "AIBRTGBN07D6A ['B00011G5FW', 'B001P4UTLK', 'B000FJD5IA', 'B0002WPREU', 'B001C271MA']\n",
            "A2CPP7BZKOF9TP ['B003AVMRQG', 'B000068O16', 'B0016RNX2I', 'B003ZZSVIK', 'B006DUDWXI']\n",
            "A3KCETSIJNOK56 ['B0039825LM', 'B005DKZTMG', 'B007IIT8KU', 'B0045JNBNU', 'B003M0NURK']\n",
            "A3DGJMO6VPG6FJ ['B0096LZ5QI', 'B002K42W50', 'B0000BZL1P', 'B000BVCSMG', 'B004DBD4TG']\n",
            "A5A4374R8I7NB ['B001E1Y5O6', 'B00028DM96', 'B004YPK5ZW', 'B000GLIIFW', 'B005TP4LV0']\n",
            "A2ULZRSHXS3HL7 ['B00APQA572', 'B003ANK9ZA', 'B003T0EYVE', 'B0083WYFWG', 'B002ISXBFI']\n",
            "A292TRC6DX2GKK ['B0018QNYSK', 'B0026HSQ3I', 'B00B8DRG9Q', 'B00BO2OU90', 'B00A4796D6']\n",
            "A2D0CO1OA6DSWY ['B004N625B4', 'B005KSAG3S', 'B002DPUUKK', 'B0015DYMVO', 'B008J7IJOK']\n",
            "AV10H5K6VPQIJ ['B004GXKI04', 'B0057ZEH2U', 'B008AJNF78', 'B00029U1DK', 'B005UNFRU0']\n",
            "A2HNH4PKE5DPSI ['B00114LG7U', 'B001NTDGQC', 'B000FQ2JLW', 'B00829THEG', 'B00829THVO']\n",
            "A3094EPI56GKZ6 ['B000HPV3RW', 'B00475LJC2', 'B004XW2NEW', 'B0097CXWUW', 'B000BTL0OA']\n",
            "A1KI7YHQEOS1RB ['B008RDI0TU', 'B0019EHU8G', 'B004GF8TIK', 'B0015DYMVO', 'B0012MMW7E']\n",
            "A3EFSLEMHNPP6A ['B00009R6WY', 'B005KAK2FI', 'B0041G5XFQ', 'B003VANO7C', 'B000AY5Y5W']\n",
            "AHF4I1FSIHABC ['B00006I53W', 'B002LTWDSK', 'B0043WJRRS', 'B004JM6FYK', 'B006TT91TW']\n",
            "AMZCZBK1EF1PV ['B001TIHVHC', 'B00DR6DQZA', 'B000T9B46G', 'B00EU9V3VW', 'B000I1YIDQ']\n",
            "A3VI2VETB90ZG5 ['B004CLYEFK', 'B003CFATT2', 'B00DT04I9W', 'B00CKAOJA0', 'B0034CL2ZI']\n",
            "A2NU9H8H5MJZSL ['B005VFG06W', 'B000083CUA', 'B003SGCO3E', 'B005JN9310', 'B00B25P27S']\n",
            "AGEKVD8JPZQMT ['B00ATANVLG', 'B006ZGCH18', 'B008MF3X9K', 'B0090CVJZ4', 'B00HRQB28Y']\n",
            "A28LUOEY0ECT9G ['B002TZBW74', 'B00DGBVMAW', 'B005JE3VYY', 'B000WYVBR0', 'B000TYR5R8']\n",
            "A10AFVU66A79Y1 ['B00AAVF14E', 'B004CYE3QC', 'B002V88HFE', 'B002R5AM7C', 'B00DY2Y28M']\n",
            "A1Y4EWMUTW73GD ['B001UE8LRY', 'B0044779G8', 'B0028MF260', 'B0002GRUJ6', 'B00009V4G9']\n",
            "A2OOXVZ6B1VZ9A ['B002WE6D44', 'B005A0O8QW', 'B00026BQJ6', 'B00452V66G']\n",
            "A2BX8DDQGCCG2J ['B003CP0K8C', 'B003T90WY8', 'B000067RVL', 'B00746LVOM', 'B0097BEFWC']\n",
            "A324X7RVDAV3FT ['B000VDF5RO', 'B0000BZL28', 'B0035LD0EY', 'B000IXQPO4', 'B004Y1AYAC']\n",
            "A3REK3OFONWB1Q ['B002P3KY7E', 'B0040X4PUE', 'B000AZ57M6', 'B0000BZL28', 'B005IMFX2K']\n",
            "A3TR3KLL5PXSZ8 ['B005KEL4NI', 'B002KDS2BY', 'B001GCU0MY', 'B007ADFTWE', 'B003F2DA2A']\n",
            "A3639Z6O5JBLIZ ['B000HPV3RW', 'B000FBK3QK', 'B007P4VOWC', 'B006FCQDZS', 'B005TUQU00']\n",
            "AQ55H30MZSV0Q ['B0038L495U', 'B002VPDOH8', 'B006BGZJJ4', 'B000J5LA9Q', 'B00DQZSFSA']\n",
            "AFFVUZEGP1FDQ ['B001TH7GT6', 'B001O94GNS', 'B00829THK0', 'B002P3KVAY', 'B00IX2VGFA']\n",
            "A32482Z7XIKDQX ['B00FB45SI4', 'B001RCTA8I', 'B000S5Q9CA', 'B004UTQRHW', 'B00829THK0']\n",
            "A2JKM8KF3296CW ['B00937CTQO', 'B00FNPD1OY', 'B00EOE4G4E', 'B003L1ZYZ6', 'B0097CZHAU']\n",
            "A54SG05AV6S4H ['B005HKIDF2', 'B00AEGRGNO', 'B001F7AJKI', 'B005CKQF3E', 'B00BLCLVD6']\n",
            "AOEDWQLH2WKKW ['B009K184TO', 'B006UL00R6', 'B003WO7MZC', 'B00BQ4F9ZA', 'B007F7G6WW']\n",
            "AU3GYRAKBUAEU ['B005VR1VQE', 'B000F34FVM', 'B004HIN7SI', 'B009CP99GK', 'B000UY1MB2']\n",
            "A11IXJ8M1JO296 ['B003QCOKGO', 'B002SY5GRS', 'B006U3O566', 'B004QGXOOI', 'B00007KDVJ']\n",
            "A15XI2BEGGFEOW ['B001ELK2NY', 'B004S5CCP4', 'B00006B9H8', 'B001VSCH74', 'B00539LU3E']\n",
            "A2G563AC1HME2R ['B0079MX4Q4', 'B00316263Y', 'B00IMZKDOS', 'B0042F3K9W', 'B008AST7R6']\n",
            "A3NXJDNTQK2YJL ['B00212NO6W', 'B0018O9JIG', 'B00B46XUQU', 'B001E0JH5E', 'B0057OCDQS']\n",
            "AYOTEJ617O60K ['B007KB0EGC', 'B00108UNEY', 'B000VRL632', 'B001TH7GUU', 'B000V1VG2E']\n",
            "A11LNPG39A2ZV4 ['B005DQG5SC', 'B0079TOG82', 'B00BOHNYU6', 'B000OCZAT0', 'B004KU0RJK']\n",
            "A34DQINHT6NYJU ['B00BOHNYU6', 'B009YQ8BTI', 'B005O9YMM4', 'B003ZK5NZY', 'B003FMUMN0']\n",
            "A3MQ15651KGVLJ ['B000O8WE66', 'B001TOD7ME', 'B001FW9QGQ', 'B0001FTVEK', 'B004MSQZUU']\n",
            "AAK6SOEJY30YG ['B004M8SBC0', 'B00793MIJM', 'B000092TT0', 'B00005T3G0', 'B00006HVLW']\n",
            "A37CEYB95LK6R6 ['B0000AKA90', 'B000P0R6KW', 'B00FGOTBQO', 'B0038FNIBW', 'B00009XVCZ']\n",
            "AROQO2VDODT7 ['B00009R6WU', 'B000YJ2Q9U', 'B0007DDK7A', 'B00009R6WT', 'B00007B4DM']\n",
            "A1ROUMJOGO4QMB ['B000F7JCRA', 'B002M3SOBU', 'B004N625B4', 'B001KC08A4', 'B006FNCWSY']\n",
            "A3TA1UJWRJF9NC ['B0056BPUQC', 'B00029U1DK', 'B002VR6A9K', 'B000MX48VM', 'B0001FTVDQ']\n",
            "A3NVZTGPORNPRW ['B001QUA6R0', 'B000SE6IV8', 'B000O8I474', 'B004S4R5CK', 'B001PS9E5I']\n",
            "A3E68EBGXTWDNP ['B000VDF5RO', 'B0002IWC9C', 'B000CMS5B2', 'B000BYCKU8', 'B00009R6TA']\n",
            "A3LQUEB84IR3VO ['B003WV8PKG', 'B000ENUCR4', 'B0046TJG1U', 'B00BN1Q5JA', 'B000EVSLRO']\n",
            "A195EZSQDW3E21 ['B0074BW614', 'B002K4GDGY', 'B002I9S9PE', 'B001EO6W8K', 'B003MTTJOY']\n",
            "A18U49406IPPIJ ['B00GJFGDUQ', 'B009QUDLC4', 'B00F3L19KQ', 'B00IX2VGFA', 'B00G4UQ6U8']\n",
            "A1Y85GQ09Y95JL ['B001BYB5ZS', 'B0009Q4PIS', 'B000F9YN22', 'B005UA3I72', 'B008ZGKWQI']\n",
            "AMFXXAOVV4CPJ ['B008FC8FJ8', 'B003CQBS8M', 'B001QUA6RA', 'B0097BEFYA', 'B000F28DP2']\n",
            "A10H24TDLK2VDP ['B0015DYMVO', 'B002ZAVVHY', 'B009JP461G', 'B009HQCAPQ', 'B001EQ0HAW']\n",
            "A2BUQ240COLAOP ['B001TH7T2U', 'B004AFUJZC', 'B002K8A75I', 'B000167OAC', 'B003OELGGG']\n",
            "APGQTZZ4ZFPHO ['B009OBCAW2', 'B000U8Y88M', 'B001TZUS98', 'B0036E8V08', 'B002XMP7K6']\n",
            "A1PI8VBCXXSGC7 ['B003SX0NG2', 'B004UHY8SO', 'B0062XB9FE', 'B007FZN53W', 'B004PYEBY8']\n",
            "AYP0YPLSP9ISM ['B001RB21JY', 'B004JJM2N6', 'B003C1AO2I', 'B003XM9774', 'B003MX4D0U']\n",
            "A313H6238N589 ['B008E0VFZC', 'B001SER48S', 'B000IZDN60', 'B004YIFKRM', 'B0015ACUKC']\n",
            "A15Q2L6DYRTFIU ['B004UQ05M8', 'B0012Z3MKW', 'B003QVWJM2', 'B001HJTK5Y', 'B007BD4BRC']\n",
            "A32T2H8150OJLU ['B000EP4TWQ', 'B004YHXXKO', 'B003ZYF3MI', 'B00829THK0', 'B002TLTGM6']\n",
            "A26CPEEWB2WKRE ['B00006I53W', 'B008OGEA0S', 'B005VO7LG6', 'B005OA3BSY', 'B002CMLDT6']\n",
            "A26SO3TOT2TLJE ['B009VL9YGU', 'B00ATM1MHO', 'B0093HAWZY', 'B004GUT1QO', 'B005EOWBKE']\n",
            "A2LF16F0KX9L7P ['B007I5JT4S', 'B00IVFDZBC', 'B009AU2JT6', 'B00JC5Y6WM', 'B00EOE4G4E']\n",
            "A1W415JP5WEAJK ['B002XVUTPK', 'B00DTZYHX4', 'B000VX6XL6', 'B007OY5V68', 'B0053R0WWG']\n",
            "A1BC62X6HZJGZR ['B000QUUFRW', 'B0019EHU8G', 'B00BQ4F9ZA', 'B009D79VH4', 'B006U3O566']\n",
            "A30J7WQV0ZNRXG ['B007PJ4P4G', 'B001TZWNF0', 'B008OHNZI0', 'B004YLAYHA', 'B00BEGS4R0']\n",
            "A2R6RA8FRBS608 ['B0009MX5R4', 'B0041OSAZ8', 'B0007YFQH6', 'B000087NBU', 'B0007SL4IW']\n",
            "A3BNMHRW2R35LK ['B004CLYEDC', 'B00EO96W2I', 'B00884WH74', 'B0085VB8GQ', 'B002K9IHGI']\n",
            "A9ELHLPXF7JKD ['B00000J4FS', 'B00829THEG', 'B000BN94F8', 'B000N99BBC', 'B00006JN3G']\n",
            "A28525P0S5ZVJ3 ['B005EV1R8Y', 'B003MX9L84', 'B0049SCB2Y', 'B00CRXZPC6', 'B000FJ89UO']\n",
            "A2JWF9IG8PJAOA ['B001FA1O1S', 'B005TUQV0E', 'B002LJNKNM', 'B001E1Y5O6', 'B004QK5N5W']\n",
            "A2FRKEXDXDN1KI ['B00JC5Y6WM', 'B004N625BE', 'B0034CL2ZI', 'B003VAK1I2', 'B00829TIEK']\n",
            "A1P3DDFL423B3C ['B00005T3BD', 'B005PZDVF6', 'B002MZUNXU', 'B0002ILKWM', 'B000V01RLK']\n",
            "A1ITRGMT80D5TK ['B002M78EA2', 'B00B3PDHBU', 'B00D856NOG', 'B0035JJOLE', 'B0028Y4H1O']\n",
            "A328GLDSDNFYII ['B005K7192G', 'B003OA8T92', 'B0040IWVBY', 'B005KQ0S8S', 'B00AXX0IC4']\n",
            "A2JCJJNY43QQIV ['B00141AYIC', 'B001ASDHI8', 'B00310PJM0', 'B002TLTE6O', 'B000UY1MB2']\n",
            "A1GW7V6S6XSXX3 ['B002TMRZOQ', 'B006DDT6JO', 'B00834SJNA', 'B00HFRWWAM', 'B002P3KMXA']\n",
            "A1VTCSCH8FFC76 ['B001XURP7W', 'B002669XKY', 'B0035J7XG2', 'B002WE6D44', 'B001B1AR50']\n",
            "A1MFVAHTT2BHM0 ['B005HPSFWI', 'B005TOU804', 'B00419V4L0', 'B000RY2PLQ', 'B003NR57BY']\n",
            "A2K6CDQ9HZ359G ['B004NDEWWW', 'B003M3A1BK', 'B0007Y791C', 'B003LSTD38', 'B0038U9JOM']\n",
            "A1NAA1R38JSNHV ['B0034XRDU0', 'B0053ORUS8', 'B0015YRMXI', 'B004AZ38Z0', 'B000UHQVOW']\n",
            "APG2BHOAXPNEQ ['B002KO5XVU', 'B00BN1Q5JA', 'B00CKAOJA0', 'B006YLYYZ6', 'B003S6AXVO']\n",
            "ABXANRX4GPYRZ ['B0012MI7QE', 'B0010WG2H2', 'B000I6P1I2', 'B005CWIRPG', 'B000MK4GGM']\n",
            "A2THQCHKR89E16 ['B002XJG71M', 'B004N85YBA', 'B005HMKKH4', 'B004PAA876', 'B001GTT0VO']\n",
            "A21I62TCDL4754 ['B00FAMAQQG', 'B001S0RUFY', 'B004HYGEOQ', 'B000NP3DJW', 'B001S2RCWI']\n",
            "A2E1EFNIZL2FVA ['B003VANO7C', 'B00EOE6COQ', 'B005DSPLCQ', 'B0093HAWZY', 'B00825BZUY']\n",
            "A3EZFFPVS34AMO ['B002O3MVYO', 'B000068O3C', 'B009YDO05U', 'B002ROILQM', 'B0001Y7UAI']\n",
            "A3VVMIMMTYQV5F ['B006JH8T3S', 'B00CYRDCCA', 'B00CTUIT20', 'B001DK1ZVO', 'B000GT90QA']\n",
            "A1KD8NJPZ01R37 ['B005HH32Q0', 'B00006HCJI', 'B000EPHR0C', 'B004MSPOQG', 'B002OB49SC']\n",
            "A3ER6ARJ23CIN8 ['B0015AARJI', 'B004BLIQDC', 'B004WO8O9Y', 'B002XN3OL4', 'B000S5Q9CA']\n",
            "A1H4IVXNXWWBLV ['B00111UX40', 'B005IY2OD4', 'B0077EAOSU', 'B000067RBT', 'B007QOX5A0']\n",
            "A1LAGS8H4A2DR7 ['B005O9YMM4', 'B00CALM2JY', 'B00C2P61FO', 'B000DZH4D8', 'B004CLYEDC']\n",
            "A2WCFDOCS73PNB ['B00C20KWP4', 'B004PGMFG2', 'B001EYV9TM', 'B0032ANC8M', 'B0032ALW5C']\n",
            "A2T689YVOAYGGD ['B000R9AAJA', 'B005JN9310', 'B003MVZ60S', 'B004M8SBNE', 'B004N85YEW']\n",
            "A3E9O1VNJ3U324 ['B00280KIJ8', 'B000P910OG', 'B001EPVOQY', 'B0017KZ8Y0', 'B000Z80ICM']\n",
            "A38CHSS1ZAE51B ['B00B4GGW5Q', 'B0077CR5RK', 'B00DR0RBV6', 'B004GF8TIK', 'B001O9X9EU']\n",
            "A2N75ADJSRW0AH ['B0013WNVU0', 'B007BXD66E', 'B003M0NURK', 'B002S9KTAW', 'B002I636XM']\n",
            "A2XX2A4OJCDNLZ ['B00004W3ZQ', 'B005LZR0DO', 'B00G4UQ6U8', 'B000BQ7GW8', 'B00425S1H8']\n",
            "AZ8XSDMIX04VJ ['B005DZJGI4', 'B000BMAQAQ', 'B001V9KG0I', 'B001FXZTIY', 'B000096B01']\n",
            "AUCISQA1YXX86 ['B0009FUFPG', 'B007WTAJTO', 'B001HSOFI2', 'B000MWVMRG', 'B00006JLOS']\n",
            "A19W47CXJJP1MI ['B0038JECL8', 'B001T9NUJE', 'B001Q3MA80', 'B000NM8DI6', 'B00067OF80']\n",
            "AFQBS241UKPAZ ['B0001FSCZO', 'B0007Y79E4', 'B007K3SB6K', 'B00AO1L1RG', 'B00FPKDPZC']\n",
            "A34UVV757IKPVB ['B00028ONIA', 'B00D5Q75RC', 'B003ZSP0WW', 'B000EPHR0C', 'B001F51G1G']\n",
            "AS269J1OGZT1V ['B00004XO1V', 'B0058AH2US', 'B003F69JBW', 'B000CSOXTO', 'B009NHAEXE']\n",
            "A10X9ME6R66JDX ['B0013DXVYK', 'B006W8U2MU', 'B004SBBD8U', 'B00483WRZ6', 'B000CRFOMK']\n",
            "A2FWZ58M6IQMD7 ['B000MW3YE0', 'B002HTHFLY', 'B00006FMPP', 'B0013BT8US', 'B0097JLQVC']\n",
            "A2WA8TDCTGUADI ['B00D1GYNT4', 'B008P8FDEW', 'B00HPM1FZ0', 'B004ELA0SS', 'B000N99BBC']\n",
            "A3HCMJOGRRSAF2 ['B001SJVU24', 'B001XURP7W', 'B000EVLS4C', 'B002LITFP0', 'B000V07N9U']\n",
            "A3QRW0UJPKIAX7 ['B0019M6GP6', 'B00HC0ZDOE', 'B008H9BXMK', 'B002TLSOGA', 'B005GTNZUM']\n",
            "A35HUT8MQMT21L ['B0012Y2LLE', 'B001B0APOO', 'B005LZR0DO', 'B00DUN2PBQ', 'B000CKVOOY']\n",
            "A11ED8O95W2103 ['B000T8YM34', 'B00000DM9W', 'B00007IFED', 'B000EMWBV0', 'B00006HSYC']\n",
            "A23WPWLYT3P1CZ ['B004OBYWD2', 'B000ZCIHK8', 'B004ABO7QI', 'B006W8U2MU', 'B000E5CYW8']\n",
            "A2ED50E3KWKUKW ['B00E3K94T6', 'B0095ONNTC', 'B0007Y794O', 'B0043T7FXE', 'B003EB0AXY']\n",
            "A3MMR2WDKAK0PA ['B001I45T9O', 'B004YC4NH6', 'B006ZH0KVG', 'B00FEE7B1I', 'B005O81U9S']\n",
            "A3OYO7B6SS7QLH ['B002N694A6', 'B004G7D0EG', 'B008KP4MQU', 'B00004WCFY', 'B000BQ7GW8']\n",
            "A110PC8C5Y7MQD ['B006ZGWJU2', 'B0012WXFO8', 'B0001656FW', 'B007476KRY', 'B00004T1XK']\n",
            "A3872Y2XH0YDX1 ['B0009JR82U', 'B002QGDWLK', 'B004G6002M', 'B0019MEIOM', 'B000O8I474']\n",
            "A1FMU4CJLIDHR9 ['B005CWHZP4', 'B009SYZ8OC', 'B001HHZ1S6', 'B002MSNS4S', 'B000JLKIHA']\n",
            "A2XPK6XCL0UH1S ['B000VI363Y', 'B00BOHNYU6', 'B0009VKJH4', 'B000L7INLU', 'B001P05NBA']\n",
            "AW6J9IILGOZY3 ['B00EO302SO', 'B009F7IBZK', 'B004I5BUSO', 'B00FJWKYYG', 'B00CO1HUGU']\n",
            "A2DKQQIZ793AV5 ['B000F2BLTM', 'B00EF1OGOG', 'B00CSDMWGW', 'B00GO4GMAI', 'B000CKVOOY']\n",
            "A3JNBO7H2SPL44 ['B005H3I38Q', 'B000067RT6', 'B003V7BJ9U', 'B00BQ4F9ZA', 'B003ES5ZUU']\n",
            "A1NNMOD9H36Q8E ['B000FKQ8LA', 'B000J5LA9Q', 'B001TUYTZM', 'B002K4512Q', 'B0007LJHVA']\n",
            "AGFSSC5DBY2HU ['B00IVFDZBC', 'B00AJHDZSI', 'B00D78Q2AO', 'B007Q8GOGI', 'B006Z1J2JI']\n",
            "AW6A4PPENVZY3 ['B007FH1KX2', 'B005LDLP8W', 'B00829THK0', 'B001BTCSI6', 'B00B7E1D7W']\n",
            "AVU1ILDDYW301 ['B002FU5QM0', 'B001TOD7ME', 'B005EOWBKE', 'B002FU5QMK', 'B0079TOET8']\n",
            "A19HKRB4LU5YR ['B001DO2XWA', 'B00000J1U8', 'B00A0JUNWQ', 'B0000CE1UO', 'B003CT2A2M']\n",
            "A3Q6ZPW60CVF2L ['B001KEBR0C', 'B0017J3XMU', 'B009YDO05U', 'B002RCNX8K', 'B004T9RR4A']\n",
            "A7UPJYPAH73NC ['B002M78EA2', 'B005GOINEK', 'B0050A1O64', 'B005JW6WQU', 'B002K9IHGI']\n",
            "A3V5F050GVZ56Q ['B002V88HFE', 'B003ES5ZUU', 'B00E3FJJYG', 'B002Y6CJJ8', 'B005CT56F8']\n",
            "A3TBMGNSEQBWIL ['B004CADY9I', 'B003NVMHM2', 'B000N99BBC', 'B00BERGFV6', 'B006EKIQYM']\n",
            "A1XXMNLOLKNO0I ['B009GUXU52', 'B00008OT2G', 'B0000C4G78', 'B001TOD7ME', 'B002N2EHVQ']\n",
            "AZOK5STV85FBJ ['B001TH7GUU', 'B0007OWNYA', 'B003LYKLCO', 'B00068YUN4', 'B00AANMVNQ']\n",
            "A3PU3EDJ2FG1AW ['B00012F6A6', 'B002LVUIS0', 'B0015EWMX8', 'B001ID829O', 'B000UD3NTC']\n",
            "A1V3TRGWOMA8LC ['B005JLQL26', 'B0043M9ATS', 'B00GJYJFKM', 'B00DTZYHX4', 'B009LL9VDG']\n",
            "A3O1FVLUD9X1XC ['B003EVO878', 'B0002AHT0M', 'B004GXKI04', 'B0046HAW7Y', 'B001NJ0D0Y']\n",
            "A24QFMD1RXLJMB ['B000652M6Y', 'B005519SUW', 'B004FHO5Y6', 'B002K3Z3DO', 'B00007IFED']\n",
            "A2R1HUYHXV7H18 ['B00DQZOIOU', 'B004CLYEFK', 'B008X1BV2Y', 'B00G4UQ6U8', 'B005KELR3A']\n",
            "A39137LW12KK7B ['B000N8DJB6', 'B003ES5ZUU', 'B00DKBU5W4', 'B008ISKDL2', 'B0007SL4IW']\n",
            "AH3LF9RAD1O2V ['B001TH7GVY', 'B0051XJXJU', 'B002WE6D44', 'B00834SJSK', 'B00005NIMR']\n",
            "A2ME89MSWVG9NF ['B0031RGGFM', 'B005A0B7CA', 'B005HM0SNA', 'B0001NA3S0', 'B001CBKJGG']\n",
            "A1MEISNED4NP7U ['B0029N3U8K', 'B00CKAOJA0', 'B007R5YDYA', 'B00483WRZ6', 'B003UT2E8E']\n",
            "A31RZMVAFMLB8B ['B002O3MVYO', 'B004TB70Y0', 'B000KNCB7C', 'B005Q65JHM', 'B0002KVQBA']\n",
            "A2FHTXLKY1XJDB ['B002YC3K9A', 'B000WKW69Q', 'B001AHALEC', 'B000UO6C5S', 'B009LL9VDG']\n",
            "A2RG1B0K8YBJ4A ['B00005NBR6', 'B001RB21JY', 'B000BKUSS8', 'B004AGX4YO', 'B00969J3EU']\n",
            "A3PDWA32BAMB2Y ['B008EC4O76', 'B007SZ0E1K', 'B002FYL7PG', 'B000Q8UAWY', 'B003CKC8W8']\n",
            "A149RNR5RH19YY ['B00002EQCS', 'B0015AM30Y', 'B001S2PK72', 'B000MK4GGM', 'B00007KDVJ']\n",
            "A2Z9S2RQD542CP ['B00007E7JU', 'B000UHXHSK', 'B00E3FJJYG', '9983891212', 'B001F7AHOG']\n",
            "AEAFHD09X8044 ['B0031U1AT6', 'B000IJY8DS', 'B003UH0Z9Q', 'B004VM1T5S', 'B0042A8CW2']\n",
            "A2VIYTWXANL343 ['B0002L5R78', 'B00B588HY2', 'B0034CL2ZI', 'B000MDZKUU', 'B000F2PHDI']\n",
            "A3M7R4PD0FEPUB ['B003M8HWDA', 'B00BSEV682', 'B001SER460', 'B00EAR8S76', 'B0093HAWZY']\n",
            "A2EW01G2LNJN06 ['B0041OYS36', 'B001J0K9RO', 'B00006JPDI', 'B005KWHJES', 'B002FGTWOC']\n",
            "AEIB3UR05OP7A ['B007SZ0E1K', 'B00AJHDZSI', 'B00ARB5E8U', 'B00CO8TBOW', 'B001NJ0D0Y']\n",
            "A2VJ5ALN1BIV3B ['B0002GRUV4', 'B003L76BJS', 'B007B4ZDUA', 'B00081A2KY', 'B0053NBLFW']\n",
            "A57Q87B0TC9IJ ['B00BHSTWRQ', 'B002C1BHIO', 'B00DHPCVQG', 'B001UQ6F4S', 'B000H14IDC']\n",
            "A23ZNGL704AW7O ['B004UETB20', 'B004CLYEFK', 'B00119T6NQ', 'B004N625B4', 'B001RNNXQM']\n",
            "A2J4XMWKR8PPD0 ['B004MB4FEU', 'B007261A36', 'B00B7SMR3C', 'B005HUH88K', 'B00B8F4CK0']\n",
            "ALRCAGJOJ9583 ['B001666GLE', 'B000N99BBC', 'B002VPE1XE', 'B00BE68UZ6', 'B003ES61EE']\n",
            "A1FOSIV4TWZFR7 ['B008R79VMQ', 'B00AOX0NBY', 'B00E98O7GC', 'B004XIT4NO', 'B003KEGS90']\n",
            "A16SRDVPBXN69C ['B0002YE6EU', 'B0087TESSQ', 'B003EEMDMC', 'B00894YP00', 'B008NENG1A']\n",
            "A1C5WS021EL3WO ['B007FH1KX2', 'B009EADB2Q', 'B000CRFOMK', 'B003ES5ZR8', 'B000JE7GPY']\n",
            "A2ZDY0V4Q1SZD7 ['B008EO263I', 'B00A86QWN0', 'B003ES5ZUU', 'B008AST7R6', 'B000EUFJXE']\n",
            "A1X3DA7C61WZLQ ['B000HEW0KW', 'B000VWKSHM', 'B0015AARJI', 'B000VE4PNS', 'B001C3V54O']\n",
            "A2SL5IW096Z2BL ['B0066D608G', 'B004TLIVB6', 'B004Z0S6RU', 'B00005105N', 'B0052TIRQI']\n",
            "A23R3EOZ837242 ['B00CRFK24K', 'B005IHAIKM', 'B00D1GYNT4', 'B0032ANCCI', 'B003CJTQJW']\n",
            "ACQYIC13JXAOI ['B007WTAJTO', 'B005DSPLCQ', 'B00AQRUW4Q', 'B00EMHVVNM', 'B0093HAWZY']\n",
            "A356RFKNIG043B ['B005E8MVV4', 'B0011ZCDKS', 'B0082E9K7U', 'B00001P4ZH', 'B002IPH9ZO']\n",
            "AFHYEO3Y1IIDD ['B002TLTE7I', 'B008X9Z7N0', 'B0035P4C06', 'B000HAQ8EK', 'B00154MCRO']\n",
            "A4U27URFECK1U ['B00B588HY2', 'B0097FZRYI', 'B00KFAGCUM', 'B00AYB3OMG', 'B004CLYEFK']\n",
            "A1U11IP6K6NHAK ['B004286VMW', 'B00IMZKDOS', 'B00006RSQU', 'B003XE3X8Q', 'B00EZL1IQA']\n",
            "A1AQ8JT2A3UWMY ['B00584WZKG', 'B00E3W15P0', 'B004Z57WDO', 'B004M8SCHO', 'B005J7YA3W']\n",
            "A3HRDRQ5VAFPQS ['B003BYRGJ0', 'B000OVPBA4', 'B002VPE1Q6', 'B0016BVKAQ', 'B0023B14TK']\n",
            "A3U6J0DLLDEWM2 ['B004D2AZ06', 'B002YIG9AQ', 'B006DEBYWU', 'B005KQ2O26', 'B008DWCRQW']\n",
            "A3EQQHWJ1EEYEU ['B005HXFARS', 'B005H3I38G', 'B005SZ66XM', 'B00551XMWC', 'B000R0FG5W']\n",
            "A1C47ROOK7BSVL ['B007QOX5A0', 'B0000DZEZB', 'B006EKIQYM', 'B00HTPHK5W', 'B005TFONMC']\n",
            "ABUE0ALHKWKHC ['B0082E9K7U', 'B004CLYEH8', 'B00BOZCUG2', 'B00934CQ56', 'B004JWA70I']\n",
            "A2AX2UGB167J31 ['B0040IG1A6', 'B004S4R5CK', 'B000EVSLRO', 'B00AO1XFM0', 'B000N5220I']\n",
            "A1P4XD7IORSEFN ['B007KB0EGC', 'B0084OIY0M', 'B00252W1YY', 'B000IMDPS4', 'B00EPGHAZ8']\n",
            "A2HJY7418G1KV1 ['B0040X4PUE', 'B00009R6V0', 'B0014Z3XMC', 'B001AI6CNK', 'B000J01I1G']\n",
            "A2W9I628I6SE1U ['B000TKHBDK', 'B0007CZ70Y', 'B004YLCFCM', 'B002JCSCYS', 'B001DJ9GOS']\n",
            "A14NA0W8ESGDSI ['B00FR6VL50', 'B002FB684E', 'B0043TV8QO', 'B008DWCRQW', 'B001C3V54O']\n",
            "A197T2N6RU7K56 ['B000MW3YE0', 'B0046TJG1U', 'B0078K16IK', 'B00160MV8W', 'B004NY9UV4']\n",
            "ANTN61S4L7WG9 ['B000N99BBC', 'B002R5AM7C', 'B0097CXWUW', 'B00EXK1L38', 'B00HVT27B8']\n",
            "AI2AOCTC8BQVZ ['B004M3BICU', 'B00005T3G0', 'B0077V88V8', 'B00932N46S', 'B004T9RR6I']\n",
            "A1OO9N1MRNQ7K0 ['B003SGCO3E', 'B003U8HTMG', 'B000EYRLXQ', 'B005FRCUHY', 'B000067RT6']\n",
            "A26BDXG9KVH7SU ['B004C13VWC', 'B00A8OWALU', 'B008MWBY6W', 'B000652M6Y', 'B004ZMV2GA']\n",
            "AVFJ327UXPXLF ['B009NZ6SZE', 'B000NUBY0C', 'B000J1DA3Y', 'B003U6Y33Q', 'B0074BW614']\n",
            "A1PPS91NLI7KEH ['B007P4VOWC', 'B00A0LVPL2', 'B005LA0H3O', 'B00BHNNUJ2', 'B005HM0SNA']\n",
            "A2XJMQ2COPGWJH ['B000JCNJPM', 'B0000B006W', 'B0019EHU8G', 'B0000X0VCY', 'B00BGGDVOO']\n",
            "A3CIET1UO3G51E ['B0071BIQZC', 'B004GZRE1S', 'B008EQZ25K', 'B0049XGNKK', 'B00DNUBN78']\n",
            "A20WUUD9EDWY4N ['B002W4RPD2', 'B007U1X28Y', 'B002CMUL30', 'B00004ZC8Y', 'B003ES61EE']\n",
            "A1WUQF5HWBAQJU ['B0049IOPFK', 'B0018QNYVM', 'B00FSA8VQ2', 'B009SGB3KI', 'B00JF0D7RE']\n",
            "AWSK1ZAEU1KFL ['B0039SM0AS', 'B000B651DO', 'B009NB8WR0', 'B000067RT6', 'B005Y1CYSQ']\n",
            "AGILRZOT49R0V ['B001TH7T2U', 'B001TH7GSW', 'B003VANO7C', 'B002S53LJ2', 'B00BDS3N1G']\n",
            "A3UXW18DP4WSD6 ['B003ES5ZUU', 'B0074H3IU6', 'B00575RN62', 'B003LSTD38', 'B00609B3J2']\n",
            "A3QAO3QBCQF89T ['B00E3W15P0', 'B001P3P3Q2', 'B0018SMVCS', 'B008JJLW4M', 'B002JLZMN8']\n",
            "A2DIQTZPF26T1L ['B005ES0YYA', 'B0051UWCVO', 'B00484IEJS', 'B000I23TTE', 'B006EKIQYM']\n",
            "A3D7BGK0P5QY0X ['B007ZT2K9I', 'B003LLEG00', 'B003NVMDYY', 'B007F9XJW0', 'B005LKO230']\n",
            "AM8W6Y3HVXLZT ['B0016AQ930', 'B009OZUPUC', 'B000RGZMYQ', 'B004OR14GO', 'B000JMJWV2']\n",
            "AL5CUWBFBMWYQ ['B001BYB5ZS', 'B005NHTG6O', 'B000K52CY2', 'B009HQCARY', 'B0038JE07O']\n",
            "A2NX6MFZP8TM6S ['B000204SWE', 'B00065AO0K', 'B00006HSML', 'B000IK5XWW', 'B0007YFQH6']\n",
            "AWZR0O65DL2Q ['B00005NIMJ', 'B0012IJYZQ', 'B00005T3H5', 'B004QRUM92', 'B006JO1YCY']\n",
            "A213J54E63SYOP ['B00BIFNTMC', 'B0002GRUV4', 'B0088PUEPK', 'B005ARQV6U', 'B00080G0BK']\n",
            "A20OBCQWBKCGZT ['B001DJ64D4', 'B0079UAT0A', 'B0039BPG1U', 'B002HWRJBC', 'B002ZV51DI']\n",
            "AA3FTJYJYX55C ['B001LL5JDA', 'B0060B7NCG', 'B002QAUN2M', 'B000X9O8SI', 'B0026ZPFCK']\n",
            "A1HYH206E18XVC ['B0012Q72IY', 'B003YKG2UK', 'B00DQZQPNM', 'B003M8HWDA', 'B00HPM1FZ0']\n",
            "AYGEKID3G7DPW ['B0001HA8WW', 'B0087AUCSA', 'B0083XTQ42', 'B004DBD4TG', 'B003WOL4VK']\n",
            "A294BKN913UOGP ['B002TXJUJ8', 'B000OB8C7I', 'B000VDCT3C', 'B007FUDKB4', 'B00005LEN4']\n",
            "A1A5KUIIIHFF4U ['B00135IILO', 'B000T8THL6', 'B000SEQGT2', 'B00425S1H8', 'B003ULJU2A']\n",
            "A3MUSWDCTZINQZ ['B009NHWVIA', 'B00DQZNWNI', 'B004LB4MZS', 'B00DQZQPNM', 'B00834SJNA']\n",
            "A2SKEQT0WTB954 ['B00C20KWP4', 'B004MKNJ84', 'B00005ABC5', 'B0013CDZDI', 'B00CGY4N7Y']\n",
            "A2KHG3JOFXQ4CE ['B00CD1PTF0', 'B000IELOY4', 'B00391XGDA', 'B002FYL7PG', 'B0031RG29M']\n",
            "A35HOUWHAYZZN6 ['B001TOD7ME', 'B007GNN0AG', 'B00CQ35C1Q', 'B0031MGUBC', 'B005I6EU48']\n",
            "AC9QEWWN4W9MC ['B00GTGETFG', 'B004C4SHQY', 'B006ZTMEZ4', 'B00APCMMDG', 'B007PRHNHO']\n",
            "A3RR2P5IS3DGPR ['B00568V8S4', 'B004MF11MU', 'B00BOHNYTW', 'B004CLYEFK', 'B007GFX0PY']\n",
            "A2WF58BAWLVI95 ['B008LR2B7E', 'B00FJXVRM8', 'B0002GDIII', 'B002UT42UI', 'B0002IG356']\n",
            "A298GL2D0BHGKZ ['B00AWBHFRI', 'B004ALXSTU', 'B001FVI91U', 'B002669XKY', 'B005FYNSPK']\n",
            "AGXV8E7XK9J6H ['B00009R6V0', 'B0000CD0B7', 'B00065ANYW', 'B000FKQ8LA', 'B000EPHR0C']\n",
            "A3JLOIXFM75QNV ['B0090IA4FO', 'B009T0NFTA', 'B005I6EVUG', 'B002MCZJ78', 'B000U9WVW6']\n",
            "A2PY5ED630H0QJ ['B00B728M5K', 'B008U5ZM6E', 'B000NOR89Y', 'B00HVT27B8', 'B0001BVXI6']\n",
            "A3D822N1K2IAQD ['B0096LZ5QI', 'B0040723AE', 'B0000AOWW9', 'B00EB7UIO6', 'B004CLYEDC']\n",
            "ADHA1W879JNT0 ['B00005QFZF', 'B001FBJJQ4', 'B001UI2FPE', 'B00C8NNZ36', 'B000IN09C8']\n",
            "AG0PM9IAHQ06C ['B003HC8V9A', 'B00005ABC5', 'B003VS9UP4', 'B001CCLBSA', 'B0057OCDQS']\n",
            "AXR3CV6A4FMBG ['B000MUP69I', 'B00829TIA4', 'B002VPE1X4', 'B004CLYE8C', 'B0033PROOY']\n",
            "A303SNZ4AR7TDQ ['B004CRSM4I', 'B002IVVD8C', 'B005869A16', 'B0011Z44UA', 'B009VV56TY']\n",
            "A3HSDV9Y0TV5Z2 ['B00AQGGKV6', 'B001R0LMMM', 'B000VOU91U', 'B003765X38', 'B000CKVOOY']\n",
            "AUITG1DJ3QUGK ['B004444O4G', 'B002C9RGV8', 'B00E5UHRIO', 'B003WOWB5S', 'B00F0DCH9Y']\n",
            "A37IRE9GZ0CZ7I ['B005EOWBKE', 'B005058B56', 'B00CI3BIWQ', 'B004CADY9I', 'B0014YGANC']\n",
            "A33GNK4YENACDJ ['B0058G40O8', 'B0078KP0SM', 'B000AYJDD6', 'B00B3YSTI2', 'B00B5HE3UU']\n",
            "A3H6NNGCINPLEC ['B002HJ9Q66', 'B005IHAIC0', 'B002RWJHBM', 'B001542UQW', 'B002WC8PK6']\n",
            "A26EQ8U96JA92T ['B00429N18S', 'B000Z80ICM', 'B002V8C3W2', 'B003OC6LWM', 'B002RM08RE']\n",
            "A2XCCN239AR1XK ['B003L76BJS', 'B0071CU6HC', 'B00F0DD0I6', 'B00906HNZU', 'B0036F2Z7W']\n",
            "AU627A4UGIW6V ['B0058G40O8', 'B009SGB3KI', 'B008MB71IS', 'B0058DOWH6']\n",
            "ACYZXQ2JKPZKT ['B00A35X6NU', 'B00AFSN8UG', 'B0000BZL1P', 'B002SFDJMQ', 'B00C46K0X0']\n",
            "A2V7EO331SFUF6 ['B00000K4KH', 'B005H3I38Q', 'B000WXAX6G', 'B00C87D0XM', 'B0009K9FZW']\n",
            "A2ROZACRW31PC2 ['B003WUX6PG', 'B004YW7W1A', 'B0019WDZUU', 'B002LITI8E', 'B002T4D3M2']\n",
            "AGXMC3ITWZASE ['B00004SQET', 'B002JCSV5I', 'B001PKEJZQ', 'B002DUCMQU', 'B004AK154Q']\n",
            "A1ZPY91VE3IDN1 ['B000H84LBE', 'B00829THK0', 'B001E1Y5O6', 'B00834SJNA', 'B008ULPE70']\n",
            "AXYM52DNK6NDF ['B006ZB39QU', 'B0054ZLLBS', 'B004OBYWD2', 'B005005EEM', 'B00009VQJZ']\n",
            "A1G650TTTHEAL5 ['B00G5T1Z5Y', 'B00F25Z0FS', 'B00H7PBWK8', 'B004IK2EAW', 'B0061GQ7PO']\n",
            "A1ZPUEHF4AES86 ['B005ES0YYA', 'B000CNPK3M', 'B000EYRLXQ', 'B006U5W49O', 'B0097BEFYA']\n",
            "A2XHOLOLKGV1FE ['B004YLCN1U', 'B001O9X9EU', 'B001ELK2NY', 'B001RB1TIS', 'B001FB578I']\n",
            "A2KIJBT9HRIOM8 ['B004G6002M', 'B006K554I2', 'B003XM1WE0', 'B000VX6XL6', 'B004FJV8EE']\n",
            "A2HBOG4LVIY15L ['B003F69JBW', 'B0057Q4AGW', 'B00834SJSK', 'B001TZUS98', 'B004VPLY1E']\n",
            "A19XMHRB3G4DIR ['B000JV9LUK', 'B0012Q94AI', 'B008X9ZBVI', 'B00155RGYM', 'B006LW0W5Y']\n",
            "A2MSBIA18RXYQC ['B005SEIO4M', 'B002U0KE8Q', 'B005GREK8K']\n",
            "A2EN82VBJT44QP ['B0096W1OCG', 'B0015A8Y5M', 'B002XMP7K6', 'B00E055H5O', 'B001XURP7W']\n",
            "A141R97FHSSUQ0 ['B000N99BBC', 'B009SYZ8OC', 'B00DR6DQZA', 'B00AJHDZSI', 'B008EWNVI4']\n",
            "A2VAD79S4A06DD ['B00CDIK908', 'B000N99BBC', 'B00E98O7GC', 'B0088CJT4U', 'B004RKQM8I']\n",
            "A1435P5AMCPB3X ['B000NDBRJC', 'B0002GV876', 'B000M17AVO', 'B00005MOZG', 'B000Q8UAWY']\n",
            "A3S3R88HA0HZG3 ['B006MVX5B2', 'B0079UAT0A', 'B0017Q8B70', 'B000SB9K5W', 'B00871SR68']\n",
            "A2OOLI2WFY4L2 ['B0019SVUQK', 'B0016RNX2I', 'B002ROHZ50', 'B005KQ0S8S', 'B000ZD0CV4']\n",
            "A2I18AO597DSDI ['B00GO4GMAI', 'B0085VB8GQ', 'B001O94GNS', 'B00B99JU5M', 'B004ROGUMC']\n",
            "AMVXR3NPL0GWX ['B000AZ57M6', 'B002HMC7A0', 'B00007E816', 'B002NEGTTW', 'B0019CSVMW']\n",
            "A31HE83MU98GBV ['B0002IWC9C', 'B004M8ST5Y', 'B000F9YN22', 'B003HIXOOG', 'B0015DYMVO']\n",
            "A1J87SYB3JPQWH ['B0027JPW8M', 'B000JLK5PK', 'B000UV4AIM', 'B0036Q7MV0', 'B001AHALEC']\n",
            "A2YHXGPCTENZY3 ['B0000899ZB', 'B001FS1LLI', 'B0006HU49Y', 'B0001WW3F2', 'B007471PZQ']\n",
            "A32AK8FOAZEPE2 ['B002D5XY8A', 'B004LNXO28', 'B0007LJHVA', 'B002OB49SC', 'B001XURP7W']\n",
            "A3LZA698SQPCXE ['B005DPURPA', 'B00FZ9SJLS', 'B00DIOALPE', 'B002SZEOLG', 'B00634PLTW']\n",
            "ATS2855497V0I ['B0010Y414Q', 'B0074BW614', 'B004YLCKYA', 'B005CWIRPG', 'B0028Y4H1O']\n",
            "A14Z6D3IRJ23F7 ['B0049XV5LM', 'B001V9KG0I', 'B00650P2ZC', 'B008BN75I8', 'B000067RT6']\n",
            "A2UCDLO7V7DG6 ['B000T93UR2', 'B001AYCNIW', 'B00009R9EO']\n",
            "A2RW587355CMVA ['B004PA2B6C', 'B002K9IHGI', 'B00829TIEK', 'B0058NN6CS', 'B005KSAG3S']\n",
            "AFXTKAO0CB354 ['B0087X71ZO', 'B0000B006W', 'B003SW13WQ', 'B001V9LQC0', 'B000A6NV0U']\n",
            "A2UTZ4O5E2W4DK ['B000EHCYBC', 'B004E0ZLZQ', 'B003B4BBFK', 'B001O4EPHA', 'B000WKW69Q']\n",
            "A21Q9JVG4SII51 ['B004LSNF04', 'B005UBNLFK', 'B000GQMHBI', 'B002SZEOLG', 'B000EHUE7I']\n",
            "A21KNRUAA5RK5E ['B00A45JEX0', 'B002IJA1EG', 'B002KC55OM', 'B00829TIEK', 'B002GHBW4S']\n",
            "A2L36AGL8CKY3D ['B002WE6D44', 'B000068O1A', 'B000068O16', 'B0098Y77OG', 'B0041VZN6U']\n",
            "A296QED1MV1V0J ['B0012QN3AA', 'B00232YRJ8', 'B00FRHTSMW', 'B005BOMTT0', 'B004Y1AYAC']\n",
            "A33775AIB1A664 ['B0000510ZO', 'B009AETXPK', 'B0000AI0N1', 'B000652M6Y', 'B006W494ZA']\n",
            "A3FKQQTSMHOCE0 ['B00505EZYM', 'B000Q3043Y', 'B000ELSY0I', 'B000G1EWZ2', 'B000FQ2JLW']\n",
            "AHROSV6WJOEGY ['B003TFDUJ6', 'B002SKAP46', 'B00005Q5U5', 'B0007QKMQY', 'B008ALA6DW']\n",
            "A2Y1WNETD9AYHO ['B008GVOVK0', 'B0002D6QJO', 'B00462RMS6', 'B002HDZNIM', 'B00D5Q75RC']\n",
            "A2UEB48LAWFUCW ['B004B8GF7Y', 'B00G024X32', 'B001L1H0SC', 'B003ARSO08', 'B00CD1FB26']\n",
            "A2V1J3JT5OOZFO ['B001U2DPUE', 'B000P6M6HY', 'B0042A2V88', 'B0000AQNX2', 'B0000AHO92']\n",
            "A111WCUF5KA2I6 ['B004N8ZQKY', 'B004AGX4YO', 'B00D7CWSCG', 'B0091QLXW8']\n",
            "A2PK64OVZA1U8Z ['B003UDCPEI', 'B000097O5F', 'B000OG6I6A', 'B0021L9C0A', 'B00634PLTW']\n",
            "AUUV3XDYB16X5 ['B00ASQFW40', 'B000VS4HDM', 'B00E3W15P0', 'B0026FCAYG', 'B005TJ5CEG']\n",
            "A198CCH4NNLI2E ['B001OI2YZQ', 'B002C744K6', 'B002FYJQB8', 'B001XHBNN2', 'B008C1JC4O']\n",
            "A1VR1HIOVQWN09 ['B0009ON12G', 'B004GF8TIK', 'B004LSNF04', 'B001EPX7N2', 'B000P0NJPS']\n",
            "A13WREJ05GMRA6 ['B00906E03I', 'B0015ACUKC', 'B0026ZPFCK', 'B000PT18OS', 'B001V9LQC0']\n",
            "A9J4UURM4OSDW ['B000Z9UY2K', 'B0000X0VCY', 'B00021EE4U', 'B0096W1OCG', 'B000RZNI4S']\n",
            "A2C8I2RQ0WG940 ['B002JCSV8U', 'B00BOZ1Y46', 'B00144KS6W']\n",
            "ARC5ASW9CUAGP ['B000BKUSS8', 'B00E3W15P0', 'B0087NZ31S', 'B005S0XYKK', 'B001V9LPT4']\n",
            "A3INN916E4VION ['B00383L02I', 'B007PY3ZPG', 'B000HPV3RW', 'B000AY5Y5W', 'B000JE7GPY']\n",
            "A2HKUM9OEBQKDW ['B000MX48VM', 'B000ABB4HC', 'B000QZ001I', 'B000BSN4UY', 'B005CLPP84']\n",
            "A2MOD50IHEDH3G ['B002FP0PO4', 'B000N99BBC', 'B001IEXU68', 'B006ZH0KVG', 'B002FB684E']\n",
            "A1KKE6VX8VPWZK ['B004J6BIJ8', 'B003CFATT2', 'B0052WPUI8', 'B005WXLA8G', 'B001TUYTZM']\n",
            "A3963R7EPE3A7E ['B000UN8MKM', 'B00DIFIM36', 'B003ES5ZUU', 'B001SEL36M', 'B0011TM19C']\n",
            "A3D01HLSUFEZQY ['B0007DDK7A', 'B000MDZKUU', 'B0018205KE', 'B000AO3L84']\n",
            "A3MFORLOKIOEQY ['B00FY2SBR8', 'B00JC5Y6WM', 'B00539LU3E', 'B003UDCPEI', 'B004MSQZUU']\n",
            "AG5WSXI52FPKH ['B0058UUR6E', 'B000Q82PIQ', 'B004W2JKWG', 'B007B6YPAM', 'B0000ACOBG']\n",
            "A2L0F2T1DLTNT8 ['B008HY8XTG', 'B000PQL7AQ', 'B000T9B46G', 'B002TLTE6O', 'B0081FLFQE']\n",
            "A35Q0RBM3YNQNF ['B009UNZ5WQ', 'B00JF0D7RE', 'B00884WH74', 'B005QCDY50', 'B00ISIG690']\n",
            "ALNE7Q71JFC0F ['B00007E89K', 'B00006I5J7', 'B00E952W3A', 'B008ALAAV0', 'B007BJHETS']\n",
            "ANTGGAQYPSWHF ['B000V5G4TK', 'B00005AC8W', 'B0036Q7MV0', 'B004Q3R9AQ', 'B002RL8IAY']\n",
            "A359MYLPLEOF7N ['B0056BPUQC', 'B009NE7B06', 'B0002E51CQ', 'B001UE6I0G', 'B0013P3ZOE']\n",
            "ACSX5AIZE3MJ9 ['B0040723AO', 'B000NONHYY', 'B003M0NURK', 'B002GXIT6Q', 'B004CLYEDC']\n",
            "A2HXEJXEQQTM1D ['B008Q7DDLM', 'B00CPGYNV4', 'B000FQ2JLW', 'B002VKVZ1A', 'B0023Y9EQC']\n",
            "AK3GKIV8DEY8B ['B000928KII', 'B0029ZA78O', 'B0019FJM7W', 'B00009R6JT', 'B0009Y7APU']\n",
            "A3D1TZH619NKHN ['B0002AHT0M', 'B004CLYEDC', 'B001TOD7ME', 'B00829THVO', 'B005DOUJL8']\n",
            "A1MBXP3NZM2BUO ['B00829THVO', 'B00829THK0', 'B002RM08RE', 'B00AXWOLO6', 'B005FVNGRI']\n",
            "A2F2F7N94SR1KQ ['B0019884K0', 'B000BVC0WO', 'B004HO58SO', 'B00461E7JE', 'B00475WJEY']\n",
            "A32LX4XJ2LU740 ['B00BX2YLVI', 'B009LL9VDG', 'B006MO0IZA', 'B0090Z3QG6', 'B0013FRNKG']\n",
            "A1IBKN1GXYJ3K4 ['B009NHWVIA', 'B0002DG9XW', 'B002DW99H8', 'B002PY7OJE', 'B000F34O1S']\n",
            "A1E3OB6QMBKRYZ ['B0006HU49Y', 'B000Y4AH3C', 'B004UR1670', 'B00CM1BN5G']\n",
            "A2J8T58Z4X15IO ['B0028Y4H1O', 'B00CB2F65O', 'B00DR8LAE2', 'B00486MH80', 'B008C1JC4O']\n",
            "A307Y3LMCVEZS1 ['B001VL572I', 'B001EMUE6I', 'B001FA09WI', 'B00466X9SY', 'B002LC2DQ4']\n",
            "A1BZIM4WGZ6DZP ['B001IEXU68', 'B005INZKKE', 'B003WM184A']\n",
            "AGJRUK27RBVYS ['B00DSGLM50', 'B000N99BBC', 'B00G6IJ5NI', 'B0038JECKY', 'B003M0NT1M']\n",
            "ASHJAZC9OA9NS ['B004E0ZLZQ', 'B00023KG40', 'B0007QN18U', 'B000PH1DL8', 'B000ES8B4K']\n",
            "A1AH8033GWKBY7 ['B004H9C4JK', 'B000RHV46U', 'B0071BTJPI', 'B002JQNXZC', 'B000BTL0OA']\n",
            "A2TKWMX4563NR6 ['B002SOU2Y0', 'B009D79VH4', 'B00006RVPW', 'B0012XFDWO', 'B0013FW8XS']\n",
            "A1JWSDDIH5Z7DV ['B000NEJYZA', 'B0009K9FZW', 'B000EPHSLK', 'B004YKXGIK', 'B000NEKORW']\n",
            "A38Z6QG6988WS7 ['B003FVVMS0', 'B006U3O566', 'B00BGGDVOO', 'B003ES5ZUU', 'B001F6YRNO']\n",
            "A17O9AHKHK66AI ['B009W8YQ6K', 'B004QGXOOI', 'B00009RA60', 'B0045JNBNU', 'B005OFFH5Y']\n",
            "A1DTCJV6KOMJOA ['B005JE3VYY', 'B00DR8LAE2', 'B004DVEW8I', 'B009A6CZ30', 'B003FMUP3W']\n",
            "A35X2JJI49OBZP ['B005O9YMM4', 'B002JCSV5I', 'B00EIDWYR2', 'B0000AZ0OP', 'B003L1ZYZ6']\n",
            "A2YEOR4XJ8N3QE ['B0079UAT0A', 'B003O1UYHG', 'B003UT2E8E', 'B007PTCFFW', 'B000WWK16O']\n",
            "A2Q204DY2L7YRP ['B003ES5ZUU', 'B002V88HFE', 'B002IO2UM2', 'B0079M711S', 'B003ES5ZSW']\n",
            "A2PMR2PIGWKCQ9 ['B002Y6CJJ8', 'B002I8MUJG', 'B005LDLP8W', 'B0090Z3QG6', 'B007P4VOWC']\n",
            "AO09RWV40IX78 ['B00JC5Y6WM', 'B0074FGLUM', 'B008X9Z9ZQ', 'B00E5UHRIO', 'B0053NBLFW']\n",
            "A3R33KMESG0XGQ ['B00387EW1K', 'B00834SJNA', 'B0015AARJI', 'B002HWRJBC', 'B0089KDD5C']\n",
            "A3QDMDSANPYGUX ['B008AJNF78', 'B00FE8MKTM', 'B000V0IE5M', 'B00006RVPW', 'B003LVZO8S']\n",
            "AYNAH993VDECT ['B0066D608G', 'B0038KN114', 'B0099SMFVQ', 'B009FUF6DM', 'B000V0BIWI']\n",
            "A3PCEB9ND82AGE ['B004W2T2TM', 'B00BW6KCTU', 'B00COGDERY', 'B001F51G16', 'B004PYD88I']\n",
            "A1RDHBBZE1NPS3 ['B00B3PDH5G', 'B00D1GYNT4', 'B003ES5ZQE', 'B00AEKEA48', 'B002SZEOLG']\n",
            "A2TMFC9O3ZCNKE ['B00JDAIMQ2', 'B007M506WS', 'B008YRG5JQ', 'B0058OTXK6', 'B007WTAJTO']\n",
            "A19HT7YC1UW3D6 ['B001TQ2PSO', 'B000MIXFWA', 'B004G6002M', 'B000Q8UAWY', 'B002HWRJY4']\n",
            "A1F0KPA232MTYC ['B002MBKSV6', 'B00178HJ6C', 'B0016SN49Y', 'B0019884K0', 'B000CRFOMK']\n",
            "ASJZT7DM51QEM ['B003HFCDLY', 'B002MCZJ78', 'B004QK7HI8', 'B00COF7DGS', 'B004AK154Q']\n",
            "A2PC9ZZIFV31B1 ['B003U6Y1OC', 'B002V88HFE', 'B00B9BUZW2', 'B0087NZ31S', 'B002RCLYXG']\n",
            "A1REY92IEZJUSX ['B002W3IXZW', 'B003F69JBW', 'B004R6NSQG', 'B000053HH5', 'B0052XN17Y']\n",
            "A3TNM3C9ENUCFW ['B009NZ6SZE', 'B00AJHDZSI', 'B001DJ64D4', 'B00275XTSQ', 'B005D5M136']\n",
            "AQ3IN3MRXQ5KH ['B000E6NGBU', 'B001O4EPHA', 'B0014DUHLO', 'B002AQ30T0', 'B005D1R07M']\n",
            "A23E9QQHJLNGUI ['B00894YP00', 'B000V1LX40', 'B009F7IBZK', 'B000EOMXM0', 'B009PK2MNY']\n",
            "A3J3ZHGDUDPCFL ['B00829TIA4', 'B00IF4OATU', 'B00HGLOQ24', 'B003E49GRC', 'B004N6ZC8W']\n",
            "A2HPJKM7L4EOQB ['B00004Y2MM', 'B007B2QDFQ', 'B00007KDVK', 'B00007KDVI']\n",
            "A19FRW264WZTGP ['B001S4OTS6', 'B001Q3MA80', 'B00G0OYHCW', 'B000Q8UAWY', 'B002VR6A9K']\n",
            "A386LG0LRWKJZP ['B00814CAS2', 'B0055QYJIS', 'B00077AA5Q', 'B001EYV690', 'B0051G5SBY']\n",
            "A15CL28ALB7MTZ ['B002K9IHGI', 'B00007EDZG', 'B000O161X0', 'B000FHFPHG', 'B0093HAWZY']\n",
            "A34CKIMZ969UW7 ['B003D5MY5I', 'B000NMFCIA', 'B00834SJSK', 'B001S2PPT0', 'B0030F5ND6']\n",
            "A14MZJTZAQS6CV ['B00009USW3', 'B005ES0YYA', 'B00011KM38', 'B007FGYZFI', 'B000I23TTE']\n",
            "A3RMEU4GNP60BM ['B009GXI3QU', 'B009KG9K74', 'B0035FVHJ0', 'B006Y61KY4', 'B00CRB53CU']\n",
            "A15J9K7O10A3M6 ['B003KGBBRW', 'B0041MY32Y', 'B0018ZDGAC', 'B008VQ2YUY', 'B00009R6UI']\n",
            "A1BJOHHLG0D965 ['B003BEDQQW', 'B00834SJNA', 'B000RHZJN4', 'B007ILFFS6', 'B000Q8UAWY']\n",
            "ATDQ9CGCWTT8D ['B005DD28XG', 'B00E3W15P0', 'B0036Q7MV0', 'B007JOO4YS', 'B003YNQ6MG']\n",
            "A2ZR3YTMEEIIZ4 ['B000GBGPAW', 'B000N50S5Y', 'B000E6NGBU', 'B0011Z44UA', 'B0002UB2Q4']\n",
            "A3UQSOJW51UU9T ['B002K42W4Q', 'B000PKC102', 'B009SS0FZK', 'B007BZRXK2', 'B001T9NUJE']\n",
            "A3LDLV1GWQJLEQ ['B00346I5LI', 'B00EOE4G4E', 'B007PTCFFW', 'B00CO1I29O', 'B007X3VEX4']\n",
            "A23ONMGKEWDG4M ['B0007G6RZE', 'B000AZ57M6', 'B0015EMZU8', 'B006ZCCH76', 'B0029N3U8K']\n",
            "AS7J4952JB5XR ['B006UL00R6', 'B007BY3PBE', 'B006M76GWG', 'B005KQ0S8S', 'B008KFY16Q']\n",
            "A1N3EH28S4DI8L ['B0076BNK30', 'B000NP46K2', 'B00EN27SHY', 'B004XC6GJ0', 'B0002ER2YQ']\n",
            "A1RJKTYC03L0JY ['B000053HC5', 'B00AKYVMG2', 'B005LFT3GG', 'B004M5H660', 'B0049LBJ56']\n",
            "A2IFKH3TJ10387 ['B004CLYEDC', 'B0015A8UK6', 'B000N99BBC', 'B0058SRNZ4', 'B002K9IHGI']\n",
            "A1QJ10LEINDRWW ['B0033PRWSW', 'B005TOU804', 'B0058G40O8', 'B00007E7JU', 'B000H4CLXS']\n",
            "AKBVYIIHWI04B ['B00D18U63O', 'B001HLFAD8', 'B000VX6XL6', 'B006JWMOOI', 'B000CKVOOY']\n",
            "A3J2YU2D9BH2J7 ['B004NNRQVQ', 'B001W26TIW', 'B005LS2FS6', 'B00FA4Y7N2', 'B004HHICKC']\n",
            "AN2IZT80ZUNJN ['B003EHCBDA', 'B00889ST2G', 'B00139W0XM', 'B004TJ6JH6', 'B00004Z5D1']\n",
            "A328S9RN3U5M68 ['B00IKCQ0EK', 'B005FDXZJU', 'B00HZWJGS8', 'B00HG1L334', 'B00EFE9OAE']\n",
            "AQR4HPVSOPS08 ['B000V1LX40', 'B003ES5ZUU', 'B0093HKFYW', 'B004CAHTCQ', 'B000068O40']\n",
            "A2OS3TIVAKUAHG ['B003WUX6PG', 'B003ZSHNE0', 'B00COF7DGS', 'B0041NFIBS', 'B008YDTRZ4']\n",
            "AK9BXHEXOOM6Z ['B0014S5FVQ', 'B0073H2WP4', 'B000068O34', 'B004LTEUDO', 'B000R9AAJA']\n",
            "A1HBEQWSMVQEWJ ['B003TJR2HS', 'B0019M6GP6', 'B00FB45SI4', 'B0049SCB2Y', 'B005CT56F8']\n",
            "A51OFQVC6O5YL ['B004WK3KKQ', 'B004S4R5CK', 'B005KQ0S8S', 'B0077QTSQM', 'B0093H4VBU']\n",
            "A1XB7JGJ459ERP ['B004CADY9I', 'B004W2JKWG', 'B0015DYMVO', 'B0052OZZYK']\n",
            "A1R76R4E6A8S3B ['B0034XRDU0', 'B00829TIEK', 'B00E0HITQ6', 'B00CD1PTF0', 'B004NY9UZA']\n",
            "A12O5SEIF162P8 ['B000N99BBC', 'B00466X9SY', 'B000RZ8WHG', 'B009NHWVIA', 'B000CRFOMK']\n",
            "AWNBZSEZ9P8BE ['B003CJTQJW', 'B00HVT27B8', 'B00CEB5QU2', 'B00B5HE3UU', 'B00FRMAOIO']\n",
            "A1UQUDT2Q0YENM ['B00D1GYNT4', 'B0088PUEPK', 'B005DSPLC6', 'B0042FZ50O', 'B00CXADBRY']\n",
            "A32JCI4AK2JTTG ['B0010CKE7G', 'B003EEMDMC', 'B004BV4JXI', 'B001JT346I', 'B005EIGUD4']\n",
            "AEFTIUQHSVUFX ['B0002Y5WZM', 'B003IBB9CG', 'B005BGKAGC', 'B00166EUI0', 'B004UGEDAI']\n",
            "A19XPAWSWDRI3B ['B00752QYLK', 'B000NOUP0S', 'B000KZW9WM', 'B002FRLEIS', 'B00505EZZ6']\n",
            "A1Z3598J0371ND ['B000WXSO76', 'B002IO2UM2', 'B001F7AJKI', 'B001CBLN7K', 'B003LNZ1L6']\n",
            "A2GYV87WW0DMSN ['B008EQYRRY', 'B004LPZBD6', 'B009H0XQPU', 'B006IC3GHS']\n",
            "A1QOIHVQC5XWCJ ['B00020S7XK', 'B0015AE4CE', 'B003I4FHNA', 'B001GS8G2E', 'B002ZKXK2S']\n",
            "A1CM4HI4S5P0WO ['B001M4HEVG', 'B00066Z9XG', 'B000RHZJN4', 'B008MPKAPK', 'B0015C30J0']\n",
            "A3CKI6VEH0HBMJ ['B001NTFAOS', 'B003YKG2YQ', 'B0014YGANC', 'B003WV5DJC', 'B000I04WWY']\n",
            "A1SX9PHJWTDMF9 ['B00020S7XK', 'B0013FRNKG', 'B000O8I474', 'B0016OEV7C', 'B0007QCO6A']\n",
            "A2SH7OWE8QJYNC ['B001C9KW88', 'B000BM8RFM', 'B000089GN3', 'B0073HSH8U', 'B00008W2LC']\n",
            "AAW7X3GRD8GY9 ['B006EWUOL8', 'B000M2TAN4', 'B006VCP72W', 'B005TI1ILS', 'B00000JDF5']\n",
            "A3DQWFWINN3V5A ['B004JLNZXU', 'B00429N18S', 'B0009K9FZW', 'B008O515CK', 'B000A6NUVU']\n",
            "AWH2AY17ZU7W2 ['B003RRFWRY', 'B00EHZYWGM', 'B004VM0SE6', 'B00004ZCJE', 'B0054L8N7M']\n",
            "A2A4X545ERLS7H ['B0052SCU8U', 'B000NPZ4D0', 'B0031GGQC6', 'B000OGX5AM', 'B00B46XUQU']\n",
            "A365PBEOWM7EI7 ['B0041VZN6U', 'B0043CG3QG', 'B00829THO6', 'B001XURP7W', 'B001DVZXC0']\n",
            "A35IX2GE0VC0JP ['B0049ZE9JA', 'B00DUTIZJG', 'B000HZ8942', 'B005GOINEK', 'B004BDOGL6']\n",
            "A16J281SJ9QXIQ ['B009W8EWOG', 'B008B6UA8M', 'B003MTTJOY', 'B007KEZMX4', 'B00722JCMQ']\n",
            "A3P4T1DKRWTL36 ['B005TUQV0E', 'B00C37AZXK', 'B006XGCQ2U', 'B006IC3GHS', 'B008AGDTA4']\n",
            "A32QOZWIKQDNZX ['B000VPNYSO', 'B000IHN89A', 'B0012Q94AI', 'B000DZFWL4', 'B001KHCESS']\n",
            "AHQRU3MRORIWQ ['B002Y6CJJ8', 'B0025VKUQQ', 'B004CLYEDC', 'B000OV74CC', 'B000W2Z5M4']\n",
            "A3A15L96IYUO6V ['B00829THEG', 'B003M8HWDA', 'B000IK5XWW', 'B002MZUNXU', 'B005J31BCO']\n",
            "A3BKNXX8QFIXIV ['B004SKBJ5S', 'B001OOZ1X2', 'B002VPE1X4', 'B003AM8S3G', 'B007FZN53W']\n",
            "A28N2AWOVO2PB ['B00E98O7GC', 'B00A7PPLP2', 'B001TUYTZM', 'B0094R4POC', 'B007FPIQ0E']\n",
            "A1ZA5SXZS8Z3CK ['B006M1MW1Q', 'B008B6ONXK', 'B008YDJHWM', 'B002OFP6QW', 'B007SZ0EOW']\n",
            "A33CNFK776MTWR ['B008Y8E25Y', 'B0002EXJ8Y', 'B002FJQXXC', 'B009YQ8BTI', 'B003S6AXVO']\n",
            "A2RWHTNM5P3I8Y ['B003ES5ZSW', 'B002QPZY8A', 'B00BZC31WQ', 'B00AXVXXNC', 'B002I3OZB2']\n",
            "A1PM7HH4F77NEH ['B004JQQDZ2', 'B000A6NUU6', 'B004IZN3K2', 'B000FYZARY', 'B0071BTJPI']\n",
            "A2CL818RN52NWN ['B000083CUA', 'B0002LHSG6', 'B00022PUDI']\n",
            "AFR9GYKAHM37U ['B0002EQU6C', 'B000IJY8DS', 'B001F51G16', 'B00005T3G0', 'B00004ZCJE']\n",
            "A3077MQTAKOVFZ ['B00004SY4H', 'B004OBZ2XQ', 'B00762YNMG', 'B0088PUEPK', 'B001XURP7W']\n",
            "A335QXPTV1RIV1 ['B002CVTU5Q', 'B000VKEFN2', 'B002EEP3MK', 'B002LARRDA', 'B001TK3D3Q']\n",
            "A110VKXAVLAYKY ['B003WPTBAK', 'B004G6002M', 'B001UE6N6A', 'B004K1FTGU', 'B00BS67S78']\n",
            "A1BXVZSQOJE6UE ['B0000AOWVP', 'B00G4V0QSK', 'B0092KRAVQ', 'B00CO1I29O', 'B00HGLOQ24']\n",
            "A1FR68QH6Z4YZM ['B000AZ57M6', 'B002IKLJU0', 'B00005LE77', 'B001FB6PO8', 'B00336G7FA']\n",
            "AG8YP2XTC5X1I ['B001FO4QHI', 'B002WE6D44', 'B001L4A76G', 'B001HKM1HM', 'B000MX48VM']\n",
            "A18NDN2CIG2TKR ['B001BSQK8Q', 'B00BMEJ55O', 'B00AYK7J9G', 'B005C95NNI', 'B008UC69J6']\n",
            "AQ2FC1DLKVD8H ['B0013FRNKG', 'B001TH7T2U', 'B0040723AO', 'B0002J2TLC', 'B00G4UQ6U8']\n",
            "A1TY97ZGQT5FGF ['B000WXSO76', 'B003SQEAY0', 'B000EVOOO8', 'B004N625B4', 'B003Y7ZBDM']\n",
            "A3UKWQS8SRW6IO ['B00D429Y12', 'B004HHICKC', 'B00BWHILCY', 'B007YKUWN4', 'B00ISIG690']\n",
            "A35C2IVVQR1HTK ['B0017JY5FE', 'B00114PN1U', 'B004LGRKZC', 'B003PBB4ME', 'B001OTZR1I']\n",
            "A3GX0FAMEXV6FB ['B005EZTUMU', 'B005PSLFGA', 'B000QUUFRW', 'B00267S7XW', 'B00632SB2I']\n",
            "A1VUN4JU731CBH ['B000096B01', 'B00BF9MUAS', 'B00483WRZ6', 'B0009Y7APU', 'B00829THEG']\n",
            "A3F8T3BRXRX5P3 ['B005IQGNCU', 'B006K5520C', 'B003YVJJ5Y', 'B001T9NUJE', 'B000NMFCIA']\n",
            "A1E55W6ES0FY17 ['B001EQQW1A', 'B001HBHLEY', 'B004UQ05M8', 'B00009XVCZ', 'B002S9KDKS']\n",
            "A1OH33MR6K4G5J ['B006GWO5WK', 'B007DJGHF8', 'B000LTNIZE', 'B003ZSHKIY', 'B003YGVDDU']\n",
            "AN9WA4C5E7YY5 ['B001LQSFKY', 'B00AANQLRI', 'B000E9VKUQ', 'B000QJ4ZE2', 'B00746LVOM']\n",
            "AYCAIHABPYWVJ ['B000XRW09Y', 'B004AGX4YO', 'B002ROGCRC', 'B004N6259G']\n",
            "A1TQBAHI3M4ZBQ ['B000HWVOFQ', 'B00006IW1X', 'B000JMJWV2', 'B005K7192G', 'B001KB6Z2U']\n",
            "A19NP8YYADOOSF ['B003554BP2', 'B003IRR0YQ', 'B00IVFDZBC', 'B006MBP7T0', 'B007MX9XU6']\n",
            "A1A535TCGNMVPI ['B0001H27PS', 'B00FZ9SMVU', 'B000T5AQHS', 'B00BP5KOPA', 'B001DJ64D4']\n",
            "A2BGZ52M908MJY ['B00004W3YX', 'B00005B70I']\n",
            "A28J3123I1QDKI ['B0080XGJPY', 'B003S5SOLG', 'B000LRMS66', 'B00BWF5U0M', 'B005DKZTMG']\n",
            "A1OA2ZW406NQXM ['B0002JY6SQ', 'B000165F26', 'B001S0PWWC', 'B003VAM32E', 'B0000BVYTV']\n",
            "A2CWUM49ZWMGEY ['B00005T3G0', 'B005ARQV6U', 'B000233WJ6', 'B005HNG266', 'B004LPY204']\n",
            "A31BD4RXCON7QO ['B001KELVS0', 'B0002EXF38', 'B000023VW2', 'B000I1YIDQ', 'B000G3KLPA']\n",
            "A2XIOXRRYX0KZY ['B008YDTNDU', 'B009NHWVIA', 'B00884WH74', 'B0095P2F1S', 'B003M0NURK']\n",
            "A3D0UM4ZD2CMAW ['B004RFBIUU', 'B003AVMRQG', 'B002VKVZ1A', 'B005J7YA4G', 'B001XURPQI']\n",
            "AI0BCEWRE04G0 ['B005FYNSPK', 'B0065DUJ0C', 'B007Y4NWQE', 'B00408K36Y', 'B00CD8ADKO']\n",
            "A2Z2MUP8JRJXEU ['B00JF0D7RE', 'B00FSA8VQ2', 'B009AF5736', 'B00G3N1MQY', 'B001QWRT3C']\n",
            "AC6Z7DP1Z5GHD ['B00005LEN4', 'B000F7QRTG', 'B000L47AHG', 'B000HI9O5W', 'B001KZTSOI']\n",
            "A2X61KKXXR6WNP ['B00426C57O', 'B000IZDN60', 'B004XQWGHW', 'B002GHBW4S', 'B000FITKK8']\n",
            "AQSV34W54L0VO ['B00H09BOXQ', 'B0083J8D90', 'B005CT56F8', 'B008HK1YAA']\n",
            "A3VL4RXCWNSR3H ['B00009KIYM', 'B004EBUXHQ', 'B00CE58ZYC', 'B0001FV3C8', 'B00A81SXHI']\n",
            "AYO1146CBIV5C ['B001S4OTS6', 'B00AWRPIWQ', 'B00EO96W2I', 'B00EAXRVLY', 'B0039SLVT4']\n",
            "A1SDPA1J98UP4L ['B00HQ4W3OE', 'B001G5ZTZO', 'B002WE6D44', 'B0015AARJI', 'B0011U65F2']\n",
            "AKT8TGIT6VVZ5 ['B00005LEN4', 'B00JC5Y6WM', 'B000VPNYSO', 'B0007M3PKS', 'B000EW9Y4M']\n",
            "A32O98PFC3OP7K ['B00452V66G', 'B003ES5ZUU', 'B003ZSP0WW', 'B00AQDG96K', 'B002OP3N6W']\n",
            "A1ZTR0FR5AW9B4 ['B00358PRCA', 'B00584WZKG', 'B000PO3CTM', 'B0002A4M4I', 'B002VPE1QG']\n",
            "A11ULAZ4B5ZXC8 ['B000J1H4VI', 'B003A7CDY6', 'B000IJY8DS', 'B00IF4OATU', 'B002B8WVVU']\n",
            "A1MCH5RXDOH87H ['B000068MP2', 'B0042FZA1S', 'B00CNZTPGA']\n",
            "A9BWUH9XKZ2DQ ['B007WTAJTO', 'B004SY5O5K', 'B00H09BO2M', 'B00305N47S', 'B000LTNIZE']\n",
            "A3UW23DBF2KHWC ['B00004TDLD', 'B00CXADBRY', 'B008AST7R6', 'B00BQHD4B8', 'B003A0T6YS']\n",
            "A3IK2VCQ007CJ ['B001FA1NK0', 'B0043T34RK', 'B000VZS2EU', 'B004ZMVQRA', 'B004LEAYXY']\n",
            "A3NGOG8Z78AZSD ['B004SCSV2U', 'B00028VKLI', 'B000RZQZM0', 'B003LD4T0K', 'B002J9HBSE']\n",
            "A28P7V9KI7MXP ['B0000AQI9E', 'B0085DZRDE', 'B001FA0B2Q', 'B0051A8TG6']\n",
            "AJCR7L4AXL2OG ['B004JZI78O', 'B000NWWT3G', 'B000BP50AY', 'B001GGAIGI']\n",
            "A1RPJHUVVSI98A ['B009CN8VNY', 'B001C4BEOY', 'B005LFT3GG', 'B00D6XSRL2', 'B004V6BQ3O']\n",
            "A1H0D7635GEEJ1 ['B005TOU804', 'B0000TU7I6', 'B0058G40O8', 'B001P05NBA', 'B000CKVOOY']\n",
            "A2U3OEIK1CUPIK ['B009SK57HY', 'B000Y16TY6', 'B001BP1YEE', 'B00012FVYC', 'B000FTU77C']\n",
            "A11P105WVK5240 ['B009MSGEHO', 'B00006RVPW', 'B004S4R5CK', 'B000CKVOOY', 'B002JH3TW8']\n",
            "AKX9EQ37PAYMY ['B0046A8Y8A', 'B00011KM38', 'B001O4EPHA', 'B003ES5ZUU', 'B001FB6PO8']\n",
            "A29GWIJL72GXXZ ['B00000K13A', 'B0002J2P2A', 'B004C3AW40', 'B001DL9WDG', 'B000E9U9GC']\n",
            "A2IXK5LB4Y0NYV ['B003SQ1JTY', 'B0034JLTNG', 'B0009NMQ2I', 'B0036OR92E', 'B009UQ2JR2']\n",
            "A3CJOB7CHOSZUG ['B00795K7J8', 'B004CAJU8W', 'B003M0NURK', 'B0052RM8T2', 'B0009GBRS4']\n",
            "APQQK1V695AUE ['B00008W7LS', 'B00065X51U', 'B0014T7W8Y', 'B000HDJT4S', 'B0000228GG']\n",
            "A3NG7X4APIV649 ['B000IM9542', 'B0027AGK3M', 'B00CD778LC', 'B008V9RW58', 'B001F7AHOG']\n",
            "A33152QEGO2MZN ['B0038L495U', 'B007BJHETS', 'B004GZRE1S', 'B000IJY8DS', 'B003SX0OU2']\n",
            "A2L42QEWR77PKZ ['B000QZ001I', 'B00061UISM', 'B000BVC0WO', 'B000NBCNOW', 'B004I4RBXI']\n",
            "A74UT8IQCM0I2 ['B000092TT0', 'B0060B7NCG', 'B0083UD3AS', 'B006U3O566', 'B00DBV28TG']\n",
            "A2PSC7LUNIDEAH ['B0093IZOV0', 'B00BQ4SBSM', 'B00D8T886S', 'B0043D2ICS', 'B004N6259G']\n",
            "A1IG1I6MR3HAWA ['B00316263Y', 'B000MWNJPE', 'B000BAX50G', 'B00894YP00', 'B0014F9U6U']\n",
            "A1987V5OCO6QHS ['B000BOLHH0', 'B0044YPN0A', 'B0058OTXK6', 'B0093HGD2K', 'B005H3Q57M']\n",
            "A3BI8BKIHESDNQ ['B000FBK3QK', 'B00005T380', 'B0003NN83K']\n",
            "A3VC74TJ06WDDD ['B0018MCGVU', 'B002HZW6WQ', 'B000E8OVNK', 'B001NJ0D0Y', 'B001Q6RUVO']\n",
            "A3OIMUR42XIOFQ ['B00691WMJG', 'B006EKIQYM', 'B00829THK0', 'B005UA3I72', 'B009X01C64']\n",
            "A22NKFOH9RATRC ['B007RMAS1K', 'B004AM5Z5O', 'B004286VMW', 'B0025VKUQQ', 'B003FVVMS0']\n",
            "A3KZ7OH4VRL048 ['B004CLYEDC', 'B0028ACYMC', 'B000E6NGBU', 'B008EQYRRY', 'B001963NZI']\n",
            "A240FRPD4MEXND ['B00829THVO', 'B00009V2PG', 'B00IVFDZBC', 'B0063705PE', 'B003M8HWDA']\n",
            "A25HBO5V8S8SEA ['B00005AC8J', 'B0001CNMFM', 'B004CLYEDC', 'B00005MIS8', 'B0007VRPZA']\n",
            "A3E049PVKG7NDK ['B0051U1XMI', 'B0031ESKJA', 'B00024ENES', 'B0090BTY8Y']\n",
            "A2NPN06SYI5VL3 ['B000HCT12O', 'B006LD7VP2', 'B009GTV3S4', 'B001V9LPT4', 'B004MU8VCS']\n",
            "A1QRST0A3IQIEF ['B00009YFTI', 'B007R67FNA', 'B0027AGK3M', 'B008MDSWI4', 'B00AYJFXIQ']\n",
            "A2SR7S6ZJJDGNB ['B006GWO5WK', 'B00D02AHEO', 'B00DVFLJDS', 'B007P79R2I', 'B009S40EM8']\n",
            "A3CFU12GS5CZCN ['B007ZWLRSU', 'B002V88HFE', 'B0062EUE54', 'B008ATNE8I', 'B009IKC60K']\n",
            "AHNHLGKIZ2N3B ['B00005T6GZ', 'B00E98O7GC', 'B00BWHILCY', 'B002MY4J18', 'B0081H8TRA']\n",
            "A28RSMADFCBJDT ['B000N7VPRW', 'B00452V66G', 'B000M2TAN4', 'B00D6XW62I', 'B002669XKY']\n",
            "A1UTM65Y3G9HUL ['B005XULTG6', 'B002W4M0DW', 'B0062IPIPQ', 'B00BB0ZSIC']\n",
            "A23D13HKTA95WX ['B0000AZK4D', 'B0063K4NN6', 'B00008AWL2', 'B00023433U', 'B005CT56F8']\n",
            "A2N3JSOIQ6ZNFL ['B0026ZPFCK', 'B002POBS46', 'B003ZM7YTA', 'B000H9J3ZC', 'B008MUDGBA']\n",
            "A2VALCFTOWFYXZ ['B00650P2ZC', 'B005OA24PU', 'B00CUIVSNS', 'B00B46XKKQ', 'B007PJ4PKK']\n",
            "A2CWIYIETNBAK3 ['B00829TIA4', 'B001EZRJZE', 'B0084JFLTY', 'B00D695GS8', 'B001B8CU8U']\n",
            "A1T9MILRRZ00F8 ['B0094S35W4', 'B000UY1MB2', 'B009HQCARY', 'B003VNKKRG', 'B006SVV6HG']\n",
            "ADPKRJ2BSFJ0I ['B003N7NO4Q', 'B001K5R38Q', 'B001UE6N6A', 'B002ZJQLZC', 'B002ONWJOG']\n",
            "A4IEUHNRFZO0 ['B0000BZL0G', 'B003ZTKFEE', 'B008JCVF0U', 'B002C73WRW', 'B005T3LKKM']\n",
            "ADZF3QDGSZE7K ['B001TH7GSW', 'B002NO7PWC', 'B000NP3DJW', 'B00D6XW62I', 'B00139W0XM']\n",
            "AKCZIJ6ZHE41D ['B003924UCK', 'B003N12TSY', 'B000WL6YY8', 'B00622AG6S', 'B005FVDTAW']\n",
            "A2858RV2VLI14X ['B000T8YM34', 'B004QBUL1C', 'B00847TOLC', 'B0034CL2ZI', 'B007R67FNA']\n",
            "A194Y47BF3CUTJ ['B000KU5CN0', 'B009TCCTSQ', 'B000KO0GY6', 'B0042HLK24', 'B009HU6RI8']\n",
            "A2NLI1M5K2MQ5E ['B0018MPQBM', 'B00EH5UGR6', 'B009TL1YMY', 'B007AJHGC4', 'B000EY5F5C']\n",
            "A1TFDMY4YNTV97 ['B00632SOD4', 'B004TA0AUW', 'B000F8XGJO', 'B0029N3U8K', 'B0027AGK3M']\n",
            "A3J6Q0Y0SKY7AR ['B0046TJG1U', 'B003ES5ZR8', 'B000CRFOMK', 'B000EI3W8U', 'B000FKP7TY']\n",
            "A3EM243NDJ4DF3 ['B00829THK0', 'B0031RG29M', 'B00AQRUW4Q', 'B009T0NLYO', 'B003LNNOCO']\n",
            "A2POXR5VS3PHKR ['B001TKE25E', 'B003CYL50A', 'B001TH7GSW', 'B001C271MA', 'B0073WTG6M']\n",
            "A1IDAKX7OM3QIE ['B009TCCTSQ', 'B00829TIEK', 'B0041OSQB6', 'B005DKZTMG', 'B000TXZIDM']\n",
            "A2J96FILPQA01 ['B007ILEHSA', 'B004S5CCP4', 'B00CJLEHPM', 'B00A14ZT6U', 'B00DUN2PBQ']\n",
            "AL42PIIG5DXYD ['B0041RSDXE', 'B000067RT6', 'B000NMFCIA', 'B0018O9JIG', 'B001VKY7WU']\n",
            "A3TCMJ6GKZJFBQ ['B0007QKMQY', 'B00366KE3I', 'B002P370AI', 'B008U68UHG', 'B0013WNVU0']\n",
            "A1XK4VP74IB9TQ ['B0039825LM', 'B0002AHT0M', 'B0009HN57E', 'B005CT56F8', 'B005LIDU5S']\n",
            "A1YE1IK0JYSIIE ['B0076POAJE', 'B005JV06QI', 'B000VX6XL6', 'B008HRPF4O', 'B008484Q6E']\n",
            "A3IJL9A50KVVZ1 ['B007WTAJTO', 'B003O55U8K', 'B0007Q9PWQ', 'B004TJ6JH6', 'B0030UL7IG']\n",
            "A1ZVFCPHCWFV71 ['B002FYL7PG', 'B0000A1G05', 'B000V1VG2E', 'B0036RH93K', 'B00834SJSK']\n",
            "A1VYFEJM12ZP11 ['B00834SJNA', 'B003YKG2YQ', 'B005I6EU48', 'B004CLYEH8', 'B00F9VROO0']\n",
            "A209G57KXCBF4C ['B003SX0NFI', 'B0093H4VSS', 'B008LCYIHK', 'B00CJKW4WQ', 'B005EM6IAA']\n",
            "AELK0E5DK7LIZ ['B005CT56F8', 'B00CWBABP4', 'B00BWX2OU8', 'B00BQ4F9ZA', 'B00168BSEW']\n",
            "A3MV1KKHX51FYT ['B0011ZH0BK', 'B00000J3Q7']\n",
            "A1J5HIF41ENSMZ ['B007477COO', 'B005FYNSPK', 'B004L9LT2E', 'B00EMHVVNM', 'B002VPE1Z2']\n",
            "A3V8P0O224OBDB ['B000NG67E4', 'B00DBA9YD0', 'B003ZG9T62', 'B001OC6DCW', 'B00000JDF5']\n",
            "A35OIWPVTGW3UC ['B000Q5APCC', 'B001TX9P6W', 'B0011Z44UA', 'B006T7QSV8', 'B00728ZBA2']\n",
            "A1UMSB7LAW0RIR ['B005A2RLXC', 'B002C7481G', 'B002SW3MP8', 'B0062XB9FE', 'B00EOE4G4E']\n",
            "A3AGQAXTX6VRJ3 ['B0007G6RZE', 'B003JV3XZ6', 'B0002Y5WZM', 'B003ZUIHY8', 'B00005ATMB']\n",
            "A28I5UM0FT3I6T ['B00608XLUM', 'B005HBN3CE', 'B00CPGYNV4', 'B005CT56F8', 'B002YPS6T6']\n",
            "A1WJ3P43SZUNDM ['B001FVI91U', 'B003PJ6QVU', 'B000G6U8VY', 'B007WTAJTO', 'B00310K9VQ']\n",
            "A2J3VCGBNDLAKF ['B009SS0FZK', 'B005NC8BF6', 'B002MP5JX4', 'B003FVJYF8', 'B00009XVA3']\n",
            "A2ZY3S7SD3QO8Z ['B0074FGNDC', 'B00CRY250U', 'B00GO4GMAI', 'B008V6T1IW', 'B00E0HITQ6']\n",
            "ATMQEI1LKR6VB ['B00B7N9CWG', 'B0042FZ50O', 'B0078SAIUY', 'B006ZH0JBM', 'B002Y5XQYG']\n",
            "A3S0DBBR693O06 ['B009NQLT0M', 'B00EUFP39E', 'B00434OWDA']\n",
            "ATDE9JYCPI0L1 ['B0000632FZ', 'B00004SB92', 'B001UOXPIY', 'B0006HTZ76', 'B006YTZUA6']\n",
            "AH5BCMZELZSKG ['B009EEGVY2', 'B00008AWL2', 'B00D6XSRL2', 'B0029Z9UNC', 'B006AR1QAA']\n",
            "A13WOT3RSXKRD5 ['B002WE6D44', 'B001207YMY', 'B0041Q38NU', 'B004H8FNC6', 'B00BEHQKPC']\n",
            "A1KSNK256G46GX ['B000EHCYBC', 'B000BFYPM8', 'B000NMFCIA', 'B000FOYMKU', 'B000UZC35K']\n",
            "AZNUHQSHZHSUE ['B0007MXZB2', 'B005BCAKO8', 'B0043T7FXE', 'B001M4N956', 'B003FBQKZ0']\n",
            "A3CMO216CWOF5N ['B00006IS4X', 'B00065X51U', 'B0007LOZH6', 'B001FWYLLG', 'B00008AYBF']\n",
            "A2SNE4QQGVP13U ['B004YW7W1A', 'B0039825LM', 'B001N9X4CS', 'B0000B006W', 'B00DSUTVK4']\n",
            "A1C82BC5GNABOA ['9983891212', 'B0093HGD2K', 'B005IQRMN4', 'B007FH1LJU', 'B005NJCF7E']\n",
            "ACP9S40H3SHY1 ['B005TOU804', 'B004V6BQ3O', 'B004J1G2MQ', 'B001FA0FTK']\n",
            "A2VC48WIMY6L6E ['B00DUN2PBQ', 'B00BW6KCTU', 'B005LJQNQU', 'B001VEAI74', 'B007G5NNOW']\n",
            "A2Z1R98M2XOCEJ ['B009SYZ8OC', 'B00139TXY6', 'B000HNJ6U0', 'B00AVWKUXE', 'B001Q3M9PY']\n",
            "A2T3S3VTW65VO5 ['B0034JLTNG', 'B001TH7GT6', 'B007KXI2R8', 'B006U1YVZ8', 'B0027AGK3M']\n",
            "A12DLJESJKM1OQ ['B00006JLOT', 'B00008L3HY', 'B0000DBJJT', 'B00008N6VM']\n",
            "A185O1MX1RP964 ['B0009RKL62', 'B001VEAI74', 'B0049VR1KI', 'B007136BMA', 'B0035H9A1K']\n",
            "A1A306IAZ3TM1 ['B00762YNMG', 'B00006I5WJ', 'B0025ZH43O', 'B000089GN2', 'B0007SXHP0']\n",
            "AP2NZAALUQKF5 ['B004UFHXNI', 'B003B8VBJ2']\n",
            "A3V6QSTG2T9MIO ['B00840353W', 'B00AR95FOU', 'B005VTIMEQ']\n"
          ],
          "name": "stdout"
        }
      ]
    },
    {
      "cell_type": "code",
      "metadata": {
        "id": "i4HahtNE_92Q",
        "outputId": "3d8761bf-b77c-44d0-87dc-bd406bf57e49",
        "colab": {
          "base_uri": "https://localhost:8080/",
          "height": 34
        }
      },
      "source": [
        "#We have made both popularity and collaborative recommendation system here\n",
        "#Popularity based system had RMSE of 1.27 while collaborative item-item based system had RMSE of 1.21\n",
        "#So the collaborative item-item based recommendation system was slighlty better although we had to create a more dense matrix\n",
        "#This shows that popularity based and collaborative item-item based system are comparable if user ratings are skewed to few items only\n",
        "#The dense matrix consists of users who have rated atlest 50 products and products having at least 50 ratings\n",
        "#This was done to avoid system crashes and restrict the recommendation to the top users for collaboratibve filtering as it is computation intensive\n",
        "#For the rest of the portfolio we can have popularity based recommendations as they are not that much engaged with electronic products\n",
        "#We can also use hyperparameter tuning to get better results in terms of RMSE but unfortunately surprise package is giving errors\n",
        "#if the testset dimension is different than the training set (uploaded as issue to Olympus portal),\n",
        "#Further improvement can be made by doing GridSearchCV or RandomSearchCV to understand what is the best k to reduce RMSE\n",
        "#We are not able to plot distortion vs K value as Surprise package converts dataframe into a different format\n"
      ],
      "execution_count": null,
      "outputs": [
        {
          "output_type": "stream",
          "text": [
            "Computing the cosine similarity matrix...\n"
          ],
          "name": "stdout"
        }
      ]
    },
    {
      "cell_type": "markdown",
      "metadata": {
        "id": "umjZAOwKkviY"
      },
      "source": [
        ""
      ]
    }
  ]
}