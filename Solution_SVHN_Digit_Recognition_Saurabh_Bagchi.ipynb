{
  "nbformat": 4,
  "nbformat_minor": 0,
  "metadata": {
    "accelerator": "GPU",
    "colab": {
      "name": "Solution_SVHN_Digit_Recognition_Saurabh_Bagchi.ipynb",
      "provenance": [],
      "collapsed_sections": [],
      "toc_visible": true,
      "include_colab_link": true
    },
    "kernelspec": {
      "display_name": "Python 3",
      "language": "python",
      "name": "python3"
    },
    "language_info": {
      "codemirror_mode": {
        "name": "ipython",
        "version": 3
      },
      "file_extension": ".py",
      "mimetype": "text/x-python",
      "name": "python",
      "nbconvert_exporter": "python",
      "pygments_lexer": "ipython3",
      "version": "3.7.6"
    }
  },
  "cells": [
    {
      "cell_type": "markdown",
      "metadata": {
        "id": "view-in-github",
        "colab_type": "text"
      },
      "source": [
        "<a href=\"https://colab.research.google.com/github/Saurabh-Bagchi/datasharing/blob/master/Solution_SVHN_Digit_Recognition_Saurabh_Bagchi.ipynb\" target=\"_parent\"><img src=\"https://colab.research.google.com/assets/colab-badge.svg\" alt=\"Open In Colab\"/></a>"
      ]
    },
    {
      "cell_type": "markdown",
      "metadata": {
        "id": "B0tZ3sBQFWKQ"
      },
      "source": [
        "## Problem Statement\n",
        "\n"
      ]
    },
    {
      "cell_type": "markdown",
      "metadata": {
        "id": "Q91KqmCRu64D"
      },
      "source": [
        "# Street View Housing Number Digit Recognition\n",
        "\n",
        "The ability to process visual information using machine learning algorithms can be very useful as demonstrated in various applications such as Autonomous vehicles. The Street View House Numbers (SVHN) dataset is one of the most popular ones. It has been used in neural networks created by Google to read house numbers and match them to their geolocations. This is a great benchmark dataset to play with, learn and train models that accurately identify street numbers, and incorporate into all sorts of projects.\n",
        "\n",
        "#### Objective:\n",
        "Given the testing and training data, can you train a model that accurately identifies house numbers in an image (with difficulties like picture brightness, blurriness)?"
      ]
    },
    {
      "cell_type": "markdown",
      "metadata": {
        "id": "b0Qw0vEHBUvm"
      },
      "source": [
        "### Package version\n",
        "- tensorflow==2.2.0\n",
        "- matplotlib==3.2.1\n",
        "- h5py==2.10.0\n",
        "- google==2.0.3"
      ]
    },
    {
      "cell_type": "markdown",
      "metadata": {
        "id": "yapdCjMwFl02"
      },
      "source": [
        "## Table of Content\n",
        "\n",
        "1. Import Libraries\n",
        "\n",
        "2. Setting options\n",
        "\n",
        "3. Read Data\n",
        "\n",
        "4. Data Analysis and Preparation\n",
        "\n",
        "5. Visualize and Standardize the data\n",
        "\n",
        "6. Model Building\n",
        "\n",
        "7. Conclusion and Interpretation"
      ]
    },
    {
      "cell_type": "markdown",
      "metadata": {
        "id": "mSnjdKmpG82x"
      },
      "source": [
        "## 1. Import Libraries"
      ]
    },
    {
      "cell_type": "markdown",
      "metadata": {
        "id": "8z2Z7-OAs8QG"
      },
      "source": [
        "Let us start by mounting the drive"
      ]
    },
    {
      "cell_type": "code",
      "metadata": {
        "colab": {
          "base_uri": "https://localhost:8080/"
        },
        "id": "REFUdThmpz_d",
        "outputId": "72a7a2ef-c8a3-4e9a-88b7-28a2d7000ef6"
      },
      "source": [
        "from google.colab import drive\n",
        "drive.mount('/content/drive')"
      ],
      "execution_count": 1,
      "outputs": [
        {
          "output_type": "stream",
          "text": [
            "Mounted at /content/drive\n"
          ],
          "name": "stdout"
        }
      ]
    },
    {
      "cell_type": "markdown",
      "metadata": {
        "id": "ucnevGLoyKf_"
      },
      "source": [
        "Let us check for the version of installed tensorflow."
      ]
    },
    {
      "cell_type": "code",
      "metadata": {
        "colab": {
          "base_uri": "https://localhost:8080/"
        },
        "id": "W5as47YxyJVk",
        "outputId": "1ad42eaa-47ad-499d-d9ea-d9eae54c3876"
      },
      "source": [
        "# used to supress display of warnings\n",
        "import warnings\n",
        "\n",
        "# os is used to provide a way of using operating system dependent functionality\n",
        "# We use it for setting working folder\n",
        "import os\n",
        "\n",
        "# Pandas is used for data manipulation and analysis\n",
        "import pandas as pd \n",
        "\n",
        "# Numpy is used for large, multi-dimensional arrays and matrices, along with mathematical operators on these arrays\n",
        "import numpy as np\n",
        "\n",
        "# Matplotlib is a data visualization library for 2D plots of arrays, built on NumPy arrays \n",
        "# and designed to work with the broader SciPy stack\n",
        "import matplotlib.pyplot as plt\n",
        "%matplotlib inline\n",
        "from matplotlib import pyplot\n",
        "\n",
        "# Seaborn is based on matplotlib, which aids in drawing attractive and informative statistical graphics.\n",
        "import seaborn as sns\n",
        "import tensorflow \n",
        "print(tensorflow.__version__)"
      ],
      "execution_count": 2,
      "outputs": [
        {
          "output_type": "stream",
          "text": [
            "2.4.0\n"
          ],
          "name": "stdout"
        }
      ]
    },
    {
      "cell_type": "markdown",
      "metadata": {
        "id": "MRj03V7AHAYe"
      },
      "source": [
        "## 2. Setting Options"
      ]
    },
    {
      "cell_type": "code",
      "metadata": {
        "id": "qCKU7-YkHDq3"
      },
      "source": [
        "# suppress display of warnings\n",
        "warnings.filterwarnings('ignore')\n",
        "\n",
        "# display all dataframe columns\n",
        "pd.options.display.max_columns = None\n",
        "\n",
        "# to set the limit to 3 decimals\n",
        "pd.options.display.float_format = '{:.7f}'.format\n",
        "\n",
        "# display all dataframe rows\n",
        "pd.options.display.max_rows = None"
      ],
      "execution_count": 3,
      "outputs": []
    },
    {
      "cell_type": "markdown",
      "metadata": {
        "id": "ufAqcNVCHIut"
      },
      "source": [
        "## 3. Read Data"
      ]
    },
    {
      "cell_type": "markdown",
      "metadata": {
        "id": "8lsux2ZwyTTR"
      },
      "source": [
        "Let us now, load the dataset that is available as a .h5 file"
      ]
    },
    {
      "cell_type": "code",
      "metadata": {
        "colab": {
          "base_uri": "https://localhost:8080/"
        },
        "id": "BApX9qgNsqV0",
        "scrolled": true,
        "outputId": "b61beff7-af0d-4c3e-b625-936bc86f6049"
      },
      "source": [
        "import h5py\n",
        "\n",
        "# Open the file as readonly\n",
        "#h5f = h5py.File('/content/drive/My Drive/Autonomous_Vehicles_SVHN_single_grey1.h5', 'r')\n",
        "h5f = h5py.File('/content/drive/MyDrive/TF-2 -  SVHN_single_grey1.h5','r')\n",
        "\n",
        "h5f.keys()"
      ],
      "execution_count": 4,
      "outputs": [
        {
          "output_type": "execute_result",
          "data": {
            "text/plain": [
              "<KeysViewHDF5 ['X_test', 'X_train', 'X_val', 'y_test', 'y_train', 'y_val']>"
            ]
          },
          "metadata": {
            "tags": []
          },
          "execution_count": 4
        }
      ]
    },
    {
      "cell_type": "markdown",
      "metadata": {
        "id": "RDORGE7AHWtV"
      },
      "source": [
        "## 4.  Data Analysis and Preparation"
      ]
    },
    {
      "cell_type": "code",
      "metadata": {
        "id": "aKEpYZ4w2yjg"
      },
      "source": [
        "# Load the training, test and validation set\n",
        "X_train = h5f['X_train'][:]\n",
        "y_train = h5f['y_train'][:]\n",
        "X_test = h5f['X_test'][:]\n",
        "y_test = h5f['y_test'][:]"
      ],
      "execution_count": 5,
      "outputs": []
    },
    {
      "cell_type": "markdown",
      "metadata": {
        "id": "ZJHUOjjM3aUH"
      },
      "source": [
        "Let us see the contents of features and labels of one example from the images"
      ]
    },
    {
      "cell_type": "code",
      "metadata": {
        "colab": {
          "base_uri": "https://localhost:8080/"
        },
        "id": "J4rkRt553Ipq",
        "outputId": "f505c164-f5c9-463f-c6a8-635d67ab78f3"
      },
      "source": [
        "X_train[:1]    "
      ],
      "execution_count": 6,
      "outputs": [
        {
          "output_type": "execute_result",
          "data": {
            "text/plain": [
              "array([[[ 33.0704,  30.2601,  26.852 , ...,  71.4471,  58.2204,\n",
              "          42.9939],\n",
              "        [ 25.2283,  25.5533,  29.9765, ..., 113.0209, 103.3639,\n",
              "          84.2949],\n",
              "        [ 26.2775,  22.6137,  40.4763, ..., 113.3028, 121.775 ,\n",
              "         115.4228],\n",
              "        ...,\n",
              "        [ 28.5502,  36.212 ,  45.0801, ...,  24.1359,  25.0927,\n",
              "          26.0603],\n",
              "        [ 38.4352,  26.4733,  23.2717, ...,  28.1094,  29.4683,\n",
              "          30.0661],\n",
              "        [ 50.2984,  26.0773,  24.0389, ...,  49.6682,  50.853 ,\n",
              "          53.0377]]], dtype=float32)"
            ]
          },
          "metadata": {
            "tags": []
          },
          "execution_count": 6
        }
      ]
    },
    {
      "cell_type": "code",
      "metadata": {
        "colab": {
          "base_uri": "https://localhost:8080/"
        },
        "id": "prCBSrZg3SFQ",
        "outputId": "04614c35-835e-4608-b078-c77aeafab215"
      },
      "source": [
        "y_train[:1]"
      ],
      "execution_count": 7,
      "outputs": [
        {
          "output_type": "execute_result",
          "data": {
            "text/plain": [
              "array([2], dtype=uint8)"
            ]
          },
          "metadata": {
            "tags": []
          },
          "execution_count": 7
        }
      ]
    },
    {
      "cell_type": "code",
      "metadata": {
        "colab": {
          "base_uri": "https://localhost:8080/"
        },
        "id": "kHhJ7jTd3mKk",
        "outputId": "6a855fda-9914-411d-f98f-b8d40d5d036e"
      },
      "source": [
        "X_test[:1]"
      ],
      "execution_count": 8,
      "outputs": [
        {
          "output_type": "execute_result",
          "data": {
            "text/plain": [
              "array([[[ 40.558 ,  46.7917,  48.9764, ..., 112.1153, 112.9904,\n",
              "         112.1646],\n",
              "        [ 39.4379,  44.2911,  47.1768, ..., 111.0122, 110.9475,\n",
              "         109.9368],\n",
              "        [ 38.4488,  43.6394,  48.7098, ..., 109.8921, 109.9414,\n",
              "         109.1048],\n",
              "        ...,\n",
              "        [ 34.9869,  35.4707,  39.6676, ..., 109.211 , 109.9074,\n",
              "         112.7346],\n",
              "        [ 35.6602,  35.5462,  40.3193, ..., 110.9998, 112.049 ,\n",
              "         114.3431],\n",
              "        [ 36.1871,  35.4214,  40.6998, ..., 110.0169, 111.2017,\n",
              "         114.1906]]], dtype=float32)"
            ]
          },
          "metadata": {
            "tags": []
          },
          "execution_count": 8
        }
      ]
    },
    {
      "cell_type": "code",
      "metadata": {
        "colab": {
          "base_uri": "https://localhost:8080/"
        },
        "id": "Qr4Nz_v03nm-",
        "outputId": "18a25974-06b2-4d29-9ae0-563d4f79d5cf"
      },
      "source": [
        "y_test[:1]"
      ],
      "execution_count": 9,
      "outputs": [
        {
          "output_type": "execute_result",
          "data": {
            "text/plain": [
              "array([1], dtype=uint8)"
            ]
          },
          "metadata": {
            "tags": []
          },
          "execution_count": 9
        }
      ]
    },
    {
      "cell_type": "markdown",
      "metadata": {
        "id": "IERuYS1BHuCq"
      },
      "source": [
        "## 5. Visualize and Standardize the data"
      ]
    },
    {
      "cell_type": "markdown",
      "metadata": {
        "id": "kxODV6HKykuc"
      },
      "source": [
        "Let us try visualising the first 10 images in the dataset."
      ]
    },
    {
      "cell_type": "code",
      "metadata": {
        "colab": {
          "base_uri": "https://localhost:8080/",
          "height": 95
        },
        "id": "Bvsc8ytHsqWD",
        "outputId": "bba442df-d8c6-4cf3-9506-7b2e1cbb1e11"
      },
      "source": [
        "# visualizing the first 10 images in the dataset and their labels\n",
        "%matplotlib inline\n",
        "import matplotlib.pyplot as plt\n",
        "plt.figure(figsize=(10, 1))\n",
        "for i in range(10):\n",
        "    plt.subplot(1, 10, i+1)\n",
        "    plt.imshow(X_train[i], cmap=\"gray\")\n",
        "    plt.axis('off')\n",
        "plt.show()\n",
        "print('label for each of the above image: %s' % (y_train[0:10]))"
      ],
      "execution_count": 10,
      "outputs": [
        {
          "output_type": "display_data",
          "data": {
            "image/png": "[encoded data removed]",
            "text/plain": [
              "<Figure size 720x72 with 10 Axes>"
            ]
          },
          "metadata": {
            "tags": [],
            "needs_background": "light"
          }
        },
        {
          "output_type": "stream",
          "text": [
            "label for each of the above image: [2 6 7 4 4 0 3 0 7 3]\n"
          ],
          "name": "stdout"
        }
      ]
    },
    {
      "cell_type": "markdown",
      "metadata": {
        "id": "y1ZC0x0I3-jo"
      },
      "source": [
        "Let us check the shape of the data"
      ]
    },
    {
      "cell_type": "code",
      "metadata": {
        "colab": {
          "base_uri": "https://localhost:8080/"
        },
        "id": "Ju4-rQ9y39RW",
        "outputId": "1c0541c4-3ebf-475e-9b49-c084a5696d0d"
      },
      "source": [
        "X_train.shape"
      ],
      "execution_count": 11,
      "outputs": [
        {
          "output_type": "execute_result",
          "data": {
            "text/plain": [
              "(42000, 32, 32)"
            ]
          },
          "metadata": {
            "tags": []
          },
          "execution_count": 11
        }
      ]
    },
    {
      "cell_type": "code",
      "metadata": {
        "colab": {
          "base_uri": "https://localhost:8080/"
        },
        "id": "V_3SxY7O4DJB",
        "outputId": "88fdb6e0-25d3-4b27-f833-0f867fd30dc0"
      },
      "source": [
        "y_train.shape"
      ],
      "execution_count": 12,
      "outputs": [
        {
          "output_type": "execute_result",
          "data": {
            "text/plain": [
              "(42000,)"
            ]
          },
          "metadata": {
            "tags": []
          },
          "execution_count": 12
        }
      ]
    },
    {
      "cell_type": "markdown",
      "metadata": {
        "id": "kzoyeXHOy80N"
      },
      "source": [
        "Need to reshape the X_train and X_test so that the same can be fed for model building. We need to feed a 2D tensor into the model and currently we have a 3D tensor. \n",
        "\n",
        "- We will normalize the data. We divide by 255 as this is a grayscale image and can take values from 0-255\n"
      ]
    },
    {
      "cell_type": "code",
      "metadata": {
        "colab": {
          "base_uri": "https://localhost:8080/"
        },
        "id": "D9YPwf9ysqWU",
        "outputId": "0e4ef309-f762-4fc7-d22a-7aac3f001012"
      },
      "source": [
        "X_train = X_train.reshape(X_train.shape[0], 1024, 1)\n",
        "X_test = X_test.reshape(X_test.shape[0], 1024, 1)\n",
        "\n",
        "# # normalize inputs from 0-255 to 0-1\n",
        "X_train = X_train / 255.0\n",
        "X_test = X_test / 255.0\n",
        "\n",
        "print('Resized Training set', X_train.shape, y_train.shape)\n",
        "print('Resized Test set', X_test.shape, y_test.shape)"
      ],
      "execution_count": 13,
      "outputs": [
        {
          "output_type": "stream",
          "text": [
            "Resized Training set (42000, 1024, 1) (42000,)\n",
            "Resized Test set (18000, 1024, 1) (18000,)\n"
          ],
          "name": "stdout"
        }
      ]
    },
    {
      "cell_type": "markdown",
      "metadata": {
        "id": "bogxx3cezol1"
      },
      "source": [
        "Encoding the target variables. We need to one hot encode the labels for the model to understand the labels better. We will be using categorical cross entropy as our loss function and for this purpose we need our labels to be in one hot encoded format."
      ]
    },
    {
      "cell_type": "code",
      "metadata": {
        "colab": {
          "base_uri": "https://localhost:8080/"
        },
        "id": "zL0lYER4sqWw",
        "outputId": "5af26a6b-5ea4-4068-94b5-3bb367b522b9"
      },
      "source": [
        "from tensorflow.keras.utils import to_categorical\n",
        "# one hot encode outputs\n",
        "y_train = to_categorical(y_train)\n",
        "y_test = to_categorical(y_test)\n",
        "\n",
        "# no.of classes\n",
        "num_classes = y_test.shape[1] \n",
        "print(\"The number of classes in this dataset are:\",num_classes)"
      ],
      "execution_count": 14,
      "outputs": [
        {
          "output_type": "stream",
          "text": [
            "The number of classes in this dataset are: 10\n"
          ],
          "name": "stdout"
        }
      ]
    },
    {
      "cell_type": "markdown",
      "metadata": {
        "id": "xztigzzfITt-"
      },
      "source": [
        "## 6. Model building"
      ]
    },
    {
      "cell_type": "markdown",
      "metadata": {
        "id": "UJDUoaEj1d6e"
      },
      "source": [
        "#### Let us now build the neural network model, fit the training data, test it and provide model summary. Feel free to play around with the network and get to a better solution."
      ]
    },
    {
      "cell_type": "code",
      "metadata": {
        "id": "Cmi81Gr5sqW-"
      },
      "source": [
        "# define model\n",
        "\n",
        "from tensorflow.keras import optimizers\n",
        "from tensorflow.keras.models import Sequential\n",
        "from tensorflow.keras.layers import Dense, Dropout, Flatten\n",
        "\n",
        "def nn_model():\n",
        "    # create model\n",
        "    model = Sequential()  \n",
        "    model.add(Flatten())\n",
        "    model.add(Dense(256, activation='relu')) ###Multiple Dense units with Relu activation\n",
        "    #model.add(Dropout(rate=0.2))\n",
        "    model.add(Dense(64, activation='relu'))\n",
        "    #model.add(Dropout(rate=0.2))\n",
        "    model.add(Dense(64, activation='relu'))\n",
        "    #model.add(Dropout(rate=0.2))\n",
        "    model.add(Dense(64, activation='relu'))\n",
        "    #model.add(Dropout(rate=0.2))\n",
        "    model.add(Dense(64, activation='relu'))\n",
        "    #model.add(Dropout(rate=0.2))\n",
        "    model.add(Dense(64, activation='relu'))\n",
        "    #model.add(Dropout(rate=0.2))\n",
        "    model.add(Dense(32, activation='relu'))\n",
        "    model.add(Dense(num_classes, activation='softmax'))\n",
        "    return model"
      ],
      "execution_count": 32,
      "outputs": []
    },
    {
      "cell_type": "markdown",
      "metadata": {
        "id": "QbGCdivk6gM7"
      },
      "source": [
        "Let us create an object of our model"
      ]
    },
    {
      "cell_type": "code",
      "metadata": {
        "id": "geazN4wi6Y84"
      },
      "source": [
        "# build the model\n",
        "model = nn_model()"
      ],
      "execution_count": 38,
      "outputs": []
    },
    {
      "cell_type": "code",
      "metadata": {
        "id": "Mfh8tFcB7oj4"
      },
      "source": [
        "# Compile model\n",
        "adam = optimizers.Adam(lr=1e-4)\n",
        "model.compile(loss='categorical_crossentropy', optimizer=adam, metrics=['accuracy']) ### Loss function = Categorical cross entropy"
      ],
      "execution_count": 39,
      "outputs": []
    },
    {
      "cell_type": "markdown",
      "metadata": {
        "id": "5t90ufg46jLl"
      },
      "source": [
        "Let us fit our model on the training dataset along with it's equivalent one hot encoded labels"
      ]
    },
    {
      "cell_type": "code",
      "metadata": {
        "colab": {
          "base_uri": "https://localhost:8080/"
        },
        "id": "It28yqDu6dLW",
        "outputId": "fc7eade3-8b4f-4ccb-edaa-76d3d5f46f58"
      },
      "source": [
        "# Fit the model\n",
        "training_history = model.fit(X_train, y_train, validation_data=(X_test, y_test), epochs=200, batch_size=300, verbose=2)"
      ],
      "execution_count": 40,
      "outputs": [
        {
          "output_type": "stream",
          "text": [
            "Epoch 1/200\n",
            "140/140 - 1s - loss: 2.2933 - accuracy: 0.1450 - val_loss: 2.2651 - val_accuracy: 0.2429\n",
            "Epoch 2/200\n",
            "140/140 - 1s - loss: 2.1600 - accuracy: 0.2764 - val_loss: 2.0013 - val_accuracy: 0.3182\n",
            "Epoch 3/200\n",
            "140/140 - 0s - loss: 1.8669 - accuracy: 0.3685 - val_loss: 1.7294 - val_accuracy: 0.4046\n",
            "Epoch 4/200\n",
            "140/140 - 1s - loss: 1.6627 - accuracy: 0.4263 - val_loss: 1.5917 - val_accuracy: 0.4466\n",
            "Epoch 5/200\n",
            "140/140 - 1s - loss: 1.5478 - accuracy: 0.4717 - val_loss: 1.4910 - val_accuracy: 0.4902\n",
            "Epoch 6/200\n",
            "140/140 - 1s - loss: 1.4706 - accuracy: 0.5035 - val_loss: 1.4266 - val_accuracy: 0.5278\n",
            "Epoch 7/200\n",
            "140/140 - 1s - loss: 1.4109 - accuracy: 0.5310 - val_loss: 1.3987 - val_accuracy: 0.5391\n",
            "Epoch 8/200\n",
            "140/140 - 1s - loss: 1.3649 - accuracy: 0.5478 - val_loss: 1.3462 - val_accuracy: 0.5621\n",
            "Epoch 9/200\n",
            "140/140 - 0s - loss: 1.3188 - accuracy: 0.5708 - val_loss: 1.3100 - val_accuracy: 0.5693\n",
            "Epoch 10/200\n",
            "140/140 - 1s - loss: 1.2827 - accuracy: 0.5857 - val_loss: 1.2719 - val_accuracy: 0.5858\n",
            "Epoch 11/200\n",
            "140/140 - 1s - loss: 1.2553 - accuracy: 0.5929 - val_loss: 1.2641 - val_accuracy: 0.5876\n",
            "Epoch 12/200\n",
            "140/140 - 1s - loss: 1.2239 - accuracy: 0.6076 - val_loss: 1.2163 - val_accuracy: 0.6133\n",
            "Epoch 13/200\n",
            "140/140 - 1s - loss: 1.1956 - accuracy: 0.6196 - val_loss: 1.1949 - val_accuracy: 0.6157\n",
            "Epoch 14/200\n",
            "140/140 - 1s - loss: 1.1717 - accuracy: 0.6280 - val_loss: 1.1630 - val_accuracy: 0.6332\n",
            "Epoch 15/200\n",
            "140/140 - 1s - loss: 1.1507 - accuracy: 0.6395 - val_loss: 1.1778 - val_accuracy: 0.6237\n",
            "Epoch 16/200\n",
            "140/140 - 1s - loss: 1.1332 - accuracy: 0.6428 - val_loss: 1.1324 - val_accuracy: 0.6465\n",
            "Epoch 17/200\n",
            "140/140 - 1s - loss: 1.1129 - accuracy: 0.6483 - val_loss: 1.1141 - val_accuracy: 0.6525\n",
            "Epoch 18/200\n",
            "140/140 - 1s - loss: 1.0892 - accuracy: 0.6593 - val_loss: 1.1088 - val_accuracy: 0.6556\n",
            "Epoch 19/200\n",
            "140/140 - 1s - loss: 1.0697 - accuracy: 0.6671 - val_loss: 1.0880 - val_accuracy: 0.6600\n",
            "Epoch 20/200\n",
            "140/140 - 1s - loss: 1.0536 - accuracy: 0.6714 - val_loss: 1.0626 - val_accuracy: 0.6725\n",
            "Epoch 21/200\n",
            "140/140 - 1s - loss: 1.0388 - accuracy: 0.6766 - val_loss: 1.0547 - val_accuracy: 0.6772\n",
            "Epoch 22/200\n",
            "140/140 - 1s - loss: 1.0256 - accuracy: 0.6802 - val_loss: 1.0443 - val_accuracy: 0.6809\n",
            "Epoch 23/200\n",
            "140/140 - 1s - loss: 1.0125 - accuracy: 0.6842 - val_loss: 1.0439 - val_accuracy: 0.6772\n",
            "Epoch 24/200\n",
            "140/140 - 1s - loss: 0.9967 - accuracy: 0.6894 - val_loss: 1.0163 - val_accuracy: 0.6887\n",
            "Epoch 25/200\n",
            "140/140 - 1s - loss: 0.9806 - accuracy: 0.6955 - val_loss: 1.0189 - val_accuracy: 0.6895\n",
            "Epoch 26/200\n",
            "140/140 - 1s - loss: 0.9726 - accuracy: 0.6983 - val_loss: 1.0060 - val_accuracy: 0.6924\n",
            "Epoch 27/200\n",
            "140/140 - 1s - loss: 0.9552 - accuracy: 0.7046 - val_loss: 0.9770 - val_accuracy: 0.7033\n",
            "Epoch 28/200\n",
            "140/140 - 1s - loss: 0.9419 - accuracy: 0.7093 - val_loss: 0.9867 - val_accuracy: 0.6973\n",
            "Epoch 29/200\n",
            "140/140 - 1s - loss: 0.9282 - accuracy: 0.7139 - val_loss: 0.9611 - val_accuracy: 0.7113\n",
            "Epoch 30/200\n",
            "140/140 - 1s - loss: 0.9211 - accuracy: 0.7169 - val_loss: 0.9754 - val_accuracy: 0.7033\n",
            "Epoch 31/200\n",
            "140/140 - 1s - loss: 0.9167 - accuracy: 0.7175 - val_loss: 0.9551 - val_accuracy: 0.7094\n",
            "Epoch 32/200\n",
            "140/140 - 1s - loss: 0.9005 - accuracy: 0.7248 - val_loss: 0.9551 - val_accuracy: 0.7092\n",
            "Epoch 33/200\n",
            "140/140 - 1s - loss: 0.8906 - accuracy: 0.7272 - val_loss: 0.9412 - val_accuracy: 0.7137\n",
            "Epoch 34/200\n",
            "140/140 - 1s - loss: 0.8862 - accuracy: 0.7275 - val_loss: 0.9261 - val_accuracy: 0.7197\n",
            "Epoch 35/200\n",
            "140/140 - 1s - loss: 0.8670 - accuracy: 0.7340 - val_loss: 0.9168 - val_accuracy: 0.7247\n",
            "Epoch 36/200\n",
            "140/140 - 0s - loss: 0.8615 - accuracy: 0.7350 - val_loss: 0.9234 - val_accuracy: 0.7196\n",
            "Epoch 37/200\n",
            "140/140 - 1s - loss: 0.8523 - accuracy: 0.7390 - val_loss: 0.8930 - val_accuracy: 0.7319\n",
            "Epoch 38/200\n",
            "140/140 - 1s - loss: 0.8384 - accuracy: 0.7446 - val_loss: 0.9094 - val_accuracy: 0.7274\n",
            "Epoch 39/200\n",
            "140/140 - 1s - loss: 0.8301 - accuracy: 0.7460 - val_loss: 0.9064 - val_accuracy: 0.7266\n",
            "Epoch 40/200\n",
            "140/140 - 1s - loss: 0.8266 - accuracy: 0.7460 - val_loss: 0.8790 - val_accuracy: 0.7342\n",
            "Epoch 41/200\n",
            "140/140 - 1s - loss: 0.8142 - accuracy: 0.7508 - val_loss: 0.8681 - val_accuracy: 0.7425\n",
            "Epoch 42/200\n",
            "140/140 - 1s - loss: 0.8143 - accuracy: 0.7514 - val_loss: 0.8712 - val_accuracy: 0.7377\n",
            "Epoch 43/200\n",
            "140/140 - 1s - loss: 0.8060 - accuracy: 0.7537 - val_loss: 0.8673 - val_accuracy: 0.7398\n",
            "Epoch 44/200\n",
            "140/140 - 1s - loss: 0.8012 - accuracy: 0.7552 - val_loss: 0.8697 - val_accuracy: 0.7389\n",
            "Epoch 45/200\n",
            "140/140 - 1s - loss: 0.7917 - accuracy: 0.7570 - val_loss: 0.8638 - val_accuracy: 0.7409\n",
            "Epoch 46/200\n",
            "140/140 - 1s - loss: 0.7846 - accuracy: 0.7611 - val_loss: 0.8504 - val_accuracy: 0.7473\n",
            "Epoch 47/200\n",
            "140/140 - 1s - loss: 0.7734 - accuracy: 0.7650 - val_loss: 0.8562 - val_accuracy: 0.7452\n",
            "Epoch 48/200\n",
            "140/140 - 1s - loss: 0.7745 - accuracy: 0.7628 - val_loss: 0.8735 - val_accuracy: 0.7420\n",
            "Epoch 49/200\n",
            "140/140 - 1s - loss: 0.7582 - accuracy: 0.7693 - val_loss: 0.8306 - val_accuracy: 0.7530\n",
            "Epoch 50/200\n",
            "140/140 - 1s - loss: 0.7537 - accuracy: 0.7692 - val_loss: 0.8269 - val_accuracy: 0.7538\n",
            "Epoch 51/200\n",
            "140/140 - 1s - loss: 0.7476 - accuracy: 0.7728 - val_loss: 0.8278 - val_accuracy: 0.7556\n",
            "Epoch 52/200\n",
            "140/140 - 1s - loss: 0.7442 - accuracy: 0.7737 - val_loss: 0.8189 - val_accuracy: 0.7590\n",
            "Epoch 53/200\n",
            "140/140 - 1s - loss: 0.7406 - accuracy: 0.7757 - val_loss: 0.8094 - val_accuracy: 0.7607\n",
            "Epoch 54/200\n",
            "140/140 - 1s - loss: 0.7325 - accuracy: 0.7778 - val_loss: 0.8142 - val_accuracy: 0.7599\n",
            "Epoch 55/200\n",
            "140/140 - 1s - loss: 0.7363 - accuracy: 0.7749 - val_loss: 0.8432 - val_accuracy: 0.7514\n",
            "Epoch 56/200\n",
            "140/140 - 1s - loss: 0.7241 - accuracy: 0.7804 - val_loss: 0.8200 - val_accuracy: 0.7581\n",
            "Epoch 57/200\n",
            "140/140 - 1s - loss: 0.7196 - accuracy: 0.7811 - val_loss: 0.7983 - val_accuracy: 0.7634\n",
            "Epoch 58/200\n",
            "140/140 - 1s - loss: 0.7094 - accuracy: 0.7847 - val_loss: 0.7913 - val_accuracy: 0.7679\n",
            "Epoch 59/200\n",
            "140/140 - 1s - loss: 0.7092 - accuracy: 0.7843 - val_loss: 0.8211 - val_accuracy: 0.7551\n",
            "Epoch 60/200\n",
            "140/140 - 1s - loss: 0.7067 - accuracy: 0.7838 - val_loss: 0.8357 - val_accuracy: 0.7527\n",
            "Epoch 61/200\n",
            "140/140 - 1s - loss: 0.7024 - accuracy: 0.7851 - val_loss: 0.7955 - val_accuracy: 0.7668\n",
            "Epoch 62/200\n",
            "140/140 - 0s - loss: 0.6902 - accuracy: 0.7927 - val_loss: 0.8011 - val_accuracy: 0.7612\n",
            "Epoch 63/200\n",
            "140/140 - 1s - loss: 0.6921 - accuracy: 0.7893 - val_loss: 0.8043 - val_accuracy: 0.7638\n",
            "Epoch 64/200\n",
            "140/140 - 1s - loss: 0.6845 - accuracy: 0.7931 - val_loss: 0.8090 - val_accuracy: 0.7594\n",
            "Epoch 65/200\n",
            "140/140 - 1s - loss: 0.6830 - accuracy: 0.7936 - val_loss: 0.7858 - val_accuracy: 0.7681\n",
            "Epoch 66/200\n",
            "140/140 - 1s - loss: 0.6780 - accuracy: 0.7942 - val_loss: 0.7959 - val_accuracy: 0.7695\n",
            "Epoch 67/200\n",
            "140/140 - 1s - loss: 0.6722 - accuracy: 0.7955 - val_loss: 0.7839 - val_accuracy: 0.7689\n",
            "Epoch 68/200\n",
            "140/140 - 1s - loss: 0.6683 - accuracy: 0.7963 - val_loss: 0.7911 - val_accuracy: 0.7666\n",
            "Epoch 69/200\n",
            "140/140 - 1s - loss: 0.6717 - accuracy: 0.7952 - val_loss: 0.7693 - val_accuracy: 0.7719\n",
            "Epoch 70/200\n",
            "140/140 - 1s - loss: 0.6634 - accuracy: 0.7989 - val_loss: 0.7802 - val_accuracy: 0.7683\n",
            "Epoch 71/200\n",
            "140/140 - 1s - loss: 0.6709 - accuracy: 0.7962 - val_loss: 0.7977 - val_accuracy: 0.7647\n",
            "Epoch 72/200\n",
            "140/140 - 1s - loss: 0.6603 - accuracy: 0.7985 - val_loss: 0.7577 - val_accuracy: 0.7777\n",
            "Epoch 73/200\n",
            "140/140 - 1s - loss: 0.6505 - accuracy: 0.8011 - val_loss: 0.7657 - val_accuracy: 0.7738\n",
            "Epoch 74/200\n",
            "140/140 - 1s - loss: 0.6435 - accuracy: 0.8051 - val_loss: 0.7611 - val_accuracy: 0.7743\n",
            "Epoch 75/200\n",
            "140/140 - 1s - loss: 0.6393 - accuracy: 0.8052 - val_loss: 0.7640 - val_accuracy: 0.7773\n",
            "Epoch 76/200\n",
            "140/140 - 1s - loss: 0.6394 - accuracy: 0.8055 - val_loss: 0.7614 - val_accuracy: 0.7758\n",
            "Epoch 77/200\n",
            "140/140 - 1s - loss: 0.6388 - accuracy: 0.8050 - val_loss: 0.7546 - val_accuracy: 0.7776\n",
            "Epoch 78/200\n",
            "140/140 - 1s - loss: 0.6378 - accuracy: 0.8066 - val_loss: 0.7726 - val_accuracy: 0.7714\n",
            "Epoch 79/200\n",
            "140/140 - 1s - loss: 0.6322 - accuracy: 0.8065 - val_loss: 0.7422 - val_accuracy: 0.7809\n",
            "Epoch 80/200\n",
            "140/140 - 1s - loss: 0.6320 - accuracy: 0.8070 - val_loss: 0.7516 - val_accuracy: 0.7793\n",
            "Epoch 81/200\n",
            "140/140 - 1s - loss: 0.6302 - accuracy: 0.8063 - val_loss: 0.7509 - val_accuracy: 0.7793\n",
            "Epoch 82/200\n",
            "140/140 - 1s - loss: 0.6241 - accuracy: 0.8093 - val_loss: 0.7432 - val_accuracy: 0.7813\n",
            "Epoch 83/200\n",
            "140/140 - 1s - loss: 0.6201 - accuracy: 0.8106 - val_loss: 0.7396 - val_accuracy: 0.7808\n",
            "Epoch 84/200\n",
            "140/140 - 1s - loss: 0.6162 - accuracy: 0.8112 - val_loss: 0.7431 - val_accuracy: 0.7835\n",
            "Epoch 85/200\n",
            "140/140 - 1s - loss: 0.6138 - accuracy: 0.8134 - val_loss: 0.7267 - val_accuracy: 0.7887\n",
            "Epoch 86/200\n",
            "140/140 - 1s - loss: 0.6135 - accuracy: 0.8116 - val_loss: 0.7224 - val_accuracy: 0.7887\n",
            "Epoch 87/200\n",
            "140/140 - 1s - loss: 0.6025 - accuracy: 0.8158 - val_loss: 0.7360 - val_accuracy: 0.7858\n",
            "Epoch 88/200\n",
            "140/140 - 1s - loss: 0.6125 - accuracy: 0.8111 - val_loss: 0.7380 - val_accuracy: 0.7829\n",
            "Epoch 89/200\n",
            "140/140 - 1s - loss: 0.6037 - accuracy: 0.8152 - val_loss: 0.7412 - val_accuracy: 0.7826\n",
            "Epoch 90/200\n",
            "140/140 - 1s - loss: 0.5977 - accuracy: 0.8191 - val_loss: 0.7190 - val_accuracy: 0.7898\n",
            "Epoch 91/200\n",
            "140/140 - 0s - loss: 0.5984 - accuracy: 0.8167 - val_loss: 0.7560 - val_accuracy: 0.7757\n",
            "Epoch 92/200\n",
            "140/140 - 1s - loss: 0.5914 - accuracy: 0.8192 - val_loss: 0.7623 - val_accuracy: 0.7782\n",
            "Epoch 93/200\n",
            "140/140 - 1s - loss: 0.5974 - accuracy: 0.8165 - val_loss: 0.7773 - val_accuracy: 0.7730\n",
            "Epoch 94/200\n",
            "140/140 - 1s - loss: 0.5910 - accuracy: 0.8180 - val_loss: 0.7376 - val_accuracy: 0.7879\n",
            "Epoch 95/200\n",
            "140/140 - 1s - loss: 0.5872 - accuracy: 0.8184 - val_loss: 0.7289 - val_accuracy: 0.7906\n",
            "Epoch 96/200\n",
            "140/140 - 0s - loss: 0.5790 - accuracy: 0.8226 - val_loss: 0.7222 - val_accuracy: 0.7887\n",
            "Epoch 97/200\n",
            "140/140 - 1s - loss: 0.5854 - accuracy: 0.8200 - val_loss: 0.7148 - val_accuracy: 0.7929\n",
            "Epoch 98/200\n",
            "140/140 - 1s - loss: 0.5818 - accuracy: 0.8227 - val_loss: 0.7533 - val_accuracy: 0.7804\n",
            "Epoch 99/200\n",
            "140/140 - 1s - loss: 0.5815 - accuracy: 0.8202 - val_loss: 0.7449 - val_accuracy: 0.7846\n",
            "Epoch 100/200\n",
            "140/140 - 1s - loss: 0.5724 - accuracy: 0.8242 - val_loss: 0.7240 - val_accuracy: 0.7913\n",
            "Epoch 101/200\n",
            "140/140 - 1s - loss: 0.5761 - accuracy: 0.8234 - val_loss: 0.7121 - val_accuracy: 0.7923\n",
            "Epoch 102/200\n",
            "140/140 - 1s - loss: 0.5698 - accuracy: 0.8254 - val_loss: 0.7540 - val_accuracy: 0.7812\n",
            "Epoch 103/200\n",
            "140/140 - 1s - loss: 0.5699 - accuracy: 0.8260 - val_loss: 0.7288 - val_accuracy: 0.7879\n",
            "Epoch 104/200\n",
            "140/140 - 1s - loss: 0.5575 - accuracy: 0.8274 - val_loss: 0.7179 - val_accuracy: 0.7909\n",
            "Epoch 105/200\n",
            "140/140 - 1s - loss: 0.5618 - accuracy: 0.8276 - val_loss: 0.7161 - val_accuracy: 0.7918\n",
            "Epoch 106/200\n",
            "140/140 - 1s - loss: 0.5576 - accuracy: 0.8277 - val_loss: 0.7154 - val_accuracy: 0.7886\n",
            "Epoch 107/200\n",
            "140/140 - 1s - loss: 0.5573 - accuracy: 0.8297 - val_loss: 0.7126 - val_accuracy: 0.7932\n",
            "Epoch 108/200\n",
            "140/140 - 0s - loss: 0.5593 - accuracy: 0.8277 - val_loss: 0.7779 - val_accuracy: 0.7745\n",
            "Epoch 109/200\n",
            "140/140 - 1s - loss: 0.5515 - accuracy: 0.8312 - val_loss: 0.7035 - val_accuracy: 0.7961\n",
            "Epoch 110/200\n",
            "140/140 - 1s - loss: 0.5581 - accuracy: 0.8274 - val_loss: 0.6983 - val_accuracy: 0.7967\n",
            "Epoch 111/200\n",
            "140/140 - 1s - loss: 0.5528 - accuracy: 0.8299 - val_loss: 0.7041 - val_accuracy: 0.7981\n",
            "Epoch 112/200\n",
            "140/140 - 1s - loss: 0.5438 - accuracy: 0.8334 - val_loss: 0.7102 - val_accuracy: 0.7942\n",
            "Epoch 113/200\n",
            "140/140 - 1s - loss: 0.5454 - accuracy: 0.8328 - val_loss: 0.7119 - val_accuracy: 0.7934\n",
            "Epoch 114/200\n",
            "140/140 - 1s - loss: 0.5448 - accuracy: 0.8331 - val_loss: 0.7007 - val_accuracy: 0.7972\n",
            "Epoch 115/200\n",
            "140/140 - 1s - loss: 0.5385 - accuracy: 0.8329 - val_loss: 0.7037 - val_accuracy: 0.7948\n",
            "Epoch 116/200\n",
            "140/140 - 1s - loss: 0.5354 - accuracy: 0.8357 - val_loss: 0.7009 - val_accuracy: 0.7979\n",
            "Epoch 117/200\n",
            "140/140 - 1s - loss: 0.5376 - accuracy: 0.8343 - val_loss: 0.7106 - val_accuracy: 0.7944\n",
            "Epoch 118/200\n",
            "140/140 - 1s - loss: 0.5348 - accuracy: 0.8338 - val_loss: 0.6941 - val_accuracy: 0.7994\n",
            "Epoch 119/200\n",
            "140/140 - 1s - loss: 0.5299 - accuracy: 0.8363 - val_loss: 0.7083 - val_accuracy: 0.7954\n",
            "Epoch 120/200\n",
            "140/140 - 1s - loss: 0.5222 - accuracy: 0.8392 - val_loss: 0.7075 - val_accuracy: 0.7955\n",
            "Epoch 121/200\n",
            "140/140 - 1s - loss: 0.5283 - accuracy: 0.8376 - val_loss: 0.7406 - val_accuracy: 0.7872\n",
            "Epoch 122/200\n",
            "140/140 - 1s - loss: 0.5190 - accuracy: 0.8400 - val_loss: 0.6900 - val_accuracy: 0.8011\n",
            "Epoch 123/200\n",
            "140/140 - 1s - loss: 0.5227 - accuracy: 0.8402 - val_loss: 0.7382 - val_accuracy: 0.7916\n",
            "Epoch 124/200\n",
            "140/140 - 1s - loss: 0.5314 - accuracy: 0.8347 - val_loss: 0.7183 - val_accuracy: 0.7913\n",
            "Epoch 125/200\n",
            "140/140 - 1s - loss: 0.5152 - accuracy: 0.8410 - val_loss: 0.7090 - val_accuracy: 0.7956\n",
            "Epoch 126/200\n",
            "140/140 - 1s - loss: 0.5139 - accuracy: 0.8423 - val_loss: 0.6948 - val_accuracy: 0.8009\n",
            "Epoch 127/200\n",
            "140/140 - 1s - loss: 0.5257 - accuracy: 0.8375 - val_loss: 0.7118 - val_accuracy: 0.7965\n",
            "Epoch 128/200\n",
            "140/140 - 1s - loss: 0.5219 - accuracy: 0.8397 - val_loss: 0.7084 - val_accuracy: 0.7971\n",
            "Epoch 129/200\n",
            "140/140 - 1s - loss: 0.5060 - accuracy: 0.8435 - val_loss: 0.6878 - val_accuracy: 0.8025\n",
            "Epoch 130/200\n",
            "140/140 - 1s - loss: 0.5114 - accuracy: 0.8428 - val_loss: 0.7123 - val_accuracy: 0.7953\n",
            "Epoch 131/200\n",
            "140/140 - 1s - loss: 0.5042 - accuracy: 0.8454 - val_loss: 0.6917 - val_accuracy: 0.8022\n",
            "Epoch 132/200\n",
            "140/140 - 1s - loss: 0.4994 - accuracy: 0.8453 - val_loss: 0.6930 - val_accuracy: 0.8003\n",
            "Epoch 133/200\n",
            "140/140 - 1s - loss: 0.5034 - accuracy: 0.8462 - val_loss: 0.7008 - val_accuracy: 0.8004\n",
            "Epoch 134/200\n",
            "140/140 - 1s - loss: 0.5019 - accuracy: 0.8453 - val_loss: 0.7467 - val_accuracy: 0.7905\n",
            "Epoch 135/200\n",
            "140/140 - 1s - loss: 0.5060 - accuracy: 0.8430 - val_loss: 0.6995 - val_accuracy: 0.7990\n",
            "Epoch 136/200\n",
            "140/140 - 1s - loss: 0.5043 - accuracy: 0.8447 - val_loss: 0.7166 - val_accuracy: 0.7944\n",
            "Epoch 137/200\n",
            "140/140 - 1s - loss: 0.4955 - accuracy: 0.8481 - val_loss: 0.7120 - val_accuracy: 0.7935\n",
            "Epoch 138/200\n",
            "140/140 - 1s - loss: 0.4999 - accuracy: 0.8450 - val_loss: 0.7257 - val_accuracy: 0.7916\n",
            "Epoch 139/200\n",
            "140/140 - 1s - loss: 0.4915 - accuracy: 0.8467 - val_loss: 0.6959 - val_accuracy: 0.8011\n",
            "Epoch 140/200\n",
            "140/140 - 1s - loss: 0.4853 - accuracy: 0.8507 - val_loss: 0.6865 - val_accuracy: 0.8051\n",
            "Epoch 141/200\n",
            "140/140 - 0s - loss: 0.4869 - accuracy: 0.8475 - val_loss: 0.6884 - val_accuracy: 0.8056\n",
            "Epoch 142/200\n",
            "140/140 - 1s - loss: 0.4868 - accuracy: 0.8492 - val_loss: 0.6918 - val_accuracy: 0.8035\n",
            "Epoch 143/200\n",
            "140/140 - 1s - loss: 0.4878 - accuracy: 0.8485 - val_loss: 0.7210 - val_accuracy: 0.7929\n",
            "Epoch 144/200\n",
            "140/140 - 1s - loss: 0.4868 - accuracy: 0.8493 - val_loss: 0.7075 - val_accuracy: 0.7985\n",
            "Epoch 145/200\n",
            "140/140 - 1s - loss: 0.4868 - accuracy: 0.8481 - val_loss: 0.6856 - val_accuracy: 0.8061\n",
            "Epoch 146/200\n",
            "140/140 - 1s - loss: 0.4760 - accuracy: 0.8532 - val_loss: 0.7137 - val_accuracy: 0.7961\n",
            "Epoch 147/200\n",
            "140/140 - 1s - loss: 0.4765 - accuracy: 0.8543 - val_loss: 0.6971 - val_accuracy: 0.8037\n",
            "Epoch 148/200\n",
            "140/140 - 1s - loss: 0.4798 - accuracy: 0.8519 - val_loss: 0.6965 - val_accuracy: 0.8046\n",
            "Epoch 149/200\n",
            "140/140 - 1s - loss: 0.4725 - accuracy: 0.8542 - val_loss: 0.6972 - val_accuracy: 0.8014\n",
            "Epoch 150/200\n",
            "140/140 - 1s - loss: 0.4722 - accuracy: 0.8533 - val_loss: 0.6906 - val_accuracy: 0.8026\n",
            "Epoch 151/200\n",
            "140/140 - 1s - loss: 0.4706 - accuracy: 0.8545 - val_loss: 0.6856 - val_accuracy: 0.8062\n",
            "Epoch 152/200\n",
            "140/140 - 1s - loss: 0.4673 - accuracy: 0.8547 - val_loss: 0.6936 - val_accuracy: 0.8061\n",
            "Epoch 153/200\n",
            "140/140 - 1s - loss: 0.4634 - accuracy: 0.8564 - val_loss: 0.7423 - val_accuracy: 0.7955\n",
            "Epoch 154/200\n",
            "140/140 - 1s - loss: 0.4637 - accuracy: 0.8566 - val_loss: 0.6812 - val_accuracy: 0.8065\n",
            "Epoch 155/200\n",
            "140/140 - 1s - loss: 0.4599 - accuracy: 0.8572 - val_loss: 0.6942 - val_accuracy: 0.8048\n",
            "Epoch 156/200\n",
            "140/140 - 1s - loss: 0.4679 - accuracy: 0.8540 - val_loss: 0.6893 - val_accuracy: 0.8049\n",
            "Epoch 157/200\n",
            "140/140 - 1s - loss: 0.4611 - accuracy: 0.8578 - val_loss: 0.7010 - val_accuracy: 0.8013\n",
            "Epoch 158/200\n",
            "140/140 - 1s - loss: 0.4564 - accuracy: 0.8584 - val_loss: 0.7002 - val_accuracy: 0.8046\n",
            "Epoch 159/200\n",
            "140/140 - 1s - loss: 0.4570 - accuracy: 0.8580 - val_loss: 0.6840 - val_accuracy: 0.8077\n",
            "Epoch 160/200\n",
            "140/140 - 1s - loss: 0.4553 - accuracy: 0.8593 - val_loss: 0.6822 - val_accuracy: 0.8061\n",
            "Epoch 161/200\n",
            "140/140 - 1s - loss: 0.4473 - accuracy: 0.8618 - val_loss: 0.6846 - val_accuracy: 0.8087\n",
            "Epoch 162/200\n",
            "140/140 - 1s - loss: 0.4507 - accuracy: 0.8606 - val_loss: 0.6851 - val_accuracy: 0.8099\n",
            "Epoch 163/200\n",
            "140/140 - 1s - loss: 0.4522 - accuracy: 0.8611 - val_loss: 0.6941 - val_accuracy: 0.8052\n",
            "Epoch 164/200\n",
            "140/140 - 1s - loss: 0.4514 - accuracy: 0.8595 - val_loss: 0.6886 - val_accuracy: 0.8095\n",
            "Epoch 165/200\n",
            "140/140 - 1s - loss: 0.4471 - accuracy: 0.8625 - val_loss: 0.6781 - val_accuracy: 0.8107\n",
            "Epoch 166/200\n",
            "140/140 - 1s - loss: 0.4428 - accuracy: 0.8630 - val_loss: 0.6903 - val_accuracy: 0.8076\n",
            "Epoch 167/200\n",
            "140/140 - 1s - loss: 0.4509 - accuracy: 0.8596 - val_loss: 0.7182 - val_accuracy: 0.8017\n",
            "Epoch 168/200\n",
            "140/140 - 1s - loss: 0.4391 - accuracy: 0.8649 - val_loss: 0.6688 - val_accuracy: 0.8123\n",
            "Epoch 169/200\n",
            "140/140 - 1s - loss: 0.4381 - accuracy: 0.8646 - val_loss: 0.6922 - val_accuracy: 0.8071\n",
            "Epoch 170/200\n",
            "140/140 - 1s - loss: 0.4452 - accuracy: 0.8635 - val_loss: 0.6976 - val_accuracy: 0.8048\n",
            "Epoch 171/200\n",
            "140/140 - 1s - loss: 0.4413 - accuracy: 0.8634 - val_loss: 0.7020 - val_accuracy: 0.8039\n",
            "Epoch 172/200\n",
            "140/140 - 1s - loss: 0.4337 - accuracy: 0.8662 - val_loss: 0.6800 - val_accuracy: 0.8086\n",
            "Epoch 173/200\n",
            "140/140 - 1s - loss: 0.4365 - accuracy: 0.8639 - val_loss: 0.6846 - val_accuracy: 0.8088\n",
            "Epoch 174/200\n",
            "140/140 - 1s - loss: 0.4322 - accuracy: 0.8652 - val_loss: 0.7002 - val_accuracy: 0.8061\n",
            "Epoch 175/200\n",
            "140/140 - 1s - loss: 0.4328 - accuracy: 0.8663 - val_loss: 0.6956 - val_accuracy: 0.8053\n",
            "Epoch 176/200\n",
            "140/140 - 1s - loss: 0.4334 - accuracy: 0.8640 - val_loss: 0.6844 - val_accuracy: 0.8096\n",
            "Epoch 177/200\n",
            "140/140 - 1s - loss: 0.4344 - accuracy: 0.8648 - val_loss: 0.6967 - val_accuracy: 0.8069\n",
            "Epoch 178/200\n",
            "140/140 - 1s - loss: 0.4322 - accuracy: 0.8654 - val_loss: 0.7073 - val_accuracy: 0.8036\n",
            "Epoch 179/200\n",
            "140/140 - 1s - loss: 0.4230 - accuracy: 0.8684 - val_loss: 0.6685 - val_accuracy: 0.8142\n",
            "Epoch 180/200\n",
            "140/140 - 1s - loss: 0.4270 - accuracy: 0.8668 - val_loss: 0.6943 - val_accuracy: 0.8073\n",
            "Epoch 181/200\n",
            "140/140 - 1s - loss: 0.4254 - accuracy: 0.8671 - val_loss: 0.6757 - val_accuracy: 0.8127\n",
            "Epoch 182/200\n",
            "140/140 - 1s - loss: 0.4193 - accuracy: 0.8694 - val_loss: 0.6786 - val_accuracy: 0.8106\n",
            "Epoch 183/200\n",
            "140/140 - 1s - loss: 0.4182 - accuracy: 0.8716 - val_loss: 0.6809 - val_accuracy: 0.8119\n",
            "Epoch 184/200\n",
            "140/140 - 1s - loss: 0.4185 - accuracy: 0.8701 - val_loss: 0.6902 - val_accuracy: 0.8093\n",
            "Epoch 185/200\n",
            "140/140 - 1s - loss: 0.4138 - accuracy: 0.8728 - val_loss: 0.6897 - val_accuracy: 0.8098\n",
            "Epoch 186/200\n",
            "140/140 - 1s - loss: 0.4223 - accuracy: 0.8684 - val_loss: 0.6818 - val_accuracy: 0.8139\n",
            "Epoch 187/200\n",
            "140/140 - 1s - loss: 0.4181 - accuracy: 0.8704 - val_loss: 0.6871 - val_accuracy: 0.8116\n",
            "Epoch 188/200\n",
            "140/140 - 1s - loss: 0.4120 - accuracy: 0.8723 - val_loss: 0.6893 - val_accuracy: 0.8082\n",
            "Epoch 189/200\n",
            "140/140 - 1s - loss: 0.4095 - accuracy: 0.8750 - val_loss: 0.6902 - val_accuracy: 0.8118\n",
            "Epoch 190/200\n",
            "140/140 - 1s - loss: 0.4200 - accuracy: 0.8702 - val_loss: 0.6813 - val_accuracy: 0.8102\n",
            "Epoch 191/200\n",
            "140/140 - 1s - loss: 0.4060 - accuracy: 0.8753 - val_loss: 0.6751 - val_accuracy: 0.8141\n",
            "Epoch 192/200\n",
            "140/140 - 1s - loss: 0.4104 - accuracy: 0.8725 - val_loss: 0.6782 - val_accuracy: 0.8117\n",
            "Epoch 193/200\n",
            "140/140 - 1s - loss: 0.4063 - accuracy: 0.8744 - val_loss: 0.6825 - val_accuracy: 0.8136\n",
            "Epoch 194/200\n",
            "140/140 - 1s - loss: 0.4003 - accuracy: 0.8766 - val_loss: 0.6895 - val_accuracy: 0.8107\n",
            "Epoch 195/200\n",
            "140/140 - 1s - loss: 0.4051 - accuracy: 0.8736 - val_loss: 0.6860 - val_accuracy: 0.8121\n",
            "Epoch 196/200\n",
            "140/140 - 1s - loss: 0.3999 - accuracy: 0.8764 - val_loss: 0.6823 - val_accuracy: 0.8146\n",
            "Epoch 197/200\n",
            "140/140 - 1s - loss: 0.3979 - accuracy: 0.8775 - val_loss: 0.6987 - val_accuracy: 0.8119\n",
            "Epoch 198/200\n",
            "140/140 - 1s - loss: 0.4075 - accuracy: 0.8729 - val_loss: 0.6766 - val_accuracy: 0.8137\n",
            "Epoch 199/200\n",
            "140/140 - 1s - loss: 0.3987 - accuracy: 0.8766 - val_loss: 0.6756 - val_accuracy: 0.8165\n",
            "Epoch 200/200\n",
            "140/140 - 1s - loss: 0.3921 - accuracy: 0.8775 - val_loss: 0.7084 - val_accuracy: 0.8093\n"
          ],
          "name": "stdout"
        }
      ]
    },
    {
      "cell_type": "markdown",
      "metadata": {
        "id": "algw3-VGIj-N"
      },
      "source": [
        "# 7. Conclusion and Interpretation\n"
      ]
    },
    {
      "cell_type": "code",
      "metadata": {
        "colab": {
          "base_uri": "https://localhost:8080/"
        },
        "id": "FnJ1ivri6raW",
        "outputId": "aa193bfc-a9f7-482b-f460-8735e9cf19bf"
      },
      "source": [
        "# Final evaluation of the model\n",
        "scores = model.evaluate(X_test, y_test, verbose=0)\n",
        "print(\"Loss:\", scores[0])\n",
        "print(\"Accuracy:\", scores[1])"
      ],
      "execution_count": 41,
      "outputs": [
        {
          "output_type": "stream",
          "text": [
            "Loss: 0.7083616256713867\n",
            "Accuracy: 0.809333324432373\n"
          ],
          "name": "stdout"
        }
      ]
    },
    {
      "cell_type": "code",
      "metadata": {
        "colab": {
          "base_uri": "https://localhost:8080/",
          "height": 562
        },
        "id": "KTkKIdERtyIp",
        "outputId": "b2096e56-810e-4165-abe2-051cad973d25"
      },
      "source": [
        "accuracy      = training_history.history['accuracy']\n",
        "val_accuracy  = training_history.history['val_accuracy']\n",
        "loss     = training_history.history['loss']\n",
        "val_loss = training_history.history['val_loss']\n",
        "\n",
        "epochs   = range(len(accuracy)) # Get number of epochs\n",
        "\n",
        "plt.plot  ( epochs, accuracy, label = 'training accuracy' )\n",
        "plt.plot  ( epochs, val_accuracy, label = 'validation accuracy' )\n",
        "plt.title ('Training and validation accuracy')\n",
        "plt.legend(loc = 'lower right')\n",
        "plt.figure()\n",
        "\n",
        "plt.plot  ( epochs, loss, label = 'training loss' )\n",
        "plt.plot  ( epochs, val_loss, label = 'validation loss' )\n",
        "plt.legend(loc = 'upper right')\n",
        "plt.title ('Training and validation loss'   )"
      ],
      "execution_count": 42,
      "outputs": [
        {
          "output_type": "execute_result",
          "data": {
            "text/plain": [
              "Text(0.5, 1.0, 'Training and validation loss')"
            ]
          },
          "metadata": {
            "tags": []
          },
          "execution_count": 42
        },
        {
          "output_type": "display_data",
          "data": {
            "image/png": "[encoded data removed]",
            "text/plain": [
              "<Figure size 432x288 with 1 Axes>"
            ]
          },
          "metadata": {
            "tags": [],
            "needs_background": "light"
          }
        },
        {
          "output_type": "display_data",
          "data": {
            "image/png": "[encoded data removed]",
            "text/plain": [
              "<Figure size 432x288 with 1 Axes>"
            ]
          },
          "metadata": {
            "tags": [],
            "needs_background": "light"
          }
        }
      ]
    },
    {
      "cell_type": "markdown",
      "metadata": {
        "id": "JS27zSiqIzZ8"
      },
      "source": [
        "There are around 10 classes in the dataset which represent digits from 0-9.\n",
        "\n",
        "We tried training a Neural Network with dense hidden layers of different number of units and are able to achieve a final test accuracy of 80.74 %. \n",
        "\n",
        "Also we notice that after a certain point the model begins to overfit on our dataset as is clear from the plots above where the validation loss begins to increase after certain point and validation accuracy begins to decrease.\n",
        "\n",
        "Thus, with this amount of accuracy we are able to distinguish between the different digits in this dataset.\n"
      ]
    }
  ]
}